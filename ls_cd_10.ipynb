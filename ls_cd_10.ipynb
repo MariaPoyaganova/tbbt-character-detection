{
  "nbformat": 4,
  "nbformat_minor": 0,
  "metadata": {
    "colab": {
      "name": "ls_cd_10.ipynb",
      "provenance": [],
      "collapsed_sections": []
    },
    "kernelspec": {
      "name": "python3",
      "display_name": "Python 3"
    }
  },
  "cells": [
    {
      "cell_type": "code",
      "metadata": {
        "id": "cG6CkA7r0OQL",
        "colab_type": "code",
        "outputId": "368d34ea-b0d5-49ae-fe58-6623773e0cd0",
        "colab": {
          "resources": {
            "http://localhost:8080/nbextensions/google.colab/files.js": {
              "data": "Ly8gQ29weXJpZ2h0IDIwMTcgR29vZ2xlIExMQwovLwovLyBMaWNlbnNlZCB1bmRlciB0aGUgQXBhY2hlIExpY2Vuc2UsIFZlcnNpb24gMi4wICh0aGUgIkxpY2Vuc2UiKTsKLy8geW91IG1heSBub3QgdXNlIHRoaXMgZmlsZSBleGNlcHQgaW4gY29tcGxpYW5jZSB3aXRoIHRoZSBMaWNlbnNlLgovLyBZb3UgbWF5IG9idGFpbiBhIGNvcHkgb2YgdGhlIExpY2Vuc2UgYXQKLy8KLy8gICAgICBodHRwOi8vd3d3LmFwYWNoZS5vcmcvbGljZW5zZXMvTElDRU5TRS0yLjAKLy8KLy8gVW5sZXNzIHJlcXVpcmVkIGJ5IGFwcGxpY2FibGUgbGF3IG9yIGFncmVlZCB0byBpbiB3cml0aW5nLCBzb2Z0d2FyZQovLyBkaXN0cmlidXRlZCB1bmRlciB0aGUgTGljZW5zZSBpcyBkaXN0cmlidXRlZCBvbiBhbiAiQVMgSVMiIEJBU0lTLAovLyBXSVRIT1VUIFdBUlJBTlRJRVMgT1IgQ09ORElUSU9OUyBPRiBBTlkgS0lORCwgZWl0aGVyIGV4cHJlc3Mgb3IgaW1wbGllZC4KLy8gU2VlIHRoZSBMaWNlbnNlIGZvciB0aGUgc3BlY2lmaWMgbGFuZ3VhZ2UgZ292ZXJuaW5nIHBlcm1pc3Npb25zIGFuZAovLyBsaW1pdGF0aW9ucyB1bmRlciB0aGUgTGljZW5zZS4KCi8qKgogKiBAZmlsZW92ZXJ2aWV3IEhlbHBlcnMgZm9yIGdvb2dsZS5jb2xhYiBQeXRob24gbW9kdWxlLgogKi8KKGZ1bmN0aW9uKHNjb3BlKSB7CmZ1bmN0aW9uIHNwYW4odGV4dCwgc3R5bGVBdHRyaWJ1dGVzID0ge30pIHsKICBjb25zdCBlbGVtZW50ID0gZG9jdW1lbnQuY3JlYXRlRWxlbWVudCgnc3BhbicpOwogIGVsZW1lbnQudGV4dENvbnRlbnQgPSB0ZXh0OwogIGZvciAoY29uc3Qga2V5IG9mIE9iamVjdC5rZXlzKHN0eWxlQXR0cmlidXRlcykpIHsKICAgIGVsZW1lbnQuc3R5bGVba2V5XSA9IHN0eWxlQXR0cmlidXRlc1trZXldOwogIH0KICByZXR1cm4gZWxlbWVudDsKfQoKLy8gTWF4IG51bWJlciBvZiBieXRlcyB3aGljaCB3aWxsIGJlIHVwbG9hZGVkIGF0IGEgdGltZS4KY29uc3QgTUFYX1BBWUxPQURfU0laRSA9IDEwMCAqIDEwMjQ7Ci8vIE1heCBhbW91bnQgb2YgdGltZSB0byBibG9jayB3YWl0aW5nIGZvciB0aGUgdXNlci4KY29uc3QgRklMRV9DSEFOR0VfVElNRU9VVF9NUyA9IDMwICogMTAwMDsKCmZ1bmN0aW9uIF91cGxvYWRGaWxlcyhpbnB1dElkLCBvdXRwdXRJZCkgewogIGNvbnN0IHN0ZXBzID0gdXBsb2FkRmlsZXNTdGVwKGlucHV0SWQsIG91dHB1dElkKTsKICBjb25zdCBvdXRwdXRFbGVtZW50ID0gZG9jdW1lbnQuZ2V0RWxlbWVudEJ5SWQob3V0cHV0SWQpOwogIC8vIENhY2hlIHN0ZXBzIG9uIHRoZSBvdXRwdXRFbGVtZW50IHRvIG1ha2UgaXQgYXZhaWxhYmxlIGZvciB0aGUgbmV4dCBjYWxsCiAgLy8gdG8gdXBsb2FkRmlsZXNDb250aW51ZSBmcm9tIFB5dGhvbi4KICBvdXRwdXRFbGVtZW50LnN0ZXBzID0gc3RlcHM7CgogIHJldHVybiBfdXBsb2FkRmlsZXNDb250aW51ZShvdXRwdXRJZCk7Cn0KCi8vIFRoaXMgaXMgcm91Z2hseSBhbiBhc3luYyBnZW5lcmF0b3IgKG5vdCBzdXBwb3J0ZWQgaW4gdGhlIGJyb3dzZXIgeWV0KSwKLy8gd2hlcmUgdGhlcmUgYXJlIG11bHRpcGxlIGFzeW5jaHJvbm91cyBzdGVwcyBhbmQgdGhlIFB5dGhvbiBzaWRlIGlzIGdvaW5nCi8vIHRvIHBvbGwgZm9yIGNvbXBsZXRpb24gb2YgZWFjaCBzdGVwLgovLyBUaGlzIHVzZXMgYSBQcm9taXNlIHRvIGJsb2NrIHRoZSBweXRob24gc2lkZSBvbiBjb21wbGV0aW9uIG9mIGVhY2ggc3RlcCwKLy8gdGhlbiBwYXNzZXMgdGhlIHJlc3VsdCBvZiB0aGUgcHJldmlvdXMgc3RlcCBhcyB0aGUgaW5wdXQgdG8gdGhlIG5leHQgc3RlcC4KZnVuY3Rpb24gX3VwbG9hZEZpbGVzQ29udGludWUob3V0cHV0SWQpIHsKICBjb25zdCBvdXRwdXRFbGVtZW50ID0gZG9jdW1lbnQuZ2V0RWxlbWVudEJ5SWQob3V0cHV0SWQpOwogIGNvbnN0IHN0ZXBzID0gb3V0cHV0RWxlbWVudC5zdGVwczsKCiAgY29uc3QgbmV4dCA9IHN0ZXBzLm5leHQob3V0cHV0RWxlbWVudC5sYXN0UHJvbWlzZVZhbHVlKTsKICByZXR1cm4gUHJvbWlzZS5yZXNvbHZlKG5leHQudmFsdWUucHJvbWlzZSkudGhlbigodmFsdWUpID0+IHsKICAgIC8vIENhY2hlIHRoZSBsYXN0IHByb21pc2UgdmFsdWUgdG8gbWFrZSBpdCBhdmFpbGFibGUgdG8gdGhlIG5leHQKICAgIC8vIHN0ZXAgb2YgdGhlIGdlbmVyYXRvci4KICAgIG91dHB1dEVsZW1lbnQubGFzdFByb21pc2VWYWx1ZSA9IHZhbHVlOwogICAgcmV0dXJuIG5leHQudmFsdWUucmVzcG9uc2U7CiAgfSk7Cn0KCi8qKgogKiBHZW5lcmF0b3IgZnVuY3Rpb24gd2hpY2ggaXMgY2FsbGVkIGJldHdlZW4gZWFjaCBhc3luYyBzdGVwIG9mIHRoZSB1cGxvYWQKICogcHJvY2Vzcy4KICogQHBhcmFtIHtzdHJpbmd9IGlucHV0SWQgRWxlbWVudCBJRCBvZiB0aGUgaW5wdXQgZmlsZSBwaWNrZXIgZWxlbWVudC4KICogQHBhcmFtIHtzdHJpbmd9IG91dHB1dElkIEVsZW1lbnQgSUQgb2YgdGhlIG91dHB1dCBkaXNwbGF5LgogKiBAcmV0dXJuIHshSXRlcmFibGU8IU9iamVjdD59IEl0ZXJhYmxlIG9mIG5leHQgc3RlcHMuCiAqLwpmdW5jdGlvbiogdXBsb2FkRmlsZXNTdGVwKGlucHV0SWQsIG91dHB1dElkKSB7CiAgY29uc3QgaW5wdXRFbGVtZW50ID0gZG9jdW1lbnQuZ2V0RWxlbWVudEJ5SWQoaW5wdXRJZCk7CiAgaW5wdXRFbGVtZW50LmRpc2FibGVkID0gZmFsc2U7CgogIGNvbnN0IG91dHB1dEVsZW1lbnQgPSBkb2N1bWVudC5nZXRFbGVtZW50QnlJZChvdXRwdXRJZCk7CiAgb3V0cHV0RWxlbWVudC5pbm5lckhUTUwgPSAnJzsKCiAgY29uc3QgcGlja2VkUHJvbWlzZSA9IG5ldyBQcm9taXNlKChyZXNvbHZlKSA9PiB7CiAgICBpbnB1dEVsZW1lbnQuYWRkRXZlbnRMaXN0ZW5lcignY2hhbmdlJywgKGUpID0+IHsKICAgICAgcmVzb2x2ZShlLnRhcmdldC5maWxlcyk7CiAgICB9KTsKICB9KTsKCiAgY29uc3QgY2FuY2VsID0gZG9jdW1lbnQuY3JlYXRlRWxlbWVudCgnYnV0dG9uJyk7CiAgaW5wdXRFbGVtZW50LnBhcmVudEVsZW1lbnQuYXBwZW5kQ2hpbGQoY2FuY2VsKTsKICBjYW5jZWwudGV4dENvbnRlbnQgPSAnQ2FuY2VsIHVwbG9hZCc7CiAgY29uc3QgY2FuY2VsUHJvbWlzZSA9IG5ldyBQcm9taXNlKChyZXNvbHZlKSA9PiB7CiAgICBjYW5jZWwub25jbGljayA9ICgpID0+IHsKICAgICAgcmVzb2x2ZShudWxsKTsKICAgIH07CiAgfSk7CgogIC8vIENhbmNlbCB1cGxvYWQgaWYgdXNlciBoYXNuJ3QgcGlja2VkIGFueXRoaW5nIGluIHRpbWVvdXQuCiAgY29uc3QgdGltZW91dFByb21pc2UgPSBuZXcgUHJvbWlzZSgocmVzb2x2ZSkgPT4gewogICAgc2V0VGltZW91dCgoKSA9PiB7CiAgICAgIHJlc29sdmUobnVsbCk7CiAgICB9LCBGSUxFX0NIQU5HRV9USU1FT1VUX01TKTsKICB9KTsKCiAgLy8gV2FpdCBmb3IgdGhlIHVzZXIgdG8gcGljayB0aGUgZmlsZXMuCiAgY29uc3QgZmlsZXMgPSB5aWVsZCB7CiAgICBwcm9taXNlOiBQcm9taXNlLnJhY2UoW3BpY2tlZFByb21pc2UsIHRpbWVvdXRQcm9taXNlLCBjYW5jZWxQcm9taXNlXSksCiAgICByZXNwb25zZTogewogICAgICBhY3Rpb246ICdzdGFydGluZycsCiAgICB9CiAgfTsKCiAgaWYgKCFmaWxlcykgewogICAgcmV0dXJuIHsKICAgICAgcmVzcG9uc2U6IHsKICAgICAgICBhY3Rpb246ICdjb21wbGV0ZScsCiAgICAgIH0KICAgIH07CiAgfQoKICBjYW5jZWwucmVtb3ZlKCk7CgogIC8vIERpc2FibGUgdGhlIGlucHV0IGVsZW1lbnQgc2luY2UgZnVydGhlciBwaWNrcyBhcmUgbm90IGFsbG93ZWQuCiAgaW5wdXRFbGVtZW50LmRpc2FibGVkID0gdHJ1ZTsKCiAgZm9yIChjb25zdCBmaWxlIG9mIGZpbGVzKSB7CiAgICBjb25zdCBsaSA9IGRvY3VtZW50LmNyZWF0ZUVsZW1lbnQoJ2xpJyk7CiAgICBsaS5hcHBlbmQoc3BhbihmaWxlLm5hbWUsIHtmb250V2VpZ2h0OiAnYm9sZCd9KSk7CiAgICBsaS5hcHBlbmQoc3BhbigKICAgICAgICBgKCR7ZmlsZS50eXBlIHx8ICduL2EnfSkgLSAke2ZpbGUuc2l6ZX0gYnl0ZXMsIGAgKwogICAgICAgIGBsYXN0IG1vZGlmaWVkOiAkewogICAgICAgICAgICBmaWxlLmxhc3RNb2RpZmllZERhdGUgPyBmaWxlLmxhc3RNb2RpZmllZERhdGUudG9Mb2NhbGVEYXRlU3RyaW5nKCkgOgogICAgICAgICAgICAgICAgICAgICAgICAgICAgICAgICAgICAnbi9hJ30gLSBgKSk7CiAgICBjb25zdCBwZXJjZW50ID0gc3BhbignMCUgZG9uZScpOwogICAgbGkuYXBwZW5kQ2hpbGQocGVyY2VudCk7CgogICAgb3V0cHV0RWxlbWVudC5hcHBlbmRDaGlsZChsaSk7CgogICAgY29uc3QgZmlsZURhdGFQcm9taXNlID0gbmV3IFByb21pc2UoKHJlc29sdmUpID0+IHsKICAgICAgY29uc3QgcmVhZGVyID0gbmV3IEZpbGVSZWFkZXIoKTsKICAgICAgcmVhZGVyLm9ubG9hZCA9IChlKSA9PiB7CiAgICAgICAgcmVzb2x2ZShlLnRhcmdldC5yZXN1bHQpOwogICAgICB9OwogICAgICByZWFkZXIucmVhZEFzQXJyYXlCdWZmZXIoZmlsZSk7CiAgICB9KTsKICAgIC8vIFdhaXQgZm9yIHRoZSBkYXRhIHRvIGJlIHJlYWR5LgogICAgbGV0IGZpbGVEYXRhID0geWllbGQgewogICAgICBwcm9taXNlOiBmaWxlRGF0YVByb21pc2UsCiAgICAgIHJlc3BvbnNlOiB7CiAgICAgICAgYWN0aW9uOiAnY29udGludWUnLAogICAgICB9CiAgICB9OwoKICAgIC8vIFVzZSBhIGNodW5rZWQgc2VuZGluZyB0byBhdm9pZCBtZXNzYWdlIHNpemUgbGltaXRzLiBTZWUgYi82MjExNTY2MC4KICAgIGxldCBwb3NpdGlvbiA9IDA7CiAgICB3aGlsZSAocG9zaXRpb24gPCBmaWxlRGF0YS5ieXRlTGVuZ3RoKSB7CiAgICAgIGNvbnN0IGxlbmd0aCA9IE1hdGgubWluKGZpbGVEYXRhLmJ5dGVMZW5ndGggLSBwb3NpdGlvbiwgTUFYX1BBWUxPQURfU0laRSk7CiAgICAgIGNvbnN0IGNodW5rID0gbmV3IFVpbnQ4QXJyYXkoZmlsZURhdGEsIHBvc2l0aW9uLCBsZW5ndGgpOwogICAgICBwb3NpdGlvbiArPSBsZW5ndGg7CgogICAgICBjb25zdCBiYXNlNjQgPSBidG9hKFN0cmluZy5mcm9tQ2hhckNvZGUuYXBwbHkobnVsbCwgY2h1bmspKTsKICAgICAgeWllbGQgewogICAgICAgIHJlc3BvbnNlOiB7CiAgICAgICAgICBhY3Rpb246ICdhcHBlbmQnLAogICAgICAgICAgZmlsZTogZmlsZS5uYW1lLAogICAgICAgICAgZGF0YTogYmFzZTY0LAogICAgICAgIH0sCiAgICAgIH07CiAgICAgIHBlcmNlbnQudGV4dENvbnRlbnQgPQogICAgICAgICAgYCR7TWF0aC5yb3VuZCgocG9zaXRpb24gLyBmaWxlRGF0YS5ieXRlTGVuZ3RoKSAqIDEwMCl9JSBkb25lYDsKICAgIH0KICB9CgogIC8vIEFsbCBkb25lLgogIHlpZWxkIHsKICAgIHJlc3BvbnNlOiB7CiAgICAgIGFjdGlvbjogJ2NvbXBsZXRlJywKICAgIH0KICB9Owp9CgpzY29wZS5nb29nbGUgPSBzY29wZS5nb29nbGUgfHwge307CnNjb3BlLmdvb2dsZS5jb2xhYiA9IHNjb3BlLmdvb2dsZS5jb2xhYiB8fCB7fTsKc2NvcGUuZ29vZ2xlLmNvbGFiLl9maWxlcyA9IHsKICBfdXBsb2FkRmlsZXMsCiAgX3VwbG9hZEZpbGVzQ29udGludWUsCn07Cn0pKHNlbGYpOwo=",
              "ok": true,
              "headers": [
                [
                  "content-type",
                  "application/javascript"
                ]
              ],
              "status": 200,
              "status_text": ""
            }
          },
          "base_uri": "https://localhost:8080/",
          "height": 71
        }
      },
      "source": [
        "from google.colab import files\n",
        "uploaded = files.upload()"
      ],
      "execution_count": 0,
      "outputs": [
        {
          "output_type": "display_data",
          "data": {
            "text/html": [
              "\n",
              "     <input type=\"file\" id=\"files-7f1d9561-5abd-486c-9cc9-01d7e71d348b\" name=\"files[]\" multiple disabled />\n",
              "     <output id=\"result-7f1d9561-5abd-486c-9cc9-01d7e71d348b\">\n",
              "      Upload widget is only available when the cell has been executed in the\n",
              "      current browser session. Please rerun this cell to enable.\n",
              "      </output>\n",
              "      <script src=\"/nbextensions/google.colab/files.js\"></script> "
            ],
            "text/plain": [
              "<IPython.core.display.HTML object>"
            ]
          },
          "metadata": {
            "tags": []
          }
        },
        {
          "output_type": "stream",
          "text": [
            "Saving TBBTs10repr.txt to TBBTs10repr.txt\n"
          ],
          "name": "stdout"
        }
      ]
    },
    {
      "cell_type": "code",
      "metadata": {
        "id": "AfCCpMqO0aCe",
        "colab_type": "code",
        "outputId": "314c580b-5e73-4710-f529-d8ec40d6e942",
        "colab": {
          "base_uri": "https://localhost:8080/",
          "height": 204
        }
      },
      "source": [
        "import codecs\n",
        "import pandas as pd\n",
        "with codecs.open('TBBTs10repr.txt', 'r', encoding='utf-8', \n",
        "                 errors='ignore') as f:\n",
        "                 data = pd.read_csv(f, delimiter=':', header = None)\n",
        "data.head()"
      ],
      "execution_count": 0,
      "outputs": [
        {
          "output_type": "execute_result",
          "data": {
            "text/html": [
              "<div>\n",
              "<style scoped>\n",
              "    .dataframe tbody tr th:only-of-type {\n",
              "        vertical-align: middle;\n",
              "    }\n",
              "\n",
              "    .dataframe tbody tr th {\n",
              "        vertical-align: top;\n",
              "    }\n",
              "\n",
              "    .dataframe thead th {\n",
              "        text-align: right;\n",
              "    }\n",
              "</style>\n",
              "<table border=\"1\" class=\"dataframe\">\n",
              "  <thead>\n",
              "    <tr style=\"text-align: right;\">\n",
              "      <th></th>\n",
              "      <th>0</th>\n",
              "      <th>1</th>\n",
              "    </tr>\n",
              "  </thead>\n",
              "  <tbody>\n",
              "    <tr>\n",
              "      <th>0</th>\n",
              "      <td>Sheldon</td>\n",
              "      <td>You realize you and I could become brothers.</td>\n",
              "    </tr>\n",
              "    <tr>\n",
              "      <th>1</th>\n",
              "      <td>Leonard</td>\n",
              "      <td>We’re not gonna be brothers. We’re not gonna ...</td>\n",
              "    </tr>\n",
              "    <tr>\n",
              "      <th>2</th>\n",
              "      <td>Sheldon</td>\n",
              "      <td>I hope you’re right. ‘Cause a grown man livin...</td>\n",
              "    </tr>\n",
              "    <tr>\n",
              "      <th>3</th>\n",
              "      <td>Sheldon</td>\n",
              "      <td>Okay. Do you think your father’s doing unspea...</td>\n",
              "    </tr>\n",
              "    <tr>\n",
              "      <th>4</th>\n",
              "      <td>Sheldon</td>\n",
              "      <td>Are you saying that because the things are un...</td>\n",
              "    </tr>\n",
              "  </tbody>\n",
              "</table>\n",
              "</div>"
            ],
            "text/plain": [
              "         0                                                  1\n",
              "0  Sheldon       You realize you and I could become brothers.\n",
              "1  Leonard   We’re not gonna be brothers. We’re not gonna ...\n",
              "2  Sheldon   I hope you’re right. ‘Cause a grown man livin...\n",
              "3  Sheldon   Okay. Do you think your father’s doing unspea...\n",
              "4  Sheldon   Are you saying that because the things are un..."
            ]
          },
          "metadata": {
            "tags": []
          },
          "execution_count": 41
        }
      ]
    },
    {
      "cell_type": "code",
      "metadata": {
        "id": "z3jTuq3kRjrt",
        "colab_type": "code",
        "colab": {}
      },
      "source": [
        "data.to_csv('tbt10season')"
      ],
      "execution_count": 0,
      "outputs": []
    },
    {
      "cell_type": "code",
      "metadata": {
        "id": "zuLbWHMK1a9L",
        "colab_type": "code",
        "outputId": "c174a553-7abe-495c-ef9d-098b0f4dcb90",
        "colab": {
          "base_uri": "https://localhost:8080/",
          "height": 204
        }
      },
      "source": [
        "data_tbt = pd.DataFrame()\n",
        "data_tbt['label'] = data[0]\n",
        "data_tbt['text'] = data[1]\n",
        "data_tbt.head()"
      ],
      "execution_count": 0,
      "outputs": [
        {
          "output_type": "execute_result",
          "data": {
            "text/html": [
              "<div>\n",
              "<style scoped>\n",
              "    .dataframe tbody tr th:only-of-type {\n",
              "        vertical-align: middle;\n",
              "    }\n",
              "\n",
              "    .dataframe tbody tr th {\n",
              "        vertical-align: top;\n",
              "    }\n",
              "\n",
              "    .dataframe thead th {\n",
              "        text-align: right;\n",
              "    }\n",
              "</style>\n",
              "<table border=\"1\" class=\"dataframe\">\n",
              "  <thead>\n",
              "    <tr style=\"text-align: right;\">\n",
              "      <th></th>\n",
              "      <th>label</th>\n",
              "      <th>text</th>\n",
              "    </tr>\n",
              "  </thead>\n",
              "  <tbody>\n",
              "    <tr>\n",
              "      <th>0</th>\n",
              "      <td>Sheldon</td>\n",
              "      <td>You realize you and I could become brothers.</td>\n",
              "    </tr>\n",
              "    <tr>\n",
              "      <th>1</th>\n",
              "      <td>Leonard</td>\n",
              "      <td>We’re not gonna be brothers. We’re not gonna ...</td>\n",
              "    </tr>\n",
              "    <tr>\n",
              "      <th>2</th>\n",
              "      <td>Sheldon</td>\n",
              "      <td>I hope you’re right. ‘Cause a grown man livin...</td>\n",
              "    </tr>\n",
              "    <tr>\n",
              "      <th>3</th>\n",
              "      <td>Sheldon</td>\n",
              "      <td>Okay. Do you think your father’s doing unspea...</td>\n",
              "    </tr>\n",
              "    <tr>\n",
              "      <th>4</th>\n",
              "      <td>Sheldon</td>\n",
              "      <td>Are you saying that because the things are un...</td>\n",
              "    </tr>\n",
              "  </tbody>\n",
              "</table>\n",
              "</div>"
            ],
            "text/plain": [
              "     label                                               text\n",
              "0  Sheldon       You realize you and I could become brothers.\n",
              "1  Leonard   We’re not gonna be brothers. We’re not gonna ...\n",
              "2  Sheldon   I hope you’re right. ‘Cause a grown man livin...\n",
              "3  Sheldon   Okay. Do you think your father’s doing unspea...\n",
              "4  Sheldon   Are you saying that because the things are un..."
            ]
          },
          "metadata": {
            "tags": []
          },
          "execution_count": 42
        }
      ]
    },
    {
      "cell_type": "code",
      "metadata": {
        "id": "Kb5N0DSV8kVu",
        "colab_type": "code",
        "outputId": "4b9e944d-8040-4659-ef32-6e3822a05163",
        "colab": {
          "base_uri": "https://localhost:8080/",
          "height": 255
        }
      },
      "source": [
        "data_tbt.describe"
      ],
      "execution_count": 0,
      "outputs": [
        {
          "output_type": "execute_result",
          "data": {
            "text/plain": [
              "<bound method NDFrame.describe of         label                                               text\n",
              "0     Sheldon       You realize you and I could become brothers.\n",
              "1     Leonard   We’re not gonna be brothers. We’re not gonna ...\n",
              "2     Sheldon   I hope you’re right. ‘Cause a grown man livin...\n",
              "3     Sheldon   Okay. Do you think your father’s doing unspea...\n",
              "4     Sheldon   Are you saying that because the things are un...\n",
              "...       ...                                                ...\n",
              "1289  Sheldon   If you find this draft acceptable, then I bel...\n",
              "1290    Penny   Article 8, subsection B, Leonard will restric...\n",
              "1291  Leonard   Article 10, subsection C, if questioned Penny...\n",
              "1292  Sheldon   Oh well, great then, here, you sign here, dat...\n",
              "1293  Sheldon   Mm. You seem to be forgetting the no nostalgi...\n",
              "\n",
              "[1294 rows x 2 columns]>"
            ]
          },
          "metadata": {
            "tags": []
          },
          "execution_count": 43
        }
      ]
    },
    {
      "cell_type": "code",
      "metadata": {
        "id": "RZYvQuQ11bA4",
        "colab_type": "code",
        "colab": {}
      },
      "source": [
        "from spacy.lang.en.stop_words import STOP_WORDS\n",
        "import re\n",
        "import spacy"
      ],
      "execution_count": 0,
      "outputs": []
    },
    {
      "cell_type": "code",
      "metadata": {
        "id": "IPu_zuaj1a7_",
        "colab_type": "code",
        "colab": {}
      },
      "source": [
        "nlp = spacy.load('en',disable=['parser', 'ner', 'textcat'])\n",
        "\n",
        "def reduce_to_double_max(text):\n",
        "    text = re.sub(r'(\\w)\\1{2,}', r'\\1\\1', text)\n",
        "    return re.sub(r'(\\W)\\1+', r'\\1', text)\n",
        "def preprocess_corpus(corpus):\n",
        "    data_pro = []\n",
        "    data_ = []\n",
        "    corpus = (reduce_to_double_max(s.lower()) for s in corpus)\n",
        "    docs = nlp.pipe(corpus, batch_size=1000, n_threads=4)\n",
        "    return [[x.lemma_ for x in doc if x.is_alpha and not x.is_stop] for doc in docs]"
      ],
      "execution_count": 0,
      "outputs": []
    },
    {
      "cell_type": "code",
      "metadata": {
        "id": "f0hHpFCa3Q-f",
        "colab_type": "code",
        "colab": {}
      },
      "source": [
        "data_pro = preprocess_corpus(data_tbt['text'])\n",
        "data_tbt['text'] = data_pro"
      ],
      "execution_count": 0,
      "outputs": []
    },
    {
      "cell_type": "code",
      "metadata": {
        "id": "Cq7NnNlE3REs",
        "colab_type": "code",
        "colab": {}
      },
      "source": [
        "token_len = []\n",
        "for i in data_tbt['text']:\n",
        "    token_len.append(len(i))\n",
        "data_tbt['token_number'] = token_len"
      ],
      "execution_count": 0,
      "outputs": []
    },
    {
      "cell_type": "code",
      "metadata": {
        "id": "AlqZ0ujT3RQ3",
        "colab_type": "code",
        "colab": {}
      },
      "source": [
        "whole_verb = []\n",
        "for i in data_tbt['text']:\n",
        "    verbs = []\n",
        "    doc = nlp(' '.join(i))\n",
        "    for s in doc:\n",
        "        verbs.append(s.pos_)\n",
        "    whole_verb.append(verbs)\n",
        "verb_count = []\n",
        "for i, x in enumerate(whole_verb):\n",
        "    verb_count.insert(i, x.count('VERB'))\n",
        "data_tbt['verb_number'] = verb_count"
      ],
      "execution_count": 0,
      "outputs": []
    },
    {
      "cell_type": "code",
      "metadata": {
        "id": "Z7GVxWEZ3RZF",
        "colab_type": "code",
        "colab": {}
      },
      "source": [
        "import numpy as np\n",
        "vecs = pd.DataFrame(index = data_tbt.index, columns = [d for d in range(96)])\n",
        "for i, t in enumerate(data_tbt['text']): # для каждой строки в датафрейме\n",
        "    t_vec = (nlp(' '.join(t))).vector # векторизуем текст\n",
        "    if t_vec.shape == (0,):\n",
        "        vecs.values[i] = np.array(0)*96 # заменяем строчки на наш вектор\n",
        "    else:\n",
        "        vecs.values[i] = t_vec"
      ],
      "execution_count": 0,
      "outputs": []
    },
    {
      "cell_type": "code",
      "metadata": {
        "id": "l12YvY0g3Rc6",
        "colab_type": "code",
        "outputId": "1e6bed0a-1456-4a98-e71e-300b4d879fa8",
        "colab": {
          "base_uri": "https://localhost:8080/",
          "height": 253
        }
      },
      "source": [
        "data_new = pd.concat([data_tbt.drop(['text'], axis = 1), vecs], axis=1)\n",
        "data_new.head()"
      ],
      "execution_count": 0,
      "outputs": [
        {
          "output_type": "execute_result",
          "data": {
            "text/html": [
              "<div>\n",
              "<style scoped>\n",
              "    .dataframe tbody tr th:only-of-type {\n",
              "        vertical-align: middle;\n",
              "    }\n",
              "\n",
              "    .dataframe tbody tr th {\n",
              "        vertical-align: top;\n",
              "    }\n",
              "\n",
              "    .dataframe thead th {\n",
              "        text-align: right;\n",
              "    }\n",
              "</style>\n",
              "<table border=\"1\" class=\"dataframe\">\n",
              "  <thead>\n",
              "    <tr style=\"text-align: right;\">\n",
              "      <th></th>\n",
              "      <th>label</th>\n",
              "      <th>token_number</th>\n",
              "      <th>verb_number</th>\n",
              "      <th>0</th>\n",
              "      <th>1</th>\n",
              "      <th>2</th>\n",
              "      <th>3</th>\n",
              "      <th>4</th>\n",
              "      <th>5</th>\n",
              "      <th>6</th>\n",
              "      <th>7</th>\n",
              "      <th>8</th>\n",
              "      <th>9</th>\n",
              "      <th>10</th>\n",
              "      <th>11</th>\n",
              "      <th>12</th>\n",
              "      <th>13</th>\n",
              "      <th>14</th>\n",
              "      <th>15</th>\n",
              "      <th>16</th>\n",
              "      <th>17</th>\n",
              "      <th>18</th>\n",
              "      <th>19</th>\n",
              "      <th>20</th>\n",
              "      <th>21</th>\n",
              "      <th>22</th>\n",
              "      <th>23</th>\n",
              "      <th>24</th>\n",
              "      <th>25</th>\n",
              "      <th>26</th>\n",
              "      <th>27</th>\n",
              "      <th>28</th>\n",
              "      <th>29</th>\n",
              "      <th>30</th>\n",
              "      <th>31</th>\n",
              "      <th>32</th>\n",
              "      <th>33</th>\n",
              "      <th>34</th>\n",
              "      <th>35</th>\n",
              "      <th>36</th>\n",
              "      <th>...</th>\n",
              "      <th>56</th>\n",
              "      <th>57</th>\n",
              "      <th>58</th>\n",
              "      <th>59</th>\n",
              "      <th>60</th>\n",
              "      <th>61</th>\n",
              "      <th>62</th>\n",
              "      <th>63</th>\n",
              "      <th>64</th>\n",
              "      <th>65</th>\n",
              "      <th>66</th>\n",
              "      <th>67</th>\n",
              "      <th>68</th>\n",
              "      <th>69</th>\n",
              "      <th>70</th>\n",
              "      <th>71</th>\n",
              "      <th>72</th>\n",
              "      <th>73</th>\n",
              "      <th>74</th>\n",
              "      <th>75</th>\n",
              "      <th>76</th>\n",
              "      <th>77</th>\n",
              "      <th>78</th>\n",
              "      <th>79</th>\n",
              "      <th>80</th>\n",
              "      <th>81</th>\n",
              "      <th>82</th>\n",
              "      <th>83</th>\n",
              "      <th>84</th>\n",
              "      <th>85</th>\n",
              "      <th>86</th>\n",
              "      <th>87</th>\n",
              "      <th>88</th>\n",
              "      <th>89</th>\n",
              "      <th>90</th>\n",
              "      <th>91</th>\n",
              "      <th>92</th>\n",
              "      <th>93</th>\n",
              "      <th>94</th>\n",
              "      <th>95</th>\n",
              "    </tr>\n",
              "  </thead>\n",
              "  <tbody>\n",
              "    <tr>\n",
              "      <th>0</th>\n",
              "      <td>Sheldon</td>\n",
              "      <td>2</td>\n",
              "      <td>0</td>\n",
              "      <td>-1.35912</td>\n",
              "      <td>-0.989591</td>\n",
              "      <td>-0.104039</td>\n",
              "      <td>-1.1276</td>\n",
              "      <td>1.44544</td>\n",
              "      <td>1.46907</td>\n",
              "      <td>-0.59236</td>\n",
              "      <td>1.13845</td>\n",
              "      <td>1.24987</td>\n",
              "      <td>1.62301</td>\n",
              "      <td>3.30415</td>\n",
              "      <td>-0.419429</td>\n",
              "      <td>2.68376</td>\n",
              "      <td>-0.180989</td>\n",
              "      <td>-0.204861</td>\n",
              "      <td>-0.684118</td>\n",
              "      <td>0.857609</td>\n",
              "      <td>1.05924</td>\n",
              "      <td>-1.91501</td>\n",
              "      <td>0.261786</td>\n",
              "      <td>-0.665632</td>\n",
              "      <td>-0.966937</td>\n",
              "      <td>-0.0179818</td>\n",
              "      <td>0.190427</td>\n",
              "      <td>-2.1968</td>\n",
              "      <td>-2.9175</td>\n",
              "      <td>1.86705</td>\n",
              "      <td>-0.977872</td>\n",
              "      <td>1.62183</td>\n",
              "      <td>-1.25272</td>\n",
              "      <td>1.88203</td>\n",
              "      <td>-0.490528</td>\n",
              "      <td>-0.498273</td>\n",
              "      <td>-2.08212</td>\n",
              "      <td>-0.0349176</td>\n",
              "      <td>-2.90411</td>\n",
              "      <td>2.18764</td>\n",
              "      <td>...</td>\n",
              "      <td>1.06282</td>\n",
              "      <td>2.21492</td>\n",
              "      <td>2.03157</td>\n",
              "      <td>0.199715</td>\n",
              "      <td>1.33145</td>\n",
              "      <td>-1.92948</td>\n",
              "      <td>0.877319</td>\n",
              "      <td>-0.498339</td>\n",
              "      <td>1.83412</td>\n",
              "      <td>0.11936</td>\n",
              "      <td>1.41421</td>\n",
              "      <td>-1.50732</td>\n",
              "      <td>-1.22018</td>\n",
              "      <td>1.21628</td>\n",
              "      <td>-0.0193288</td>\n",
              "      <td>1.18228</td>\n",
              "      <td>1.02507</td>\n",
              "      <td>1.16047</td>\n",
              "      <td>-2.9757</td>\n",
              "      <td>-0.142642</td>\n",
              "      <td>-0.222469</td>\n",
              "      <td>0.0560156</td>\n",
              "      <td>-1.86014</td>\n",
              "      <td>1.00273</td>\n",
              "      <td>1.27129</td>\n",
              "      <td>-0.671182</td>\n",
              "      <td>0.484192</td>\n",
              "      <td>-1.63805</td>\n",
              "      <td>-0.432557</td>\n",
              "      <td>2.6526</td>\n",
              "      <td>-0.725841</td>\n",
              "      <td>-1.02705</td>\n",
              "      <td>-1.49847</td>\n",
              "      <td>-1.48066</td>\n",
              "      <td>2.43371</td>\n",
              "      <td>0.8494</td>\n",
              "      <td>-2.03987</td>\n",
              "      <td>3.66849</td>\n",
              "      <td>-0.251989</td>\n",
              "      <td>-0.257596</td>\n",
              "    </tr>\n",
              "    <tr>\n",
              "      <th>1</th>\n",
              "      <td>Leonard</td>\n",
              "      <td>7</td>\n",
              "      <td>2</td>\n",
              "      <td>-1.1586</td>\n",
              "      <td>0.461712</td>\n",
              "      <td>-0.57514</td>\n",
              "      <td>-1.50362</td>\n",
              "      <td>0.144259</td>\n",
              "      <td>1.59457</td>\n",
              "      <td>-0.68178</td>\n",
              "      <td>0.938731</td>\n",
              "      <td>2.25674</td>\n",
              "      <td>3.7008</td>\n",
              "      <td>1.39988</td>\n",
              "      <td>-0.863941</td>\n",
              "      <td>1.60122</td>\n",
              "      <td>-0.25668</td>\n",
              "      <td>-0.512089</td>\n",
              "      <td>0.134678</td>\n",
              "      <td>0.591552</td>\n",
              "      <td>-0.364361</td>\n",
              "      <td>-1.81352</td>\n",
              "      <td>-0.47505</td>\n",
              "      <td>0.00698246</td>\n",
              "      <td>1.31006</td>\n",
              "      <td>-0.800213</td>\n",
              "      <td>-0.498816</td>\n",
              "      <td>-0.701418</td>\n",
              "      <td>-0.481893</td>\n",
              "      <td>1.20067</td>\n",
              "      <td>0.20573</td>\n",
              "      <td>1.21968</td>\n",
              "      <td>-2.11486</td>\n",
              "      <td>1.87781</td>\n",
              "      <td>-0.590945</td>\n",
              "      <td>-0.494286</td>\n",
              "      <td>-0.551039</td>\n",
              "      <td>0.247099</td>\n",
              "      <td>-1.50696</td>\n",
              "      <td>0.62343</td>\n",
              "      <td>...</td>\n",
              "      <td>1.47809</td>\n",
              "      <td>0.0625001</td>\n",
              "      <td>0.54193</td>\n",
              "      <td>-0.163464</td>\n",
              "      <td>2.95678</td>\n",
              "      <td>-1.49394</td>\n",
              "      <td>1.44358</td>\n",
              "      <td>-1.28215</td>\n",
              "      <td>-0.622607</td>\n",
              "      <td>-1.67779</td>\n",
              "      <td>2.40044</td>\n",
              "      <td>1.31933</td>\n",
              "      <td>-1.30568</td>\n",
              "      <td>0.921301</td>\n",
              "      <td>0.255938</td>\n",
              "      <td>2.08978</td>\n",
              "      <td>-0.60309</td>\n",
              "      <td>-0.288577</td>\n",
              "      <td>-2.00134</td>\n",
              "      <td>-0.277255</td>\n",
              "      <td>0.868758</td>\n",
              "      <td>0.12926</td>\n",
              "      <td>-0.541282</td>\n",
              "      <td>0.904867</td>\n",
              "      <td>0.561075</td>\n",
              "      <td>-0.579279</td>\n",
              "      <td>-0.0749008</td>\n",
              "      <td>0.446291</td>\n",
              "      <td>0.605268</td>\n",
              "      <td>0.706811</td>\n",
              "      <td>0.478425</td>\n",
              "      <td>-0.190074</td>\n",
              "      <td>-0.7999</td>\n",
              "      <td>-1.18076</td>\n",
              "      <td>0.16411</td>\n",
              "      <td>-1.83851</td>\n",
              "      <td>-1.38154</td>\n",
              "      <td>0.219031</td>\n",
              "      <td>-0.868492</td>\n",
              "      <td>0.580945</td>\n",
              "    </tr>\n",
              "    <tr>\n",
              "      <th>2</th>\n",
              "      <td>Sheldon</td>\n",
              "      <td>10</td>\n",
              "      <td>2</td>\n",
              "      <td>0.559066</td>\n",
              "      <td>-0.0453554</td>\n",
              "      <td>-1.4974</td>\n",
              "      <td>-0.000272787</td>\n",
              "      <td>1.34779</td>\n",
              "      <td>1.97274</td>\n",
              "      <td>-0.43426</td>\n",
              "      <td>1.74321</td>\n",
              "      <td>1.65</td>\n",
              "      <td>2.44734</td>\n",
              "      <td>1.09579</td>\n",
              "      <td>-1.05055</td>\n",
              "      <td>2.73522</td>\n",
              "      <td>-0.563267</td>\n",
              "      <td>-0.504252</td>\n",
              "      <td>-0.442305</td>\n",
              "      <td>0.0849331</td>\n",
              "      <td>0.297745</td>\n",
              "      <td>-1.30424</td>\n",
              "      <td>-1.24976</td>\n",
              "      <td>1.32591</td>\n",
              "      <td>-1.13348</td>\n",
              "      <td>-0.0732787</td>\n",
              "      <td>-0.530197</td>\n",
              "      <td>-1.43209</td>\n",
              "      <td>-0.563651</td>\n",
              "      <td>-0.429123</td>\n",
              "      <td>-2.20949</td>\n",
              "      <td>3.23162</td>\n",
              "      <td>-1.19779</td>\n",
              "      <td>0.471085</td>\n",
              "      <td>-0.426747</td>\n",
              "      <td>-0.492798</td>\n",
              "      <td>-0.690385</td>\n",
              "      <td>-0.475061</td>\n",
              "      <td>-1.04208</td>\n",
              "      <td>2.7063</td>\n",
              "      <td>...</td>\n",
              "      <td>0.97832</td>\n",
              "      <td>1.72018</td>\n",
              "      <td>-0.381751</td>\n",
              "      <td>-0.126511</td>\n",
              "      <td>1.89304</td>\n",
              "      <td>-0.46588</td>\n",
              "      <td>-0.685478</td>\n",
              "      <td>-0.0541555</td>\n",
              "      <td>0.555933</td>\n",
              "      <td>-0.654077</td>\n",
              "      <td>1.59842</td>\n",
              "      <td>-1.94893</td>\n",
              "      <td>-0.0407614</td>\n",
              "      <td>1.54631</td>\n",
              "      <td>-0.23773</td>\n",
              "      <td>0.390536</td>\n",
              "      <td>-0.683272</td>\n",
              "      <td>-0.720386</td>\n",
              "      <td>-1.41567</td>\n",
              "      <td>-1.45257</td>\n",
              "      <td>0.84128</td>\n",
              "      <td>0.209728</td>\n",
              "      <td>-0.666683</td>\n",
              "      <td>0.823034</td>\n",
              "      <td>0.904415</td>\n",
              "      <td>-1.1642</td>\n",
              "      <td>-0.481422</td>\n",
              "      <td>-0.295444</td>\n",
              "      <td>1.35273</td>\n",
              "      <td>1.87943</td>\n",
              "      <td>-0.325215</td>\n",
              "      <td>-0.838157</td>\n",
              "      <td>-0.990656</td>\n",
              "      <td>0.017527</td>\n",
              "      <td>2.15297</td>\n",
              "      <td>0.299266</td>\n",
              "      <td>-1.59763</td>\n",
              "      <td>2.28802</td>\n",
              "      <td>0.883281</td>\n",
              "      <td>0.360921</td>\n",
              "    </tr>\n",
              "    <tr>\n",
              "      <th>3</th>\n",
              "      <td>Sheldon</td>\n",
              "      <td>6</td>\n",
              "      <td>1</td>\n",
              "      <td>-1.01056</td>\n",
              "      <td>-0.820397</td>\n",
              "      <td>-1.66702</td>\n",
              "      <td>-0.315195</td>\n",
              "      <td>1.83765</td>\n",
              "      <td>1.53629</td>\n",
              "      <td>-0.10272</td>\n",
              "      <td>1.3669</td>\n",
              "      <td>1.26525</td>\n",
              "      <td>1.96768</td>\n",
              "      <td>0.501702</td>\n",
              "      <td>-1.08685</td>\n",
              "      <td>2.238</td>\n",
              "      <td>-0.268875</td>\n",
              "      <td>0.158822</td>\n",
              "      <td>0.547045</td>\n",
              "      <td>0.329489</td>\n",
              "      <td>1.056</td>\n",
              "      <td>-0.961372</td>\n",
              "      <td>-0.771</td>\n",
              "      <td>-0.376726</td>\n",
              "      <td>-0.557453</td>\n",
              "      <td>-0.891509</td>\n",
              "      <td>-0.182689</td>\n",
              "      <td>-0.184529</td>\n",
              "      <td>0.771187</td>\n",
              "      <td>0.368562</td>\n",
              "      <td>-2.1066</td>\n",
              "      <td>2.24716</td>\n",
              "      <td>-1.20771</td>\n",
              "      <td>-0.523347</td>\n",
              "      <td>-0.229848</td>\n",
              "      <td>0.354541</td>\n",
              "      <td>-0.638458</td>\n",
              "      <td>-0.314767</td>\n",
              "      <td>-0.935505</td>\n",
              "      <td>1.74597</td>\n",
              "      <td>...</td>\n",
              "      <td>0.494573</td>\n",
              "      <td>1.50939</td>\n",
              "      <td>0.120714</td>\n",
              "      <td>-0.378213</td>\n",
              "      <td>1.41812</td>\n",
              "      <td>-1.36363</td>\n",
              "      <td>-0.507804</td>\n",
              "      <td>0.490459</td>\n",
              "      <td>1.52058</td>\n",
              "      <td>-0.799559</td>\n",
              "      <td>-0.0926176</td>\n",
              "      <td>-1.68623</td>\n",
              "      <td>-1.11412</td>\n",
              "      <td>-0.00171745</td>\n",
              "      <td>-0.617486</td>\n",
              "      <td>0.218995</td>\n",
              "      <td>-0.42871</td>\n",
              "      <td>1.46284</td>\n",
              "      <td>-1.36474</td>\n",
              "      <td>-1.56504</td>\n",
              "      <td>0.701289</td>\n",
              "      <td>0.0600222</td>\n",
              "      <td>-0.827749</td>\n",
              "      <td>1.70647</td>\n",
              "      <td>0.856113</td>\n",
              "      <td>-1.31398</td>\n",
              "      <td>0.235889</td>\n",
              "      <td>0.273486</td>\n",
              "      <td>0.847479</td>\n",
              "      <td>1.26066</td>\n",
              "      <td>-0.00337345</td>\n",
              "      <td>-0.737218</td>\n",
              "      <td>-0.623382</td>\n",
              "      <td>0.389851</td>\n",
              "      <td>1.12208</td>\n",
              "      <td>0.375718</td>\n",
              "      <td>-1.09765</td>\n",
              "      <td>2.90842</td>\n",
              "      <td>1.24455</td>\n",
              "      <td>-0.390777</td>\n",
              "    </tr>\n",
              "    <tr>\n",
              "      <th>4</th>\n",
              "      <td>Sheldon</td>\n",
              "      <td>3</td>\n",
              "      <td>1</td>\n",
              "      <td>-0.426308</td>\n",
              "      <td>0.276309</td>\n",
              "      <td>0.256766</td>\n",
              "      <td>-1.18564</td>\n",
              "      <td>1.68355</td>\n",
              "      <td>0.755702</td>\n",
              "      <td>0.59754</td>\n",
              "      <td>3.03525</td>\n",
              "      <td>2.28857</td>\n",
              "      <td>2.22038</td>\n",
              "      <td>0.0779524</td>\n",
              "      <td>-1.23499</td>\n",
              "      <td>1.35462</td>\n",
              "      <td>-1.11516</td>\n",
              "      <td>1.1506</td>\n",
              "      <td>0.44546</td>\n",
              "      <td>-0.285483</td>\n",
              "      <td>1.43268</td>\n",
              "      <td>-0.967302</td>\n",
              "      <td>-0.884867</td>\n",
              "      <td>-0.441625</td>\n",
              "      <td>-0.484363</td>\n",
              "      <td>-1.35572</td>\n",
              "      <td>-0.483504</td>\n",
              "      <td>0.0730076</td>\n",
              "      <td>0.326705</td>\n",
              "      <td>-0.479417</td>\n",
              "      <td>-2.3624</td>\n",
              "      <td>1.33856</td>\n",
              "      <td>-0.115821</td>\n",
              "      <td>0.0796312</td>\n",
              "      <td>0.455551</td>\n",
              "      <td>1.31852</td>\n",
              "      <td>0.918931</td>\n",
              "      <td>-0.806214</td>\n",
              "      <td>-2.08068</td>\n",
              "      <td>3.19673</td>\n",
              "      <td>...</td>\n",
              "      <td>1.28677</td>\n",
              "      <td>0.380409</td>\n",
              "      <td>-0.111971</td>\n",
              "      <td>-0.47132</td>\n",
              "      <td>3.15272</td>\n",
              "      <td>-1.54872</td>\n",
              "      <td>-1.14522</td>\n",
              "      <td>-0.63841</td>\n",
              "      <td>1.03892</td>\n",
              "      <td>-1.43371</td>\n",
              "      <td>1.3236</td>\n",
              "      <td>-0.855151</td>\n",
              "      <td>-1.28327</td>\n",
              "      <td>-0.742945</td>\n",
              "      <td>-0.875302</td>\n",
              "      <td>1.1421</td>\n",
              "      <td>0.984488</td>\n",
              "      <td>1.24695</td>\n",
              "      <td>-1.79197</td>\n",
              "      <td>-0.20175</td>\n",
              "      <td>0.49855</td>\n",
              "      <td>-0.266859</td>\n",
              "      <td>-0.758239</td>\n",
              "      <td>2.46038</td>\n",
              "      <td>0.662435</td>\n",
              "      <td>-1.6397</td>\n",
              "      <td>1.24046</td>\n",
              "      <td>0.289033</td>\n",
              "      <td>-0.309713</td>\n",
              "      <td>1.05037</td>\n",
              "      <td>-0.560489</td>\n",
              "      <td>-1.23893</td>\n",
              "      <td>0.286168</td>\n",
              "      <td>-0.666675</td>\n",
              "      <td>0.887993</td>\n",
              "      <td>-0.419051</td>\n",
              "      <td>-1.83017</td>\n",
              "      <td>2.6685</td>\n",
              "      <td>0.413843</td>\n",
              "      <td>0.270734</td>\n",
              "    </tr>\n",
              "  </tbody>\n",
              "</table>\n",
              "<p>5 rows × 99 columns</p>\n",
              "</div>"
            ],
            "text/plain": [
              "     label  token_number  verb_number  ...        93        94        95\n",
              "0  Sheldon             2            0  ...   3.66849 -0.251989 -0.257596\n",
              "1  Leonard             7            2  ...  0.219031 -0.868492  0.580945\n",
              "2  Sheldon            10            2  ...   2.28802  0.883281  0.360921\n",
              "3  Sheldon             6            1  ...   2.90842   1.24455 -0.390777\n",
              "4  Sheldon             3            1  ...    2.6685  0.413843  0.270734\n",
              "\n",
              "[5 rows x 99 columns]"
            ]
          },
          "metadata": {
            "tags": []
          },
          "execution_count": 49
        }
      ]
    },
    {
      "cell_type": "code",
      "metadata": {
        "id": "Z9GVECos3RXB",
        "colab_type": "code",
        "colab": {}
      },
      "source": [
        "from sklearn.model_selection import train_test_split\n",
        "x_train, x_test, y_train, y_test = train_test_split(data_new.drop(['label'], axis = 1), data_new['label'], test_size=0.33, random_state=42)"
      ],
      "execution_count": 0,
      "outputs": []
    },
    {
      "cell_type": "code",
      "metadata": {
        "id": "24xV7NTw3RN_",
        "colab_type": "code",
        "outputId": "d519e3b8-ec6a-451f-9046-4822527dc861",
        "colab": {
          "base_uri": "https://localhost:8080/",
          "height": 34
        }
      },
      "source": [
        "from sklearn.preprocessing import LabelEncoder\n",
        "encoder = LabelEncoder()\n",
        "encoder.fit(y_train)\n",
        "train_class = encoder.transform(y_train)\n",
        "test_class = encoder.transform(y_test)\n",
        "dict(enumerate(encoder.classes_))"
      ],
      "execution_count": 0,
      "outputs": [
        {
          "output_type": "execute_result",
          "data": {
            "text/plain": [
              "{0: 'Howard', 1: 'Leonard', 2: 'Penny', 3: 'Raj', 4: 'Sheldon'}"
            ]
          },
          "metadata": {
            "tags": []
          },
          "execution_count": 51
        }
      ]
    },
    {
      "cell_type": "code",
      "metadata": {
        "id": "yG94YHlK3RMb",
        "colab_type": "code",
        "outputId": "1a39e074-4113-4297-a95f-a5dbebc17fac",
        "colab": {
          "base_uri": "https://localhost:8080/",
          "height": 68
        }
      },
      "source": [
        "from sklearn import svm\n",
        "from sklearn import metrics\n",
        "\n",
        "clf = svm.SVC(kernel='linear') # Linear Kernel\n",
        "clf.fit(x_train, train_class)\n",
        "y_pred = clf.predict(x_test)\n",
        "print(\"Accuracy:\",metrics.accuracy_score(test_class, y_pred))\n",
        "print(\"Precision:\",metrics.precision_score(test_class, y_pred, average='macro'))\n",
        "print(\"Recall:\",metrics.recall_score(test_class, y_pred, average='macro'))"
      ],
      "execution_count": 0,
      "outputs": [
        {
          "output_type": "stream",
          "text": [
            "Accuracy: 0.3177570093457944\n",
            "Precision: 0.2629264306713329\n",
            "Recall: 0.2577410979103246\n"
          ],
          "name": "stdout"
        }
      ]
    },
    {
      "cell_type": "code",
      "metadata": {
        "id": "cbAaIZAY3RI6",
        "colab_type": "code",
        "outputId": "99d5f9e4-eb3a-4acc-c57e-6c03428b0eee",
        "colab": {
          "base_uri": "https://localhost:8080/",
          "height": 238
        }
      },
      "source": [
        "from sklearn.linear_model import LogisticRegression\n",
        "\n",
        "logreg = LogisticRegression()\n",
        "logreg.fit(x_train, train_class)\n",
        "y_pred_log=logreg.predict(x_test)\n",
        "cnf_matrix = metrics.confusion_matrix(test_class, y_pred_log)\n",
        "cnf_matrix"
      ],
      "execution_count": 0,
      "outputs": [
        {
          "output_type": "stream",
          "text": [
            "/usr/local/lib/python3.6/dist-packages/sklearn/linear_model/_logistic.py:940: ConvergenceWarning: lbfgs failed to converge (status=1):\n",
            "STOP: TOTAL NO. of ITERATIONS REACHED LIMIT.\n",
            "\n",
            "Increase the number of iterations (max_iter) or scale the data as shown in:\n",
            "    https://scikit-learn.org/stable/modules/preprocessing.html\n",
            "Please also refer to the documentation for alternative solver options:\n",
            "    https://scikit-learn.org/stable/modules/linear_model.html#logistic-regression\n",
            "  extra_warning_msg=_LOGISTIC_SOLVER_CONVERGENCE_MSG)\n"
          ],
          "name": "stderr"
        },
        {
          "output_type": "execute_result",
          "data": {
            "text/plain": [
              "array([[ 6,  8, 10,  7, 31],\n",
              "       [ 5, 15, 12,  6, 45],\n",
              "       [12, 11, 20,  7, 35],\n",
              "       [ 5,  9,  5,  8, 26],\n",
              "       [10, 22, 10, 10, 93]])"
            ]
          },
          "metadata": {
            "tags": []
          },
          "execution_count": 53
        }
      ]
    },
    {
      "cell_type": "code",
      "metadata": {
        "id": "LSxsDYc2_lWO",
        "colab_type": "code",
        "outputId": "89c2eb9c-f18f-49e5-f6aa-623ee81e81fc",
        "colab": {
          "base_uri": "https://localhost:8080/",
          "height": 68
        }
      },
      "source": [
        "print(\"Accuracy:\",metrics.accuracy_score(test_class, y_pred_log))\n",
        "print(\"Precision:\",metrics.precision_score(test_class, y_pred_log, average='macro'))\n",
        "print(\"Recall:\",metrics.recall_score(test_class, y_pred_log, average='macro'))"
      ],
      "execution_count": 0,
      "outputs": [
        {
          "output_type": "stream",
          "text": [
            "Accuracy: 0.3317757009345794\n",
            "Precision: 0.2708830604940445\n",
            "Recall: 0.2610227818665907\n"
          ],
          "name": "stdout"
        }
      ]
    },
    {
      "cell_type": "code",
      "metadata": {
        "id": "G-ALjemE3RCZ",
        "colab_type": "code",
        "outputId": "34f7efff-8b1f-4e73-c38d-ecc76e5c9089",
        "colab": {
          "base_uri": "https://localhost:8080/",
          "height": 342
        }
      },
      "source": [
        "import matplotlib.pyplot as plt\n",
        "import seaborn as sns\n",
        "\n",
        "class_names= list(dict(enumerate(encoder.classes_)).values()) # name  of classes\n",
        "fig, ax = plt.subplots()\n",
        "tick_marks = np.arange(len(dict(enumerate(encoder.classes_))))\n",
        "plt.xticks(tick_marks, list(dict(enumerate(encoder.classes_)).values()))\n",
        "plt.yticks(tick_marks, list(dict(enumerate(encoder.classes_)).values()))\n",
        "sns.heatmap(pd.DataFrame(cnf_matrix), annot=True, cmap=\"YlGnBu\" ,fmt='g')\n",
        "ax.xaxis.set_label_position(\"top\")\n",
        "plt.tight_layout()\n",
        "plt.title('Confusion matrix', y=1.1)\n",
        "plt.ylabel('Actual label')\n",
        "plt.xlabel('Predicted label')"
      ],
      "execution_count": 0,
      "outputs": [
        {
          "output_type": "execute_result",
          "data": {
            "text/plain": [
              "Text(0.5, 257.44, 'Predicted label')"
            ]
          },
          "metadata": {
            "tags": []
          },
          "execution_count": 55
        },
        {
          "output_type": "display_data",
          "data": {
            "image/png": "[encoded data removed]",
            "text/plain": [
              "<Figure size 432x288 with 2 Axes>"
            ]
          },
          "metadata": {
            "tags": []
          }
        }
      ]
    },
    {
      "cell_type": "code",
      "metadata": {
        "id": "vsbbyta71a4Y",
        "colab_type": "code",
        "outputId": "e3f2cb92-302c-4c6e-d876-6694efbc9daa",
        "colab": {
          "base_uri": "https://localhost:8080/",
          "height": 68
        }
      },
      "source": [
        "from sklearn.ensemble import RandomForestClassifier\n",
        "\n",
        "\n",
        "rdf=RandomForestClassifier(n_estimators=50)\n",
        "rdf.fit(x_train, train_class)\n",
        "y_pred_rnf=rdf.predict(x_test)\n",
        "print(\"Accuracy:\",metrics.accuracy_score(test_class, y_pred_rnf))\n",
        "print(\"Precision:\",metrics.precision_score(test_class, y_pred_rnf, average='macro'))\n",
        "print(\"Recall:\",metrics.recall_score(test_class, y_pred_rnf, average='macro'))"
      ],
      "execution_count": 0,
      "outputs": [
        {
          "output_type": "stream",
          "text": [
            "Accuracy: 0.35514018691588783\n",
            "Precision: 0.2766070791953145\n",
            "Recall: 0.24841025967650682\n"
          ],
          "name": "stdout"
        }
      ]
    },
    {
      "cell_type": "code",
      "metadata": {
        "id": "jF2t58U3MpMc",
        "colab_type": "code",
        "outputId": "ecac1682-e28d-4fbf-8552-b70d74f9a5a4",
        "colab": {
          "base_uri": "https://localhost:8080/",
          "height": 204
        }
      },
      "source": [
        "data_string = []\n",
        "for i in data_tbt['text']:\n",
        "  data_string.append(' '.join(i))\n",
        "data_tbt_string = pd.DataFrame()\n",
        "data_tbt_string['label'] = data_tbt['label']\n",
        "data_tbt_string['text'] = data_string\n",
        "data_tbt_string['token_number'] = data_tbt['token_number']\n",
        "data_tbt_string['verb_number'] = data_tbt['verb_number']\n",
        "data_tbt_string.head()"
      ],
      "execution_count": 0,
      "outputs": [
        {
          "output_type": "execute_result",
          "data": {
            "text/html": [
              "<div>\n",
              "<style scoped>\n",
              "    .dataframe tbody tr th:only-of-type {\n",
              "        vertical-align: middle;\n",
              "    }\n",
              "\n",
              "    .dataframe tbody tr th {\n",
              "        vertical-align: top;\n",
              "    }\n",
              "\n",
              "    .dataframe thead th {\n",
              "        text-align: right;\n",
              "    }\n",
              "</style>\n",
              "<table border=\"1\" class=\"dataframe\">\n",
              "  <thead>\n",
              "    <tr style=\"text-align: right;\">\n",
              "      <th></th>\n",
              "      <th>label</th>\n",
              "      <th>text</th>\n",
              "      <th>token_number</th>\n",
              "      <th>verb_number</th>\n",
              "    </tr>\n",
              "  </thead>\n",
              "  <tbody>\n",
              "    <tr>\n",
              "      <th>0</th>\n",
              "      <td>Sheldon</td>\n",
              "      <td>realize brother</td>\n",
              "      <td>2</td>\n",
              "      <td>0</td>\n",
              "    </tr>\n",
              "    <tr>\n",
              "      <th>1</th>\n",
              "      <td>Leonard</td>\n",
              "      <td>go to brother go to stepbrother sleep</td>\n",
              "      <td>7</td>\n",
              "      <td>2</td>\n",
              "    </tr>\n",
              "    <tr>\n",
              "      <th>2</th>\n",
              "      <td>Sheldon</td>\n",
              "      <td>hope right cause grown man live brother brothe...</td>\n",
              "      <td>10</td>\n",
              "      <td>2</td>\n",
              "    </tr>\n",
              "    <tr>\n",
              "      <th>3</th>\n",
              "      <td>Sheldon</td>\n",
              "      <td>okay think father unspeakable thing mother</td>\n",
              "      <td>6</td>\n",
              "      <td>1</td>\n",
              "    </tr>\n",
              "    <tr>\n",
              "      <th>4</th>\n",
              "      <td>Sheldon</td>\n",
              "      <td>say thing unspeakable</td>\n",
              "      <td>3</td>\n",
              "      <td>1</td>\n",
              "    </tr>\n",
              "  </tbody>\n",
              "</table>\n",
              "</div>"
            ],
            "text/plain": [
              "     label  ... verb_number\n",
              "0  Sheldon  ...           0\n",
              "1  Leonard  ...           2\n",
              "2  Sheldon  ...           2\n",
              "3  Sheldon  ...           1\n",
              "4  Sheldon  ...           1\n",
              "\n",
              "[5 rows x 4 columns]"
            ]
          },
          "metadata": {
            "tags": []
          },
          "execution_count": 57
        }
      ]
    },
    {
      "cell_type": "code",
      "metadata": {
        "id": "9c04VQInMf33",
        "colab_type": "code",
        "colab": {}
      },
      "source": [
        "x_train_1, x_test_1, y_train_1, y_test_1 = train_test_split(data_tbt_string.drop(['label'], axis = 1), data_tbt_string['label'], test_size=0.33, random_state=42)"
      ],
      "execution_count": 0,
      "outputs": []
    },
    {
      "cell_type": "code",
      "metadata": {
        "id": "nvtXBJxeQGp0",
        "colab_type": "code",
        "outputId": "bf86ddd8-2eb6-457f-a29a-1846c7a0c60b",
        "colab": {
          "base_uri": "https://localhost:8080/",
          "height": 34
        }
      },
      "source": [
        "encoder.fit(y_train_1)\n",
        "train_class_1 = encoder.transform(y_train_1)\n",
        "test_class_1 = encoder.transform(y_test_1)\n",
        "dict(enumerate(encoder.classes_))"
      ],
      "execution_count": 0,
      "outputs": [
        {
          "output_type": "execute_result",
          "data": {
            "text/plain": [
              "{0: 'Howard', 1: 'Leonard', 2: 'Penny', 3: 'Raj', 4: 'Sheldon'}"
            ]
          },
          "metadata": {
            "tags": []
          },
          "execution_count": 59
        }
      ]
    },
    {
      "cell_type": "code",
      "metadata": {
        "id": "2FYWd2KgL_9k",
        "colab_type": "code",
        "colab": {}
      },
      "source": [
        "from sklearn.feature_extraction.text import TfidfVectorizer\n",
        "vect_1 = TfidfVectorizer(max_df=0.87,\n",
        "               smooth_idf=1, max_features=300000)\n",
        "#tf-idf\n",
        "train_tf =  vect_1.fit_transform(x_train_1['text'])\n",
        "test_tf = vect_1.transform(x_test_1['text'])"
      ],
      "execution_count": 0,
      "outputs": []
    },
    {
      "cell_type": "code",
      "metadata": {
        "id": "xosOIW2KCIU_",
        "colab_type": "code",
        "outputId": "711d9721-c86e-4899-c2d0-8906327ed57f",
        "colab": {
          "base_uri": "https://localhost:8080/",
          "height": 85
        }
      },
      "source": [
        "logreg = LogisticRegression()\n",
        "logreg.fit(train_tf, train_class_1)\n",
        "y_pred_log_1=logreg.predict(test_tf)\n",
        "print(\"Accuracy:\",metrics.accuracy_score(test_class_1, y_pred_log_1))\n",
        "print(\"Precision:\",metrics.precision_score(test_class_1, y_pred_log_1, average='macro'))\n",
        "print(\"Recall:\",metrics.recall_score(test_class_1, y_pred_log_1, average='macro'))\n",
        "print(\"F1-score:\",metrics.f1_score(test_class_1, y_pred_log_1, average='macro'))"
      ],
      "execution_count": 0,
      "outputs": [
        {
          "output_type": "stream",
          "text": [
            "Accuracy: 0.37383177570093457\n",
            "Precision: 0.28050580179068174\n",
            "Recall: 0.25177515361204444\n",
            "F1-score: 0.20787672573671304\n"
          ],
          "name": "stdout"
        }
      ]
    },
    {
      "cell_type": "code",
      "metadata": {
        "id": "7LgbmaWlL_z5",
        "colab_type": "code",
        "outputId": "d7d3669d-d60c-453c-f4bb-6b3420494b13",
        "colab": {
          "base_uri": "https://localhost:8080/",
          "height": 68
        }
      },
      "source": [
        "clf_1 = svm.SVC(kernel='linear') # Linear Kernel\n",
        "clf_1.fit(train_tf, train_class_1)\n",
        "y_pred_1 = clf_1.predict(test_tf)\n",
        "print(\"Accuracy:\",metrics.accuracy_score(test_class_1, y_pred_1))\n",
        "print(\"Precision:\",metrics.precision_score(test_class_1, y_pred_1, average='macro'))\n",
        "print(\"Recall:\",metrics.recall_score(test_class_1, y_pred_1, average='macro'))"
      ],
      "execution_count": 0,
      "outputs": [
        {
          "output_type": "stream",
          "text": [
            "Accuracy: 0.352803738317757\n",
            "Precision: 0.2568019943019943\n",
            "Recall: 0.2479436674003331\n"
          ],
          "name": "stdout"
        }
      ]
    },
    {
      "cell_type": "code",
      "metadata": {
        "id": "KXEZgjPOYj9v",
        "colab_type": "code",
        "outputId": "637a48bf-540d-4282-ca35-41158c57bece",
        "colab": {
          "base_uri": "https://localhost:8080/",
          "height": 68
        }
      },
      "source": [
        "rdf_1 = RandomForestClassifier(n_estimators=50)\n",
        "rdf_1.fit(train_tf, train_class_1)\n",
        "y_pred_rnf_1 = rdf_1.predict(test_tf)\n",
        "print(\"Accuracy:\",metrics.accuracy_score(test_class_1, y_pred_rnf_1))\n",
        "print(\"Precision:\",metrics.precision_score(test_class, y_pred_rnf_1, average='macro'))\n",
        "print(\"Recall:\",metrics.recall_score(test_class, y_pred_rnf_1, average='macro'))"
      ],
      "execution_count": 0,
      "outputs": [
        {
          "output_type": "stream",
          "text": [
            "Accuracy: 0.34345794392523366\n",
            "Precision: 0.2428681971771597\n",
            "Recall: 0.24326550157722196\n"
          ],
          "name": "stdout"
        }
      ]
    },
    {
      "cell_type": "code",
      "metadata": {
        "id": "dYJXuIIWNCxY",
        "colab_type": "code",
        "outputId": "6507d3ad-2de5-4b5c-d9f9-0593ec0b5544",
        "colab": {
          "base_uri": "https://localhost:8080/",
          "height": 632
        }
      },
      "source": [
        "pip install pyLDAvis"
      ],
      "execution_count": 0,
      "outputs": [
        {
          "output_type": "stream",
          "text": [
            "Collecting pyLDAvis\n",
            "\u001b[?25l  Downloading https://files.pythonhosted.org/packages/a5/3a/af82e070a8a96e13217c8f362f9a73e82d61ac8fff3a2561946a97f96266/pyLDAvis-2.1.2.tar.gz (1.6MB)\n",
            "\u001b[K     |████████████████████████████████| 1.6MB 2.7MB/s \n",
            "\u001b[?25hRequirement already satisfied: wheel>=0.23.0 in /usr/local/lib/python3.6/dist-packages (from pyLDAvis) (0.34.2)\n",
            "Requirement already satisfied: numpy>=1.9.2 in /usr/local/lib/python3.6/dist-packages (from pyLDAvis) (1.18.2)\n",
            "Requirement already satisfied: scipy>=0.18.0 in /usr/local/lib/python3.6/dist-packages (from pyLDAvis) (1.4.1)\n",
            "Requirement already satisfied: pandas>=0.17.0 in /usr/local/lib/python3.6/dist-packages (from pyLDAvis) (0.25.3)\n",
            "Requirement already satisfied: joblib>=0.8.4 in /usr/local/lib/python3.6/dist-packages (from pyLDAvis) (0.14.1)\n",
            "Requirement already satisfied: jinja2>=2.7.2 in /usr/local/lib/python3.6/dist-packages (from pyLDAvis) (2.11.1)\n",
            "Requirement already satisfied: numexpr in /usr/local/lib/python3.6/dist-packages (from pyLDAvis) (2.7.1)\n",
            "Requirement already satisfied: pytest in /usr/local/lib/python3.6/dist-packages (from pyLDAvis) (3.6.4)\n",
            "Requirement already satisfied: future in /usr/local/lib/python3.6/dist-packages (from pyLDAvis) (0.16.0)\n",
            "Collecting funcy\n",
            "\u001b[?25l  Downloading https://files.pythonhosted.org/packages/ce/4b/6ffa76544e46614123de31574ad95758c421aae391a1764921b8a81e1eae/funcy-1.14.tar.gz (548kB)\n",
            "\u001b[K     |████████████████████████████████| 552kB 21.8MB/s \n",
            "\u001b[?25hRequirement already satisfied: python-dateutil>=2.6.1 in /usr/local/lib/python3.6/dist-packages (from pandas>=0.17.0->pyLDAvis) (2.8.1)\n",
            "Requirement already satisfied: pytz>=2017.2 in /usr/local/lib/python3.6/dist-packages (from pandas>=0.17.0->pyLDAvis) (2018.9)\n",
            "Requirement already satisfied: MarkupSafe>=0.23 in /usr/local/lib/python3.6/dist-packages (from jinja2>=2.7.2->pyLDAvis) (1.1.1)\n",
            "Requirement already satisfied: atomicwrites>=1.0 in /usr/local/lib/python3.6/dist-packages (from pytest->pyLDAvis) (1.3.0)\n",
            "Requirement already satisfied: attrs>=17.4.0 in /usr/local/lib/python3.6/dist-packages (from pytest->pyLDAvis) (19.3.0)\n",
            "Requirement already satisfied: more-itertools>=4.0.0 in /usr/local/lib/python3.6/dist-packages (from pytest->pyLDAvis) (8.2.0)\n",
            "Requirement already satisfied: six>=1.10.0 in /usr/local/lib/python3.6/dist-packages (from pytest->pyLDAvis) (1.12.0)\n",
            "Requirement already satisfied: setuptools in /usr/local/lib/python3.6/dist-packages (from pytest->pyLDAvis) (46.0.0)\n",
            "Requirement already satisfied: py>=1.5.0 in /usr/local/lib/python3.6/dist-packages (from pytest->pyLDAvis) (1.8.1)\n",
            "Requirement already satisfied: pluggy<0.8,>=0.5 in /usr/local/lib/python3.6/dist-packages (from pytest->pyLDAvis) (0.7.1)\n",
            "Building wheels for collected packages: pyLDAvis, funcy\n",
            "  Building wheel for pyLDAvis (setup.py) ... \u001b[?25l\u001b[?25hdone\n",
            "  Created wheel for pyLDAvis: filename=pyLDAvis-2.1.2-py2.py3-none-any.whl size=97711 sha256=f4e8090603275e9cce2d2f44b1d67f68ad3ee4a048713a3bc16bf5c89d12dfca\n",
            "  Stored in directory: /root/.cache/pip/wheels/98/71/24/513a99e58bb6b8465bae4d2d5e9dba8f0bef8179e3051ac414\n",
            "  Building wheel for funcy (setup.py) ... \u001b[?25l\u001b[?25hdone\n",
            "  Created wheel for funcy: filename=funcy-1.14-py2.py3-none-any.whl size=32042 sha256=588354f190069ce8ffc0cdb7014c9c262dafee9b9405e727076c46e15f5804a6\n",
            "  Stored in directory: /root/.cache/pip/wheels/20/5a/d8/1d875df03deae6f178dfdf70238cca33f948ef8a6f5209f2eb\n",
            "Successfully built pyLDAvis funcy\n",
            "Installing collected packages: funcy, pyLDAvis\n",
            "Successfully installed funcy-1.14 pyLDAvis-2.1.2\n"
          ],
          "name": "stdout"
        }
      ]
    },
    {
      "cell_type": "code",
      "metadata": {
        "id": "JAVB0HHhS6mq",
        "colab_type": "code",
        "colab": {}
      },
      "source": [
        "import re\n",
        "import numpy as np\n",
        "import pandas as pd\n",
        "from pprint import pprint\n",
        "\n",
        "import gensim\n",
        "import gensim.corpora as corpora\n",
        "from gensim.utils import simple_preprocess\n",
        "from gensim.models import CoherenceModel\n",
        "\n",
        "import pyLDAvis\n",
        "import pyLDAvis.gensim\n",
        "import matplotlib.pyplot as plt\n",
        "%matplotlib inline\n",
        "\n",
        "import logging\n",
        "import warnings\n",
        "\n",
        "warnings.filterwarnings('ignore', category = DeprecationWarning)"
      ],
      "execution_count": 0,
      "outputs": []
    },
    {
      "cell_type": "code",
      "metadata": {
        "id": "FrImVcinS6yP",
        "colab_type": "code",
        "colab": {}
      },
      "source": [
        "text_data = data_pro\n",
        "id2word = corpora.Dictionary(text_data)\n",
        "texts = text_data\n",
        "corpus = [id2word.doc2bow(text) for text in texts]"
      ],
      "execution_count": 0,
      "outputs": []
    },
    {
      "cell_type": "code",
      "metadata": {
        "id": "-Y4-XYnQS6vU",
        "colab_type": "code",
        "outputId": "0e3e7242-00ad-43b4-e1d0-a47a57be946e",
        "colab": {
          "base_uri": "https://localhost:8080/",
          "height": 102
        }
      },
      "source": [
        "lda_model = gensim.models.ldamodel.LdaModel(corpus, num_topics = 5, id2word=id2word, passes=15)\n",
        "topics = lda_model.print_topics(num_words=6)\n",
        "for t in topics:\n",
        "    print(t)"
      ],
      "execution_count": 0,
      "outputs": [
        {
          "output_type": "stream",
          "text": [
            "(0, '0.022*\"get\" + 0.017*\"know\" + 0.017*\"good\" + 0.012*\"oh\" + 0.011*\"like\" + 0.010*\"want\"')\n",
            "(1, '0.026*\"know\" + 0.017*\"go\" + 0.014*\"come\" + 0.012*\"want\" + 0.010*\"like\" + 0.010*\"people\"')\n",
            "(2, '0.027*\"go\" + 0.023*\"like\" + 0.021*\"think\" + 0.021*\"oh\" + 0.019*\"know\" + 0.015*\"hey\"')\n",
            "(3, '0.018*\"oh\" + 0.015*\"know\" + 0.010*\"like\" + 0.009*\"need\" + 0.009*\"great\" + 0.008*\"love\"')\n",
            "(4, '0.017*\"feel\" + 0.016*\"oh\" + 0.013*\"baby\" + 0.010*\"people\" + 0.009*\"think\" + 0.008*\"look\"')\n"
          ],
          "name": "stdout"
        }
      ]
    },
    {
      "cell_type": "code",
      "metadata": {
        "id": "HS2jdde_S6tG",
        "colab_type": "code",
        "outputId": "d33295dd-356f-4a99-c069-8c95471c4782",
        "colab": {
          "base_uri": "https://localhost:8080/",
          "height": 1000
        }
      },
      "source": [
        "pyLDAvis.enable_notebook()\n",
        "showme = pyLDAvis.gensim.prepare(lda_model, corpus, id2word)\n",
        "showme"
      ],
      "execution_count": 0,
      "outputs": [
        {
          "output_type": "stream",
          "text": [
            "/usr/local/lib/python3.6/dist-packages/pyLDAvis/_prepare.py:257: FutureWarning: Sorting because non-concatenation axis is not aligned. A future version\n",
            "of pandas will change to not sort by default.\n",
            "\n",
            "To accept the future behavior, pass 'sort=False'.\n",
            "\n",
            "To retain the current behavior and silence the warning, pass 'sort=True'.\n",
            "\n",
            "  return pd.concat([default_term_info] + list(topic_dfs))\n"
          ],
          "name": "stderr"
        },
        {
          "output_type": "execute_result",
          "data": {
            "text/html": [
              "\n",
              "<link rel=\"stylesheet\" type=\"text/css\" href=\"https://cdn.rawgit.com/bmabey/pyLDAvis/files/ldavis.v1.0.0.css\">\n",
              "\n",
              "\n",
              "<div id=\"ldavis_el1231404129866449045949816781\"></div>\n",
              "<script type=\"text/javascript\">\n",
              "\n",
              "var ldavis_el1231404129866449045949816781_data = {\"mdsDat\": {\"x\": [0.034327941583098716, -0.09344860070962784, 0.00037703242865873716, -0.06459906802838354, 0.12334269472625387], \"y\": [0.11184154025434857, 0.046020019597202595, -0.03360740252310818, -0.08406716006289859, -0.040186997265544276], \"topics\": [1, 2, 3, 4, 5], \"cluster\": [1, 1, 1, 1, 1], \"Freq\": [24.09785270690918, 22.764604568481445, 19.423677444458008, 18.75152015686035, 14.962352752685547]}, \"tinfo\": {\"Category\": [\"Default\", \"Default\", \"Default\", \"Default\", \"Default\", \"Default\", \"Default\", \"Default\", \"Default\", \"Default\", \"Default\", \"Default\", \"Default\", \"Default\", \"Default\", \"Default\", \"Default\", \"Default\", \"Default\", \"Default\", \"Default\", \"Default\", \"Default\", \"Default\", \"Default\", \"Default\", \"Default\", \"Default\", \"Default\", \"Default\", \"Topic1\", \"Topic1\", \"Topic1\", \"Topic1\", \"Topic1\", \"Topic1\", \"Topic1\", \"Topic1\", \"Topic1\", \"Topic1\", \"Topic1\", \"Topic1\", \"Topic1\", \"Topic1\", \"Topic1\", \"Topic1\", \"Topic1\", \"Topic1\", \"Topic1\", \"Topic1\", \"Topic1\", \"Topic1\", \"Topic1\", \"Topic1\", \"Topic1\", \"Topic1\", \"Topic1\", \"Topic1\", \"Topic1\", \"Topic1\", \"Topic1\", \"Topic1\", \"Topic1\", \"Topic1\", \"Topic1\", \"Topic1\", \"Topic1\", \"Topic1\", \"Topic1\", \"Topic1\", \"Topic1\", \"Topic1\", \"Topic1\", \"Topic1\", \"Topic1\", \"Topic1\", \"Topic1\", \"Topic1\", \"Topic1\", \"Topic1\", \"Topic1\", \"Topic1\", \"Topic1\", \"Topic1\", \"Topic1\", \"Topic1\", \"Topic1\", \"Topic1\", \"Topic1\", \"Topic1\", \"Topic1\", \"Topic1\", \"Topic1\", \"Topic1\", \"Topic1\", \"Topic1\", \"Topic1\", \"Topic1\", \"Topic1\", \"Topic1\", \"Topic1\", \"Topic2\", \"Topic2\", \"Topic2\", \"Topic2\", \"Topic2\", \"Topic2\", \"Topic2\", \"Topic2\", \"Topic2\", \"Topic2\", \"Topic2\", \"Topic2\", \"Topic2\", \"Topic2\", \"Topic2\", \"Topic2\", \"Topic2\", \"Topic2\", \"Topic2\", \"Topic2\", \"Topic2\", \"Topic2\", \"Topic2\", \"Topic2\", \"Topic2\", \"Topic2\", \"Topic2\", \"Topic2\", \"Topic2\", \"Topic2\", \"Topic2\", \"Topic2\", \"Topic2\", \"Topic2\", \"Topic2\", \"Topic2\", \"Topic2\", \"Topic2\", \"Topic2\", \"Topic2\", \"Topic2\", \"Topic2\", \"Topic2\", \"Topic2\", \"Topic2\", \"Topic2\", \"Topic2\", \"Topic2\", \"Topic2\", \"Topic2\", \"Topic2\", \"Topic2\", \"Topic2\", \"Topic2\", \"Topic2\", \"Topic2\", \"Topic2\", \"Topic2\", \"Topic2\", \"Topic2\", \"Topic2\", \"Topic2\", \"Topic2\", \"Topic2\", \"Topic2\", \"Topic3\", \"Topic3\", \"Topic3\", \"Topic3\", \"Topic3\", \"Topic3\", \"Topic3\", \"Topic3\", \"Topic3\", \"Topic3\", \"Topic3\", \"Topic3\", \"Topic3\", \"Topic3\", \"Topic3\", \"Topic3\", \"Topic3\", \"Topic3\", \"Topic3\", \"Topic3\", \"Topic3\", \"Topic3\", \"Topic3\", \"Topic3\", \"Topic3\", \"Topic3\", \"Topic3\", \"Topic3\", \"Topic3\", \"Topic3\", \"Topic3\", \"Topic3\", \"Topic3\", \"Topic3\", \"Topic3\", \"Topic3\", \"Topic3\", \"Topic3\", \"Topic3\", \"Topic3\", \"Topic3\", \"Topic3\", \"Topic3\", \"Topic3\", \"Topic3\", \"Topic3\", \"Topic3\", \"Topic3\", \"Topic3\", \"Topic3\", \"Topic3\", \"Topic3\", \"Topic3\", \"Topic3\", \"Topic3\", \"Topic3\", \"Topic3\", \"Topic3\", \"Topic3\", \"Topic3\", \"Topic3\", \"Topic3\", \"Topic3\", \"Topic3\", \"Topic3\", \"Topic4\", \"Topic4\", \"Topic4\", \"Topic4\", \"Topic4\", \"Topic4\", \"Topic4\", \"Topic4\", \"Topic4\", \"Topic4\", \"Topic4\", \"Topic4\", \"Topic4\", \"Topic4\", \"Topic4\", \"Topic4\", \"Topic4\", \"Topic4\", \"Topic4\", \"Topic4\", \"Topic4\", \"Topic4\", \"Topic4\", \"Topic4\", \"Topic4\", \"Topic4\", \"Topic4\", \"Topic4\", \"Topic4\", \"Topic4\", \"Topic4\", \"Topic4\", \"Topic4\", \"Topic4\", \"Topic4\", \"Topic4\", \"Topic4\", \"Topic4\", \"Topic4\", \"Topic4\", \"Topic4\", \"Topic4\", \"Topic4\", \"Topic4\", \"Topic4\", \"Topic4\", \"Topic4\", \"Topic4\", \"Topic4\", \"Topic4\", \"Topic4\", \"Topic4\", \"Topic4\", \"Topic4\", \"Topic4\", \"Topic4\", \"Topic4\", \"Topic4\", \"Topic4\", \"Topic4\", \"Topic4\", \"Topic4\", \"Topic4\", \"Topic4\", \"Topic4\", \"Topic4\", \"Topic5\", \"Topic5\", \"Topic5\", \"Topic5\", \"Topic5\", \"Topic5\", \"Topic5\", \"Topic5\", \"Topic5\", \"Topic5\", \"Topic5\", \"Topic5\", \"Topic5\", \"Topic5\", \"Topic5\", \"Topic5\", \"Topic5\", \"Topic5\", \"Topic5\", \"Topic5\", \"Topic5\", \"Topic5\", \"Topic5\", \"Topic5\", \"Topic5\", \"Topic5\", \"Topic5\", \"Topic5\", \"Topic5\", \"Topic5\", \"Topic5\", \"Topic5\", \"Topic5\", \"Topic5\", \"Topic5\", \"Topic5\", \"Topic5\", \"Topic5\", \"Topic5\", \"Topic5\", \"Topic5\", \"Topic5\", \"Topic5\", \"Topic5\", \"Topic5\", \"Topic5\", \"Topic5\", \"Topic5\", \"Topic5\", \"Topic5\", \"Topic5\", \"Topic5\", \"Topic5\", \"Topic5\", \"Topic5\", \"Topic5\", \"Topic5\", \"Topic5\", \"Topic5\", \"Topic5\", \"Topic5\", \"Topic5\", \"Topic5\", \"Topic5\", \"Topic5\", \"Topic5\"], \"Freq\": [89.0, 42.0, 75.0, 45.0, 115.0, 46.0, 31.0, 97.0, 36.0, 23.0, 20.0, 8.0, 26.0, 15.0, 8.0, 20.0, 11.0, 31.0, 13.0, 10.0, 16.0, 9.0, 5.0, 12.0, 8.0, 14.0, 13.0, 13.0, 14.0, 9.0, 6.4770612716674805, 38.76627731323242, 4.902222156524658, 4.902216911315918, 10.294065475463867, 3.3208467960357666, 7.283102035522461, 6.486992359161377, 2.530161142349243, 2.530156135559082, 2.5301554203033447, 2.5300776958465576, 2.529755115509033, 2.5283942222595215, 2.425832986831665, 69.17028045654297, 4.747086048126221, 4.115983486175537, 1.7394936084747314, 1.739486813545227, 1.739486813545227, 1.7394866943359375, 1.739484190940857, 1.7394845485687256, 1.7394828796386719, 1.7394824028015137, 1.73948073387146, 1.7394803762435913, 1.7394758462905884, 1.7394744157791138, 4.032057285308838, 10.44791030883789, 3.3193728923797607, 3.3225595951080322, 3.319474697113037, 3.3154985904693604, 5.606224536895752, 6.465932369232178, 4.108528137207031, 10.859578132629395, 6.995759963989258, 3.923811912536621, 9.378694534301758, 20.605194091796875, 35.459739685058594, 10.596126556396484, 15.241901397705078, 7.065949440002441, 15.644224166870117, 34.899444580078125, 8.890558242797852, 5.356788158416748, 5.258016109466553, 5.523697853088379, 11.23928451538086, 10.505937576293945, 10.369446754455566, 9.1000394821167, 6.4223151206970215, 9.084227561950684, 14.932998657226562, 10.083552360534668, 9.663925170898438, 8.125728607177734, 8.429647445678711, 7.9276509284973145, 9.836736679077148, 8.048659324645996, 7.860398292541504, 7.27720308303833, 7.095766544342041, 3.24981689453125, 6.3620285987854, 2.4792354106903076, 2.4792182445526123, 2.479206085205078, 2.479205369949341, 2.4770119190216064, 2.4737837314605713, 6.755038261413574, 7.2480316162109375, 4.805550575256348, 6.359158515930176, 4.031513690948486, 1.704485535621643, 1.7044819593429565, 1.7044789791107178, 1.704476237297058, 1.7044744491577148, 1.704472303390503, 1.704471230506897, 1.704471230506897, 1.7044706344604492, 1.7044684886932373, 1.704463005065918, 1.704459547996521, 1.7044597864151, 1.7044579982757568, 1.7044568061828613, 1.7044543027877808, 1.7044528722763062, 11.23944091796875, 52.65177917480469, 9.414459228515625, 14.661271095275879, 29.973432540893555, 3.8039462566375732, 4.230795860290527, 3.2517917156219482, 4.222961902618408, 6.117236614227295, 5.5801825523376465, 8.497882843017578, 11.38009262084961, 5.38833475112915, 3.564758062362671, 4.031932353973389, 40.882076263427734, 15.873077392578125, 9.28354549407959, 44.07583999633789, 10.097980499267578, 12.1665678024292, 14.39770221710205, 28.795207977294922, 13.067927360534668, 7.323929309844971, 9.035177230834961, 13.123068809509277, 8.305601119995117, 10.050025939941406, 5.516678810119629, 9.383111953735352, 7.0015177726745605, 6.6867241859436035, 5.797079563140869, 7.820030212402344, 4.731046676635742, 3.9756546020507812, 3.2265982627868652, 3.2242424488067627, 7.042680740356445, 5.533568382263184, 2.4583590030670166, 2.4583263397216797, 2.4582560062408447, 2.4573845863342285, 2.457411289215088, 2.4556257724761963, 3.9832847118377686, 6.215197563171387, 1.6901265382766724, 1.6901253461837769, 1.6901249885559082, 1.6901228427886963, 1.6901226043701172, 1.6901224851608276, 1.6901216506958008, 1.6901191473007202, 1.6901181936264038, 1.6901181936264038, 1.690116047859192, 1.6901144981384277, 1.6901124715805054, 1.6901108026504517, 1.6901094913482666, 9.386519432067871, 3.235853910446167, 15.654738426208496, 5.534383773803711, 4.772609710693359, 6.1361894607543945, 4.759603023529053, 8.92296314239502, 16.54834747314453, 6.772220134735107, 11.821038246154785, 7.051880836486816, 2.458606481552124, 2.4617416858673096, 2.4608047008514404, 6.593079566955566, 5.169283390045166, 9.452610969543457, 7.888617515563965, 9.106884002685547, 20.670347213745117, 8.270468711853027, 9.329629898071289, 11.129622459411621, 6.545690536499023, 14.934319496154785, 6.308399677276611, 8.888279914855957, 5.542514801025391, 9.383598327636719, 7.6162190437316895, 6.856719017028809, 6.124412536621094, 5.8861846923828125, 5.635056495666504, 5.978316307067871, 3.9427807331085205, 3.9388957023620605, 3.9348957538604736, 3.187049150466919, 3.18703031539917, 3.184450387954712, 3.1818435192108154, 3.1728436946868896, 2.428210973739624, 2.428192377090454, 2.428175926208496, 2.4271914958953857, 2.426790237426758, 2.426786422729492, 2.4259676933288574, 2.416759967803955, 2.345381498336792, 4.658412456512451, 5.032176494598389, 1.6693989038467407, 1.6693984270095825, 1.6693964004516602, 1.6693944931030273, 1.669387936592102, 1.6693848371505737, 1.6693838834762573, 1.6693804264068604, 1.6693673133850098, 1.6693657636642456, 3.821275472640991, 7.501489639282227, 29.809467315673828, 15.964803695678711, 6.383909225463867, 3.6978631019592285, 3.1844234466552734, 6.959810256958008, 3.1520020961761475, 8.511968612670898, 7.616739749908447, 16.458362579345703, 47.012451171875, 8.098484992980957, 14.602569580078125, 13.659547805786133, 3.9437952041625977, 3.9328956604003906, 8.512551307678223, 7.737735271453857, 5.087702751159668, 13.439082145690918, 6.17546272277832, 20.746557235717773, 10.946390151977539, 8.297621726989746, 7.9094929695129395, 7.208634376525879, 7.541055679321289, 7.523879528045654, 6.885199546813965, 7.704643249511719, 8.380104064941406, 7.847987174987793, 6.990251064300537, 5.753212928771973, 5.2865824699401855, 7.2416205406188965, 3.8248181343078613, 3.823255777359009, 3.080155372619629, 3.075378656387329, 2.358715057373047, 2.3582088947296143, 2.3575189113616943, 2.357330560684204, 2.355888605117798, 2.355618715286255, 2.3547637462615967, 3.8179218769073486, 1.6216195821762085, 1.621617317199707, 1.6216144561767578, 1.6216139793395996, 1.6216139793395996, 1.6216135025024414, 1.6216099262237549, 1.6216094493865967, 1.6216063499450684, 1.621601939201355, 1.6216005086898804, 1.621598482131958, 1.6215956211090088, 1.6215823888778687, 1.6215736865997314, 1.6214079856872559, 5.304486274719238, 4.474198818206787, 3.837249755859375, 2.933309555053711, 4.5696516036987305, 3.098217487335205, 2.3588054180145264, 2.3583974838256836, 4.485377311706543, 2.360203742980957, 2.3596134185791016, 2.3492259979248047, 4.560901165008545, 10.33416748046875, 9.487541198730469, 4.583017349243164, 12.041699409484863, 3.8549230098724365, 8.711517333984375, 3.849515676498413, 5.883749961853027, 7.702531814575195, 6.321115016937256, 10.947620391845703, 4.676633834838867, 10.855010986328125, 9.990666389465332, 6.687222003936768, 8.116732597351074, 5.202337265014648, 4.576176643371582, 4.816861152648926, 4.122560024261475, 3.967694044113159, 3.903134822845459, 3.841675043106079], \"Term\": [\"go\", \"to\", \"think\", \"good\", \"oh\", \"want\", \"look\", \"like\", \"thing\", \"mean\", \"howard\", \"share\", \"try\", \"love\", \"place\", \"work\", \"life\", \"live\", \"happen\", \"change\", \"night\", \"break\", \"hot\", \"help\", \"water\", \"ask\", \"eat\", \"home\", \"bert\", \"kick\", \"minute\", \"to\", \"dibba\", \"pair\", \"life\", \"energy\", \"party\", \"drink\", \"apart\", \"glove\", \"machine\", \"jerk\", \"conduct\", \"ignore\", \"respect\", \"go\", \"surprise\", \"wear\", \"diaper\", \"mate\", \"incapable\", \"servant\", \"uncomfortable\", \"forgive\", \"halloween\", \"contain\", \"possum\", \"wheel\", \"card\", \"candy\", \"ruin\", \"bert\", \"keep\", \"course\", \"house\", \"shoe\", \"spend\", \"run\", \"end\", \"howard\", \"kind\", \"family\", \"great\", \"right\", \"like\", \"room\", \"baby\", \"away\", \"come\", \"know\", \"bernadette\", \"stuart\", \"drive\", \"sorry\", \"leonard\", \"feel\", \"live\", \"let\", \"start\", \"tell\", \"oh\", \"okay\", \"yeah\", \"uh\", \"need\", \"sheldon\", \"think\", \"thing\", \"time\", \"get\", \"guy\", \"sexy\", \"wow\", \"till\", \"bother\", \"disappoint\", \"fly\", \"halley\", \"chess\", \"pull\", \"hurt\", \"funny\", \"move\", \"da\", \"frankenstein\", \"hubba\", \"evolution\", \"boat\", \"everybody\", \"pervert\", \"granite\", \"honestly\", \"blame\", \"sugar\", \"totally\", \"backup\", \"physical\", \"stooge\", \"tonight\", \"centre\", \"ticket\", \"love\", \"think\", \"home\", \"work\", \"want\", \"crazy\", \"pregnant\", \"floor\", \"probably\", \"win\", \"call\", \"hear\", \"talk\", \"idea\", \"pet\", \"meeting\", \"like\", \"tell\", \"leave\", \"know\", \"maybe\", \"people\", \"come\", \"oh\", \"thing\", \"believe\", \"little\", \"yeah\", \"say\", \"get\", \"friend\", \"right\", \"hey\", \"okay\", \"feel\", \"place\", \"interest\", \"proud\", \"buddy\", \"fountain\", \"water\", \"check\", \"ha\", \"miss\", \"board\", \"future\", \"square\", \"ridiculous\", \"colonel\", \"throw\", \"study\", \"peep\", \"marshmallow\", \"potato\", \"easter\", \"williams\", \"catch\", \"sport\", \"dvd\", \"intellectual\", \"progress\", \"motto\", \"awesome\", \"teenager\", \"x\", \"happen\", \"point\", \"try\", \"rock\", \"question\", \"have\", \"sex\", \"howard\", \"get\", \"ask\", \"time\", \"fine\", \"trunk\", \"kiss\", \"high\", \"apartment\", \"sure\", \"people\", \"guy\", \"sheldon\", \"know\", \"say\", \"hey\", \"yeah\", \"bernadette\", \"oh\", \"new\", \"okay\", \"start\", \"go\", \"right\", \"baby\", \"live\", \"good\", \"want\", \"line\", \"martian\", \"bar\", \"science\", \"enemy\", \"true\", \"quote\", \"lemon\", \"smart\", \"mr\", \"spring\", \"folder\", \"early\", \"song\", \"divorce\", \"common\", \"spock\", \"mad\", \"somebody\", \"single\", \"inside\", \"theo\", \"sassler\", \"secretly\", \"cuckoo\", \"smell\", \"shot\", \"ah\", \"drape\", \"weakness\", \"care\", \"change\", \"good\", \"mean\", \"kick\", \"choice\", \"building\", \"girl\", \"plan\", \"eat\", \"help\", \"look\", \"oh\", \"bad\", \"thing\", \"need\", \"job\", \"face\", \"new\", \"night\", \"hang\", \"okay\", \"yes\", \"know\", \"yeah\", \"uh\", \"let\", \"say\", \"sheldon\", \"baby\", \"feel\", \"right\", \"like\", \"think\", \"get\", \"amy\", \"hot\", \"share\", \"breathe\", \"effort\", \"uuh\", \"con\", \"whoa\", \"grab\", \"awful\", \"damn\", \"challenging\", \"accept\", \"van\", \"comic\", \"wh\", \"body\", \"mrs\", \"downstairs\", \"boring\", \"petrescu\", \"budapest\", \"superhero\", \"price\", \"tootsie\", \"develop\", \"act\", \"bagel\", \"silly\", \"chip\", \"celebrity\", \"flag\", \"roll\", \"will\", \"tub\", \"deal\", \"wine\", \"excited\", \"experience\", \"learn\", \"dance\", \"wobble\", \"trouble\", \"break\", \"live\", \"leonard\", \"sleep\", \"okay\", \"world\", \"look\", \"big\", \"penny\", \"hey\", \"little\", \"go\", \"ask\", \"know\", \"oh\", \"get\", \"like\", \"amy\", \"find\", \"uh\", \"sheldon\", \"time\", \"tell\", \"year\"], \"Total\": [89.0, 42.0, 75.0, 45.0, 115.0, 46.0, 31.0, 97.0, 36.0, 23.0, 20.0, 8.0, 26.0, 15.0, 8.0, 20.0, 11.0, 31.0, 13.0, 10.0, 16.0, 9.0, 5.0, 12.0, 8.0, 14.0, 13.0, 13.0, 14.0, 9.0, 7.091217994689941, 42.57073974609375, 5.510031700134277, 5.510031700134277, 11.79807186126709, 3.9286630153656006, 8.64130973815918, 7.828771114349365, 3.1379778385162354, 3.1379780769348145, 3.1379783153533936, 3.137974739074707, 3.137970447540283, 3.1379287242889404, 3.135016918182373, 89.84831237792969, 6.277824401855469, 5.49420690536499, 2.347294330596924, 2.347294330596924, 2.347294330596924, 2.3472940921783447, 2.3472938537597656, 2.3472940921783447, 2.3472940921783447, 2.3472940921783447, 2.3472938537597656, 2.3472938537597656, 2.3472936153411865, 2.3472938537597656, 5.475051403045654, 14.824158668518066, 4.665729522705078, 4.696966171264648, 4.696847438812256, 4.7029805183410645, 8.54724407196045, 10.120674133300781, 6.262179851531982, 20.276060104370117, 12.468076705932617, 6.229459285736084, 17.865787506103516, 47.3450927734375, 97.70262145996094, 20.990991592407227, 34.094581604003906, 13.234930992126465, 40.40443420410156, 131.2471923828125, 18.685293197631836, 9.263847351074219, 9.32591724395752, 10.119734764099121, 31.414777755737305, 30.077152252197266, 31.372329711914062, 26.909162521362305, 13.963508605957031, 33.96937561035156, 115.66564178466797, 51.139339447021484, 47.757789611816406, 29.140892028808594, 33.748512268066406, 29.929115295410156, 75.13166809082031, 36.25045394897461, 32.29922866821289, 47.55304718017578, 23.20184326171875, 3.8649234771728516, 7.7229719161987305, 3.090238571166992, 3.090238332748413, 3.090238094329834, 3.090237855911255, 3.090217113494873, 3.0901927947998047, 8.501923561096191, 9.276249885559082, 6.151756286621094, 8.513589859008789, 5.398662567138672, 2.315467596054077, 2.3154678344726562, 2.3154678344726562, 2.315467596054077, 2.315467357635498, 2.315467596054077, 2.315467357635498, 2.315467596054077, 2.315467596054077, 2.315467357635498, 2.315467357635498, 2.315467119216919, 2.315467357635498, 2.315467119216919, 2.315467357635498, 2.315467357635498, 2.315467119216919, 15.415491104125977, 75.13166809082031, 13.108030319213867, 20.87968635559082, 46.43487548828125, 5.365996360778809, 6.124077796936035, 4.6332292556762695, 6.194272994995117, 9.311630249023438, 8.422414779663086, 13.938271522521973, 19.421262741088867, 8.504715919494629, 5.387351036071777, 6.220890045166016, 97.70262145996094, 33.96937561035156, 17.76492691040039, 131.2471923828125, 20.868425369262695, 29.197324752807617, 40.40443420410156, 115.66564178466797, 36.25045394897461, 16.132003784179688, 23.69971466064453, 47.757789611816406, 26.157609939575195, 47.55304718017578, 11.531096458435059, 47.3450927734375, 34.40048599243164, 51.139339447021484, 30.077152252197266, 8.447712898254395, 5.375752925872803, 4.607532978057861, 3.838899850845337, 3.8389148712158203, 8.437959671020508, 6.8808794021606445, 3.0706560611724854, 3.0706565380096436, 3.0706560611724854, 3.0706443786621094, 3.070683717727661, 3.0707297325134277, 5.365900039672852, 8.462483406066895, 2.302412986755371, 2.302412748336792, 2.302412509918213, 2.302412748336792, 2.302412748336792, 2.302412748336792, 2.302412748336792, 2.302412986755371, 2.302412748336792, 2.302412748336792, 2.302412748336792, 2.302412748336792, 2.302412748336792, 2.302412748336792, 2.302412748336792, 13.099729537963867, 4.613511562347412, 26.162517547607422, 8.39860725402832, 7.699584007263184, 11.543505668640137, 8.47459602355957, 20.276060104370117, 47.55304718017578, 14.47160530090332, 32.29922866821289, 16.062829971313477, 3.8295230865478516, 3.845397710800171, 3.8454062938690186, 15.398181915283203, 11.537939071655273, 29.197324752807617, 23.20184326171875, 29.929115295410156, 131.2471923828125, 26.157609939575195, 34.40048599243164, 47.757789611816406, 18.685293197631836, 115.66564178466797, 19.131954193115234, 51.139339447021484, 13.963508605957031, 89.84831237792969, 47.3450927734375, 34.094581604003906, 31.372329711914062, 45.03573226928711, 46.43487548828125, 6.84676456451416, 4.560091495513916, 4.560154438018799, 4.560480117797852, 3.8012278079986572, 3.8012278079986572, 3.80127215385437, 3.8012516498565674, 3.80087947845459, 3.042402982711792, 3.042402744293213, 3.042403221130371, 3.0424442291259766, 3.0424320697784424, 3.0424320697784424, 3.042496681213379, 3.0425829887390137, 3.043339967727661, 6.094621658325195, 6.851343154907227, 2.283576726913452, 2.2835769653320312, 2.283576726913452, 2.2835772037506104, 2.2835769653320312, 2.2835769653320312, 2.2835772037506104, 2.2835769653320312, 2.2835772037506104, 2.2835769653320312, 5.352298736572266, 10.734099388122559, 45.03573226928711, 23.702836990356445, 9.139172554016113, 5.3443193435668945, 4.5695295333862305, 10.636406898498535, 4.570998191833496, 13.781160354614258, 12.220168113708496, 31.738136291503906, 115.66564178466797, 15.978791236877441, 36.25045394897461, 33.748512268066406, 6.109694957733154, 6.109381675720215, 19.131954193115234, 16.783777236938477, 9.05083179473877, 51.139339447021484, 13.659523010253906, 131.2471923828125, 47.757789611816406, 29.140892028808594, 26.909162521362305, 26.157609939575195, 29.929115295410156, 34.094581604003906, 30.077152252197266, 47.3450927734375, 97.70262145996094, 75.13166809082031, 47.55304718017578, 26.8287353515625, 5.926802635192871, 8.148700714111328, 4.451900005340576, 4.451885223388672, 3.7150275707244873, 3.7153608798980713, 2.9772398471832275, 2.9772658348083496, 2.9773049354553223, 2.9773108959198, 2.977372169494629, 2.9773707389831543, 2.9774670600891113, 5.220455646514893, 2.2401351928710938, 2.2401351928710938, 2.240135431289673, 2.240135669708252, 2.240135669708252, 2.240135669708252, 2.240135669708252, 2.240135669708252, 2.240135908126831, 2.24013614654541, 2.24013614654541, 2.24013614654541, 2.24013614654541, 2.2401371002197266, 2.2401371002197266, 2.2401459217071533, 7.468747138977051, 6.742107391357422, 5.98777961730957, 4.478804588317871, 8.303443908691406, 5.241320610046387, 3.736093044281006, 3.7361035346984863, 9.063028335571289, 3.7519350051879883, 3.7677998542785645, 3.7526392936706543, 9.741862297058105, 31.372329711914062, 31.414777755737305, 10.706653594970703, 51.139339447021484, 8.317593574523926, 31.738136291503906, 9.175507545471191, 20.67363739013672, 34.40048599243164, 23.69971466064453, 89.84831237792969, 14.47160530090332, 131.2471923828125, 115.66564178466797, 47.55304718017578, 97.70262145996094, 26.8287353515625, 18.382183074951172, 29.140892028808594, 29.929115295410156, 32.29922866821289, 33.96937561035156, 12.956270217895508], \"loglift\": [30.0, 29.0, 28.0, 27.0, 26.0, 25.0, 24.0, 23.0, 22.0, 21.0, 20.0, 19.0, 18.0, 17.0, 16.0, 15.0, 14.0, 13.0, 12.0, 11.0, 10.0, 9.0, 8.0, 7.0, 6.0, 5.0, 4.0, 3.0, 2.0, 1.0, 1.3324999809265137, 1.3293999433517456, 1.3062000274658203, 1.3062000274658203, 1.2867000102996826, 1.2549999952316284, 1.2520999908447266, 1.2350000143051147, 1.207800030708313, 1.2077000141143799, 1.2077000141143799, 1.2077000141143799, 1.2075999975204468, 1.2071000337600708, 1.166599988937378, 1.1614999771118164, 1.1435999870300293, 1.1341999769210815, 1.1233999729156494, 1.1233999729156494, 1.1233999729156494, 1.1233999729156494, 1.1233999729156494, 1.1233999729156494, 1.1233999729156494, 1.1233999729156494, 1.1233999729156494, 1.1233999729156494, 1.1233999729156494, 1.1233999729156494, 1.1171000003814697, 1.073199987411499, 1.0825999975204468, 1.0769000053405762, 1.0759999752044678, 1.0735000371932983, 1.0012999773025513, 0.9750000238418579, 1.0016000270843506, 0.7986999750137329, 0.8452000021934509, 0.9607999920845032, 0.7785999774932861, 0.5910999774932861, 0.40950000286102295, 0.7394000291824341, 0.6179999709129333, 0.7954999804496765, 0.4742000102996826, 0.09839999675750732, 0.6802999973297119, 0.8752999901771545, 0.8500000238418579, 0.8176000118255615, 0.3952000141143799, 0.37119999527931213, 0.3160000145435333, 0.33889999985694885, 0.646399974822998, 0.10409999638795853, -0.6241000294685364, -0.20059999823570251, -0.17470000684261322, 0.14589999616146088, 0.03590000048279762, 0.09459999948740005, -0.6100999712944031, -0.08190000057220459, 0.009800000116229057, -0.45410001277923584, 0.23829999566078186, 1.3065999746322632, 1.2861000299453735, 1.2596999406814575, 1.2596999406814575, 1.2596999406814575, 1.2596999406814575, 1.2588000297546387, 1.2575000524520874, 1.25, 1.233199954032898, 1.2330000400543213, 1.1881999969482422, 1.187999963760376, 1.1735999584197998, 1.1735999584197998, 1.1735999584197998, 1.1735999584197998, 1.1735999584197998, 1.1735999584197998, 1.1735999584197998, 1.1735999584197998, 1.1735999584197998, 1.1735999584197998, 1.1735999584197998, 1.1735999584197998, 1.1735999584197998, 1.1735999584197998, 1.1735999584197998, 1.1735999584197998, 1.1735999584197998, 1.1640000343322754, 1.124400019645691, 1.1490000486373901, 1.1263999938964844, 1.042199969291687, 1.1359000205993652, 1.1101000308990479, 1.1259000301361084, 1.0968999862670898, 1.0598000288009644, 1.0683000087738037, 0.9850999712944031, 0.9455000162124634, 1.0235999822616577, 1.0670000314712524, 1.0463000535964966, 0.6086999773979187, 0.7190999984741211, 0.8309999704360962, 0.3887999951839447, 0.7541000247001648, 0.6046000123023987, 0.4481000006198883, 0.08950000256299973, 0.45969998836517334, 0.6902999877929688, 0.5156000256538391, 0.1881999969482422, 0.3328000009059906, -0.07429999858140945, 0.7426999807357788, -0.13860000669956207, -0.1120000034570694, -0.5544999837875366, -0.1664000004529953, 1.5614999532699585, 1.5109000205993652, 1.4911999702453613, 1.464900016784668, 1.4642000198364258, 1.457900047302246, 1.420799970626831, 1.4163000583648682, 1.4163000583648682, 1.416200041770935, 1.4158999919891357, 1.4158999919891357, 1.4150999784469604, 1.3407000303268433, 1.3300000429153442, 1.3294999599456787, 1.3294999599456787, 1.3294999599456787, 1.3294999599456787, 1.3294999599456787, 1.3294999599456787, 1.3294999599456787, 1.3294999599456787, 1.3294999599456787, 1.3294999599456787, 1.3294999599456787, 1.3294999599456787, 1.3294999599456787, 1.3294999599456787, 1.3294999599456787, 1.305400013923645, 1.284000039100647, 1.125100016593933, 1.22160005569458, 1.1604000329971313, 1.0068000555038452, 1.0618000030517578, 0.8179000020027161, 0.5831000208854675, 0.8792999982833862, 0.6334999799728394, 0.815500020980835, 1.1955000162124634, 1.1927000284194946, 1.1922999620437622, 0.7904000282287598, 0.8357999920845032, 0.5109000205993652, 0.5598999857902527, 0.4489000141620636, -0.20970000326633453, 0.487199991941452, 0.33379998803138733, 0.18209999799728394, 0.5896999835968018, -0.4083999991416931, 0.52920001745224, -0.11110000312328339, 0.7146999835968018, -0.6205000281333923, -0.18850000202655792, 0.03480000048875809, 0.004999999888241291, -0.3962000012397766, -0.47040000557899475, 1.5383000373840332, 1.52839994430542, 1.527400016784668, 1.5263999700546265, 1.4976999759674072, 1.4976999759674072, 1.4967999458312988, 1.496000051498413, 1.493299961090088, 1.4484000205993652, 1.4484000205993652, 1.4484000205993652, 1.4479999542236328, 1.4478000402450562, 1.4478000402450562, 1.4473999738693237, 1.443600058555603, 1.4134000539779663, 1.4052000045776367, 1.3653000593185425, 1.3605999946594238, 1.3605999946594238, 1.3605999946594238, 1.3605999946594238, 1.3605999946594238, 1.3605999946594238, 1.3605999946594238, 1.3605999946594238, 1.3605999946594238, 1.3605999946594238, 1.3370000123977661, 1.315600037574768, 1.261299967765808, 1.2786999940872192, 1.3150999546051025, 1.3056000471115112, 1.3128000497817993, 1.2497999668121338, 1.3021999597549438, 1.1921000480651855, 1.201200008392334, 1.017199993133545, 0.7735999822616577, 0.9943000078201294, 0.7645999789237976, 0.7694000005722046, 1.236199975013733, 1.2333999872207642, 0.8640999794006348, 0.8996000289916992, 1.0979000329971313, 0.3375000059604645, 0.8799999952316284, -0.17080000042915344, 0.20080000162124634, 0.41769999265670776, 0.4494999945163727, 0.38499999046325684, 0.2953999936580658, 0.16279999911785126, 0.19949999451637268, -0.14169999957084656, -0.7821999788284302, -0.585099995136261, -0.2433999925851822, 0.13420000672340393, 1.7853000164031982, 1.781599998474121, 1.7477999925613403, 1.7474000453948975, 1.7122000455856323, 1.7106000185012817, 1.6668000221252441, 1.6664999723434448, 1.666200041770935, 1.666100025177002, 1.6655000448226929, 1.6654000282287598, 1.6649999618530273, 1.5867999792099, 1.5765000581741333, 1.5765000581741333, 1.5765000581741333, 1.5765000581741333, 1.5765000581741333, 1.5765000581741333, 1.5765000581741333, 1.5765000581741333, 1.5765000581741333, 1.5765000581741333, 1.5765000581741333, 1.5765000581741333, 1.5765000581741333, 1.5765000581741333, 1.5765000581741333, 1.5764000415802002, 1.5575000047683716, 1.4895999431610107, 1.454699993133545, 1.4764000177383423, 1.30239999294281, 1.373900055885315, 1.4397000074386597, 1.4395999908447266, 1.1963000297546387, 1.4361000061035156, 1.4315999746322632, 1.4313000440597534, 1.1406999826431274, 0.7892000079154968, 0.7023000121116638, 1.0511000156402588, 0.45350000262260437, 1.1305999755859375, 0.6068000197410583, 1.031000018119812, 0.6430000066757202, 0.40310001373291016, 0.5781000256538391, -0.2054000049829483, 0.7699999809265137, -0.5928000211715698, -0.5493999719619751, -0.06199999898672104, -0.5884000062942505, 0.25929999351501465, 0.5091000199317932, 0.09960000216960907, -0.08269999921321869, -0.1972000002861023, -0.2639999985694885, 0.6840000152587891], \"logprob\": [30.0, 29.0, 28.0, 27.0, 26.0, 25.0, 24.0, 23.0, 22.0, 21.0, 20.0, 19.0, 18.0, 17.0, 16.0, 15.0, 14.0, 13.0, 12.0, 11.0, 10.0, 9.0, 8.0, 7.0, 6.0, 5.0, 4.0, 3.0, 2.0, 1.0, -5.626299858093262, -3.8369998931884766, -5.904799938201904, -5.904799938201904, -5.163000106811523, -6.294300079345703, -5.508999824523926, -5.62470006942749, -6.566199779510498, -6.566199779510498, -6.566199779510498, -6.566299915313721, -6.566400051116943, -6.56689977645874, -6.608399868011475, -3.257999897003174, -5.936999797821045, -6.079699993133545, -6.940899848937988, -6.940899848937988, -6.940899848937988, -6.940899848937988, -6.940899848937988, -6.940899848937988, -6.940899848937988, -6.940899848937988, -6.940899848937988, -6.940899848937988, -6.940899848937988, -6.940899848937988, -6.100299835205078, -5.148099899291992, -6.2947998046875, -6.293799877166748, -6.2947001457214355, -6.295899868011475, -5.770699977874756, -5.627999782562256, -6.081500053405762, -5.109499931335449, -5.549200057983398, -6.127500057220459, -5.256100177764893, -4.468999862670898, -3.926100015640259, -5.133999824523926, -4.770500183105469, -5.5391998291015625, -4.7444000244140625, -3.9421000480651855, -5.309500217437744, -5.816199779510498, -5.834799766540527, -5.7855000495910645, -5.075099945068359, -5.142600059509277, -5.155700206756592, -5.286300182342529, -5.634799957275391, -5.288000106811523, -4.790999889373779, -5.183599948883057, -5.226099967956543, -5.399499893188477, -5.362800121307373, -5.424200057983398, -5.208399772644043, -5.408999919891357, -5.432700157165527, -5.509799957275391, -5.534999847412109, -6.258999824523926, -5.587299823760986, -6.529699802398682, -6.529699802398682, -6.529699802398682, -6.529699802398682, -6.530600070953369, -6.531899929046631, -5.527299880981445, -5.456900119781494, -5.867800235748291, -5.587699890136719, -6.043499946594238, -6.904399871826172, -6.904399871826172, -6.904399871826172, -6.904399871826172, -6.904399871826172, -6.904399871826172, -6.904399871826172, -6.904399871826172, -6.904399871826172, -6.904399871826172, -6.904399871826172, -6.904399871826172, -6.904399871826172, -6.904399871826172, -6.904399871826172, -6.904399871826172, -6.904399871826172, -5.018199920654297, -3.473900079727173, -5.195400238037109, -4.752399921417236, -4.037300109863281, -6.101600170135498, -5.995200157165527, -6.258399963378906, -5.997099876403809, -5.626500129699707, -5.718400001525879, -5.297800064086914, -5.00570011138916, -5.753399848937988, -6.166500091552734, -6.043399810791016, -3.726900100708008, -4.672999858856201, -5.209400177001953, -3.651700019836426, -5.12529993057251, -4.938899993896484, -4.770500183105469, -4.077400207519531, -4.867499828338623, -5.446499824523926, -5.236499786376953, -4.8632001876831055, -5.320700168609619, -5.130000114440918, -5.729800224304199, -5.198699951171875, -5.491499900817871, -5.537499904632568, -5.680300235748291, -5.2221999168396, -5.724800109863281, -5.89870023727417, -6.107500076293945, -6.1082000732421875, -5.326900005340576, -5.5680999755859375, -6.37939977645874, -6.37939977645874, -6.37939977645874, -6.379799842834473, -6.379799842834473, -6.380499839782715, -5.8968000411987305, -5.451900005340576, -6.7540998458862305, -6.7540998458862305, -6.7540998458862305, -6.7540998458862305, -6.7540998458862305, -6.7540998458862305, -6.7540998458862305, -6.7540998458862305, -6.7540998458862305, -6.7540998458862305, -6.7540998458862305, -6.7540998458862305, -6.7540998458862305, -6.7540998458862305, -6.7540998458862305, -5.039599895477295, -6.104599952697754, -4.52810001373291, -5.56790018081665, -5.716000080108643, -5.464700222015381, -5.718699932098389, -5.0903000831604, -4.472599983215332, -5.366099834442139, -4.809000015258789, -5.3256001472473145, -6.379300117492676, -6.377999782562256, -6.378399848937988, -5.392899990081787, -5.636199951171875, -5.032599925994873, -5.213500022888184, -5.069900035858154, -4.250199794769287, -5.166200160980225, -5.0457000732421875, -4.86929988861084, -5.400100231170654, -4.575200080871582, -5.436999797821045, -5.094200134277344, -5.566500186920166, -5.039899826049805, -5.248600006103516, -5.353700160980225, -5.466599941253662, -5.50629997253418, -5.549900054931641, -5.45550012588501, -5.871799945831299, -5.872799873352051, -5.873799800872803, -6.08459997177124, -6.08459997177124, -6.085400104522705, -6.08620023727417, -6.089099884033203, -6.356500148773193, -6.356500148773193, -6.356500148773193, -6.356900215148926, -6.357100009918213, -6.357100009918213, -6.357500076293945, -6.361299991607666, -6.391200065612793, -5.704999923706055, -5.627799987792969, -6.731200218200684, -6.731200218200684, -6.731200218200684, -6.731200218200684, -6.731200218200684, -6.731200218200684, -6.731200218200684, -6.731200218200684, -6.731200218200684, -6.731200218200684, -5.90310001373291, -5.228600025177002, -3.848900079727173, -4.473299980163574, -5.389900207519531, -5.9359002113342285, -6.085400104522705, -5.303500175476074, -6.095600128173828, -5.102200031280518, -5.2133002281188965, -4.442800045013428, -3.3933000564575195, -5.1519999504089355, -4.5625, -4.629199981689453, -5.871500015258789, -5.874300003051758, -5.102099895477295, -5.1975998878479, -5.6168999671936035, -4.645500183105469, -5.423099994659424, -4.211299896240234, -4.8506999015808105, -5.127699851989746, -5.175600051879883, -5.268400192260742, -5.223299980163574, -5.225599765777588, -5.314300060272217, -5.201900005340576, -5.117800235748291, -5.1834001541137695, -5.299200057983398, -5.493899822235107, -5.352799892425537, -5.038099765777588, -5.676400184631348, -5.676799774169922, -5.89300012588501, -5.894499778747559, -6.159800052642822, -6.159999847412109, -6.160299777984619, -6.160399913787842, -6.160999774932861, -6.161099910736084, -6.161499977111816, -5.678199768066406, -6.5345001220703125, -6.5345001220703125, -6.5345001220703125, -6.5345001220703125, -6.5345001220703125, -6.5345001220703125, -6.5345001220703125, -6.5345001220703125, -6.5345001220703125, -6.5345001220703125, -6.5345001220703125, -6.5345001220703125, -6.5345001220703125, -6.5345001220703125, -6.5345001220703125, -6.5346999168396, -5.349400043487549, -5.519599914550781, -5.6732001304626465, -5.941800117492676, -5.498499870300293, -5.8871002197265625, -6.159800052642822, -6.159999847412109, -5.517099857330322, -6.159200191497803, -6.15939998626709, -6.163899898529053, -5.500400066375732, -4.682499885559082, -4.76800012588501, -5.49560022354126, -4.529600143432617, -5.668600082397461, -4.853300094604492, -5.670000076293945, -5.245800018310547, -4.976399898529053, -5.173999786376953, -4.624800205230713, -5.475399971008301, -4.633299827575684, -4.716300010681152, -5.117700099945068, -4.923999786376953, -5.368800163269043, -5.497099876403809, -5.445799827575684, -5.601500034332275, -5.639800071716309, -5.656199932098389, -5.671999931335449]}, \"token.table\": {\"Topic\": [5, 5, 4, 1, 2, 3, 4, 5, 1, 1, 2, 3, 5, 1, 3, 5, 1, 2, 4, 3, 5, 1, 2, 3, 4, 5, 2, 1, 3, 4, 5, 5, 4, 2, 3, 4, 5, 1, 2, 3, 4, 1, 3, 5, 1, 2, 5, 2, 3, 2, 5, 5, 2, 4, 5, 5, 5, 3, 3, 4, 2, 4, 5, 1, 1, 1, 4, 3, 5, 2, 5, 1, 4, 3, 5, 2, 5, 2, 4, 3, 4, 1, 2, 3, 4, 5, 3, 5, 4, 5, 1, 1, 1, 3, 2, 5, 4, 2, 4, 5, 2, 5, 1, 2, 5, 5, 1, 1, 2, 4, 5, 4, 1, 5, 1, 2, 3, 5, 3, 4, 3, 1, 3, 4, 5, 5, 1, 2, 3, 4, 1, 2, 2, 4, 5, 4, 5, 2, 4, 1, 4, 1, 2, 3, 4, 5, 1, 2, 3, 4, 5, 1, 2, 3, 5, 2, 3, 5, 2, 3, 2, 4, 1, 3, 2, 1, 2, 3, 4, 5, 2, 5, 3, 1, 2, 3, 4, 5, 3, 4, 5, 1, 1, 3, 5, 1, 2, 3, 4, 5, 5, 2, 1, 2, 3, 4, 5, 1, 2, 3, 4, 5, 3, 2, 1, 3, 4, 5, 1, 2, 3, 4, 2, 3, 4, 1, 2, 3, 5, 1, 3, 4, 1, 2, 3, 4, 5, 2, 3, 2, 3, 4, 2, 5, 1, 3, 1, 3, 2, 2, 3, 1, 2, 3, 4, 1, 1, 4, 3, 3, 1, 2, 4, 1, 5, 3, 4, 1, 2, 3, 4, 2, 3, 1, 2, 3, 4, 5, 1, 2, 3, 5, 1, 2, 4, 5, 4, 1, 2, 3, 4, 5, 1, 2, 3, 4, 5, 1, 4, 1, 2, 3, 4, 5, 4, 1, 2, 3, 4, 5, 1, 2, 3, 4, 5, 2, 3, 4, 5, 2, 4, 1, 4, 3, 4, 1, 1, 2, 3, 4, 1, 2, 3, 4, 5, 1, 2, 1, 3, 3, 1, 2, 4, 4, 5, 1, 2, 3, 4, 5, 1, 2, 3, 4, 5, 1, 4, 5, 1, 2, 3, 4, 5, 1, 2, 3, 4, 5, 1, 1, 4, 3, 1, 2, 3, 5, 1, 2, 3, 4, 5, 2, 2, 3, 5, 5, 2, 3, 3, 4, 2, 3, 1, 3, 2, 5, 5, 1, 2, 4, 3, 3, 2, 3, 2, 3, 4, 1, 3, 1, 2, 3, 4, 5, 3, 4, 5, 1, 4, 5, 1, 2, 3, 4, 1, 4, 1, 2, 4, 5, 4, 1, 2, 3, 4, 4, 4, 1, 2, 3, 2, 5, 1, 2, 3, 4, 5, 1, 2, 4, 5, 3, 4, 1, 2, 5, 4, 4, 2, 4, 4, 1, 2, 4, 1, 2, 5, 4, 3, 4, 3, 1, 3, 4, 5, 2, 1, 2, 5, 3, 2, 5, 1, 2, 3, 4, 1, 2, 1, 2, 3, 5, 3, 1, 2, 4, 5, 4, 1, 2, 4, 1, 2, 3, 4, 2, 3, 2, 2, 1, 2, 3, 4, 5, 1, 3, 2, 5, 2, 2, 5, 4, 3, 4, 1, 2, 3, 4, 5, 4, 5, 1, 2, 3, 4, 5, 1, 5, 5, 1, 2, 3, 4, 3, 4, 4, 1, 2, 5, 1, 5, 3, 5, 3, 1, 2, 3, 3, 4, 5, 1, 5, 1, 2, 3, 4, 1, 2, 3, 4, 5, 2, 4, 3, 1, 2, 3, 4, 5, 1, 2, 3, 4, 5, 3, 4, 5], \"Freq\": [0.6717336177825928, 0.892802894115448, 0.8758189678192139, 0.26091426610946655, 0.1490938663482666, 0.18636733293533325, 0.2236407995223999, 0.18636733293533325, 0.9560297131538391, 0.19482819736003876, 0.19482819736003876, 0.4545991122722626, 0.1298854649066925, 0.2073024958372116, 0.4837058484554291, 0.34550416469573975, 0.5289034247398376, 0.15111525356769562, 0.22667288780212402, 0.8686539530754089, 0.6717484593391418, 0.4399526119232178, 0.08799052238464355, 0.20531120896339417, 0.23464138805866241, 0.058660347014665604, 0.8637565970420837, 0.1251659095287323, 0.18774886429309845, 0.5006636381149292, 0.18774886429309845, 0.892802894115448, 0.877163290977478, 0.4339200556278229, 0.30994290113449097, 0.1239771619439125, 0.06198858097195625, 0.48166224360466003, 0.1070360541343689, 0.37462618947029114, 0.05351802706718445, 0.6745745539665222, 0.13491490483283997, 0.13491490483283997, 0.4359431862831116, 0.1089857965707779, 0.4359431862831116, 0.8637564182281494, 0.651326596736908, 0.8637564182281494, 0.8928032517433167, 0.8928030729293823, 0.647199273109436, 0.513248860836029, 0.513248860836029, 0.8984927535057068, 0.8928030729293823, 0.7814738750457764, 0.21884091198444366, 0.6565227508544922, 0.7123847603797913, 0.11873079836368561, 0.23746159672737122, 0.8520449995994568, 0.8520451188087463, 0.1868356168270111, 0.7473424673080444, 0.8686539530754089, 0.8927989602088928, 0.863756537437439, 0.6717332601547241, 0.2794831693172455, 0.7452884316444397, 0.8719815611839294, 0.1453302651643753, 0.6472088098526001, 0.8928024768829346, 0.18711456656455994, 0.7484582662582397, 0.745448112487793, 0.18636202812194824, 0.3959961533546448, 0.3464966118335724, 0.1237487941980362, 0.0989990383386612, 0.0247497595846653, 0.19155415892601013, 0.7662166357040405, 0.6573548913002014, 0.8074585795402527, 0.9560319185256958, 0.852044939994812, 0.6387101411819458, 0.21290338039398193, 0.7454347014427185, 0.18635867536067963, 0.8758189678192139, 0.7409242391586304, 0.1852310597896576, 0.671747088432312, 0.2665291428565979, 0.5330582857131958, 0.12043195962905884, 0.24086391925811768, 0.6021597981452942, 0.892802894115448, 0.8520448207855225, 0.9074357748031616, 0.6471993327140808, 0.6573688387870789, 0.8928030729293823, 0.8758188486099243, 0.7664037942886353, 0.1277339607477188, 0.5361402630805969, 0.21445611119270325, 0.10722805559635162, 0.10722805559635162, 0.8686539530754089, 0.6573662161827087, 0.8686539530754089, 0.21768848598003387, 0.07256282866001129, 0.6530654430389404, 0.07256282866001129, 0.8984957337379456, 0.638755202293396, 0.159688800573349, 0.159688800573349, 0.7892186641693115, 0.7636185884475708, 0.863756537437439, 0.8637563586235046, 0.2676592767238617, 0.5353185534477234, 0.267658531665802, 0.535317063331604, 0.32736536860466003, 0.6547307372093201, 0.642110288143158, 0.321055144071579, 0.365726113319397, 0.19948697090148926, 0.09974348545074463, 0.2327347993850708, 0.09974348545074463, 0.21760201454162598, 0.27200251817703247, 0.21760201454162598, 0.054400503635406494, 0.27200251817703247, 0.1867665946483612, 0.1867665946483612, 0.43578872084617615, 0.24902212619781494, 0.1338912695646286, 0.1338912695646286, 0.6694563031196594, 0.6474965810775757, 0.2158321887254715, 0.6471993923187256, 0.6573750376701355, 0.852044939994812, 0.7814708352088928, 0.8637564182281494, 0.08672202378511429, 0.5203321576118469, 0.08672202378511429, 0.26016607880592346, 0.08672202378511429, 0.8127760291099548, 0.16255520284175873, 0.6513291001319885, 0.14720402657985687, 0.21029146015644073, 0.3574954867362976, 0.14720402657985687, 0.14720402657985687, 0.18803341686725616, 0.6581169962882996, 0.09401670843362808, 0.9560295939445496, 0.7679610252380371, 0.10016882419586182, 0.12242856621742249, 0.1110229566693306, 0.04440918192267418, 0.13322754204273224, 0.6661376953125, 0.04440918192267418, 0.6717572808265686, 0.863756537437439, 0.5037561058998108, 0.16791871190071106, 0.055972903966903687, 0.11194580793380737, 0.11194580793380737, 0.3017001748085022, 0.2155001163482666, 0.34480020403862, 0.086200051009655, 0.086200051009655, 0.651326596736908, 0.6472037434577942, 0.852044939994812, 0.11048708111047745, 0.5524353981018066, 0.33146125078201294, 0.15267491340637207, 0.07633745670318604, 0.6870371103286743, 0.07633745670318604, 0.3465151786804199, 0.5197727680206299, 0.08662879467010498, 0.21523472666740417, 0.573959231376648, 0.071744903922081, 0.071744903922081, 0.0818319320678711, 0.24549581110477448, 0.6546554565429688, 0.17441613972187042, 0.20348550379276276, 0.26162421703338623, 0.14534679055213928, 0.2325548529624939, 0.26005053520202637, 0.5201010704040527, 0.686601996421814, 0.0762891098856926, 0.1525782197713852, 0.8637564182281494, 0.8436251878738403, 0.6387262940406799, 0.2129087746143341, 0.5425117015838623, 0.44387322664260864, 0.8637563586235046, 0.754615306854248, 0.21560436487197876, 0.1175818219780922, 0.5879091024398804, 0.1175818219780922, 0.1175818219780922, 0.9560446739196777, 0.8520448207855225, 0.8758190274238586, 0.8686539530754089, 0.9301022887229919, 0.9560306668281555, 0.32734858989715576, 0.6546971797943115, 0.6429862380027771, 0.21432875096797943, 0.2188381850719452, 0.656514585018158, 0.5614338517189026, 0.16040965914726257, 0.08020482957363129, 0.24061450362205505, 0.2600511312484741, 0.5201022624969482, 0.26667237281799316, 0.335245281457901, 0.1600034236907959, 0.1600034236907959, 0.08381132036447525, 0.11033839732408524, 0.11033839732408524, 0.22067679464817047, 0.44135358929634094, 0.22516275942325592, 0.5066162347793579, 0.11258137971162796, 0.11258137971162796, 0.7892137169837952, 0.35015368461608887, 0.09549646079540253, 0.1591607630252838, 0.06366430222988129, 0.2864893674850464, 0.3344585597515106, 0.11148618906736374, 0.1486482471227646, 0.2972964942455292, 0.1486482471227646, 0.8475961089134216, 0.08475961536169052, 0.3582299053668976, 0.41964074969291687, 0.05117569863796234, 0.08188112080097198, 0.08188112080097198, 0.876326322555542, 0.1687784045934677, 0.37975141406059265, 0.04219460114836693, 0.12658379971981049, 0.25316759943962097, 0.3187522292137146, 0.12750089168548584, 0.19125133752822876, 0.03187522292137146, 0.3187522292137146, 0.12603133916854858, 0.06301566958427429, 0.5041253566741943, 0.2835705280303955, 0.7135679125785828, 0.19460943341255188, 0.9560295343399048, 0.6571727395057678, 0.8686540722846985, 0.8771753907203674, 0.8520448207855225, 0.19167713820934296, 0.479192852973938, 0.04791928455233574, 0.28751569986343384, 0.12656712532043457, 0.08437808603048325, 0.08437808603048325, 0.675024688243866, 0.04218904301524162, 0.3214974105358124, 0.6429948210716248, 0.8461169600486755, 0.6513265371322632, 0.8686539530754089, 0.1174592673778534, 0.7047556042671204, 0.1174592673778534, 0.6573750972747803, 0.8928031921386719, 0.2370474934577942, 0.1185237467288971, 0.08889281004667282, 0.41483309864997864, 0.1185237467288971, 0.10453715175390244, 0.05226857587695122, 0.3136114478111267, 0.47041717171669006, 0.05226857587695122, 0.2979067265987396, 0.47665074467658997, 0.23832537233829498, 0.12968415021896362, 0.2507226765155792, 0.12968415021896362, 0.4063436686992645, 0.08645609766244888, 0.19554418325424194, 0.13688091933727264, 0.1759897619485855, 0.25420743227005005, 0.23465301096439362, 0.9074357748031616, 0.8100624084472656, 0.11572320014238358, 0.8686539530754089, 0.24185390770435333, 0.24185390770435333, 0.24185390770435333, 0.29022470116615295, 0.06849942356348038, 0.41099655628204346, 0.3082474172115326, 0.10274913907051086, 0.10274913907051086, 0.8637564182281494, 0.7424799203872681, 0.18561998009681702, 0.18561998009681702, 0.8928030729293823, 0.863756537437439, 0.9470018744468689, 0.2187705934047699, 0.6563118100166321, 0.21675463020801544, 0.6502639055252075, 0.8520449995994568, 0.8686539530754089, 0.6531595587730408, 0.1632898896932602, 0.8928029537200928, 0.161439448595047, 0.645757794380188, 0.161439448595047, 0.8686539530754089, 0.8681435585021973, 0.8233430981636047, 0.11762043833732605, 0.2597543001174927, 0.6493857502937317, 0.7892094850540161, 0.6379550695419312, 0.6513109803199768, 0.44355177879333496, 0.19009362161159515, 0.16897210478782654, 0.16897210478782654, 0.042243026196956635, 0.7144041657447815, 0.2381347268819809, 0.11906736344099045, 0.14832158386707306, 0.14832158386707306, 0.5932863354682922, 0.524034321308136, 0.04763948544859886, 0.2381974160671234, 0.19055794179439545, 0.7305867671966553, 0.18264669179916382, 0.5928458571434021, 0.09880764782428741, 0.19761529564857483, 0.09880764782428741, 0.8758190274238586, 0.07645958662033081, 0.30583834648132324, 0.30583834648132324, 0.26760855317115784, 0.8771006464958191, 0.8758188486099243, 0.852044939994812, 0.35399916768074036, 0.5899986028671265, 0.7762119770050049, 0.8590326309204102, 0.26729825139045715, 0.033412281423807144, 0.300710529088974, 0.26729825139045715, 0.13364912569522858, 0.6378933787345886, 0.21263112127780914, 0.8758188486099243, 0.8928024768829346, 0.14595678448677063, 0.7297838926315308, 0.4669993221759796, 0.09339986741542816, 0.4669993221759796, 0.7892910242080688, 0.8758189678192139, 0.16407909989356995, 0.8203954696655273, 0.6573688387870789, 0.5929009318351746, 0.19763363897800446, 0.2964504659175873, 0.7019806504249573, 0.11699677258729935, 0.2339935451745987, 0.6573362350463867, 0.8686538934707642, 0.657375156879425, 0.65132075548172, 0.4296914339065552, 0.4296914339065552, 0.07161524146795273, 0.07161524146795273, 0.8637565970420837, 0.5397325754165649, 0.10794650763273239, 0.32383954524993896, 0.8686538934707642, 0.863756537437439, 0.8928030729293823, 0.08667059242725372, 0.2600117623806, 0.4333529472351074, 0.17334118485450745, 0.7964542508125305, 0.1592908501625061, 0.25744977593421936, 0.5663895606994629, 0.10297991335391998, 0.05148995667695999, 0.8686539530754089, 0.26494452357292175, 0.4710124731063843, 0.14719140529632568, 0.11775311827659607, 0.8758189678192139, 0.2206868976354599, 0.3586162030696869, 0.41378793120384216, 0.13309966027736664, 0.7054282426834106, 0.053239867091178894, 0.10647973418235779, 0.23633724451065063, 0.7090117335319519, 0.8637565970420837, 0.6471992135047913, 0.24768392741680145, 0.12384196370840073, 0.37152591347694397, 0.15480245649814606, 0.12384196370840073, 0.9161221981048584, 0.07047093659639359, 0.863756537437439, 0.892802894115448, 0.863756537437439, 0.26647910475730896, 0.5329582095146179, 0.7892186641693115, 0.5222582221031189, 0.26112911105155945, 0.1146678626537323, 0.1146678626537323, 0.6115619540214539, 0.1146678626537323, 0.038222622126340866, 0.2232738584280014, 0.669821560382843, 0.2745283246040344, 0.10294812172651291, 0.17158019542694092, 0.2745283246040344, 0.17158019542694092, 0.8520449995994568, 0.8075309991836548, 0.6717118620872498, 0.12921322882175446, 0.6460661292076111, 0.12921322882175446, 0.10767769068479538, 0.8295844197273254, 0.11851206421852112, 0.8758189678192139, 0.728039562702179, 0.18200989067554474, 0.8928032517433167, 0.8520449995994568, 0.6717631220817566, 0.3340136408805847, 0.6680272817611694, 0.8686539530754089, 0.2147851586341858, 0.6443554759025574, 0.1073925793170929, 0.19079160690307617, 0.19079160690307617, 0.5723748207092285, 0.26540687680244446, 0.5308137536048889, 0.09578687697649002, 0.7184016108512878, 0.09578687697649002, 0.09578687697649002, 0.12022708356380463, 0.24045416712760925, 0.12022708356380463, 0.12022708356380463, 0.4809083342552185, 0.776902973651886, 0.12948383390903473, 0.8686539530754089, 0.20938992500305176, 0.2722069025039673, 0.23032891750335693, 0.23032891750335693, 0.06281697750091553, 0.23154811561107635, 0.07718270272016525, 0.1543654054403305, 0.23154811561107635, 0.308730810880661, 0.3660449981689453, 0.4392539858818054, 0.1464179903268814], \"Term\": [\"accept\", \"act\", \"ah\", \"amy\", \"amy\", \"amy\", \"amy\", \"amy\", \"apart\", \"apartment\", \"apartment\", \"apartment\", \"apartment\", \"ask\", \"ask\", \"ask\", \"away\", \"away\", \"away\", \"awesome\", \"awful\", \"baby\", \"baby\", \"baby\", \"baby\", \"baby\", \"backup\", \"bad\", \"bad\", \"bad\", \"bad\", \"bagel\", \"bar\", \"believe\", \"believe\", \"believe\", \"believe\", \"bernadette\", \"bernadette\", \"bernadette\", \"bernadette\", \"bert\", \"bert\", \"bert\", \"big\", \"big\", \"big\", \"blame\", \"board\", \"boat\", \"body\", \"boring\", \"bother\", \"break\", \"break\", \"breathe\", \"budapest\", \"buddy\", \"building\", \"building\", \"call\", \"call\", \"call\", \"candy\", \"card\", \"care\", \"care\", \"catch\", \"celebrity\", \"centre\", \"challenging\", \"change\", \"change\", \"check\", \"check\", \"chess\", \"chip\", \"choice\", \"choice\", \"colonel\", \"colonel\", \"come\", \"come\", \"come\", \"come\", \"come\", \"comic\", \"comic\", \"common\", \"con\", \"conduct\", \"contain\", \"course\", \"course\", \"crazy\", \"crazy\", \"cuckoo\", \"da\", \"da\", \"damn\", \"dance\", \"dance\", \"deal\", \"deal\", \"deal\", \"develop\", \"diaper\", \"dibba\", \"disappoint\", \"divorce\", \"downstairs\", \"drape\", \"drink\", \"drink\", \"drive\", \"drive\", \"drive\", \"drive\", \"dvd\", \"early\", \"easter\", \"eat\", \"eat\", \"eat\", \"eat\", \"effort\", \"end\", \"end\", \"end\", \"enemy\", \"energy\", \"everybody\", \"evolution\", \"excited\", \"excited\", \"experience\", \"experience\", \"face\", \"face\", \"family\", \"family\", \"feel\", \"feel\", \"feel\", \"feel\", \"feel\", \"find\", \"find\", \"find\", \"find\", \"find\", \"fine\", \"fine\", \"fine\", \"fine\", \"flag\", \"flag\", \"flag\", \"floor\", \"floor\", \"fly\", \"folder\", \"forgive\", \"fountain\", \"frankenstein\", \"friend\", \"friend\", \"friend\", \"friend\", \"friend\", \"funny\", \"funny\", \"future\", \"get\", \"get\", \"get\", \"get\", \"get\", \"girl\", \"girl\", \"girl\", \"glove\", \"go\", \"go\", \"go\", \"good\", \"good\", \"good\", \"good\", \"good\", \"grab\", \"granite\", \"great\", \"great\", \"great\", \"great\", \"great\", \"guy\", \"guy\", \"guy\", \"guy\", \"guy\", \"ha\", \"halley\", \"halloween\", \"hang\", \"hang\", \"hang\", \"happen\", \"happen\", \"happen\", \"happen\", \"have\", \"have\", \"have\", \"hear\", \"hear\", \"hear\", \"hear\", \"help\", \"help\", \"help\", \"hey\", \"hey\", \"hey\", \"hey\", \"hey\", \"high\", \"high\", \"home\", \"home\", \"home\", \"honestly\", \"hot\", \"house\", \"house\", \"howard\", \"howard\", \"hubba\", \"hurt\", \"hurt\", \"idea\", \"idea\", \"idea\", \"idea\", \"ignore\", \"incapable\", \"inside\", \"intellectual\", \"interest\", \"jerk\", \"job\", \"job\", \"keep\", \"keep\", \"kick\", \"kick\", \"kind\", \"kind\", \"kind\", \"kind\", \"kiss\", \"kiss\", \"know\", \"know\", \"know\", \"know\", \"know\", \"learn\", \"learn\", \"learn\", \"learn\", \"leave\", \"leave\", \"leave\", \"leave\", \"lemon\", \"leonard\", \"leonard\", \"leonard\", \"leonard\", \"leonard\", \"let\", \"let\", \"let\", \"let\", \"let\", \"life\", \"life\", \"like\", \"like\", \"like\", \"like\", \"like\", \"line\", \"little\", \"little\", \"little\", \"little\", \"little\", \"live\", \"live\", \"live\", \"live\", \"live\", \"look\", \"look\", \"look\", \"look\", \"love\", \"love\", \"machine\", \"mad\", \"marshmallow\", \"martian\", \"mate\", \"maybe\", \"maybe\", \"maybe\", \"maybe\", \"mean\", \"mean\", \"mean\", \"mean\", \"mean\", \"meeting\", \"meeting\", \"minute\", \"miss\", \"motto\", \"move\", \"move\", \"move\", \"mr\", \"mrs\", \"need\", \"need\", \"need\", \"need\", \"need\", \"new\", \"new\", \"new\", \"new\", \"new\", \"night\", \"night\", \"night\", \"oh\", \"oh\", \"oh\", \"oh\", \"oh\", \"okay\", \"okay\", \"okay\", \"okay\", \"okay\", \"pair\", \"party\", \"party\", \"peep\", \"penny\", \"penny\", \"penny\", \"penny\", \"people\", \"people\", \"people\", \"people\", \"people\", \"pervert\", \"pet\", \"pet\", \"pet\", \"petrescu\", \"physical\", \"place\", \"plan\", \"plan\", \"point\", \"point\", \"possum\", \"potato\", \"pregnant\", \"pregnant\", \"price\", \"probably\", \"probably\", \"probably\", \"progress\", \"proud\", \"pull\", \"pull\", \"question\", \"question\", \"quote\", \"respect\", \"ridiculous\", \"right\", \"right\", \"right\", \"right\", \"right\", \"rock\", \"rock\", \"rock\", \"roll\", \"roll\", \"roll\", \"room\", \"room\", \"room\", \"room\", \"ruin\", \"ruin\", \"run\", \"run\", \"run\", \"run\", \"sassler\", \"say\", \"say\", \"say\", \"say\", \"science\", \"secretly\", \"servant\", \"sex\", \"sex\", \"sexy\", \"share\", \"sheldon\", \"sheldon\", \"sheldon\", \"sheldon\", \"sheldon\", \"shoe\", \"shoe\", \"shot\", \"silly\", \"single\", \"single\", \"sleep\", \"sleep\", \"sleep\", \"smart\", \"smell\", \"somebody\", \"somebody\", \"song\", \"sorry\", \"sorry\", \"sorry\", \"spend\", \"spend\", \"spend\", \"spock\", \"sport\", \"spring\", \"square\", \"start\", \"start\", \"start\", \"start\", \"stooge\", \"stuart\", \"stuart\", \"stuart\", \"study\", \"sugar\", \"superhero\", \"sure\", \"sure\", \"sure\", \"sure\", \"surprise\", \"surprise\", \"talk\", \"talk\", \"talk\", \"talk\", \"teenager\", \"tell\", \"tell\", \"tell\", \"tell\", \"theo\", \"thing\", \"thing\", \"thing\", \"think\", \"think\", \"think\", \"think\", \"throw\", \"throw\", \"ticket\", \"till\", \"time\", \"time\", \"time\", \"time\", \"time\", \"to\", \"to\", \"tonight\", \"tootsie\", \"totally\", \"trouble\", \"trouble\", \"true\", \"trunk\", \"trunk\", \"try\", \"try\", \"try\", \"try\", \"try\", \"tub\", \"tub\", \"uh\", \"uh\", \"uh\", \"uh\", \"uh\", \"uncomfortable\", \"uuh\", \"van\", \"want\", \"want\", \"want\", \"want\", \"water\", \"water\", \"weakness\", \"wear\", \"wear\", \"wh\", \"wheel\", \"whoa\", \"will\", \"will\", \"williams\", \"win\", \"win\", \"win\", \"wine\", \"wine\", \"wine\", \"wobble\", \"wobble\", \"work\", \"work\", \"work\", \"work\", \"world\", \"world\", \"world\", \"world\", \"world\", \"wow\", \"wow\", \"x\", \"yeah\", \"yeah\", \"yeah\", \"yeah\", \"yeah\", \"year\", \"year\", \"year\", \"year\", \"year\", \"yes\", \"yes\", \"yes\"]}, \"R\": 30, \"lambda.step\": 0.01, \"plot.opts\": {\"xlab\": \"PC1\", \"ylab\": \"PC2\"}, \"topic.order\": [4, 5, 1, 2, 3]};\n",
              "\n",
              "function LDAvis_load_lib(url, callback){\n",
              "  var s = document.createElement('script');\n",
              "  s.src = url;\n",
              "  s.async = true;\n",
              "  s.onreadystatechange = s.onload = callback;\n",
              "  s.onerror = function(){console.warn(\"failed to load library \" + url);};\n",
              "  document.getElementsByTagName(\"head\")[0].appendChild(s);\n",
              "}\n",
              "\n",
              "if(typeof(LDAvis) !== \"undefined\"){\n",
              "   // already loaded: just create the visualization\n",
              "   !function(LDAvis){\n",
              "       new LDAvis(\"#\" + \"ldavis_el1231404129866449045949816781\", ldavis_el1231404129866449045949816781_data);\n",
              "   }(LDAvis);\n",
              "}else if(typeof define === \"function\" && define.amd){\n",
              "   // require.js is available: use it to load d3/LDAvis\n",
              "   require.config({paths: {d3: \"https://cdnjs.cloudflare.com/ajax/libs/d3/3.5.5/d3.min\"}});\n",
              "   require([\"d3\"], function(d3){\n",
              "      window.d3 = d3;\n",
              "      LDAvis_load_lib(\"https://cdn.rawgit.com/bmabey/pyLDAvis/files/ldavis.v1.0.0.js\", function(){\n",
              "        new LDAvis(\"#\" + \"ldavis_el1231404129866449045949816781\", ldavis_el1231404129866449045949816781_data);\n",
              "      });\n",
              "    });\n",
              "}else{\n",
              "    // require.js not available: dynamically load d3 & LDAvis\n",
              "    LDAvis_load_lib(\"https://cdnjs.cloudflare.com/ajax/libs/d3/3.5.5/d3.min.js\", function(){\n",
              "         LDAvis_load_lib(\"https://cdn.rawgit.com/bmabey/pyLDAvis/files/ldavis.v1.0.0.js\", function(){\n",
              "                 new LDAvis(\"#\" + \"ldavis_el1231404129866449045949816781\", ldavis_el1231404129866449045949816781_data);\n",
              "            })\n",
              "         });\n",
              "}\n",
              "</script>"
            ],
            "text/plain": [
              "PreparedData(topic_coordinates=              x         y  topics  cluster       Freq\n",
              "topic                                                \n",
              "3      0.034328  0.111842       1        1  24.097853\n",
              "4     -0.093449  0.046020       2        1  22.764605\n",
              "0      0.000377 -0.033607       3        1  19.423677\n",
              "1     -0.064599 -0.084067       4        1  18.751520\n",
              "2      0.123343 -0.040187       5        1  14.962353, topic_info=    Category        Freq     Term       Total  loglift  logprob\n",
              "2    Default   89.000000       go   89.000000  30.0000  30.0000\n",
              "5    Default   42.000000       to   42.000000  29.0000  29.0000\n",
              "18   Default   75.000000    think   75.000000  28.0000  28.0000\n",
              "182  Default   45.000000     good   45.000000  27.0000  27.0000\n",
              "52   Default  115.000000       oh  115.000000  26.0000  26.0000\n",
              "..       ...         ...      ...         ...      ...      ...\n",
              "97    Topic5    4.816861       uh   29.140892   0.0996  -5.4458\n",
              "348   Topic5    4.122560  sheldon   29.929115  -0.0827  -5.6015\n",
              "164   Topic5    3.967694     time   32.299229  -0.1972  -5.6398\n",
              "94    Topic5    3.903135     tell   33.969376  -0.2640  -5.6562\n",
              "103   Topic5    3.841675     year   12.956270   0.6840  -5.6720\n",
              "\n",
              "[363 rows x 6 columns], token_table=      Topic      Freq    Term\n",
              "term                         \n",
              "833       5  0.671734  accept\n",
              "1392      5  0.892803     act\n",
              "922       4  0.875819      ah\n",
              "390       1  0.260914     amy\n",
              "390       2  0.149094     amy\n",
              "...     ...       ...     ...\n",
              "103       4  0.231548    year\n",
              "103       5  0.308731    year\n",
              "122       3  0.366045     yes\n",
              "122       4  0.439254     yes\n",
              "122       5  0.146418     yes\n",
              "\n",
              "[577 rows x 3 columns], R=30, lambda_step=0.01, plot_opts={'xlab': 'PC1', 'ylab': 'PC2'}, topic_order=[4, 5, 1, 2, 3])"
            ]
          },
          "metadata": {
            "tags": []
          },
          "execution_count": 37
        }
      ]
    },
    {
      "cell_type": "code",
      "metadata": {
        "id": "UHcoEfVAaOUm",
        "colab_type": "code",
        "outputId": "4a36f4cb-96be-4003-e811-99820e243e15",
        "colab": {
          "base_uri": "https://localhost:8080/",
          "height": 34
        }
      },
      "source": [
        "print('Perplexity: ', lda_model.log_perplexity(corpus))"
      ],
      "execution_count": 0,
      "outputs": [
        {
          "output_type": "stream",
          "text": [
            "Perplexity:  -7.611392152664438\n"
          ],
          "name": "stdout"
        }
      ]
    },
    {
      "cell_type": "code",
      "metadata": {
        "id": "EHC4WasoaWmV",
        "colab_type": "code",
        "outputId": "ef8d229e-2bcd-4029-8fc5-471b93da6b7a",
        "colab": {
          "base_uri": "https://localhost:8080/",
          "height": 34
        }
      },
      "source": [
        "coherence_model_lda = CoherenceModel(model=lda_model, texts=text_data, dictionary=id2word, coherence='c_v')\n",
        "coherence_lda = coherence_model_lda.get_coherence()\n",
        "print('Coherence Score: ', coherence_lda)"
      ],
      "execution_count": 0,
      "outputs": [
        {
          "output_type": "stream",
          "text": [
            "Coherence Score:  0.38793565695696597\n"
          ],
          "name": "stdout"
        }
      ]
    },
    {
      "cell_type": "code",
      "metadata": {
        "id": "QeBD7yYpzGOk",
        "colab_type": "code",
        "outputId": "2322a048-498f-41bb-ecff-5fd19416a177",
        "colab": {
          "base_uri": "https://localhost:8080/",
          "height": 204
        }
      },
      "source": [
        "data_tbt.head()"
      ],
      "execution_count": 0,
      "outputs": [
        {
          "output_type": "execute_result",
          "data": {
            "text/html": [
              "<div>\n",
              "<style scoped>\n",
              "    .dataframe tbody tr th:only-of-type {\n",
              "        vertical-align: middle;\n",
              "    }\n",
              "\n",
              "    .dataframe tbody tr th {\n",
              "        vertical-align: top;\n",
              "    }\n",
              "\n",
              "    .dataframe thead th {\n",
              "        text-align: right;\n",
              "    }\n",
              "</style>\n",
              "<table border=\"1\" class=\"dataframe\">\n",
              "  <thead>\n",
              "    <tr style=\"text-align: right;\">\n",
              "      <th></th>\n",
              "      <th>label</th>\n",
              "      <th>text</th>\n",
              "      <th>token_number</th>\n",
              "      <th>verb_number</th>\n",
              "    </tr>\n",
              "  </thead>\n",
              "  <tbody>\n",
              "    <tr>\n",
              "      <th>0</th>\n",
              "      <td>Sheldon</td>\n",
              "      <td>[realize, brother]</td>\n",
              "      <td>2</td>\n",
              "      <td>0</td>\n",
              "    </tr>\n",
              "    <tr>\n",
              "      <th>1</th>\n",
              "      <td>Leonard</td>\n",
              "      <td>[go, to, brother, go, to, stepbrother, sleep]</td>\n",
              "      <td>7</td>\n",
              "      <td>2</td>\n",
              "    </tr>\n",
              "    <tr>\n",
              "      <th>2</th>\n",
              "      <td>Sheldon</td>\n",
              "      <td>[hope, right, cause, grown, man, live, brother...</td>\n",
              "      <td>10</td>\n",
              "      <td>2</td>\n",
              "    </tr>\n",
              "    <tr>\n",
              "      <th>3</th>\n",
              "      <td>Sheldon</td>\n",
              "      <td>[okay, think, father, unspeakable, thing, mother]</td>\n",
              "      <td>6</td>\n",
              "      <td>1</td>\n",
              "    </tr>\n",
              "    <tr>\n",
              "      <th>4</th>\n",
              "      <td>Sheldon</td>\n",
              "      <td>[say, thing, unspeakable]</td>\n",
              "      <td>3</td>\n",
              "      <td>1</td>\n",
              "    </tr>\n",
              "  </tbody>\n",
              "</table>\n",
              "</div>"
            ],
            "text/plain": [
              "     label  ... verb_number\n",
              "0  Sheldon  ...           0\n",
              "1  Leonard  ...           2\n",
              "2  Sheldon  ...           2\n",
              "3  Sheldon  ...           1\n",
              "4  Sheldon  ...           1\n",
              "\n",
              "[5 rows x 4 columns]"
            ]
          },
          "metadata": {
            "tags": []
          },
          "execution_count": 40
        }
      ]
    },
    {
      "cell_type": "code",
      "metadata": {
        "id": "7QiZnqh6zMN0",
        "colab_type": "code",
        "outputId": "93c5e35e-5219-4bdd-98f8-fd24bf25813d",
        "colab": {
          "base_uri": "https://localhost:8080/",
          "height": 34
        }
      },
      "source": [
        "dict_lda = {}\n",
        "for i in dict(enumerate(encoder.classes_)).values():\n",
        "  dict_lda[i] = []\n",
        "dict_lda"
      ],
      "execution_count": 0,
      "outputs": [
        {
          "output_type": "execute_result",
          "data": {
            "text/plain": [
              "{'Howard': [], 'Leonard': [], 'Penny': [], 'Raj': [], 'Sheldon': []}"
            ]
          },
          "metadata": {
            "tags": []
          },
          "execution_count": 67
        }
      ]
    },
    {
      "cell_type": "code",
      "metadata": {
        "id": "8TBPvTAlzMj5",
        "colab_type": "code",
        "colab": {}
      },
      "source": [
        "for x, y in enumerate(data_tbt['text']):\n",
        "  dict_lda[data_tbt['label'][x]].append(y)"
      ],
      "execution_count": 0,
      "outputs": []
    },
    {
      "cell_type": "code",
      "metadata": {
        "id": "Kf3gZbnuzM1e",
        "colab_type": "code",
        "outputId": "bde2b4be-3dff-4c28-83e8-b79d4466dc28",
        "colab": {
          "base_uri": "https://localhost:8080/",
          "height": 357
        }
      },
      "source": [
        "dict_viz = {}\n",
        "for i in dict_lda:\n",
        "  text_data = dict_lda[i]\n",
        "  id2word = corpora.Dictionary(text_data)\n",
        "  texts = text_data\n",
        "  corpus = [id2word.doc2bow(text) for text in texts]\n",
        "  lda_model = gensim.models.ldamodel.LdaModel(corpus, num_topics = 3, id2word=id2word, passes=15)\n",
        "  dict_viz[i] = [lda_model, corpus, id2word]\n",
        "  topics = lda_model.print_topics(num_words=5)\n",
        "  print('Topics of', i)\n",
        "  for t in topics:\n",
        "    print(t)"
      ],
      "execution_count": 0,
      "outputs": [
        {
          "output_type": "stream",
          "text": [
            "Topics of Howard\n",
            "(0, '0.021*\"like\" + 0.019*\"oh\" + 0.014*\"get\" + 0.012*\"know\" + 0.012*\"say\"')\n",
            "(1, '0.026*\"think\" + 0.026*\"know\" + 0.013*\"dibba\" + 0.012*\"want\" + 0.011*\"go\"')\n",
            "(2, '0.024*\"baby\" + 0.017*\"go\" + 0.014*\"to\" + 0.013*\"oh\" + 0.010*\"room\"')\n",
            "Topics of Leonard\n",
            "(0, '0.023*\"oh\" + 0.016*\"sheldon\" + 0.016*\"get\" + 0.012*\"like\" + 0.011*\"know\"')\n",
            "(1, '0.016*\"come\" + 0.015*\"thing\" + 0.012*\"like\" + 0.012*\"know\" + 0.012*\"good\"')\n",
            "(2, '0.032*\"go\" + 0.015*\"to\" + 0.014*\"need\" + 0.012*\"tell\" + 0.012*\"know\"')\n",
            "Topics of Penny\n",
            "(0, '0.042*\"know\" + 0.023*\"tell\" + 0.017*\"okay\" + 0.017*\"like\" + 0.014*\"leonard\"')\n",
            "(1, '0.035*\"oh\" + 0.031*\"go\" + 0.021*\"to\" + 0.017*\"like\" + 0.013*\"think\"')\n",
            "(2, '0.018*\"get\" + 0.014*\"need\" + 0.012*\"hey\" + 0.012*\"ask\" + 0.012*\"okay\"')\n",
            "Topics of Raj\n",
            "(0, '0.032*\"oh\" + 0.022*\"go\" + 0.019*\"like\" + 0.019*\"know\" + 0.016*\"think\"')\n",
            "(1, '0.020*\"come\" + 0.015*\"oh\" + 0.015*\"think\" + 0.013*\"bernadette\" + 0.013*\"good\"')\n",
            "(2, '0.016*\"like\" + 0.015*\"yeah\" + 0.011*\"know\" + 0.011*\"guy\" + 0.011*\"think\"')\n",
            "Topics of Sheldon\n",
            "(0, '0.019*\"oh\" + 0.017*\"go\" + 0.016*\"like\" + 0.015*\"right\" + 0.013*\"know\"')\n",
            "(1, '0.028*\"know\" + 0.012*\"oh\" + 0.011*\"people\" + 0.010*\"like\" + 0.009*\"amy\"')\n",
            "(2, '0.011*\"think\" + 0.009*\"know\" + 0.007*\"party\" + 0.007*\"oh\" + 0.007*\"need\"')\n"
          ],
          "name": "stdout"
        }
      ]
    },
    {
      "cell_type": "code",
      "metadata": {
        "id": "ASuBCG1j2YHX",
        "colab_type": "code",
        "outputId": "a4cf65ce-f35c-4d8d-8fc4-f725e135610d",
        "colab": {
          "base_uri": "https://localhost:8080/",
          "height": 1000
        }
      },
      "source": [
        "pyLDAvis.enable_notebook()\n",
        "showme = pyLDAvis.gensim.prepare(dict_viz['Howard'][0], dict_viz['Howard'][1], dict_viz['Howard'][2])\n",
        "showme"
      ],
      "execution_count": 0,
      "outputs": [
        {
          "output_type": "stream",
          "text": [
            "/usr/local/lib/python3.6/dist-packages/pyLDAvis/_prepare.py:257: FutureWarning: Sorting because non-concatenation axis is not aligned. A future version\n",
            "of pandas will change to not sort by default.\n",
            "\n",
            "To accept the future behavior, pass 'sort=False'.\n",
            "\n",
            "To retain the current behavior and silence the warning, pass 'sort=True'.\n",
            "\n",
            "  return pd.concat([default_term_info] + list(topic_dfs))\n"
          ],
          "name": "stderr"
        },
        {
          "output_type": "execute_result",
          "data": {
            "text/html": [
              "\n",
              "<link rel=\"stylesheet\" type=\"text/css\" href=\"https://cdn.rawgit.com/bmabey/pyLDAvis/files/ldavis.v1.0.0.css\">\n",
              "\n",
              "\n",
              "<div id=\"ldavis_el1231404129968351528873785287\"></div>\n",
              "<script type=\"text/javascript\">\n",
              "\n",
              "var ldavis_el1231404129968351528873785287_data = {\"mdsDat\": {\"x\": [-0.010415768535171996, -0.08809676591247223, 0.09851253444764418], \"y\": [-0.09140483943225207, 0.053355186609445195, 0.03804965282280688], \"topics\": [1, 2, 3], \"cluster\": [1, 1, 1], \"Freq\": [34.719913482666016, 33.693241119384766, 31.58684730529785]}, \"tinfo\": {\"Category\": [\"Default\", \"Default\", \"Default\", \"Default\", \"Default\", \"Default\", \"Default\", \"Default\", \"Default\", \"Default\", \"Default\", \"Default\", \"Default\", \"Default\", \"Default\", \"Default\", \"Default\", \"Default\", \"Default\", \"Default\", \"Default\", \"Default\", \"Default\", \"Default\", \"Default\", \"Default\", \"Default\", \"Default\", \"Default\", \"Default\", \"Topic1\", \"Topic1\", \"Topic1\", \"Topic1\", \"Topic1\", \"Topic1\", \"Topic1\", \"Topic1\", \"Topic1\", \"Topic1\", \"Topic1\", \"Topic1\", \"Topic1\", \"Topic1\", \"Topic1\", \"Topic1\", \"Topic1\", \"Topic1\", \"Topic1\", \"Topic1\", \"Topic1\", \"Topic1\", \"Topic1\", \"Topic1\", \"Topic1\", \"Topic1\", \"Topic1\", \"Topic1\", \"Topic1\", \"Topic1\", \"Topic1\", \"Topic1\", \"Topic1\", \"Topic1\", \"Topic1\", \"Topic1\", \"Topic1\", \"Topic1\", \"Topic1\", \"Topic1\", \"Topic1\", \"Topic1\", \"Topic1\", \"Topic1\", \"Topic1\", \"Topic1\", \"Topic1\", \"Topic1\", \"Topic1\", \"Topic1\", \"Topic2\", \"Topic2\", \"Topic2\", \"Topic2\", \"Topic2\", \"Topic2\", \"Topic2\", \"Topic2\", \"Topic2\", \"Topic2\", \"Topic2\", \"Topic2\", \"Topic2\", \"Topic2\", \"Topic2\", \"Topic2\", \"Topic2\", \"Topic2\", \"Topic2\", \"Topic2\", \"Topic2\", \"Topic2\", \"Topic2\", \"Topic2\", \"Topic2\", \"Topic2\", \"Topic2\", \"Topic2\", \"Topic2\", \"Topic2\", \"Topic2\", \"Topic2\", \"Topic2\", \"Topic2\", \"Topic2\", \"Topic2\", \"Topic2\", \"Topic2\", \"Topic2\", \"Topic2\", \"Topic2\", \"Topic2\", \"Topic2\", \"Topic2\", \"Topic2\", \"Topic2\", \"Topic2\", \"Topic2\", \"Topic2\", \"Topic2\", \"Topic2\", \"Topic2\", \"Topic2\", \"Topic3\", \"Topic3\", \"Topic3\", \"Topic3\", \"Topic3\", \"Topic3\", \"Topic3\", \"Topic3\", \"Topic3\", \"Topic3\", \"Topic3\", \"Topic3\", \"Topic3\", \"Topic3\", \"Topic3\", \"Topic3\", \"Topic3\", \"Topic3\", \"Topic3\", \"Topic3\", \"Topic3\", \"Topic3\", \"Topic3\", \"Topic3\", \"Topic3\", \"Topic3\", \"Topic3\", \"Topic3\", \"Topic3\", \"Topic3\", \"Topic3\", \"Topic3\", \"Topic3\", \"Topic3\", \"Topic3\", \"Topic3\", \"Topic3\", \"Topic3\", \"Topic3\", \"Topic3\", \"Topic3\", \"Topic3\", \"Topic3\", \"Topic3\", \"Topic3\", \"Topic3\", \"Topic3\", \"Topic3\"], \"Freq\": [7.0, 5.0, 9.0, 4.0, 10.0, 8.0, 7.0, 7.0, 3.0, 5.0, 3.0, 6.0, 3.0, 2.0, 5.0, 4.0, 11.0, 2.0, 2.0, 2.0, 2.0, 4.0, 5.0, 4.0, 12.0, 3.0, 3.0, 3.0, 3.0, 3.0, 2.838350296020508, 2.826558828353882, 2.1850578784942627, 2.1846489906311035, 2.1810946464538574, 1.529292345046997, 1.5292848348617554, 1.529261589050293, 1.529247522354126, 1.5292298793792725, 1.5291908979415894, 1.5291491746902466, 1.529089331626892, 1.5287936925888062, 1.5285263061523438, 1.5284624099731445, 1.5284221172332764, 1.5281301736831665, 1.527139663696289, 1.524859070777893, 5.4216132164001465, 2.1975815296173096, 2.1932191848754883, 2.194115400314331, 2.1930906772613525, 0.8739345073699951, 0.8739340901374817, 0.8739321827888489, 0.8739294409751892, 0.8739269971847534, 2.8636200428009033, 2.8395116329193115, 6.301412105560303, 2.7693710327148438, 5.462833404541016, 3.4916975498199463, 2.8896987438201904, 5.444830894470215, 2.8493831157684326, 2.23344349861145, 2.1867146492004395, 2.77551531791687, 2.186556339263916, 1.8406939506530762, 2.1871602535247803, 2.1804096698760986, 2.1579368114471436, 2.0579473972320557, 1.5461500883102417, 1.5528326034545898, 5.427326202392578, 4.143808841705322, 2.1813554763793945, 1.5270916223526, 1.5269707441329956, 1.5268869400024414, 1.5268748998641968, 1.5267409086227417, 1.5267269611358643, 1.5266997814178467, 1.5266741514205933, 1.5266306400299072, 1.5266079902648926, 1.5266048908233643, 1.52640700340271, 1.5264064073562622, 1.5263561010360718, 1.5262839794158936, 1.5261287689208984, 1.5251989364624023, 1.5082323551177979, 1.507392406463623, 4.160684585571289, 5.4251275062561035, 2.200692653656006, 2.192470073699951, 0.8726605772972107, 0.8726590275764465, 0.8726579546928406, 0.8726579546928406, 2.1851184368133545, 3.4999475479125977, 2.1974217891693115, 1.5488444566726685, 4.800757884979248, 4.9495415687561035, 4.190051555633545, 4.81294059753418, 3.4829161167144775, 2.157881021499634, 3.4694132804870605, 2.2170469760894775, 2.1731762886047363, 2.1378798484802246, 1.5518521070480347, 1.5482301712036133, 1.5379469394683838, 1.5387599468231201, 1.5337918996810913, 1.5397577285766602, 1.533016324043274, 1.5313695669174194, 1.5273629426956177, 6.550275802612305, 2.7530431747436523, 2.113938093185425, 1.4827438592910767, 1.482621192932129, 1.4822330474853516, 1.4821562767028809, 1.481930136680603, 1.4817699193954468, 1.4812387228012085, 1.4793438911437988, 1.4792442321777344, 1.4779033660888672, 1.4778879880905151, 1.4776746034622192, 1.4769930839538574, 6.630736351013184, 2.1352028846740723, 0.8472331166267395, 0.8472321033477783, 0.847230851650238, 0.8472282886505127, 0.8472259640693665, 0.8472243547439575, 0.8472126722335815, 0.8472114205360413, 0.8472090363502502, 0.8472056984901428, 0.8471931219100952, 0.8471843600273132, 2.779632329940796, 4.668271064758301, 3.4597175121307373, 2.751791000366211, 1.5291672945022583, 2.139194965362549, 1.5041530132293701, 1.490065097808838, 5.276103496551514, 1.4868533611297607, 1.4846028089523315, 1.4836018085479736, 4.6453351974487305, 2.7546744346618652, 2.1312355995178223, 4.032158374786377, 1.4994969367980957, 1.4819799661636353], \"Term\": [\"want\", \"say\", \"baby\", \"dibba\", \"like\", \"to\", \"okay\", \"maybe\", \"uuh\", \"right\", \"find\", \"good\", \"talk\", \"day\", \"room\", \"come\", \"oh\", \"happen\", \"lift\", \"god\", \"tub\", \"time\", \"little\", \"uh\", \"go\", \"kick\", \"guy\", \"man\", \"pull\", \"help\", \"find\", \"talk\", \"lift\", \"god\", \"tub\", \"hawking\", \"take\", \"guess\", \"magic\", \"crazy\", \"toilet\", \"humour\", \"house\", \"lunch\", \"leonard\", \"move\", \"big\", \"lawyer\", \"call\", \"drink\", \"maybe\", \"need\", \"hot\", \"old\", \"stuart\", \"infant\", \"proofed\", \"street\", \"diaper\", \"lid\", \"time\", \"uh\", \"oh\", \"tell\", \"like\", \"good\", \"hey\", \"know\", \"little\", \"crib\", \"people\", \"baby\", \"room\", \"work\", \"yeah\", \"okay\", \"think\", \"go\", \"bad\", \"buy\", \"say\", \"dibba\", \"happen\", \"motto\", \"wolowitz\", \"make\", \"check\", \"sorry\", \"thursday\", \"breath\", \"williams\", \"e\", \"mail\", \"flag\", \"leave\", \"offensive\", \"rug\", \"light\", \"india\", \"camera\", \"weird\", \"turn\", \"right\", \"okay\", \"pull\", \"help\", \"stand\", \"stretch\", \"tiny\", \"spin\", \"fun\", \"yeah\", \"man\", \"stop\", \"like\", \"go\", \"think\", \"know\", \"to\", \"buy\", \"oh\", \"try\", \"little\", \"maybe\", \"relax\", \"colonel\", \"secret\", \"idea\", \"yes\", \"great\", \"love\", \"hey\", \"uh\", \"want\", \"uuh\", \"day\", \"wait\", \"wake\", \"hope\", \"change\", \"poor\", \"taste\", \"spend\", \"week\", \"hour\", \"outside\", \"pregnancy\", \"space\", \"news\", \"baby\", \"kick\", \"smart\", \"boca\", \"clearly\", \"fort\", \"last\", \"lauderdale\", \"raton\", \"importantly\", \"jeopardy\", \"someday\", \"squeaky\", \"godfather\", \"come\", \"to\", \"get\", \"room\", \"night\", \"guy\", \"new\", \"look\", \"go\", \"hear\", \"sound\", \"easy\", \"think\", \"good\", \"great\", \"know\", \"meeting\", \"sex\"], \"Total\": [7.0, 5.0, 9.0, 4.0, 10.0, 8.0, 7.0, 7.0, 3.0, 5.0, 3.0, 6.0, 3.0, 2.0, 5.0, 4.0, 11.0, 2.0, 2.0, 2.0, 2.0, 4.0, 5.0, 4.0, 12.0, 3.0, 3.0, 3.0, 3.0, 3.0, 3.271184206008911, 3.2708208560943604, 2.615586519241333, 2.6155779361724854, 2.615568161010742, 1.9599336385726929, 1.9599345922470093, 1.9599330425262451, 1.9599363803863525, 1.9599329233169556, 1.9599368572235107, 1.9599310159683228, 1.9599275588989258, 1.959925889968872, 1.9599354267120361, 1.9599356651306152, 1.9599201679229736, 1.9599159955978394, 1.9598801136016846, 1.9599241018295288, 7.855210304260254, 3.251613140106201, 3.2515828609466553, 3.2702372074127197, 3.2701926231384277, 1.3042882680892944, 1.3042882680892944, 1.3042881488800049, 1.3042881488800049, 1.3042882680892944, 4.543213844299316, 4.580480575561523, 11.09890365600586, 4.559210777282715, 10.476336479187012, 6.4694061279296875, 5.217761516571045, 14.28993034362793, 5.235170841217041, 3.905952215194702, 3.924865484237671, 9.625589370727539, 5.158200263977051, 3.259453535079956, 6.524750232696533, 7.851722717285156, 10.99332332611084, 12.283592224121094, 2.5960984230041504, 3.9238762855529785, 5.885004997253418, 4.576513767242432, 2.612567663192749, 1.9579273462295532, 1.957927942276001, 1.9579238891601562, 1.9579248428344727, 1.9579224586486816, 1.9579273462295532, 1.9579219818115234, 1.9579284191131592, 1.9579211473464966, 1.957921028137207, 1.957922339439392, 1.9579181671142578, 1.9579180479049683, 1.9579176902770996, 1.9579211473464966, 1.9579190015792847, 1.9579200744628906, 1.957938551902771, 1.9579520225524902, 5.8853349685668945, 7.851722717285156, 3.268187999725342, 3.2681844234466553, 1.3032851219177246, 1.3032851219177246, 1.3032852411270142, 1.3032852411270142, 3.268207311630249, 6.524750232696533, 3.884331703186035, 2.5942137241363525, 10.476336479187012, 12.283592224121094, 10.99332332611084, 14.28993034362793, 8.371085166931152, 3.9238762855529785, 11.09890365600586, 4.539982795715332, 5.235170841217041, 7.855210304260254, 2.613523244857788, 2.594196319580078, 2.6135456562042236, 3.249485969543457, 2.6135621070861816, 4.52006721496582, 3.2489051818847656, 5.217761516571045, 4.580480575561523, 7.005521774291992, 3.1912105083465576, 2.5556893348693848, 1.9199178218841553, 1.9199217557907104, 1.919933557510376, 1.919936180114746, 1.9199433326721191, 1.9199483394622803, 1.919965147972107, 1.9200248718261719, 1.9200282096862793, 1.9200630187988281, 1.9200632572174072, 1.9200701713562012, 1.9200901985168457, 9.625589370727539, 3.2106690406799316, 1.2842826843261719, 1.2842826843261719, 1.2842828035354614, 1.2842826843261719, 1.284282922744751, 1.284282922744751, 1.2842832803726196, 1.2842832803726196, 1.2842833995819092, 1.2842836380004883, 1.2842838764190674, 1.284284234046936, 4.501669883728027, 8.371085166931152, 6.445271015167236, 5.158200263977051, 2.5741047859191895, 3.8642187118530273, 2.5748932361602783, 2.5753369331359863, 12.283592224121094, 2.5754380226135254, 2.5755085945129395, 2.574537754058838, 10.99332332611084, 6.4694061279296875, 4.52006721496582, 14.28993034362793, 3.2296876907348633, 2.5745880603790283], \"loglift\": [30.0, 29.0, 28.0, 27.0, 26.0, 25.0, 24.0, 23.0, 22.0, 21.0, 20.0, 19.0, 18.0, 17.0, 16.0, 15.0, 14.0, 13.0, 12.0, 11.0, 10.0, 9.0, 8.0, 7.0, 6.0, 5.0, 4.0, 3.0, 2.0, 1.0, 0.9158999919891357, 0.911899983882904, 0.878000020980835, 0.8777999877929688, 0.8762000203132629, 0.8098000288009644, 0.8097000122070312, 0.8097000122070312, 0.8097000122070312, 0.8097000122070312, 0.8097000122070312, 0.8097000122070312, 0.8095999956130981, 0.8094000220298767, 0.8091999888420105, 0.8091999888420105, 0.8091999888420105, 0.8090000152587891, 0.8083999752998352, 0.8069000244140625, 0.6870999932289124, 0.666100025177002, 0.6640999913215637, 0.6588000059127808, 0.65829998254776, 0.6574000120162964, 0.6574000120162964, 0.6574000120162964, 0.6574000120162964, 0.6574000120162964, 0.5963000059127808, 0.5796999931335449, 0.4918000102043152, 0.5593000054359436, 0.4066999852657318, 0.44119998812675476, 0.4668999910354614, 0.09300000220537186, 0.4496000111103058, 0.49889999628067017, 0.47290000319480896, -0.18569999933242798, 0.1995999962091446, 0.4864000082015991, -0.035100001841783524, -0.22339999675750732, -0.5702999830245972, -0.7286999821662903, 0.5396000146865845, 0.13089999556541443, 1.0068999528884888, 0.9886000156402588, 0.9075000286102295, 0.8393999934196472, 0.8392999768257141, 0.8392000198364258, 0.8392000198364258, 0.8391000032424927, 0.8391000032424927, 0.8391000032424927, 0.8391000032424927, 0.8391000032424927, 0.8389999866485596, 0.8389999866485596, 0.8389000296592712, 0.8389000296592712, 0.8389000296592712, 0.8388000130653381, 0.838699996471405, 0.838100016117096, 0.8269000053405762, 0.8263999819755554, 0.741100013256073, 0.7182000279426575, 0.6923999786376953, 0.6887000203132629, 0.6868000030517578, 0.6868000030517578, 0.6868000030517578, 0.6868000030517578, 0.6852999925613403, 0.4650000035762787, 0.5181999802589417, 0.5720999836921692, 0.3075000047683716, 0.17890000343322754, 0.12330000102519989, -0.00039999998989515007, 0.210999995470047, 0.48989999294281006, -0.07500000298023224, 0.3711000084877014, 0.2087000012397766, -0.2134999930858612, 0.5666000247001648, 0.5716999769210815, 0.5576000213623047, 0.34040001034736633, 0.5548999905586243, 0.010999999940395355, 0.3368000090122223, -0.1379999965429306, -0.010400000028312206, 1.0851999521255493, 1.004699945449829, 0.9627000093460083, 0.8939999938011169, 0.8939999938011169, 0.8937000036239624, 0.8935999870300293, 0.8934999704360962, 0.8934000134468079, 0.8930000066757202, 0.891700029373169, 0.8916000127792358, 0.8906999826431274, 0.8906999826431274, 0.890500009059906, 0.8901000022888184, 0.779699981212616, 0.7444999814033508, 0.7364000082015991, 0.7364000082015991, 0.7364000082015991, 0.7364000082015991, 0.7364000082015991, 0.7364000082015991, 0.7364000082015991, 0.7364000082015991, 0.7364000082015991, 0.7364000082015991, 0.7364000082015991, 0.7364000082015991, 0.6703000068664551, 0.5684000253677368, 0.5303000211715698, 0.5241000056266785, 0.6316999793052673, 0.5611000061035156, 0.6148999929428101, 0.6053000092506409, 0.3073999881744385, 0.6031000018119812, 0.6014999747276306, 0.6011999845504761, 0.29100000858306885, 0.2985999882221222, 0.40059998631477356, -0.1128000020980835, 0.38519999384880066, 0.6000999808311462], \"logprob\": [30.0, 29.0, 28.0, 27.0, 26.0, 25.0, 24.0, 23.0, 22.0, 21.0, 20.0, 19.0, 18.0, 17.0, 16.0, 15.0, 14.0, 13.0, 12.0, 11.0, 10.0, 9.0, 8.0, 7.0, 6.0, 5.0, 4.0, 3.0, 2.0, 1.0, -4.802700042724609, -4.80679988861084, -5.064199924468994, -5.0644001960754395, -5.066100120544434, -5.42110013961792, -5.42110013961792, -5.42110013961792, -5.42110013961792, -5.42110013961792, -5.421199798583984, -5.421199798583984, -5.421199798583984, -5.42140007019043, -5.421599864959717, -5.421599864959717, -5.4217000007629395, -5.421800136566162, -5.422500133514404, -5.423999786376953, -4.1554999351501465, -5.058499813079834, -5.060500144958496, -5.060100078582764, -5.0605998039245605, -5.980599880218506, -5.980599880218506, -5.980599880218506, -5.980599880218506, -5.980599880218506, -4.793799877166748, -4.802299976348877, -4.005099773406982, -4.827300071716309, -4.147900104522705, -4.5954999923706055, -4.7846999168396, -4.151199817657471, -4.798799991607666, -5.042300224304199, -5.063499927520752, -4.825099945068359, -5.063600063323975, -5.2357001304626465, -5.063300132751465, -5.066400051116943, -5.076700210571289, -5.124199867248535, -5.410099983215332, -5.405799865722656, -4.1244001388549805, -4.3942999839782715, -5.035900115966797, -5.392499923706055, -5.392600059509277, -5.392600059509277, -5.3927001953125, -5.3927001953125, -5.3927001953125, -5.3927998542785645, -5.3927998542785645, -5.3927998542785645, -5.3927998542785645, -5.3927998542785645, -5.39300012588501, -5.39300012588501, -5.39300012588501, -5.39300012588501, -5.393099784851074, -5.393700122833252, -5.404900074005127, -5.4054999351501465, -4.390200138092041, -4.124800205230713, -5.027100086212158, -5.030799865722656, -5.952099800109863, -5.952099800109863, -5.952099800109863, -5.952099800109863, -5.034200191497803, -4.5630998611450195, -5.028600215911865, -5.378399848937988, -4.247099876403809, -4.216599941253662, -4.383200168609619, -4.24459981918335, -4.567999839782715, -5.0467000007629395, -4.571899890899658, -5.019700050354004, -5.039700031280518, -5.056099891662598, -5.376399993896484, -5.378799915313721, -5.38539981842041, -5.384900093078613, -5.3881001472473145, -5.384200096130371, -5.388599872589111, -5.389699935913086, -5.392300128936768, -3.871799945831299, -4.73859977722168, -5.002799987792969, -5.357399940490723, -5.357500076293945, -5.357800006866455, -5.357800006866455, -5.357999801635742, -5.358099937438965, -5.358399868011475, -5.3597002029418945, -5.359799861907959, -5.3607001304626465, -5.3607001304626465, -5.360799789428711, -5.361299991607666, -3.859600067138672, -4.992800235748291, -5.917099952697754, -5.917099952697754, -5.917099952697754, -5.917099952697754, -5.917099952697754, -5.917099952697754, -5.917099952697754, -5.917099952697754, -5.917099952697754, -5.917099952697754, -5.917099952697754, -5.917200088500977, -4.729000091552734, -4.2104997634887695, -4.5100998878479, -4.739099979400635, -5.326600074768066, -4.990900039672852, -5.343100070953369, -5.352499961853027, -4.088099956512451, -5.354700088500977, -5.356200218200684, -5.356800079345703, -4.2154998779296875, -4.73799991607666, -4.99459981918335, -4.35699987411499, -5.346199989318848, -5.357900142669678]}, \"token.table\": {\"Topic\": [1, 3, 1, 3, 1, 3, 2, 1, 2, 1, 2, 3, 2, 3, 2, 3, 1, 3, 1, 1, 2, 3, 3, 1, 2, 1, 2, 2, 3, 1, 2, 3, 1, 2, 1, 2, 3, 1, 2, 3, 1, 3, 1, 3, 1, 2, 3, 1, 2, 3, 2, 1, 1, 3, 1, 2, 1, 2, 3, 3, 1, 3, 3, 1, 1, 1, 2, 3, 3, 2, 1, 3, 1, 3, 1, 2, 3, 3, 3, 1, 2, 1, 1, 1, 2, 1, 2, 1, 2, 1, 3, 1, 2, 3, 1, 1, 2, 2, 2, 3, 1, 2, 1, 2, 3, 2, 1, 1, 3, 1, 3, 3, 1, 3, 2, 1, 2, 3, 1, 2, 1, 2, 3, 1, 2, 3, 3, 1, 1, 2, 3, 1, 2, 1, 2, 1, 3, 2, 2, 1, 2, 2, 3, 3, 3, 2, 1, 3, 3, 3, 2, 3, 2, 2, 3, 1, 2, 1, 2, 1, 1, 3, 1, 2, 3, 1, 2, 3, 2, 1, 3, 2, 2, 3, 1, 1, 2, 3, 1, 2, 1, 2, 3, 3, 3, 3, 3, 2, 2, 2, 1, 2, 3, 1, 2, 3, 1, 2], \"Freq\": [0.3116692304611206, 0.7272282242774963, 0.770386815071106, 0.385193407535553, 1.0204497575759888, 0.7786448001861572, 1.0214911699295044, 0.5097000598907471, 0.5097000598907471, 1.0204706192016602, 1.0214921236038208, 0.520850658416748, 1.0214896202087402, 0.7786446809768677, 0.7709516882896423, 0.38547584414482117, 0.44427958130836487, 0.6664193868637085, 1.020443081855774, 0.5120390057563782, 0.2560195028781891, 0.2560195028781891, 0.7825677394866943, 0.7667017579078674, 0.8740277290344238, 1.0204477310180664, 1.0214916467666626, 0.3884192407131195, 0.3884192407131195, 0.9170990586280823, 1.0214909315109253, 0.7786448001861572, 0.3059781491756439, 0.6119562983512878, 0.31030502915382385, 0.15515251457691193, 0.4654575288295746, 0.1628188192844391, 0.4070470631122589, 0.4070470631122589, 0.7646493911743164, 0.7786438465118408, 0.46372106671333313, 0.46372106671333313, 0.22123564779758453, 0.44247129559516907, 0.44247129559516907, 1.020443081855774, 0.5175690650939941, 0.5175690650939941, 0.7655304074287415, 1.0204427242279053, 0.38828346133232117, 0.38828346133232117, 0.30598029494285583, 0.6119605898857117, 0.5749592185020447, 0.3833061456680298, 0.1916530728340149, 0.5208513736724854, 0.6150850653648376, 0.3075425326824188, 0.5208256840705872, 1.0204458236694336, 1.0204440355300903, 0.3077409863471985, 0.615481972694397, 0.3077409863471985, 0.7786443829536438, 1.0214927196502686, 0.7667016983032227, 0.778644323348999, 0.31146156787872314, 0.6229231357574463, 0.34989672899246216, 0.34989672899246216, 0.2799173891544342, 0.7786446213722229, 0.7786446213722229, 1.0204519033432007, 1.0214931964874268, 1.0204417705535889, 0.7667016983032227, 0.7646468281745911, 1.0214916467666626, 0.4772660732269287, 0.4772660732269287, 0.5730472207069397, 0.38203147053718567, 0.38829872012138367, 0.38829872012138367, 0.30779600143432617, 0.6155920028686523, 0.30779600143432617, 1.02044677734375, 1.0204412937164307, 1.0214916467666626, 1.021490216255188, 0.5148890614509583, 0.2574445307254791, 0.6365202069282532, 0.25460806488990784, 0.3096274733543396, 0.3096274733543396, 0.3096274733543396, 1.0214883089065552, 1.0204416513442993, 0.6150793433189392, 0.3075396716594696, 0.38836562633514404, 0.7767312526702881, 0.5208088755607605, 0.38848456740379333, 0.7769691348075867, 1.0214931964874268, 0.5405939221382141, 0.27029696106910706, 0.09009899199008942, 0.25472116470336914, 0.6368029117584229, 0.6115764379501343, 0.30578821897506714, 0.5208162665367126, 0.5095716118812561, 0.5095716118812561, 0.5208486914634705, 0.5208161473274231, 0.7667016983032227, 0.3059799373149872, 0.6119598746299744, 0.7786443829536438, 0.3826252520084381, 0.7652505040168762, 0.1699138581752777, 0.6796554327011108, 0.3877321481704712, 0.5815982222557068, 1.0214934349060059, 0.8496169447898865, 0.38262197375297546, 0.7652439475059509, 0.38841164112091064, 0.38841164112091064, 0.7786448001861572, 0.7786442041397095, 1.0214909315109253, 0.38827282190322876, 0.38827282190322876, 0.5208142995834351, 0.5208427906036377, 0.7672917246818542, 0.7786440253257751, 0.767291784286499, 0.7709465026855469, 0.38547325134277344, 0.7667017579078674, 0.767291784286499, 0.6115847826004028, 0.3057923913002014, 1.020442247390747, 0.9172009229660034, 0.5208473205566406, 0.6580086350440979, 0.21933621168136597, 0.21933621168136597, 0.1819286048412323, 0.3638572096824646, 0.45482152700424194, 1.0214883089065552, 0.6603255271911621, 0.2201085090637207, 0.7672917246818542, 0.35837647318840027, 0.5972941517829895, 1.0204410552978516, 0.22026515007019043, 0.44053030014038086, 0.22026515007019043, 0.7646521925926208, 1.0214754343032837, 0.654953122138977, 0.43663540482521057, 0.9400821328163147, 0.5208556056022644, 0.5208545327186584, 0.9992117881774902, 0.5208265781402588, 1.0214824676513672, 1.021487832069397, 1.021488070487976, 0.6135997772216797, 0.30679988861083984, 0.30679988861083984, 0.3065251410007477, 0.4597877264022827, 0.15326257050037384, 0.38261955976486206, 0.7652391195297241], \"Term\": [\"baby\", \"baby\", \"bad\", \"bad\", \"big\", \"boca\", \"breath\", \"buy\", \"buy\", \"call\", \"camera\", \"change\", \"check\", \"clearly\", \"colonel\", \"colonel\", \"come\", \"come\", \"crazy\", \"crib\", \"crib\", \"crib\", \"day\", \"diaper\", \"dibba\", \"drink\", \"e\", \"easy\", \"easy\", \"find\", \"flag\", \"fort\", \"fun\", \"fun\", \"get\", \"get\", \"get\", \"go\", \"go\", \"go\", \"god\", \"godfather\", \"good\", \"good\", \"great\", \"great\", \"great\", \"guess\", \"guy\", \"guy\", \"happen\", \"hawking\", \"hear\", \"hear\", \"help\", \"help\", \"hey\", \"hey\", \"hey\", \"hope\", \"hot\", \"hot\", \"hour\", \"house\", \"humour\", \"idea\", \"idea\", \"idea\", \"importantly\", \"india\", \"infant\", \"jeopardy\", \"kick\", \"kick\", \"know\", \"know\", \"know\", \"last\", \"lauderdale\", \"lawyer\", \"leave\", \"leonard\", \"lid\", \"lift\", \"light\", \"like\", \"like\", \"little\", \"little\", \"look\", \"look\", \"love\", \"love\", \"love\", \"lunch\", \"magic\", \"mail\", \"make\", \"man\", \"man\", \"maybe\", \"maybe\", \"meeting\", \"meeting\", \"meeting\", \"motto\", \"move\", \"need\", \"need\", \"new\", \"new\", \"news\", \"night\", \"night\", \"offensive\", \"oh\", \"oh\", \"oh\", \"okay\", \"okay\", \"old\", \"old\", \"outside\", \"people\", \"people\", \"poor\", \"pregnancy\", \"proofed\", \"pull\", \"pull\", \"raton\", \"relax\", \"relax\", \"right\", \"right\", \"room\", \"room\", \"rug\", \"say\", \"secret\", \"secret\", \"sex\", \"sex\", \"smart\", \"someday\", \"sorry\", \"sound\", \"sound\", \"space\", \"spend\", \"spin\", \"squeaky\", \"stand\", \"stop\", \"stop\", \"street\", \"stretch\", \"stuart\", \"stuart\", \"take\", \"talk\", \"taste\", \"tell\", \"tell\", \"tell\", \"think\", \"think\", \"think\", \"thursday\", \"time\", \"time\", \"tiny\", \"to\", \"to\", \"toilet\", \"try\", \"try\", \"try\", \"tub\", \"turn\", \"uh\", \"uh\", \"uuh\", \"wait\", \"wake\", \"want\", \"week\", \"weird\", \"williams\", \"wolowitz\", \"work\", \"work\", \"work\", \"yeah\", \"yeah\", \"yeah\", \"yes\", \"yes\"]}, \"R\": 30, \"lambda.step\": 0.01, \"plot.opts\": {\"xlab\": \"PC1\", \"ylab\": \"PC2\"}, \"topic.order\": [1, 3, 2]};\n",
              "\n",
              "function LDAvis_load_lib(url, callback){\n",
              "  var s = document.createElement('script');\n",
              "  s.src = url;\n",
              "  s.async = true;\n",
              "  s.onreadystatechange = s.onload = callback;\n",
              "  s.onerror = function(){console.warn(\"failed to load library \" + url);};\n",
              "  document.getElementsByTagName(\"head\")[0].appendChild(s);\n",
              "}\n",
              "\n",
              "if(typeof(LDAvis) !== \"undefined\"){\n",
              "   // already loaded: just create the visualization\n",
              "   !function(LDAvis){\n",
              "       new LDAvis(\"#\" + \"ldavis_el1231404129968351528873785287\", ldavis_el1231404129968351528873785287_data);\n",
              "   }(LDAvis);\n",
              "}else if(typeof define === \"function\" && define.amd){\n",
              "   // require.js is available: use it to load d3/LDAvis\n",
              "   require.config({paths: {d3: \"https://cdnjs.cloudflare.com/ajax/libs/d3/3.5.5/d3.min\"}});\n",
              "   require([\"d3\"], function(d3){\n",
              "      window.d3 = d3;\n",
              "      LDAvis_load_lib(\"https://cdn.rawgit.com/bmabey/pyLDAvis/files/ldavis.v1.0.0.js\", function(){\n",
              "        new LDAvis(\"#\" + \"ldavis_el1231404129968351528873785287\", ldavis_el1231404129968351528873785287_data);\n",
              "      });\n",
              "    });\n",
              "}else{\n",
              "    // require.js not available: dynamically load d3 & LDAvis\n",
              "    LDAvis_load_lib(\"https://cdnjs.cloudflare.com/ajax/libs/d3/3.5.5/d3.min.js\", function(){\n",
              "         LDAvis_load_lib(\"https://cdn.rawgit.com/bmabey/pyLDAvis/files/ldavis.v1.0.0.js\", function(){\n",
              "                 new LDAvis(\"#\" + \"ldavis_el1231404129968351528873785287\", ldavis_el1231404129968351528873785287_data);\n",
              "            })\n",
              "         });\n",
              "}\n",
              "</script>"
            ],
            "text/plain": [
              "PreparedData(topic_coordinates=              x         y  topics  cluster       Freq\n",
              "topic                                                \n",
              "0     -0.010416 -0.091405       1        1  34.719913\n",
              "2     -0.088097  0.053355       2        1  33.693241\n",
              "1      0.098513  0.038050       3        1  31.586847, topic_info=    Category       Freq     Term      Total  loglift  logprob\n",
              "58   Default   7.000000     want   7.000000  30.0000  30.0000\n",
              "85   Default   5.000000      say   5.000000  29.0000  29.0000\n",
              "159  Default   9.000000     baby   9.000000  28.0000  28.0000\n",
              "519  Default   4.000000    dibba   4.000000  27.0000  27.0000\n",
              "84   Default  10.000000     like  10.000000  26.0000  26.0000\n",
              "..       ...        ...      ...        ...      ...      ...\n",
              "207   Topic3   2.754674     good   6.469406   0.2986  -4.7380\n",
              "168   Topic3   2.131236    great   4.520067   0.4006  -4.9946\n",
              "14    Topic3   4.032158     know  14.289930  -0.1128  -4.3570\n",
              "41    Topic3   1.499497  meeting   3.229688   0.3852  -5.3462\n",
              "174   Topic3   1.481980      sex   2.574588   0.6001  -5.3579\n",
              "\n",
              "[181 rows x 6 columns], token_table=      Topic      Freq  Term\n",
              "term                       \n",
              "159       1  0.311669  baby\n",
              "159       3  0.727228  baby\n",
              "40        1  0.770387   bad\n",
              "40        3  0.385193   bad\n",
              "399       1  1.020450   big\n",
              "...     ...       ...   ...\n",
              "12        1  0.306525  yeah\n",
              "12        2  0.459788  yeah\n",
              "12        3  0.153263  yeah\n",
              "24        1  0.382620   yes\n",
              "24        2  0.765239   yes\n",
              "\n",
              "[198 rows x 3 columns], R=30, lambda_step=0.01, plot_opts={'xlab': 'PC1', 'ylab': 'PC2'}, topic_order=[1, 3, 2])"
            ]
          },
          "metadata": {
            "tags": []
          },
          "execution_count": 44
        }
      ]
    },
    {
      "cell_type": "code",
      "metadata": {
        "id": "DiDhe7GazM6f",
        "colab_type": "code",
        "outputId": "9df77801-bebd-4607-f4a7-e4ca7a603490",
        "colab": {
          "resources": {
            "http://localhost:8080/nbextensions/google.colab/files.js": {
              "data": "Ly8gQ29weXJpZ2h0IDIwMTcgR29vZ2xlIExMQwovLwovLyBMaWNlbnNlZCB1bmRlciB0aGUgQXBhY2hlIExpY2Vuc2UsIFZlcnNpb24gMi4wICh0aGUgIkxpY2Vuc2UiKTsKLy8geW91IG1heSBub3QgdXNlIHRoaXMgZmlsZSBleGNlcHQgaW4gY29tcGxpYW5jZSB3aXRoIHRoZSBMaWNlbnNlLgovLyBZb3UgbWF5IG9idGFpbiBhIGNvcHkgb2YgdGhlIExpY2Vuc2UgYXQKLy8KLy8gICAgICBodHRwOi8vd3d3LmFwYWNoZS5vcmcvbGljZW5zZXMvTElDRU5TRS0yLjAKLy8KLy8gVW5sZXNzIHJlcXVpcmVkIGJ5IGFwcGxpY2FibGUgbGF3IG9yIGFncmVlZCB0byBpbiB3cml0aW5nLCBzb2Z0d2FyZQovLyBkaXN0cmlidXRlZCB1bmRlciB0aGUgTGljZW5zZSBpcyBkaXN0cmlidXRlZCBvbiBhbiAiQVMgSVMiIEJBU0lTLAovLyBXSVRIT1VUIFdBUlJBTlRJRVMgT1IgQ09ORElUSU9OUyBPRiBBTlkgS0lORCwgZWl0aGVyIGV4cHJlc3Mgb3IgaW1wbGllZC4KLy8gU2VlIHRoZSBMaWNlbnNlIGZvciB0aGUgc3BlY2lmaWMgbGFuZ3VhZ2UgZ292ZXJuaW5nIHBlcm1pc3Npb25zIGFuZAovLyBsaW1pdGF0aW9ucyB1bmRlciB0aGUgTGljZW5zZS4KCi8qKgogKiBAZmlsZW92ZXJ2aWV3IEhlbHBlcnMgZm9yIGdvb2dsZS5jb2xhYiBQeXRob24gbW9kdWxlLgogKi8KKGZ1bmN0aW9uKHNjb3BlKSB7CmZ1bmN0aW9uIHNwYW4odGV4dCwgc3R5bGVBdHRyaWJ1dGVzID0ge30pIHsKICBjb25zdCBlbGVtZW50ID0gZG9jdW1lbnQuY3JlYXRlRWxlbWVudCgnc3BhbicpOwogIGVsZW1lbnQudGV4dENvbnRlbnQgPSB0ZXh0OwogIGZvciAoY29uc3Qga2V5IG9mIE9iamVjdC5rZXlzKHN0eWxlQXR0cmlidXRlcykpIHsKICAgIGVsZW1lbnQuc3R5bGVba2V5XSA9IHN0eWxlQXR0cmlidXRlc1trZXldOwogIH0KICByZXR1cm4gZWxlbWVudDsKfQoKLy8gTWF4IG51bWJlciBvZiBieXRlcyB3aGljaCB3aWxsIGJlIHVwbG9hZGVkIGF0IGEgdGltZS4KY29uc3QgTUFYX1BBWUxPQURfU0laRSA9IDEwMCAqIDEwMjQ7Ci8vIE1heCBhbW91bnQgb2YgdGltZSB0byBibG9jayB3YWl0aW5nIGZvciB0aGUgdXNlci4KY29uc3QgRklMRV9DSEFOR0VfVElNRU9VVF9NUyA9IDMwICogMTAwMDsKCmZ1bmN0aW9uIF91cGxvYWRGaWxlcyhpbnB1dElkLCBvdXRwdXRJZCkgewogIGNvbnN0IHN0ZXBzID0gdXBsb2FkRmlsZXNTdGVwKGlucHV0SWQsIG91dHB1dElkKTsKICBjb25zdCBvdXRwdXRFbGVtZW50ID0gZG9jdW1lbnQuZ2V0RWxlbWVudEJ5SWQob3V0cHV0SWQpOwogIC8vIENhY2hlIHN0ZXBzIG9uIHRoZSBvdXRwdXRFbGVtZW50IHRvIG1ha2UgaXQgYXZhaWxhYmxlIGZvciB0aGUgbmV4dCBjYWxsCiAgLy8gdG8gdXBsb2FkRmlsZXNDb250aW51ZSBmcm9tIFB5dGhvbi4KICBvdXRwdXRFbGVtZW50LnN0ZXBzID0gc3RlcHM7CgogIHJldHVybiBfdXBsb2FkRmlsZXNDb250aW51ZShvdXRwdXRJZCk7Cn0KCi8vIFRoaXMgaXMgcm91Z2hseSBhbiBhc3luYyBnZW5lcmF0b3IgKG5vdCBzdXBwb3J0ZWQgaW4gdGhlIGJyb3dzZXIgeWV0KSwKLy8gd2hlcmUgdGhlcmUgYXJlIG11bHRpcGxlIGFzeW5jaHJvbm91cyBzdGVwcyBhbmQgdGhlIFB5dGhvbiBzaWRlIGlzIGdvaW5nCi8vIHRvIHBvbGwgZm9yIGNvbXBsZXRpb24gb2YgZWFjaCBzdGVwLgovLyBUaGlzIHVzZXMgYSBQcm9taXNlIHRvIGJsb2NrIHRoZSBweXRob24gc2lkZSBvbiBjb21wbGV0aW9uIG9mIGVhY2ggc3RlcCwKLy8gdGhlbiBwYXNzZXMgdGhlIHJlc3VsdCBvZiB0aGUgcHJldmlvdXMgc3RlcCBhcyB0aGUgaW5wdXQgdG8gdGhlIG5leHQgc3RlcC4KZnVuY3Rpb24gX3VwbG9hZEZpbGVzQ29udGludWUob3V0cHV0SWQpIHsKICBjb25zdCBvdXRwdXRFbGVtZW50ID0gZG9jdW1lbnQuZ2V0RWxlbWVudEJ5SWQob3V0cHV0SWQpOwogIGNvbnN0IHN0ZXBzID0gb3V0cHV0RWxlbWVudC5zdGVwczsKCiAgY29uc3QgbmV4dCA9IHN0ZXBzLm5leHQob3V0cHV0RWxlbWVudC5sYXN0UHJvbWlzZVZhbHVlKTsKICByZXR1cm4gUHJvbWlzZS5yZXNvbHZlKG5leHQudmFsdWUucHJvbWlzZSkudGhlbigodmFsdWUpID0+IHsKICAgIC8vIENhY2hlIHRoZSBsYXN0IHByb21pc2UgdmFsdWUgdG8gbWFrZSBpdCBhdmFpbGFibGUgdG8gdGhlIG5leHQKICAgIC8vIHN0ZXAgb2YgdGhlIGdlbmVyYXRvci4KICAgIG91dHB1dEVsZW1lbnQubGFzdFByb21pc2VWYWx1ZSA9IHZhbHVlOwogICAgcmV0dXJuIG5leHQudmFsdWUucmVzcG9uc2U7CiAgfSk7Cn0KCi8qKgogKiBHZW5lcmF0b3IgZnVuY3Rpb24gd2hpY2ggaXMgY2FsbGVkIGJldHdlZW4gZWFjaCBhc3luYyBzdGVwIG9mIHRoZSB1cGxvYWQKICogcHJvY2Vzcy4KICogQHBhcmFtIHtzdHJpbmd9IGlucHV0SWQgRWxlbWVudCBJRCBvZiB0aGUgaW5wdXQgZmlsZSBwaWNrZXIgZWxlbWVudC4KICogQHBhcmFtIHtzdHJpbmd9IG91dHB1dElkIEVsZW1lbnQgSUQgb2YgdGhlIG91dHB1dCBkaXNwbGF5LgogKiBAcmV0dXJuIHshSXRlcmFibGU8IU9iamVjdD59IEl0ZXJhYmxlIG9mIG5leHQgc3RlcHMuCiAqLwpmdW5jdGlvbiogdXBsb2FkRmlsZXNTdGVwKGlucHV0SWQsIG91dHB1dElkKSB7CiAgY29uc3QgaW5wdXRFbGVtZW50ID0gZG9jdW1lbnQuZ2V0RWxlbWVudEJ5SWQoaW5wdXRJZCk7CiAgaW5wdXRFbGVtZW50LmRpc2FibGVkID0gZmFsc2U7CgogIGNvbnN0IG91dHB1dEVsZW1lbnQgPSBkb2N1bWVudC5nZXRFbGVtZW50QnlJZChvdXRwdXRJZCk7CiAgb3V0cHV0RWxlbWVudC5pbm5lckhUTUwgPSAnJzsKCiAgY29uc3QgcGlja2VkUHJvbWlzZSA9IG5ldyBQcm9taXNlKChyZXNvbHZlKSA9PiB7CiAgICBpbnB1dEVsZW1lbnQuYWRkRXZlbnRMaXN0ZW5lcignY2hhbmdlJywgKGUpID0+IHsKICAgICAgcmVzb2x2ZShlLnRhcmdldC5maWxlcyk7CiAgICB9KTsKICB9KTsKCiAgY29uc3QgY2FuY2VsID0gZG9jdW1lbnQuY3JlYXRlRWxlbWVudCgnYnV0dG9uJyk7CiAgaW5wdXRFbGVtZW50LnBhcmVudEVsZW1lbnQuYXBwZW5kQ2hpbGQoY2FuY2VsKTsKICBjYW5jZWwudGV4dENvbnRlbnQgPSAnQ2FuY2VsIHVwbG9hZCc7CiAgY29uc3QgY2FuY2VsUHJvbWlzZSA9IG5ldyBQcm9taXNlKChyZXNvbHZlKSA9PiB7CiAgICBjYW5jZWwub25jbGljayA9ICgpID0+IHsKICAgICAgcmVzb2x2ZShudWxsKTsKICAgIH07CiAgfSk7CgogIC8vIENhbmNlbCB1cGxvYWQgaWYgdXNlciBoYXNuJ3QgcGlja2VkIGFueXRoaW5nIGluIHRpbWVvdXQuCiAgY29uc3QgdGltZW91dFByb21pc2UgPSBuZXcgUHJvbWlzZSgocmVzb2x2ZSkgPT4gewogICAgc2V0VGltZW91dCgoKSA9PiB7CiAgICAgIHJlc29sdmUobnVsbCk7CiAgICB9LCBGSUxFX0NIQU5HRV9USU1FT1VUX01TKTsKICB9KTsKCiAgLy8gV2FpdCBmb3IgdGhlIHVzZXIgdG8gcGljayB0aGUgZmlsZXMuCiAgY29uc3QgZmlsZXMgPSB5aWVsZCB7CiAgICBwcm9taXNlOiBQcm9taXNlLnJhY2UoW3BpY2tlZFByb21pc2UsIHRpbWVvdXRQcm9taXNlLCBjYW5jZWxQcm9taXNlXSksCiAgICByZXNwb25zZTogewogICAgICBhY3Rpb246ICdzdGFydGluZycsCiAgICB9CiAgfTsKCiAgaWYgKCFmaWxlcykgewogICAgcmV0dXJuIHsKICAgICAgcmVzcG9uc2U6IHsKICAgICAgICBhY3Rpb246ICdjb21wbGV0ZScsCiAgICAgIH0KICAgIH07CiAgfQoKICBjYW5jZWwucmVtb3ZlKCk7CgogIC8vIERpc2FibGUgdGhlIGlucHV0IGVsZW1lbnQgc2luY2UgZnVydGhlciBwaWNrcyBhcmUgbm90IGFsbG93ZWQuCiAgaW5wdXRFbGVtZW50LmRpc2FibGVkID0gdHJ1ZTsKCiAgZm9yIChjb25zdCBmaWxlIG9mIGZpbGVzKSB7CiAgICBjb25zdCBsaSA9IGRvY3VtZW50LmNyZWF0ZUVsZW1lbnQoJ2xpJyk7CiAgICBsaS5hcHBlbmQoc3BhbihmaWxlLm5hbWUsIHtmb250V2VpZ2h0OiAnYm9sZCd9KSk7CiAgICBsaS5hcHBlbmQoc3BhbigKICAgICAgICBgKCR7ZmlsZS50eXBlIHx8ICduL2EnfSkgLSAke2ZpbGUuc2l6ZX0gYnl0ZXMsIGAgKwogICAgICAgIGBsYXN0IG1vZGlmaWVkOiAkewogICAgICAgICAgICBmaWxlLmxhc3RNb2RpZmllZERhdGUgPyBmaWxlLmxhc3RNb2RpZmllZERhdGUudG9Mb2NhbGVEYXRlU3RyaW5nKCkgOgogICAgICAgICAgICAgICAgICAgICAgICAgICAgICAgICAgICAnbi9hJ30gLSBgKSk7CiAgICBjb25zdCBwZXJjZW50ID0gc3BhbignMCUgZG9uZScpOwogICAgbGkuYXBwZW5kQ2hpbGQocGVyY2VudCk7CgogICAgb3V0cHV0RWxlbWVudC5hcHBlbmRDaGlsZChsaSk7CgogICAgY29uc3QgZmlsZURhdGFQcm9taXNlID0gbmV3IFByb21pc2UoKHJlc29sdmUpID0+IHsKICAgICAgY29uc3QgcmVhZGVyID0gbmV3IEZpbGVSZWFkZXIoKTsKICAgICAgcmVhZGVyLm9ubG9hZCA9IChlKSA9PiB7CiAgICAgICAgcmVzb2x2ZShlLnRhcmdldC5yZXN1bHQpOwogICAgICB9OwogICAgICByZWFkZXIucmVhZEFzQXJyYXlCdWZmZXIoZmlsZSk7CiAgICB9KTsKICAgIC8vIFdhaXQgZm9yIHRoZSBkYXRhIHRvIGJlIHJlYWR5LgogICAgbGV0IGZpbGVEYXRhID0geWllbGQgewogICAgICBwcm9taXNlOiBmaWxlRGF0YVByb21pc2UsCiAgICAgIHJlc3BvbnNlOiB7CiAgICAgICAgYWN0aW9uOiAnY29udGludWUnLAogICAgICB9CiAgICB9OwoKICAgIC8vIFVzZSBhIGNodW5rZWQgc2VuZGluZyB0byBhdm9pZCBtZXNzYWdlIHNpemUgbGltaXRzLiBTZWUgYi82MjExNTY2MC4KICAgIGxldCBwb3NpdGlvbiA9IDA7CiAgICB3aGlsZSAocG9zaXRpb24gPCBmaWxlRGF0YS5ieXRlTGVuZ3RoKSB7CiAgICAgIGNvbnN0IGxlbmd0aCA9IE1hdGgubWluKGZpbGVEYXRhLmJ5dGVMZW5ndGggLSBwb3NpdGlvbiwgTUFYX1BBWUxPQURfU0laRSk7CiAgICAgIGNvbnN0IGNodW5rID0gbmV3IFVpbnQ4QXJyYXkoZmlsZURhdGEsIHBvc2l0aW9uLCBsZW5ndGgpOwogICAgICBwb3NpdGlvbiArPSBsZW5ndGg7CgogICAgICBjb25zdCBiYXNlNjQgPSBidG9hKFN0cmluZy5mcm9tQ2hhckNvZGUuYXBwbHkobnVsbCwgY2h1bmspKTsKICAgICAgeWllbGQgewogICAgICAgIHJlc3BvbnNlOiB7CiAgICAgICAgICBhY3Rpb246ICdhcHBlbmQnLAogICAgICAgICAgZmlsZTogZmlsZS5uYW1lLAogICAgICAgICAgZGF0YTogYmFzZTY0LAogICAgICAgIH0sCiAgICAgIH07CiAgICAgIHBlcmNlbnQudGV4dENvbnRlbnQgPQogICAgICAgICAgYCR7TWF0aC5yb3VuZCgocG9zaXRpb24gLyBmaWxlRGF0YS5ieXRlTGVuZ3RoKSAqIDEwMCl9JSBkb25lYDsKICAgIH0KICB9CgogIC8vIEFsbCBkb25lLgogIHlpZWxkIHsKICAgIHJlc3BvbnNlOiB7CiAgICAgIGFjdGlvbjogJ2NvbXBsZXRlJywKICAgIH0KICB9Owp9CgpzY29wZS5nb29nbGUgPSBzY29wZS5nb29nbGUgfHwge307CnNjb3BlLmdvb2dsZS5jb2xhYiA9IHNjb3BlLmdvb2dsZS5jb2xhYiB8fCB7fTsKc2NvcGUuZ29vZ2xlLmNvbGFiLl9maWxlcyA9IHsKICBfdXBsb2FkRmlsZXMsCiAgX3VwbG9hZEZpbGVzQ29udGludWUsCn07Cn0pKHNlbGYpOwo=",
              "ok": true,
              "headers": [
                [
                  "content-type",
                  "application/javascript"
                ]
              ],
              "status": 200,
              "status_text": ""
            }
          },
          "base_uri": "https://localhost:8080/",
          "height": 71
        }
      },
      "source": [
        "from google.colab import files\n",
        "uploaded = files.upload()"
      ],
      "execution_count": 0,
      "outputs": [
        {
          "output_type": "display_data",
          "data": {
            "text/html": [
              "\n",
              "     <input type=\"file\" id=\"files-09c74da8-c813-459e-a8eb-8c27e4d93f10\" name=\"files[]\" multiple disabled />\n",
              "     <output id=\"result-09c74da8-c813-459e-a8eb-8c27e4d93f10\">\n",
              "      Upload widget is only available when the cell has been executed in the\n",
              "      current browser session. Please rerun this cell to enable.\n",
              "      </output>\n",
              "      <script src=\"/nbextensions/google.colab/files.js\"></script> "
            ],
            "text/plain": [
              "<IPython.core.display.HTML object>"
            ]
          },
          "metadata": {
            "tags": []
          }
        },
        {
          "output_type": "stream",
          "text": [
            "Saving send_M_crag.csv to send_M_crag.csv\n"
          ],
          "name": "stdout"
        }
      ]
    },
    {
      "cell_type": "code",
      "metadata": {
        "id": "QhwmbFozzMhC",
        "colab_type": "code",
        "outputId": "9813608e-1193-464e-c69f-f8e6ca0cb917",
        "colab": {
          "base_uri": "https://localhost:8080/",
          "height": 204
        }
      },
      "source": [
        "import pandas as pd\n",
        "\n",
        "data_ep = pd.read_csv('send_M_crag.csv', delimiter=';')\n",
        "data_ep.head()"
      ],
      "execution_count": 0,
      "outputs": [
        {
          "output_type": "execute_result",
          "data": {
            "text/html": [
              "<div>\n",
              "<style scoped>\n",
              "    .dataframe tbody tr th:only-of-type {\n",
              "        vertical-align: middle;\n",
              "    }\n",
              "\n",
              "    .dataframe tbody tr th {\n",
              "        vertical-align: top;\n",
              "    }\n",
              "\n",
              "    .dataframe thead th {\n",
              "        text-align: right;\n",
              "    }\n",
              "</style>\n",
              "<table border=\"1\" class=\"dataframe\">\n",
              "  <thead>\n",
              "    <tr style=\"text-align: right;\">\n",
              "      <th></th>\n",
              "      <th>Unnamed: 0</th>\n",
              "      <th>label</th>\n",
              "      <th>text</th>\n",
              "      <th>serie</th>\n",
              "    </tr>\n",
              "  </thead>\n",
              "  <tbody>\n",
              "    <tr>\n",
              "      <th>0</th>\n",
              "      <td>0</td>\n",
              "      <td>Sheldon</td>\n",
              "      <td>You realize you and I could become brothers.</td>\n",
              "      <td>1</td>\n",
              "    </tr>\n",
              "    <tr>\n",
              "      <th>1</th>\n",
              "      <td>1</td>\n",
              "      <td>Leonard</td>\n",
              "      <td>We’re not gonna be brothers. We’re not gonna ...</td>\n",
              "      <td>1</td>\n",
              "    </tr>\n",
              "    <tr>\n",
              "      <th>2</th>\n",
              "      <td>2</td>\n",
              "      <td>Sheldon</td>\n",
              "      <td>I hope you’re right. ‘Cause a grown man livin...</td>\n",
              "      <td>1</td>\n",
              "    </tr>\n",
              "    <tr>\n",
              "      <th>3</th>\n",
              "      <td>3</td>\n",
              "      <td>Sheldon</td>\n",
              "      <td>Okay. Do you think your father’s doing unspea...</td>\n",
              "      <td>1</td>\n",
              "    </tr>\n",
              "    <tr>\n",
              "      <th>4</th>\n",
              "      <td>4</td>\n",
              "      <td>Sheldon</td>\n",
              "      <td>Are you saying that because the things are un...</td>\n",
              "      <td>1</td>\n",
              "    </tr>\n",
              "  </tbody>\n",
              "</table>\n",
              "</div>"
            ],
            "text/plain": [
              "   Unnamed: 0  ... serie \n",
              "0           0  ...      1\n",
              "1           1  ...      1\n",
              "2           2  ...      1\n",
              "3           3  ...      1\n",
              "4           4  ...      1\n",
              "\n",
              "[5 rows x 4 columns]"
            ]
          },
          "metadata": {
            "tags": []
          },
          "execution_count": 17
        }
      ]
    },
    {
      "cell_type": "code",
      "metadata": {
        "id": "LfyZIwvoRQgP",
        "colab_type": "code",
        "colab": {}
      },
      "source": [
        "del data_ep['Unnamed: 0']"
      ],
      "execution_count": 0,
      "outputs": []
    },
    {
      "cell_type": "code",
      "metadata": {
        "id": "0h4yfFKazMeX",
        "colab_type": "code",
        "outputId": "3574a1f4-8f7e-4d39-ba7a-db461836d12f",
        "colab": {
          "base_uri": "https://localhost:8080/",
          "height": 204
        }
      },
      "source": [
        "data_ep.head()"
      ],
      "execution_count": 0,
      "outputs": [
        {
          "output_type": "execute_result",
          "data": {
            "text/html": [
              "<div>\n",
              "<style scoped>\n",
              "    .dataframe tbody tr th:only-of-type {\n",
              "        vertical-align: middle;\n",
              "    }\n",
              "\n",
              "    .dataframe tbody tr th {\n",
              "        vertical-align: top;\n",
              "    }\n",
              "\n",
              "    .dataframe thead th {\n",
              "        text-align: right;\n",
              "    }\n",
              "</style>\n",
              "<table border=\"1\" class=\"dataframe\">\n",
              "  <thead>\n",
              "    <tr style=\"text-align: right;\">\n",
              "      <th></th>\n",
              "      <th>label</th>\n",
              "      <th>text</th>\n",
              "      <th>serie</th>\n",
              "    </tr>\n",
              "  </thead>\n",
              "  <tbody>\n",
              "    <tr>\n",
              "      <th>0</th>\n",
              "      <td>Sheldon</td>\n",
              "      <td>You realize you and I could become brothers.</td>\n",
              "      <td>1</td>\n",
              "    </tr>\n",
              "    <tr>\n",
              "      <th>1</th>\n",
              "      <td>Leonard</td>\n",
              "      <td>We’re not gonna be brothers. We’re not gonna ...</td>\n",
              "      <td>1</td>\n",
              "    </tr>\n",
              "    <tr>\n",
              "      <th>2</th>\n",
              "      <td>Sheldon</td>\n",
              "      <td>I hope you’re right. ‘Cause a grown man livin...</td>\n",
              "      <td>1</td>\n",
              "    </tr>\n",
              "    <tr>\n",
              "      <th>3</th>\n",
              "      <td>Sheldon</td>\n",
              "      <td>Okay. Do you think your father’s doing unspea...</td>\n",
              "      <td>1</td>\n",
              "    </tr>\n",
              "    <tr>\n",
              "      <th>4</th>\n",
              "      <td>Sheldon</td>\n",
              "      <td>Are you saying that because the things are un...</td>\n",
              "      <td>1</td>\n",
              "    </tr>\n",
              "  </tbody>\n",
              "</table>\n",
              "</div>"
            ],
            "text/plain": [
              "     label                                               text  serie \n",
              "0  Sheldon       You realize you and I could become brothers.       1\n",
              "1  Leonard   We’re not gonna be brothers. We’re not gonna ...       1\n",
              "2  Sheldon   I hope you’re right. ‘Cause a grown man livin...       1\n",
              "3  Sheldon   Okay. Do you think your father’s doing unspea...       1\n",
              "4  Sheldon   Are you saying that because the things are un...       1"
            ]
          },
          "metadata": {
            "tags": []
          },
          "execution_count": 19
        }
      ]
    },
    {
      "cell_type": "code",
      "metadata": {
        "id": "8Vg0ksaQj1P4",
        "colab_type": "code",
        "outputId": "c70b997c-1cf1-4a8b-952b-f30686d9f15f",
        "colab": {
          "base_uri": "https://localhost:8080/",
          "height": 204
        }
      },
      "source": [
        "data_pro_ep = preprocess_corpus(data_ep['text'])\n",
        "data_ep['text'] = data_pro_ep\n",
        "token_len_ep = []\n",
        "for i in data_ep['text']:\n",
        "    token_len_ep.append(len(i))\n",
        "data_ep['token_number'] = token_len_ep\n",
        "data_ep.head()"
      ],
      "execution_count": 0,
      "outputs": [
        {
          "output_type": "execute_result",
          "data": {
            "text/html": [
              "<div>\n",
              "<style scoped>\n",
              "    .dataframe tbody tr th:only-of-type {\n",
              "        vertical-align: middle;\n",
              "    }\n",
              "\n",
              "    .dataframe tbody tr th {\n",
              "        vertical-align: top;\n",
              "    }\n",
              "\n",
              "    .dataframe thead th {\n",
              "        text-align: right;\n",
              "    }\n",
              "</style>\n",
              "<table border=\"1\" class=\"dataframe\">\n",
              "  <thead>\n",
              "    <tr style=\"text-align: right;\">\n",
              "      <th></th>\n",
              "      <th>label</th>\n",
              "      <th>text</th>\n",
              "      <th>serie</th>\n",
              "      <th>token_number</th>\n",
              "    </tr>\n",
              "  </thead>\n",
              "  <tbody>\n",
              "    <tr>\n",
              "      <th>0</th>\n",
              "      <td>Sheldon</td>\n",
              "      <td>[realize, brother]</td>\n",
              "      <td>1</td>\n",
              "      <td>2</td>\n",
              "    </tr>\n",
              "    <tr>\n",
              "      <th>1</th>\n",
              "      <td>Leonard</td>\n",
              "      <td>[go, to, brother, go, to, stepbrother, sleep]</td>\n",
              "      <td>1</td>\n",
              "      <td>7</td>\n",
              "    </tr>\n",
              "    <tr>\n",
              "      <th>2</th>\n",
              "      <td>Sheldon</td>\n",
              "      <td>[hope, right, cause, grown, man, live, brother...</td>\n",
              "      <td>1</td>\n",
              "      <td>10</td>\n",
              "    </tr>\n",
              "    <tr>\n",
              "      <th>3</th>\n",
              "      <td>Sheldon</td>\n",
              "      <td>[okay, think, father, unspeakable, thing, mother]</td>\n",
              "      <td>1</td>\n",
              "      <td>6</td>\n",
              "    </tr>\n",
              "    <tr>\n",
              "      <th>4</th>\n",
              "      <td>Sheldon</td>\n",
              "      <td>[say, thing, unspeakable]</td>\n",
              "      <td>1</td>\n",
              "      <td>3</td>\n",
              "    </tr>\n",
              "  </tbody>\n",
              "</table>\n",
              "</div>"
            ],
            "text/plain": [
              "     label  ... token_number\n",
              "0  Sheldon  ...            2\n",
              "1  Leonard  ...            7\n",
              "2  Sheldon  ...           10\n",
              "3  Sheldon  ...            6\n",
              "4  Sheldon  ...            3\n",
              "\n",
              "[5 rows x 4 columns]"
            ]
          },
          "metadata": {
            "tags": []
          },
          "execution_count": 23
        }
      ]
    },
    {
      "cell_type": "code",
      "metadata": {
        "id": "vNP4SEfkuDS7",
        "colab_type": "code",
        "outputId": "dbdab0c4-f022-44da-8c40-7f7382c026d6",
        "colab": {
          "base_uri": "https://localhost:8080/",
          "height": 34
        }
      },
      "source": [
        "from sklearn.preprocessing import LabelEncoder\n",
        "encoder = LabelEncoder()\n",
        "encoder.fit(data_ep['label'])\n",
        "all_class = encoder.transform(data_ep['label'])\n",
        "dict(enumerate(encoder.classes_))"
      ],
      "execution_count": 0,
      "outputs": [
        {
          "output_type": "execute_result",
          "data": {
            "text/plain": [
              "{0: 'Howard', 1: 'Leonard', 2: 'Penny', 3: 'Raj', 4: 'Sheldon'}"
            ]
          },
          "metadata": {
            "tags": []
          },
          "execution_count": 27
        }
      ]
    },
    {
      "cell_type": "code",
      "metadata": {
        "id": "JBoWQcWJScIH",
        "colab_type": "code",
        "outputId": "77b9b681-98d9-45c1-e313-a84ffe837995",
        "colab": {
          "base_uri": "https://localhost:8080/",
          "height": 34
        }
      },
      "source": [
        "data_ep.columns"
      ],
      "execution_count": 0,
      "outputs": [
        {
          "output_type": "execute_result",
          "data": {
            "text/plain": [
              "Index(['label', 'text', 'serie ', 'token_number'], dtype='object')"
            ]
          },
          "metadata": {
            "tags": []
          },
          "execution_count": 34
        }
      ]
    },
    {
      "cell_type": "code",
      "metadata": {
        "id": "7hwsyNhJSVKb",
        "colab_type": "code",
        "colab": {}
      },
      "source": [
        "dict_ep = {}\n",
        "for i in dict(enumerate(encoder.classes_)).values():\n",
        "  dict_ep[i] = [0]*data_ep['serie '].nunique()"
      ],
      "execution_count": 0,
      "outputs": []
    },
    {
      "cell_type": "code",
      "metadata": {
        "id": "YjVaIXexj1JI",
        "colab_type": "code",
        "colab": {}
      },
      "source": [
        "for x, y in enumerate(data_ep['token_number']):\n",
        "  dict_ep[data_ep['label'][x]][data_ep['serie '][x]-1] += y"
      ],
      "execution_count": 0,
      "outputs": []
    },
    {
      "cell_type": "code",
      "metadata": {
        "id": "3UIF5rnP84qc",
        "colab_type": "code",
        "outputId": "1b1281a2-0f2f-4b99-f27e-7540e08f5bb7",
        "colab": {
          "base_uri": "https://localhost:8080/",
          "height": 34
        }
      },
      "source": [
        "words_ = 0\n",
        "for i in data_ep['token_number']:\n",
        "  words_ += i\n",
        "words_"
      ],
      "execution_count": 0,
      "outputs": [
        {
          "output_type": "execute_result",
          "data": {
            "text/plain": [
              "7462"
            ]
          },
          "metadata": {
            "tags": []
          },
          "execution_count": 37
        }
      ]
    },
    {
      "cell_type": "code",
      "metadata": {
        "id": "7oJ6bSmbzMbw",
        "colab_type": "code",
        "outputId": "ea7b0370-d627-4c30-8c08-fe926ca15216",
        "colab": {
          "base_uri": "https://localhost:8080/",
          "height": 102
        }
      },
      "source": [
        "dict_ep"
      ],
      "execution_count": 0,
      "outputs": [
        {
          "output_type": "execute_result",
          "data": {
            "text/plain": [
              "{'Howard': [63, 112, 43, 48, 114, 142, 83, 25, 79, 42, 99, 42, 104],\n",
              " 'Leonard': [64, 72, 98, 134, 101, 100, 135, 30, 135, 115, 66, 107, 147],\n",
              " 'Penny': [126, 154, 57, 94, 128, 48, 87, 25, 54, 59, 85, 98, 129],\n",
              " 'Raj': [65, 63, 133, 25, 44, 44, 33, 206, 47, 69, 149, 18, 74],\n",
              " 'Sheldon': [180, 195, 190, 295, 217, 236, 288, 246, 313, 218, 207, 246, 217]}"
            ]
          },
          "metadata": {
            "tags": []
          },
          "execution_count": 38
        }
      ]
    },
    {
      "cell_type": "code",
      "metadata": {
        "id": "lvKEGzdnw2Cs",
        "colab_type": "code",
        "outputId": "59c29825-8365-4bf5-dde9-bd5ef5abe580",
        "colab": {
          "base_uri": "https://localhost:8080/",
          "height": 54
        }
      },
      "source": [
        "ddd = []\n",
        "for i in dict_lda['Howard']:\n",
        "  ddd.append(' '.join(i))\n",
        "' '.join(ddd)"
      ],
      "execution_count": 0,
      "outputs": [
        {
          "output_type": "execute_result",
          "data": {
            "text/plain": [
              "'maybe traffic ticket hey think secret government agent chase make lunatic yeah okay performance anxiety people know yes hello uh howard wolowitz colonel richard williams hi colonel williams help oh uh yes india know immigration status relax hold speaking okay sure meet thursday caltech fine yeah ask colonel meeting bad news calm try think bother talk know invention away point story yell change air force contact quantum gyroscope want meeting happen able sell commercially count money need wife try hard bed oh yeah think stay thin sheldon contribute weapon system oppress mankind thousand year know maybe meeting talk lawyer jewish like say hey indian cousin work centre cousin lawyer second cousin boca raton well fort lauderdale importantly last day jeopardy clearly smart guy marry little catholic girl leonard sheldon come guidance system like say e mail meeting thursday advice group effort guess pick main brain thank know little concerned weapon maybe know work hour day seven day week love french toast awkward pause break say okay stop go to campus deeply silly man maybe classified pretty late think get time run simulation cool system wake go to lot late night take long drink vend machine maybe break lunch time develop problem fast probably will work try haul whup crazy baby get get to teach hit bit snag schedule cool cause say great job weird friend appointment yeah blobert bloberta blobbi know sex baby know maybe surprise fun like magic trick remember disappointed explain end hanky delightful pull bouquet end scarf thing doctor pull beautiful surprise listen presto change o baby inside ta da screw call find soon home hope dark want spend time baby come want spend time baby come honey ya feel book say stage pregnancy morning sickness go away good news right ready hot hour car ride desert stay tell like secret vacation home sound sexy know weird turn right pull quarter ear magic hand fact toe sound like oh god house go to e mail know rely humour time stress hot tub answer disturbing think stuart hear talk go away guess decide invite maybe hey look like boil chicken breast nah go to hurt feeling maybe people fish tank turn porch light hot tub drink wine jet secret spot call relax need know jackass buy hot tub kick actual kick feel kick baby oh mean know pregnant connect idea pregnancy actually have baby oh god ready infant house crib diaper baby proofed walk street lift toilet lid look willy wonka roll juicing room good school ow oh go little shopping baby okay go bit overboard price safety safe crib buy like return new minivan hey lunch baby buy dealer loan test drive guy dealership say mom anymore get rearview camera dvd player oh check like live future imagine get baby hand grocery think go to open trunk need help open trunk simple kick foot easy look cargo space crib test drive tell van go to uuh uuh uuh uuh oh yeah oh let gps near emergency room aah think wolowitze lift people tip lift people go to feel terrible wheelchair way fit easily award win minivan childbirth half bad screw pain watch cartoo oh good joy fun well manner fly pennant flag banner oh fun flag aw think audience funny jpl actually develop robot arm grab asteroid hit oh curiosity register odd hear guy ask single right get gold hang trouble throw face want penny actually know right want tell yes secretly move collectible storage little time notice know week know wait till moment cause pain know move hall good leonard stuff like sheldon old room solve okay question chap wear assless huh screw give steam broccoli right long know self conscious cleavage oh yeah astronomer raj tell hey free toilet paper sorry pass think fall cart use research want busy somebody want meet hello everybody little friend remote control stephen hawking find old box buy big deal check say fun stuff eye light dark okay raj go to think offensive think hilarious great idea go tell like crazy work hawking get great sense humour think like laugh guy get hit nut conduct quick survey think respectful loving tribute great man poor taste think poor taste right offensive good mood go upgrade software night think cute hang maybe bad idea mean good job take care mother like butler batsuit bruce wayne pajama cape mm know make lose respect hey tomorrow want paint nursery guy hear want oh oh okay okay uh uh uh plan somebody tell plan love oh man happen okay stop india sorry know try help love keep surprise talk like creepy right camera far know ruin try relax minute stuart stop drive like old man speed little deep breath slow breath uh stuart come go to kid know girl kind ruin plan wally wolowitz debbie hate hm good grandma yeah year old figure tootsie roll naturally warm thank god answer right today come bernie breathe remember learn birth class tired great great name halley exactly like comet bernadette say go to sex year go to thank stay wait halley meet new aunt uncle godfather baby asleep room hey find superhero baby wipe perfect way clean crime tushie mean stuart maybe play possum go away hard sleep crying think outside box come good job mommy proud good night love girl paternity leave pay sucka forget baby new yeah get hook tv someday want play outside boy floor squeaky surprised wake walk room rug help try nail couple board yeah leave little hole floor buy rug sound expensive mit motto mind hand happen motto lonely teenager okay grid represent room need plot squeak find quiet path crib mm creature crib level poop monster okay space squeak mark mm hope sex square tradition people rich man ya ba dibba dibba dibba dibba dibba dibba dum map entire room identify squeak watch easy simply sit spin stand stretch maybe loose pant step grab tiny pivot pull easy peasy mac idea big problem feel pop'"
            ]
          },
          "metadata": {
            "tags": []
          },
          "execution_count": 70
        }
      ]
    },
    {
      "cell_type": "code",
      "metadata": {
        "id": "b0VEBNokyEJ_",
        "colab_type": "code",
        "outputId": "0522e517-5d62-4571-da21-9870dd96fe1a",
        "colab": {
          "base_uri": "https://localhost:8080/",
          "height": 122
        }
      },
      "source": [
        "heroes = {}\n",
        "for i in dict_lda:\n",
        "  record = []\n",
        "  for s in dict_lda[i]:\n",
        "    record.append(' '.join(s))\n",
        "  heroes[i] = ' '.join(record)\n",
        "heroes"
      ],
      "execution_count": 0,
      "outputs": [
        {
          "output_type": "execute_result",
          "data": {
            "text/plain": [
              "{'Howard': 'maybe traffic ticket hey think secret government agent chase make lunatic yeah okay performance anxiety people know yes hello uh howard wolowitz colonel richard williams hi colonel williams help oh uh yes india know immigration status relax hold speaking okay sure meet thursday caltech fine yeah ask colonel meeting bad news calm try think bother talk know invention away point story yell change air force contact quantum gyroscope want meeting happen able sell commercially count money need wife try hard bed oh yeah think stay thin sheldon contribute weapon system oppress mankind thousand year know maybe meeting talk lawyer jewish like say hey indian cousin work centre cousin lawyer second cousin boca raton well fort lauderdale importantly last day jeopardy clearly smart guy marry little catholic girl leonard sheldon come guidance system like say e mail meeting thursday advice group effort guess pick main brain thank know little concerned weapon maybe know work hour day seven day week love french toast awkward pause break say okay stop go to campus deeply silly man maybe classified pretty late think get time run simulation cool system wake go to lot late night take long drink vend machine maybe break lunch time develop problem fast probably will work try haul whup crazy baby get get to teach hit bit snag schedule cool cause say great job weird friend appointment yeah blobert bloberta blobbi know sex baby know maybe surprise fun like magic trick remember disappointed explain end hanky delightful pull bouquet end scarf thing doctor pull beautiful surprise listen presto change o baby inside ta da screw call find soon home hope dark want spend time baby come want spend time baby come honey ya feel book say stage pregnancy morning sickness go away good news right ready hot hour car ride desert stay tell like secret vacation home sound sexy know weird turn right pull quarter ear magic hand fact toe sound like oh god house go to e mail know rely humour time stress hot tub answer disturbing think stuart hear talk go away guess decide invite maybe hey look like boil chicken breast nah go to hurt feeling maybe people fish tank turn porch light hot tub drink wine jet secret spot call relax need know jackass buy hot tub kick actual kick feel kick baby oh mean know pregnant connect idea pregnancy actually have baby oh god ready infant house crib diaper baby proofed walk street lift toilet lid look willy wonka roll juicing room good school ow oh go little shopping baby okay go bit overboard price safety safe crib buy like return new minivan hey lunch baby buy dealer loan test drive guy dealership say mom anymore get rearview camera dvd player oh check like live future imagine get baby hand grocery think go to open trunk need help open trunk simple kick foot easy look cargo space crib test drive tell van go to uuh uuh uuh uuh oh yeah oh let gps near emergency room aah think wolowitze lift people tip lift people go to feel terrible wheelchair way fit easily award win minivan childbirth half bad screw pain watch cartoo oh good joy fun well manner fly pennant flag banner oh fun flag aw think audience funny jpl actually develop robot arm grab asteroid hit oh curiosity register odd hear guy ask single right get gold hang trouble throw face want penny actually know right want tell yes secretly move collectible storage little time notice know week know wait till moment cause pain know move hall good leonard stuff like sheldon old room solve okay question chap wear assless huh screw give steam broccoli right long know self conscious cleavage oh yeah astronomer raj tell hey free toilet paper sorry pass think fall cart use research want busy somebody want meet hello everybody little friend remote control stephen hawking find old box buy big deal check say fun stuff eye light dark okay raj go to think offensive think hilarious great idea go tell like crazy work hawking get great sense humour think like laugh guy get hit nut conduct quick survey think respectful loving tribute great man poor taste think poor taste right offensive good mood go upgrade software night think cute hang maybe bad idea mean good job take care mother like butler batsuit bruce wayne pajama cape mm know make lose respect hey tomorrow want paint nursery guy hear want oh oh okay okay uh uh uh plan somebody tell plan love oh man happen okay stop india sorry know try help love keep surprise talk like creepy right camera far know ruin try relax minute stuart stop drive like old man speed little deep breath slow breath uh stuart come go to kid know girl kind ruin plan wally wolowitz debbie hate hm good grandma yeah year old figure tootsie roll naturally warm thank god answer right today come bernie breathe remember learn birth class tired great great name halley exactly like comet bernadette say go to sex year go to thank stay wait halley meet new aunt uncle godfather baby asleep room hey find superhero baby wipe perfect way clean crime tushie mean stuart maybe play possum go away hard sleep crying think outside box come good job mommy proud good night love girl paternity leave pay sucka forget baby new yeah get hook tv someday want play outside boy floor squeaky surprised wake walk room rug help try nail couple board yeah leave little hole floor buy rug sound expensive mit motto mind hand happen motto lonely teenager okay grid represent room need plot squeak find quiet path crib mm creature crib level poop monster okay space squeak mark mm hope sex square tradition people rich man ya ba dibba dibba dibba dibba dibba dibba dum map entire room identify squeak watch easy simply sit spin stand stretch maybe loose pant step grab tiny pivot pull easy peasy mac idea big problem feel pop',\n",
              " 'Leonard': 'go to brother go to stepbrother sleep sorry stuff go to ceremony awkward help buddy mother penny want stay glad decide stay go to special penny share yeah special like thing awkward happen right marry time guy say dad good mom ridiculous go hall leave wait meet drink penny scientist job figure thing happen think understand like like know maybe hey thrill get minute alien kid spend money asthma glass upgrade realize military declare research classify thing away go big payday crazy snapchat lawyer sheldon know definition know someday murder charge hear cause talk enrage people get enrage exactly yeah good grasp physics mean will able penny breakfast day realize brioche french toast thing keep marriage colonel say good country funding substantial oh look like wish far parking space like reinstate talk rule retinal scanner glass sure figure thermo acoustic expander month deliver air force guy go to start fight try oh good dream carry bed let head hit wall laugh oh complicated find push little door reach machine accord world bad cuckoo clock afford lose time helpful fun think helpful hey sheldon time crunch pull uh okay let pretend problem let think throw work good way deal rotational symmetry figure fake caffeine problem sheldon deal impossible deadline air force energy drink energy drink order suppository shove want care right listen whiteboard understand contract know consequence violate uh go to able deliver time promise stink long apartment building combination copper galvanized steel susceptible pinhole corrosion cause mobility ion water head shove toilet pick thing plumbing live sheldon word inconvenience lose meaning mm hmm right direction shave yesterday good month okay star trek original series enterprise year mission explore new world think personal week mission worried romance good question maybe come nod smile go try think answer will stop leave belt floor night look like snake pocket case wait long line startle easily flash photography enjoy mission boldly man go year guacamole sheldon bedtime night weird parent feel kid go college feel sad different hey sheldon go music dance underwear oh worry sweet move sex inevitable let hip talkin world forget dance dance revolution smooth criminal feel like pull tell stop need break owner train store let leave coffee hint watch daredevil think helpful thing tell backsie hey compromise settle difference live go to conflict communicate hey joke keep go to good reintroduce sweater scent actually howard come space look thing need understand sheldon bad prefer think need pant hem beat live start sheldon cooper like get pet have know kind pet ruin life look penny start live learn curve promise easy exactly learn mistake matter well toilet nearby oh true think accomplish get stop purelle pocket change get thing glove glove compartment get try turkey dog stop like walk pinocchio right real boy oh try need good locksmith need dinky little convention sell collectible sad d list celebrity appear awesome serial ape ist yeah pathetic draw line come fun nerd fawn love marriage trouble yeah wow appearance george dermatologist oh want autograph oh need autograph session head shot marker kid pay dollar theo sassler signature oh know like theo sassler okay look get change maker change want little lady yeah dollar luck table feel powerful okay seventy sign black white ninety colour bring moneymaker let shake oh think autograph kiss wrong people like river carve canyon right change daddy short asthmatic scientist land stone cold fox time skywriting look cute have fun live lie yeah leave stay plan save earth armageddon hope bunch scientist catch ball awful quiet okay worry probably distract work buddy buddy listen bad go want know work apartment finish couple week ago enjoy live want end early sheldon big deal little white lie tell terrible advice superman go stormtrooper go damn klingon month khoo vakh take waldo eventually guess kind curious long think hide stuff know oh god go blind fine tell sheldon apartment finish say confused mm hmm call secretly rid husband stuff bernadette tell howard howard tell plus stuff go think notice stuff miss batman ooh maybe turn gaming den look room get pink power ranger like kid want feel home decorate way make happy robot poster assless chap important bedroom want love hide stuff closet tell penny green thing see eat skittle oh astronomer married attractive need baby hairless smell like talcum powder true sheldon father pick fight cactus know smart send away fun nightmare door number sheldon way say proud bert money win know great sarcastic quip hear ignore cranky bert geology lab win big grant potential indicator life planet fun watch read work hey buddy walk calm hey try help wave arm little fly away compliment ask know understand feel brother sister accomplishment hold head wet bed college think quality fix visualize anger toss life let fly get angry kick rock foot oh laugh hard burst blood vessel nose fine go to let know video help question life choice spin trick oh new think learn excuse picture hard picture stooge away stooge jealous money raj family yeah love love love hair love change subject oh mind pull butterscotch pocket like walk grandma change plaque mix race couple grandma hey sheldon get feel well oh good play poker sir isaac care sound right limited edition collectible worth hundred dollar thing grow thing fish trash oh yeah mr spock cuckoo clock know sheldon fact care know go to happen go to come reason like official flag apartment order know flag community jack price oh field blue represent miserable lion stick tongue mean happy wi fi work oh know sheldon change password new network ha ha ha get sheldon gargamel smurf good revenge sheldon know change password sheldon warn play game separate delicate level stoop believe flag crotch checkmate easy peasy ooh breezy time old lady park keep scream watch right hello unbelievable okay uh know tell stay ridiculous live year awful selfish go sure point will notice come go hospital damn need inhaler go stair fast sure like okay breathe babe want sex find backup inhaler maybe frisky find backup inhaler want sex hang count okay come hospital child hard believe howard have kid howard bernadette mean look far come penny struggle actress meet successful pharmaceutical rep sheldon howard work government quantum gyroscope come peace relationship parent big milestone oh like halley comet yeah let finish pack stuff know sheldon see christmas stuff lie new year live walmart throw tantrum see marshmallow peep easter man complain find marshmallow peep easter throw baby win good flight drive comic con need juice purpose way happen high school bad start binge watch luke cage kind thing find watch episode oh yeah think spock ear good comic con oh cool like pointy eare paul bunyan tenth time mitten slippery know easily blister look fight let ruin night stop try salvage evening need break ask break want decorate tonight hope kill way ask elevator shaft tree ignore baby stop cry tell use amy magic juice sound like have rough day want come home nice hey remember go wine tasting santa barbara say wine favourite pizza bagel careful hot explain thermodynamic cheese hot crust instead go to know easy grant want love like river peaceful deep soul like secret quote favourite nsync song damn burp hard die game nice wear size half go to laugh answer know penny win spa weekend work take hang boy night spend allowance comic book ignore suppose mean hey come tell ridiculous let talk effort relationship day tell want play game sheldon stop try relationship progress start infatuation time mellow comfortable fail state relationship penny want wait day work pull car kick penny dump get okay say effort make effort listen realize uh face new challenge married couple help relationship agreement tailor okay need bathroom schedule article subsection c question penny fine unacceptable response include worry say worry',\n",
              " 'Penny': 'parent old unspeakable finish sleep god think brother fresh jail go to uncomfortable okay go to pick family like hour half hour depend traffic oh hey favour right beverly get bring night right far concerned know want play dumb okay beverley overreact little know share cab nightcap yeah plus leave alfred know get skin oh wait meet tell uh like jail drug uh randall believe year finally visit california right guy uh settle hall hi think funny okay listen mom know nervous promise go to judge family pretty good actually get assign well territory learn good hey get know okay understand little tense today go to important stuff leonard stand family friend bring lot feeling like good idea elope time incredibly happy thank marry hopefully time right work giant pharmaceutical company anti anxiety med know leonard feel anxious long walk think go to hide pregnancy yeah drive safe love oh god blab pregnant mean slip assistantone day oh coat honey cute jacket oh god feel bad lie super helpful amy thank lot wait oh sale seminar new sleeping pill like minute yeah go upset people find pregnant sure sure uh figure tell hmm guess go to remain mystery know like happen seminar dim light uh know high school girl talk friend corner bathroom forgave okay right honey know scared tell yesterday ball terrify tell truth barbara chen reason know accident sorry lie oh know lie girl bathroom yeah actually dump retainer toilet mouth like lemon bar make feel well bernadette mad feel well tell people work pregnant ready know slip feel terrible oh amy say go research project go to let run threaten sue funny learn totally different oh beautiful oh wine listen people crap understand mean different single day life talk mingle yeah mean eat guest party oh funny think thing tell foot fungus secret trend setter okay okay amy cool sheldon cool tell leonard know trick wear know idea caltech exactly like high school wow popular girl mean fact know granite granite little geology joke ugh lose valuable oh great know pipe burst need place crash stay course stay leonard room stay place guess finally live husband okay guy sex time fire like proud wait guy stay hall live okay will bad sit spot go know proud try live amy cute story um want ask mm biggie insane roommate kick soon possible know sound like cliché compromise key little thing like bring cup coffee bed go to see lot respect personal space need emotional wow believe apartment genius thing come ugh sex inevitable think science diss new neighbour weird okay confused mr robot yeah tell babe sheldon hope people monkey banana right let apart cool okay joke challenging challenging leonard breathe big deal leonard kind annoying end world know leonard ready morning give goofy thumb hey hey hey know night leonard nose whistle loud swear like sleep train track oh like sinus right car yeah ice cream oh barely interested physical relationship person want confuse disappoint kiss mother mouth cause fine go to hit girl get strawberry favourite possible actually want meet happen dad poor thing afraid go to like dad road sheldon want share toothbrush holder ice cream parlour try pick woman honey instead worry pain cause future try fix pain cause right finish ice cream home bed good think sheldon like amy crazy find move hey hear van nuys comic con get ask sign autograph monkey movie haemorrhoid commercial list guess hurt meet fan little extra money okay leonard sweet excited miracle person ask autograph feel like sell candy team new uniform assume talk movie today know yeah river keep show pokémon card believe say watch news yeah wonder go to apartment ready deal apartment take long wet wall mm drywall sheldon believe crap woman wall store yeah swing apartment way restaurant go to fix mess uh enjoy live call love oh believe friend friend wife eye wow uh notice key chain tell howard hide leonard thing wizard robe sweetie stop pay rent okay feel discomfort great know get rid stuff uhbubububuh candle turn room sex dungeon okay open eye new room know go little overboard dial oh mean love watch eat afraid shirt great raj common come eat broccoli say baby possible mean lego sort super intelligent child yeah earth parent know one send oh hear interview radio know tell win believe believe funny know meet bert indicator life planet like scroll emojis phone know answer get excited get old fast dolore knock life fine big baby like short hair right seriously like know come talk howard dopey haircut think hate nerd believe punch bert oh wow fair uh run candy halloween give away picture commission lose yeah need stab break uh hang think click weird trick flat belly see celebrity look like pet jerk usually sleep person boyfriend kind feel like think go to run want come apartment right sheldon line okay hotel text morning alive little lower left little hideous yeah think start show dream guy wake bernadette have baby oh fast sneeze baby okay talk guy later bye say come go to matter go hospital awake diner oh god birthday let fun bar oh course annual birthday booty spectacular sorry flavour bubble gum cigar oh sexy wheezy little man hear maybe quiet away hey bernadette water break howard bernadette kid bear birthday cool time sorry okay struggle time actress know raj honey hard meet talk woman mean talk room hey buy vend machine bag come baby oh look baby hey help food yeah live anymore oh bernadette say run late baby throw howard howard throw howard tell listen oh boy think bad oh problem amy sheldon tell trip texas stop okay tell mary live fight get feeling hurt underwear head tell sheldon look earring actually get pretty nasty fight fair edge christmas tree cute elf hey hey find farm let chop tree stupid physicist understand swing axe let ugh degree need mitten yes yes bruise peel like married old piece fruit windshield shame ask break tree yeah gasoline match sure poor thing exhaust believe fit crib pleasure oh thoughtful yeah remember drive go winery oh hey smell good pink wine pizza bagel like eighth grade lucky oh know believe quote nsync song hey ask question marry normal husband kind completely stop give crap leonard thing like bring flower wear pant pant like get marry try uh chip wine hm take interest fine lately kind feel like take grant get marry think try exactly want talk okay know maybe amy spa weekend instead time get massage leonard stand try rose parade okay leonard appreciate need little time right talk tomorrow try figure get divorce yeah thing need stay think useful believe um rule texte help romance article subsection b leonard restrict videogame underpant hour penny home include boxer brief thong g string call attention pasty little thigh',\n",
              " 'Raj': 'funny think talk know live moment discuss lie government hey sure tell home come indian friend give message moment step door oh mention know hurt feeling oh come bad come meeting okay bad know happen scientist work manhattan project government force desert live secret oppenheimer object destroy reputation read book oppenheimer like chance happy hebraic homeboy yeah smile go to remember live desert live wife yeah military guy show howard door terrifying give business card ask pass howard white guy bear brown guy lot syllable terrifying wail till snapchat friend work secret government project fine facebook like caveman family lawyer cousin work centre oh patent bumblebee office possible month guy agree deadline guess will see guy wow go work military leave know army wife feel right afraid feeling night mind oh want mall look baby stuff oh come share pretzel sideways glance racist old lady oh know start clear baby room embarrassed go to room birth think go to kitchen morning sound music julie andrews say let start beginning good place start think thing rid tone oh nice little yeah worrisome skip spin class think mean pregnant fine uh instead clean room decide theme nursery course baby room theme oh winnie pooh step start colour right amazing one red blue green purple okay thelma louise crime scene photo near crib spring mind bernadette come look overthinke okay go to amazing mom believe know maternal instinct happy feed take story whoa call dad okay get experience deal pregnant lady obgyn experience crazy lady mom friend bernadette pregnant bit worried think maybe talk happy obgyn son gynaecologist helpful polite response thank notice somebody know see folder accident doctor leave folder desk fault open look flip coin get shot time bernadette head palm spring know want watch old people sweat facetime family india hmm leave tub good thing stop ah aah need crash place okay choice choice okay embarrassed hot tub pretty bad wonder feel like bernadette baby get late maybe head home wait till crib find yeah high rate market crib fortress solitude baby zero expect ding pretty good crib buy minivan think husband hey trunk trunk gentle kick wrong admit pretty smooth ride howard howard look dvd screen batman animate series favourite babysitte way longer fill heart make eye moist send flag pole hoist pay sandwich go to die eat kale oh god look like percent honest relationship eat cake toilet single table think live record chap assless oh god get fun onion funyun hold wobble yes definitely gravitational wobble oh okay find wobble gravitational wobble sign extrasolar planet contain life someday name yeah probably difficult pronounce oh year old know dip tootsie roll nutella oh allow lot calorie thank good luck future endeavour eat like year old time try stick pencil gross eat meet somebody yes telescope room yes make sense good brand new proper date fun clean toilet grow house servant cleaning lady lovely woman great respect oh good walk dog buy grocery cut hair uh forgive forgive nosy wedding ring pretty rubber glove oh unencumbered love kid old wonderful lawyer sister lawyer look common maybe thing common come dinnertime enjoy eat food oh yes oh okay uh good night know maybe fume urinal cake feel like happen okay leave know time come think oh say time dinner think right oh come telescope room like dine star uh double zero say zero mean twinkle take clean room hall oh sit try cook meal homeland depend mexican food cuba um surprise come america think get waffle maker question sorry honestly think job bother guess hate lot thing totally embarrass prepare mortify let dog eat food mouth like know pretty scare butterfly come let happen nice guy tough go guy show youtube video people get hit nut laugh guy leonard glad move forward robot uprising begin look like walk like human emotion sheldon get jealous jealous leonard penny howard bernadette happy relationship thank say buy thing good have money think cute uh howard bernadette know like possum wall kind thing oh buy chinese takeout read good idea new parent infant cpr class control plenty help village yeah maybe village busy check local montessori school new arrival crib know realize buy crib hey pregnancy emotionally needy wheel way come good point oh hey bernadette swing come different mobile giraffe pretty cute think nose naturally brown starve artist pull van team baby right hold go to drive like india way syphilitic dog fine point billion people know have baby doctor office folder right take peek sorry ambiguous minute apart start hour minute apart start contraction essentially like minute come hospital head home happy okay little home ready come want entrance daddy try tell cool baby day go to want say lot thing boat car whale like thar blow okay go to sign contain adult language guy idea hard know like hello howard bernadette kick tell have girl oopsy go to quiet people kick imagine day go right know fair spend month help bernadette ready baby howard spend minute conceive generous bad kick let stuart stay god sake drive knife think worthwhile oh yay doctorate astrophysic bit awesome pasty faced owner comic book store oh great thing like believe break break yes help hear stuart get dog godchild guy goddaughter think know know india baby brother cry like servant far away hear leave oh personally maybe baby jerk bright early yeah hear baby monitor think think turn theme walk dead lullaby know blue shag think hang offence father mit train engineer thinking building oh come need creative step floor like swing rope ceiling okay um okay rig pulley system room harness look like map dungeon dragon okay uh check squeak mark nice think grow room daughter go bounce hand air like material girl need ot retire karaoke song sock break neck hold think impressed',\n",
              " 'Sheldon': 'realize brother hope right cause grown man live brother brother wife weird okay think father unspeakable thing mother say thing unspeakable hey want sleep go to stop talk nice play dumb example oh golly humiliate stop throw towel oh excuse mother talk accurately know coitus need skilled psychiatrist right equally awkward get defile mother conversation include phrase genital joy behold joy behold genital man name jesus convince build church africa kind sucker chattahoochee national forest georgia know halfway mediocre academic accord beverley sexual prowess sub par basically leonard big prostate yes get solid dig pretty efficient huh leave bickering parent hang hang smart figure okay mary beverley uh alfred beverley leonard alfred like face oh get great start god sad today mom reason rush mean look take thing remarkably slow hold hand year hey hey cold shower grandpa people cry wedding speak love stds elderly skyrocket yeah excuse need pretty special wait longer leonard up down consider family recent threat parent fornicate like wrinkly old rabbit great importance plenty time meet geriatric boy toy need drive car mind business mother look elon musk theory character advanced civilization video game good game sound terrifying gentleman think lose sight real issue precipice faceless cog military industrial complex exciting star war stormtrooper march perfect formation harass civilian think hey okay howard board think leonard need howard cousin know person know lot thing like correct people wrong german besserwisser tax lawyer fort lauderdale helpful intellectual property sign advice okay uh meeting complete oil painting recommend leave unsigned practice law boca raton say thing mean mean thing right jeopardy allow alex trebek form question complete waste time understand talk meeting okay quick question allow exchange pleasantry meet colonel allow inform colonel sander actually military fine ooh use text speech software yeah hi dr sheldon cooper actual brain project engineer real scientist mit trade school death star star war star trek thank service oh leonard mad make lemon bar mad lemon bar know go to happen committed complete project ridiculously short time frame upset mm make feel well parasitoid wasp know oobius depressus rediscover year presume extinction bernadette thing feel well educational look sorry tell bernadette upset exactly happen say purpose regret realize building classify way away lemon bar good thing oh go pump cerebral spinal fluid brain cell remove metabolic product day thought call sleep bedtime nighty night raccoon look irritable make bad dream good friend tyrant force stay night work oh thank caffeine cool yoo hoo chocolate milk delicious watery cousin superhero performance enhance chemical face great deal work like thing better famous people like free flash stay business gentleman ready work quote martian let science faece martian book martian movie marvin martian quote marvin martian claim planet mars oh fantastic well energy drink feel great hey guy want wrestle arm thumb mud sumo nah fat wear diaper head hurt tired need energy drink oh craving sign chemical dependency know plenty thing addictive single exposure mean crack cocaine nicotine pringles know pop stop want bet oh great addict gambling bear display symptom caffeine withdrawal uh go caffeine try life track leonard ask question right toss room um think good way fight addiction wean step find caffeine patch find claim mind boost caffeine suppository know interesting fact rectum shove come easy glide applicator figure math rack brain day get smart think sorry fault computation require overcome deployability issue significant think smile like crazy people cohabitation girlfriend great deal process know live kill romance yeah happen peek curtain mean see unshaven try lure sexy talk want lure sexy talk learn comfortable live amy comfortable apartment experiment go valid suggest neutral environment ideally enclosed self sustain biodome new mexico eat crop fertilize waste interesting official residence hall wonder need knock time come historically change darn right matter spot like embassy foreign country seat sovereign soil board yes accept week mission share live space girlfriend surprised like star trek cancel course ideal way conduct experiment pair identical sheldon amys pair date live pair date live pair live date course pair live date sheldon party live significant time like experiment insight share know leonard happy come pair underwear pack truly goofu gallant oh excited concerned little scared emotion feel line space mountain wow foreplay right relief honestly work kiss right know probably sell child penny bedroom plenty man go oh forget tuesday air filter need change oh oh day check water level avocado pit bed prefer live equal know know tendency control choose clearly want want decision refuse like let shoe wheel watch roll right traffic fine okay close exit case emergency close entrance case attack ah odd attack offer proximity bathroom close window pervert watch sleep kind worried hide drape oh happy know memory foam remember funny ask wonder feel separate pillow wall okay sorry worried sensitivity temperature rough night offence radiate heat surprised iguana lie dr feynman solve learn good morning knock fine knock fine knock fine sleep great floor kind scientist draw conclusion hour datum wow anticipate problem think scientific rigour lab room disposable shoe cover fit whoa whoa make fun bona fide protective scientific method use week finish start science maybe stephen hawking roll quad inform amy enjoy adhere strict bathroom schedule roll accept fate oh look favour compromise woman marry leonard hofstadter think people male evolutionary drive perpetuate dna restrict single partner nature blame blame pal biology pervert pull string know people quick accuse difficult live truth amy challenging sleep breathe night get bad grab toto complain people work know shower eye like piece meat know like appreciate mind notice flat go drive aimlessly ice cream amy subservient coitus time suddenly gloria steinem suppose ice cream parlour good place meet woman amy awake sexual creature pretty gal walk street think hubba hubba like guy like spend rest life open freezer go aw strawberry hmm spend day scooping arm probably big wise year get penny go tell story tell year old spring break college come home early run math teach mother bible study walk house expect find hear sound come parent bedroom open door see father have relation woman know open door knock time mean lock eye run room speak amy live bicker like parent yes need prepare save pain road sound silly tone sure right suppose apologize hurt watch look woman consider understand think nanny want apologize behaviour today unnecessary warm oh willing forego bathroom schedule amy know interested see woman prove willing relationship level amy farrah fowler share toothbrush holder people time maintenance people pizza delivery man up driver feel need ask part hang right fine let entertain people type gathering mind huh meal lunch brunch dinner afternoon tea formal tea hmm party kind party cocktail party tupperware party ooh surprise party oh hope west coast party accord man radio west coast party stop oh hope knock call teamwork express interest have people feel dismiss quickly take matter hand arrange brunch oh uh stuart bert geology lab mrs petrescu downstairs yes oh fun story grow sibling possibly penguin english atrocious time host think wise conduct trial run know like practice halloween haunt house go bathroom bus station see jump bus station oh real surprise surprised great surprise randy guest way average cork speed mile hour fast school certainly fast kitchen okay moment oh mimosas come stuart bert caltech geology lab mrs petrescu downstairs amy apartment fix live know exactly throw brunch want work kink hmm word sound reasonable face look angry help shine okay look sincere word completely false glad test run brunch wild true mean koothrappali suppose minority stuart wait know feel like leave right stuart grant acceptable know truly valuable member social group know fact like propose toast stuart fine man good friend wonderful guest know love handwriting impeccable mean mean like soul label maker know piece paper temporarily need fasten left corner know turn hurt people oh calm away mus fuss single cuss welcome location episode dr sheldon cooper dr amy farrah fowler present hit learn place dr fowler begin experiment live apartment water damage friend penny place remember episode flag people understand let roll sleevi know nevis like time check buda pest unite form budapest budapest budabest thank service gentleman hope broaden audience youthful rock roll music yeah thai food near apartment drop check progress terrified step nail fall butt crack know like landlord complain oh mind good complaining olympic sport complain stupid sport home gold purposely change subject feeling find topic irresistible ancient mesopotamia king refer people property concerned amy act bit odd lately behaviour feeling hide trouble eat sleep ask consistency bowel movement know share body woman netflix password recommend stella get groove deceive order spend time oh feel flattered hurt like people look like skeleton nightmare christmas will tolerate deception relationship choice confront klingon word day calendar go khoo vakh go confront penny hmm know instead confront far willing spin tangle webs like spider man action figure desk excellent hungry speak go apartment wait uh see apartment despite recent event consider experiment cohabitation positive hey everybody want spend time like man sugar world ant night continue live suppose find new place know technically stay pasadena altadena place end dena like smoker building pet mould traffic noise go to learn new bus route try soothe singe star trek theme lullaby child know space odyssey right soothing struggle thought leave old bedroom need go breathe pillow girl earth go focus decision face gentleman significant decision amy continue live leonard apparently figure guy help contemplate buridan donkey familiar reference huh yeah wonder relate century persian philosopher al ghazali story man catch date al ghazali anti aristotelian boy think know guy hurt scale pebble shoe monkey think pet bite face eat altoid science brave science oh jiminy cold right warn trick incomplete know thing bother like hear da da da da da dah yell thank yell charge work brain cell oh let look oh goodness quiver black line neuron oh thick beautiful profound sense creation like hatch sea monkey dna like monkey yeah monkey pop oh oh oh oh wait monkey hey start run test stimulus introduce light sound temperature oh oh let understand mean fun look look stand incubator uh microscopic view cell aw yeah little guy recognize electronically transmit image faster sample amy lab yeah nice share experience journey right test chart float waste waddle flight stair heck yeah recognize specific data stream background noise need immune system live state art german incubator okay fine let agree creation special way foolish try compare need sex howard win look image give white noise manage reconstruct yeah need stop magnet way home go right fridge uh lock door low underpant little baby clearly combination dna exceptional child step evolution mankind able preschool want oh yes track cycle hour fertile manure cover wheat field understand think thrill procreate oh happen play hard oops clumsy know let hey go look care brandy good choice disgusting try seduce long day turn smooth jazz spray deer musk inner thigh like pet hair lot goop amy come know open oyster amy want come leave choice employ passionate seductive dance know man flamenco stupid want home hey call genius grant macarthur fellowship like frankenstein frankenstein monster bring hulking simpleton genius way bring circle oh good maybe build nice bridge live george martin guy know finish story genius zinge sarcasm notice peach leave bike hallway know know ride steal listen radio joke bert bert bert want read geology paper yeh eh oh hope happy make read bert work remarkable upset bad admit cedric entertainer actually entertaining yeah angry tell angry make angry know hear word angry make feel good idea guess have fine walk ahead scare pigeon admire leonard happy jealous people instead weigh ambition float like dead body river believe surpass geologist mean rock study rock rock great come paper beat leonard have primal urge throw rock rock encapsulate negative emotion cast far away feel free pigeon try let anger throw rock foot yeah get thing line uh think call name helpful thank penny know need remind bert success failure man large stature susceptible wide array life threaten disease afternoon gentleman new day new outlook know realize need worry people need think bert quality research deserve accolade receive excuse need pay bert proper congratulation bert want let know read research award deserved count people know sure know ask excuse aah leonard hurt go punch water fountain slip water water fountain hit head water fountain disappointed jealousy completely illogical sorry move slowly oh plaque want bert bert bert right let bert need talk rock rock water fountain proud envious recent success hope admit weakness unburdened know weakness hate hang enemy enemy enemy friend right bad enemy make friend okay good yes right amy past profess feeling eat inside punch turn give captain kirk karate chop sure know thank leonard go to think cool deal success colleague thank professor hawk gift mankind statue know lincoln memorial big chair swap right wonderful idea man nobel people know cause delightful let single thing apartment know think couch look fantastic curb building know wonder feel artwork truly capture beauty friendship penny yeah right look smile painting yeah hook closet hang right know leonard think number mutually own item apartment uh example get beloved sword longclaw fair painting wonderful longclaw avocado plant amy plant lovely housewarming gift oh get sword plant apartment shape oh remember get comic con leonard know hand love mr spock hand care clock right hall probably able hear oh chess set think want physical reminder game manage win kindness probably game sure item represent share time man good predict move come stink chess fault bad sharing skip kindergarten like flag design understand symbolism powder sugar doughnut leonard hofstadter like chess game length width depth amy neosporin somebody get burn right try title autobiography ooh second degree burn good thing cute level stoop fresh linen bed oh meet theodore theodore new roommate leonard penny honest leave cash lie room pay end month include rent dollar night leave oh oh expect newspaper morning apparently true line man kitchen produce single form would know kind vengeful bed breakfast think run awful go way hurt divide belonging difficult admit leave amy hard think leonard like stop fight possession fact want apartment flag say touch genital hard feeling willing rub genital midnight happy birthday go wrap touch scotch tape give heebie jeebie functional mri brain sudoku take rip mri orbitofrontal cortex light think move annual coitus portion birthday festivity come hither plaid pj yeah afraid childbirth loom coitus banner night female genital wolowitz hand cigar find bubble gum cigar join look foolish start rethink flash onesie buy kid matter want birthday decide bit childish grape find mild believe kiss like randy teenager nose whistle slightly oh like foxy tea kettle sure earlier tonight thing begin organically feel force like pirate caribbean sequel oh know leonard penny think want disappoint want disappoint know come birthday soldier intriguing track hint train train go to cozy sleeper car orient express kill mood wowza gryffindor sleep hufflepuff scandalous naughty girl go wizarde world theme park yes trouble go wizarde world know want minute wrong take hour right know learn amy go theme park go ruin birthday wait ruin individual hour sprinkle year boop mom ask bunk bed think point undeniable raj compassion thing think oh speak personal growth recently try eat swiss chard know swallow amy say count successful homeless fun think bernadette baby wizarde world time complete birthday celebration hankius pankius amy see magic train report somebody cut line foreplay know oh know lone star state hmm yelp rating yeah good home oh good lord mistletoe maniacs calendar fine weird taste juice amy give sleep way want hear religious lecture give sister boyfriend brother girlfriend father girlfriend un christian word eh know precious little boy flower give hand prepare little self serve oh wait wait eat know mean god time busy schedule bless sloppy joe right amy live sin like couple new yorkers scold go knife fork joe sloppy sheldon wh judgment wh fire brimstone tell go hell see size bug outside special circumstance think go rest life highly insulting child worry brother sister combine intellectual wattage power potato clock spot potato room hear say unsocialised eccentric mother think yeah understand take girlfriend say weirdo believe mother think strange butter foot swim fin go go chronologically right koothrappali father omar eye sparkletts guy know mention live place disagree know evolution believe noah amazing zoo boat avoid listen mother think incapable find mate mate think incapable run life know excited itchy letter feel contact mother delight guess year car act odd intentionally leave tell decide mother view child go rebellious phase get earring mother amy alcohol understand wrong sock bernadette express interest baby promise touch wait story end baby jerk bernadette bad mother twist come baby -PRON- say new mother experience baby blue good thing reassure good job bernadette good job thank internet tell right youtube video howard vasectomy oh small human wreak havoc wife genital get time leonard mean ask size shoe wear try interest people life small tell plan weekend answer shop baby shoe oh know interesting wonder kind infection come home money fungal have girl night hall age man night win move win move win oh penny try interest people uh girl night hmm eat drink play tennis drape leonard drunk chip amy free harp lesson saturday get cancel boy interest people uncork geyser nonsense tiny bottle shampoo know feel uncomfortable engage public display affection relationship strain x equal miss miss x plus sad tea way like good lord tea drink cheer want play jenga uh ticket ride hearthstone happy lose wow remember love playing game maybe penny relationship phone hmm yeah right like encounter pythagorean theorem know blow away square hypotenuse sum square opposite side like eh like play driving game invent mind know penny go spa away sure go get married spur moment divorce different effort look effortless know like whip quick relationship agreement spa relaxing hey later check minibar godzilla get drunk cucumber water know mean tell somebody interesting world boring liquid world boring vegetable bleugh oh good fight divorce christmas write contract let party start find draft acceptable believe new relationship agreement ready sign oh great sign date penny initial indicate accept leonard condition mm forget nostalgia clause'}"
            ]
          },
          "metadata": {
            "tags": []
          },
          "execution_count": 71
        }
      ]
    },
    {
      "cell_type": "code",
      "metadata": {
        "id": "Yzfvsj2GzGbU",
        "colab_type": "code",
        "colab": {}
      },
      "source": [
        "from collections import Counter\n",
        "import re"
      ],
      "execution_count": 0,
      "outputs": []
    },
    {
      "cell_type": "code",
      "metadata": {
        "id": "aM98IY-bzGXv",
        "colab_type": "code",
        "outputId": "624e6417-6dfc-42fa-deed-6954812a3d74",
        "colab": {
          "base_uri": "https://localhost:8080/",
          "height": 122
        }
      },
      "source": [
        "for key, value in heroes.items():\n",
        "  cnt = Counter(x for x in re.findall(r'[a-z\\']{2,}', value))\n",
        "  print(key, cnt.most_common(10))"
      ],
      "execution_count": 0,
      "outputs": [
        {
          "output_type": "stream",
          "text": [
            "Howard [('know', 21), ('go', 18), ('think', 16), ('oh', 16), ('like', 15), ('baby', 14), ('to', 12), ('maybe', 11), ('okay', 11), ('want', 10)]\n",
            "Leonard [('go', 28), ('know', 22), ('oh', 22), ('like', 21), ('sheldon', 21), ('want', 15), ('think', 14), ('to', 13), ('good', 13), ('thing', 12)]\n",
            "Penny [('know', 31), ('oh', 29), ('like', 25), ('go', 20), ('okay', 20), ('yeah', 17), ('get', 15), ('to', 14), ('tell', 14), ('leonard', 14)]\n",
            "Raj [('oh', 26), ('think', 20), ('know', 20), ('like', 20), ('come', 15), ('okay', 14), ('go', 13), ('baby', 12), ('guy', 10), ('good', 10)]\n",
            "Sheldon [('know', 75), ('oh', 57), ('like', 44), ('go', 35), ('think', 33), ('right', 28), ('amy', 26), ('want', 23), ('leonard', 22), ('people', 22)]\n"
          ],
          "name": "stdout"
        }
      ]
    }
  ]
}