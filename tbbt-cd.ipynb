{
 "cells": [
  {
   "cell_type": "code",
   "execution_count": 482,
   "metadata": {},
   "outputs": [],
   "source": [
    "import numpy as np\n",
    "import pandas as pd\n",
    "file = open('tbbt.txt', 'r')\n",
    "text = file.read()\n",
    "file.close()"
   ]
  },
  {
   "cell_type": "code",
   "execution_count": 483,
   "metadata": {},
   "outputs": [],
   "source": [
    "dicc = {}\n",
    "k =[]\n",
    "v = []\n",
    "ids = []\n",
    "for t, i in enumerate(text.split('\\n')):\n",
    "    sp = i.split(':')\n",
    "    ids.append(t)\n",
    "    k.append(sp[0])\n",
    "    v.append(sp[1])"
   ]
  },
  {
   "cell_type": "code",
   "execution_count": 484,
   "metadata": {},
   "outputs": [],
   "source": [
    "krep = list(zip(ids, k, v))"
   ]
  },
  {
   "cell_type": "code",
   "execution_count": 486,
   "metadata": {},
   "outputs": [
    {
     "data": {
      "text/plain": [
       "<sqlite3.Cursor at 0x1a3242d180>"
      ]
     },
     "execution_count": 486,
     "metadata": {},
     "output_type": "execute_result"
    }
   ],
   "source": [
    "import sqlite3\n",
    " \n",
    "conn = sqlite3.connect(\"Shows.db\") \n",
    "cursor = conn.cursor()\n",
    "\n",
    "cursor.execute(\"\"\"CREATE TABLE TheBigBangTheory\n",
    "                  (id, label, text)\n",
    "               \"\"\")"
   ]
  },
  {
   "cell_type": "code",
   "execution_count": 488,
   "metadata": {},
   "outputs": [],
   "source": [
    "cursor.executemany(\"INSERT INTO TheBigBangTheory VALUES (?,?,?)\", krep)\n",
    "conn.commit()"
   ]
  },
  {
   "cell_type": "code",
   "execution_count": 489,
   "metadata": {},
   "outputs": [],
   "source": [
    "conn = sqlite3.connect(\"Shows.db\")\n",
    "data_tbt = pd.read_sql_query(\"select * from TheBigBangTheory;\", conn)"
   ]
  },
  {
   "cell_type": "code",
   "execution_count": 513,
   "metadata": {},
   "outputs": [],
   "source": [
    "data_tbt = pd.read_sql_query(\"select * from TheBigBangTheory;\", conn)"
   ]
  },
  {
   "cell_type": "code",
   "execution_count": 514,
   "metadata": {},
   "outputs": [
    {
     "data": {
      "text/html": [
       "<div>\n",
       "<style scoped>\n",
       "    .dataframe tbody tr th:only-of-type {\n",
       "        vertical-align: middle;\n",
       "    }\n",
       "\n",
       "    .dataframe tbody tr th {\n",
       "        vertical-align: top;\n",
       "    }\n",
       "\n",
       "    .dataframe thead th {\n",
       "        text-align: right;\n",
       "    }\n",
       "</style>\n",
       "<table border=\"1\" class=\"dataframe\">\n",
       "  <thead>\n",
       "    <tr style=\"text-align: right;\">\n",
       "      <th></th>\n",
       "      <th>id</th>\n",
       "      <th>label</th>\n",
       "      <th>text</th>\n",
       "    </tr>\n",
       "  </thead>\n",
       "  <tbody>\n",
       "    <tr>\n",
       "      <th>0</th>\n",
       "      <td>0</td>\n",
       "      <td>Sheldon</td>\n",
       "      <td>It’s not what it looks like. It’s not what it...</td>\n",
       "    </tr>\n",
       "    <tr>\n",
       "      <th>1</th>\n",
       "      <td>1</td>\n",
       "      <td>Leonard</td>\n",
       "      <td>What are you grinding about?</td>\n",
       "    </tr>\n",
       "    <tr>\n",
       "      <th>2</th>\n",
       "      <td>2</td>\n",
       "      <td>Sheldon</td>\n",
       "      <td>Penny’s brain teaser this morning. She and Ko...</td>\n",
       "    </tr>\n",
       "    <tr>\n",
       "      <th>3</th>\n",
       "      <td>3</td>\n",
       "      <td>Leonard</td>\n",
       "      <td>Just let it go, Sheldon.</td>\n",
       "    </tr>\n",
       "    <tr>\n",
       "      <th>4</th>\n",
       "      <td>4</td>\n",
       "      <td>Sheldon</td>\n",
       "      <td>If I could, I would, but I can’t, so I shan’t...</td>\n",
       "    </tr>\n",
       "  </tbody>\n",
       "</table>\n",
       "</div>"
      ],
      "text/plain": [
       "   id    label                                               text\n",
       "0   0  Sheldon   It’s not what it looks like. It’s not what it...\n",
       "1   1  Leonard                       What are you grinding about?\n",
       "2   2  Sheldon   Penny’s brain teaser this morning. She and Ko...\n",
       "3   3  Leonard                           Just let it go, Sheldon.\n",
       "4   4  Sheldon   If I could, I would, but I can’t, so I shan’t..."
      ]
     },
     "execution_count": 514,
     "metadata": {},
     "output_type": "execute_result"
    }
   ],
   "source": [
    "data_tbt.head()"
   ]
  },
  {
   "cell_type": "code",
   "execution_count": 630,
   "metadata": {},
   "outputs": [],
   "source": [
    "import seaborn as sns \n",
    "import matplotlib.pyplot as plt"
   ]
  },
  {
   "cell_type": "markdown",
   "metadata": {},
   "source": [
    "# Visualization"
   ]
  },
  {
   "cell_type": "code",
   "execution_count": 631,
   "metadata": {},
   "outputs": [
    {
     "data": {
      "image/png": "[encoded data removed]",
      "text/plain": [
       "<Figure size 1440x864 with 1 Axes>"
      ]
     },
     "metadata": {},
     "output_type": "display_data"
    }
   ],
   "source": [
    "plt.figure(figsize=(20,12))\n",
    "sns.countplot(data_tbt['label'].sort_values())\n",
    "plt.title(\"characters\",fontsize=20)\n",
    "loc, labels = plt.xticks()\n",
    "plt.xticks(fontsize=12,rotation=90)\n",
    "plt.show()"
   ]
  },
  {
   "cell_type": "code",
   "execution_count": 515,
   "metadata": {},
   "outputs": [],
   "source": [
    "quest = []\n",
    "for i in data_tbt['text']:\n",
    "    if '?' in i:\n",
    "        quest.append(1)\n",
    "    else:\n",
    "        quest.append(0)"
   ]
  },
  {
   "cell_type": "code",
   "execution_count": 516,
   "metadata": {},
   "outputs": [],
   "source": [
    "data_tbt['question'] = quest"
   ]
  },
  {
   "cell_type": "code",
   "execution_count": 517,
   "metadata": {},
   "outputs": [],
   "source": [
    "import nltk\n",
    "from nltk import sent_tokenize"
   ]
  },
  {
   "cell_type": "code",
   "execution_count": 518,
   "metadata": {},
   "outputs": [],
   "source": [
    "sents = []\n",
    "for i in data_tbt['text']:\n",
    "    sent_ = nltk.sent_tokenize(i)\n",
    "    sents.append(len(sent_))"
   ]
  },
  {
   "cell_type": "code",
   "execution_count": 519,
   "metadata": {},
   "outputs": [],
   "source": [
    "data_tbt['sent_number'] = sents"
   ]
  },
  {
   "cell_type": "code",
   "execution_count": 520,
   "metadata": {},
   "outputs": [
    {
     "data": {
      "text/html": [
       "<div>\n",
       "<style scoped>\n",
       "    .dataframe tbody tr th:only-of-type {\n",
       "        vertical-align: middle;\n",
       "    }\n",
       "\n",
       "    .dataframe tbody tr th {\n",
       "        vertical-align: top;\n",
       "    }\n",
       "\n",
       "    .dataframe thead th {\n",
       "        text-align: right;\n",
       "    }\n",
       "</style>\n",
       "<table border=\"1\" class=\"dataframe\">\n",
       "  <thead>\n",
       "    <tr style=\"text-align: right;\">\n",
       "      <th></th>\n",
       "      <th>id</th>\n",
       "      <th>label</th>\n",
       "      <th>text</th>\n",
       "      <th>question</th>\n",
       "      <th>sent_number</th>\n",
       "    </tr>\n",
       "  </thead>\n",
       "  <tbody>\n",
       "    <tr>\n",
       "      <th>0</th>\n",
       "      <td>0</td>\n",
       "      <td>Sheldon</td>\n",
       "      <td>It’s not what it looks like. It’s not what it...</td>\n",
       "      <td>0</td>\n",
       "      <td>2</td>\n",
       "    </tr>\n",
       "    <tr>\n",
       "      <th>1</th>\n",
       "      <td>1</td>\n",
       "      <td>Leonard</td>\n",
       "      <td>What are you grinding about?</td>\n",
       "      <td>1</td>\n",
       "      <td>1</td>\n",
       "    </tr>\n",
       "    <tr>\n",
       "      <th>2</th>\n",
       "      <td>2</td>\n",
       "      <td>Sheldon</td>\n",
       "      <td>Penny’s brain teaser this morning. She and Ko...</td>\n",
       "      <td>0</td>\n",
       "      <td>4</td>\n",
       "    </tr>\n",
       "    <tr>\n",
       "      <th>3</th>\n",
       "      <td>3</td>\n",
       "      <td>Leonard</td>\n",
       "      <td>Just let it go, Sheldon.</td>\n",
       "      <td>0</td>\n",
       "      <td>1</td>\n",
       "    </tr>\n",
       "    <tr>\n",
       "      <th>4</th>\n",
       "      <td>4</td>\n",
       "      <td>Sheldon</td>\n",
       "      <td>If I could, I would, but I can’t, so I shan’t...</td>\n",
       "      <td>1</td>\n",
       "      <td>13</td>\n",
       "    </tr>\n",
       "  </tbody>\n",
       "</table>\n",
       "</div>"
      ],
      "text/plain": [
       "   id    label                                               text  question  \\\n",
       "0   0  Sheldon   It’s not what it looks like. It’s not what it...         0   \n",
       "1   1  Leonard                       What are you grinding about?         1   \n",
       "2   2  Sheldon   Penny’s brain teaser this morning. She and Ko...         0   \n",
       "3   3  Leonard                           Just let it go, Sheldon.         0   \n",
       "4   4  Sheldon   If I could, I would, but I can’t, so I shan’t...         1   \n",
       "\n",
       "   sent_number  \n",
       "0            2  \n",
       "1            1  \n",
       "2            4  \n",
       "3            1  \n",
       "4           13  "
      ]
     },
     "execution_count": 520,
     "metadata": {},
     "output_type": "execute_result"
    }
   ],
   "source": [
    "data_tbt.head()"
   ]
  },
  {
   "cell_type": "markdown",
   "metadata": {},
   "source": [
    "# Preprocessing"
   ]
  },
  {
   "cell_type": "code",
   "execution_count": 521,
   "metadata": {},
   "outputs": [],
   "source": [
    "from spacy.lang.en.stop_words import STOP_WORDS\n",
    "import re\n",
    "import spacy"
   ]
  },
  {
   "cell_type": "code",
   "execution_count": 522,
   "metadata": {},
   "outputs": [],
   "source": [
    "nlp = spacy.load('en',disable=['parser', 'ner', 'textcat'])\n",
    "\n",
    "def reduce_to_double_max(text):\n",
    "    text = re.sub(r'(\\w)\\1{2,}', r'\\1\\1', text)\n",
    "    return re.sub(r'(\\W)\\1+', r'\\1', text)\n",
    "def preprocess_corpus(corpus):\n",
    "    data_pro = []\n",
    "    data_ = []\n",
    "    corpus = (reduce_to_double_max(s.lower()) for s in corpus)\n",
    "    docs = nlp.pipe(corpus, batch_size=1000, n_threads=4)\n",
    "    return [[x.lemma_ for x in doc if x.is_alpha and not x.is_stop] for doc in docs]"
   ]
  },
  {
   "cell_type": "code",
   "execution_count": 523,
   "metadata": {},
   "outputs": [],
   "source": [
    "data_pro = preprocess_corpus(data_tbt['text'])"
   ]
  },
  {
   "cell_type": "code",
   "execution_count": 524,
   "metadata": {},
   "outputs": [],
   "source": [
    "data_tbt['text'] = data_pro"
   ]
  },
  {
   "cell_type": "code",
   "execution_count": 525,
   "metadata": {},
   "outputs": [
    {
     "data": {
      "text/html": [
       "<div>\n",
       "<style scoped>\n",
       "    .dataframe tbody tr th:only-of-type {\n",
       "        vertical-align: middle;\n",
       "    }\n",
       "\n",
       "    .dataframe tbody tr th {\n",
       "        vertical-align: top;\n",
       "    }\n",
       "\n",
       "    .dataframe thead th {\n",
       "        text-align: right;\n",
       "    }\n",
       "</style>\n",
       "<table border=\"1\" class=\"dataframe\">\n",
       "  <thead>\n",
       "    <tr style=\"text-align: right;\">\n",
       "      <th></th>\n",
       "      <th>id</th>\n",
       "      <th>label</th>\n",
       "      <th>text</th>\n",
       "      <th>question</th>\n",
       "      <th>sent_number</th>\n",
       "    </tr>\n",
       "  </thead>\n",
       "  <tbody>\n",
       "    <tr>\n",
       "      <th>0</th>\n",
       "      <td>0</td>\n",
       "      <td>Sheldon</td>\n",
       "      <td>[look, like, look, like]</td>\n",
       "      <td>0</td>\n",
       "      <td>2</td>\n",
       "    </tr>\n",
       "    <tr>\n",
       "      <th>1</th>\n",
       "      <td>1</td>\n",
       "      <td>Leonard</td>\n",
       "      <td>[grind]</td>\n",
       "      <td>1</td>\n",
       "      <td>1</td>\n",
       "    </tr>\n",
       "    <tr>\n",
       "      <th>2</th>\n",
       "      <td>2</td>\n",
       "      <td>Sheldon</td>\n",
       "      <td>[penny, brain, teaser, morning, koothrappali, ...</td>\n",
       "      <td>0</td>\n",
       "      <td>4</td>\n",
       "    </tr>\n",
       "    <tr>\n",
       "      <th>3</th>\n",
       "      <td>3</td>\n",
       "      <td>Leonard</td>\n",
       "      <td>[let, sheldon]</td>\n",
       "      <td>0</td>\n",
       "      <td>1</td>\n",
       "    </tr>\n",
       "    <tr>\n",
       "      <th>4</th>\n",
       "      <td>4</td>\n",
       "      <td>Sheldon</td>\n",
       "      <td>[shall, know, penny, obvious, answer, engage, ...</td>\n",
       "      <td>1</td>\n",
       "      <td>13</td>\n",
       "    </tr>\n",
       "  </tbody>\n",
       "</table>\n",
       "</div>"
      ],
      "text/plain": [
       "   id    label                                               text  question  \\\n",
       "0   0  Sheldon                           [look, like, look, like]         0   \n",
       "1   1  Leonard                                            [grind]         1   \n",
       "2   2  Sheldon  [penny, brain, teaser, morning, koothrappali, ...         0   \n",
       "3   3  Leonard                                     [let, sheldon]         0   \n",
       "4   4  Sheldon  [shall, know, penny, obvious, answer, engage, ...         1   \n",
       "\n",
       "   sent_number  \n",
       "0            2  \n",
       "1            1  \n",
       "2            4  \n",
       "3            1  \n",
       "4           13  "
      ]
     },
     "execution_count": 525,
     "metadata": {},
     "output_type": "execute_result"
    }
   ],
   "source": [
    "data_tbt.head()"
   ]
  },
  {
   "cell_type": "code",
   "execution_count": 526,
   "metadata": {},
   "outputs": [],
   "source": [
    "token_len = []\n",
    "for i in data_tbt['text']:\n",
    "    token_len.append(len(i))"
   ]
  },
  {
   "cell_type": "code",
   "execution_count": 527,
   "metadata": {},
   "outputs": [],
   "source": [
    "data_tbt['token_number'] = token_len"
   ]
  },
  {
   "cell_type": "code",
   "execution_count": 528,
   "metadata": {},
   "outputs": [
    {
     "data": {
      "text/html": [
       "<div>\n",
       "<style scoped>\n",
       "    .dataframe tbody tr th:only-of-type {\n",
       "        vertical-align: middle;\n",
       "    }\n",
       "\n",
       "    .dataframe tbody tr th {\n",
       "        vertical-align: top;\n",
       "    }\n",
       "\n",
       "    .dataframe thead th {\n",
       "        text-align: right;\n",
       "    }\n",
       "</style>\n",
       "<table border=\"1\" class=\"dataframe\">\n",
       "  <thead>\n",
       "    <tr style=\"text-align: right;\">\n",
       "      <th></th>\n",
       "      <th>id</th>\n",
       "      <th>label</th>\n",
       "      <th>text</th>\n",
       "      <th>question</th>\n",
       "      <th>sent_number</th>\n",
       "      <th>token_number</th>\n",
       "    </tr>\n",
       "  </thead>\n",
       "  <tbody>\n",
       "    <tr>\n",
       "      <th>0</th>\n",
       "      <td>0</td>\n",
       "      <td>Sheldon</td>\n",
       "      <td>[look, like, look, like]</td>\n",
       "      <td>0</td>\n",
       "      <td>2</td>\n",
       "      <td>4</td>\n",
       "    </tr>\n",
       "    <tr>\n",
       "      <th>1</th>\n",
       "      <td>1</td>\n",
       "      <td>Leonard</td>\n",
       "      <td>[grind]</td>\n",
       "      <td>1</td>\n",
       "      <td>1</td>\n",
       "      <td>1</td>\n",
       "    </tr>\n",
       "    <tr>\n",
       "      <th>2</th>\n",
       "      <td>2</td>\n",
       "      <td>Sheldon</td>\n",
       "      <td>[penny, brain, teaser, morning, koothrappali, ...</td>\n",
       "      <td>0</td>\n",
       "      <td>4</td>\n",
       "      <td>15</td>\n",
       "    </tr>\n",
       "    <tr>\n",
       "      <th>3</th>\n",
       "      <td>3</td>\n",
       "      <td>Leonard</td>\n",
       "      <td>[let, sheldon]</td>\n",
       "      <td>0</td>\n",
       "      <td>1</td>\n",
       "      <td>2</td>\n",
       "    </tr>\n",
       "    <tr>\n",
       "      <th>4</th>\n",
       "      <td>4</td>\n",
       "      <td>Sheldon</td>\n",
       "      <td>[shall, know, penny, obvious, answer, engage, ...</td>\n",
       "      <td>1</td>\n",
       "      <td>13</td>\n",
       "      <td>49</td>\n",
       "    </tr>\n",
       "  </tbody>\n",
       "</table>\n",
       "</div>"
      ],
      "text/plain": [
       "   id    label                                               text  question  \\\n",
       "0   0  Sheldon                           [look, like, look, like]         0   \n",
       "1   1  Leonard                                            [grind]         1   \n",
       "2   2  Sheldon  [penny, brain, teaser, morning, koothrappali, ...         0   \n",
       "3   3  Leonard                                     [let, sheldon]         0   \n",
       "4   4  Sheldon  [shall, know, penny, obvious, answer, engage, ...         1   \n",
       "\n",
       "   sent_number  token_number  \n",
       "0            2             4  \n",
       "1            1             1  \n",
       "2            4            15  \n",
       "3            1             2  \n",
       "4           13            49  "
      ]
     },
     "execution_count": 528,
     "metadata": {},
     "output_type": "execute_result"
    }
   ],
   "source": [
    "data_tbt.head()"
   ]
  },
  {
   "cell_type": "code",
   "execution_count": 529,
   "metadata": {},
   "outputs": [],
   "source": [
    "whole_verb = []\n",
    "for i in data_tbt['text']:\n",
    "    verbs = []\n",
    "    doc = nlp(' '.join(i))\n",
    "    for s in doc:\n",
    "        verbs.append(s.pos_)\n",
    "    whole_verb.append(verbs)"
   ]
  },
  {
   "cell_type": "code",
   "execution_count": 530,
   "metadata": {},
   "outputs": [],
   "source": [
    "verb_count = []\n",
    "for i, x in enumerate(whole_verb):\n",
    "    verb_count.insert(i, x.count('VERB'))"
   ]
  },
  {
   "cell_type": "code",
   "execution_count": 531,
   "metadata": {},
   "outputs": [],
   "source": [
    "data_tbt['verb_number'] = verb_count"
   ]
  },
  {
   "cell_type": "code",
   "execution_count": 532,
   "metadata": {},
   "outputs": [
    {
     "data": {
      "text/html": [
       "<div>\n",
       "<style scoped>\n",
       "    .dataframe tbody tr th:only-of-type {\n",
       "        vertical-align: middle;\n",
       "    }\n",
       "\n",
       "    .dataframe tbody tr th {\n",
       "        vertical-align: top;\n",
       "    }\n",
       "\n",
       "    .dataframe thead th {\n",
       "        text-align: right;\n",
       "    }\n",
       "</style>\n",
       "<table border=\"1\" class=\"dataframe\">\n",
       "  <thead>\n",
       "    <tr style=\"text-align: right;\">\n",
       "      <th></th>\n",
       "      <th>id</th>\n",
       "      <th>label</th>\n",
       "      <th>text</th>\n",
       "      <th>question</th>\n",
       "      <th>sent_number</th>\n",
       "      <th>token_number</th>\n",
       "      <th>verb_number</th>\n",
       "    </tr>\n",
       "  </thead>\n",
       "  <tbody>\n",
       "    <tr>\n",
       "      <th>0</th>\n",
       "      <td>0</td>\n",
       "      <td>Sheldon</td>\n",
       "      <td>[look, like, look, like]</td>\n",
       "      <td>0</td>\n",
       "      <td>2</td>\n",
       "      <td>4</td>\n",
       "      <td>2</td>\n",
       "    </tr>\n",
       "    <tr>\n",
       "      <th>1</th>\n",
       "      <td>1</td>\n",
       "      <td>Leonard</td>\n",
       "      <td>[grind]</td>\n",
       "      <td>1</td>\n",
       "      <td>1</td>\n",
       "      <td>1</td>\n",
       "      <td>1</td>\n",
       "    </tr>\n",
       "    <tr>\n",
       "      <th>2</th>\n",
       "      <td>2</td>\n",
       "      <td>Sheldon</td>\n",
       "      <td>[penny, brain, teaser, morning, koothrappali, ...</td>\n",
       "      <td>0</td>\n",
       "      <td>4</td>\n",
       "      <td>15</td>\n",
       "      <td>3</td>\n",
       "    </tr>\n",
       "    <tr>\n",
       "      <th>3</th>\n",
       "      <td>3</td>\n",
       "      <td>Leonard</td>\n",
       "      <td>[let, sheldon]</td>\n",
       "      <td>0</td>\n",
       "      <td>1</td>\n",
       "      <td>2</td>\n",
       "      <td>2</td>\n",
       "    </tr>\n",
       "    <tr>\n",
       "      <th>4</th>\n",
       "      <td>4</td>\n",
       "      <td>Sheldon</td>\n",
       "      <td>[shall, know, penny, obvious, answer, engage, ...</td>\n",
       "      <td>1</td>\n",
       "      <td>13</td>\n",
       "      <td>49</td>\n",
       "      <td>9</td>\n",
       "    </tr>\n",
       "  </tbody>\n",
       "</table>\n",
       "</div>"
      ],
      "text/plain": [
       "   id    label                                               text  question  \\\n",
       "0   0  Sheldon                           [look, like, look, like]         0   \n",
       "1   1  Leonard                                            [grind]         1   \n",
       "2   2  Sheldon  [penny, brain, teaser, morning, koothrappali, ...         0   \n",
       "3   3  Leonard                                     [let, sheldon]         0   \n",
       "4   4  Sheldon  [shall, know, penny, obvious, answer, engage, ...         1   \n",
       "\n",
       "   sent_number  token_number  verb_number  \n",
       "0            2             4            2  \n",
       "1            1             1            1  \n",
       "2            4            15            3  \n",
       "3            1             2            2  \n",
       "4           13            49            9  "
      ]
     },
     "execution_count": 532,
     "metadata": {},
     "output_type": "execute_result"
    }
   ],
   "source": [
    "data_tbt.head()"
   ]
  },
  {
   "cell_type": "code",
   "execution_count": 637,
   "metadata": {},
   "outputs": [
    {
     "data": {
      "text/html": [
       "<div>\n",
       "<style scoped>\n",
       "    .dataframe tbody tr th:only-of-type {\n",
       "        vertical-align: middle;\n",
       "    }\n",
       "\n",
       "    .dataframe tbody tr th {\n",
       "        vertical-align: top;\n",
       "    }\n",
       "\n",
       "    .dataframe thead th {\n",
       "        text-align: right;\n",
       "    }\n",
       "</style>\n",
       "<table border=\"1\" class=\"dataframe\">\n",
       "  <thead>\n",
       "    <tr style=\"text-align: right;\">\n",
       "      <th></th>\n",
       "      <th>0</th>\n",
       "      <th>1</th>\n",
       "      <th>2</th>\n",
       "      <th>3</th>\n",
       "      <th>4</th>\n",
       "      <th>5</th>\n",
       "      <th>6</th>\n",
       "      <th>7</th>\n",
       "      <th>8</th>\n",
       "      <th>9</th>\n",
       "      <th>...</th>\n",
       "      <th>118</th>\n",
       "      <th>119</th>\n",
       "      <th>120</th>\n",
       "      <th>121</th>\n",
       "      <th>122</th>\n",
       "      <th>123</th>\n",
       "      <th>124</th>\n",
       "      <th>125</th>\n",
       "      <th>126</th>\n",
       "      <th>127</th>\n",
       "    </tr>\n",
       "  </thead>\n",
       "  <tbody>\n",
       "    <tr>\n",
       "      <th>0</th>\n",
       "      <td>NaN</td>\n",
       "      <td>NaN</td>\n",
       "      <td>NaN</td>\n",
       "      <td>NaN</td>\n",
       "      <td>NaN</td>\n",
       "      <td>NaN</td>\n",
       "      <td>NaN</td>\n",
       "      <td>NaN</td>\n",
       "      <td>NaN</td>\n",
       "      <td>NaN</td>\n",
       "      <td>...</td>\n",
       "      <td>NaN</td>\n",
       "      <td>NaN</td>\n",
       "      <td>NaN</td>\n",
       "      <td>NaN</td>\n",
       "      <td>NaN</td>\n",
       "      <td>NaN</td>\n",
       "      <td>NaN</td>\n",
       "      <td>NaN</td>\n",
       "      <td>NaN</td>\n",
       "      <td>NaN</td>\n",
       "    </tr>\n",
       "    <tr>\n",
       "      <th>1</th>\n",
       "      <td>NaN</td>\n",
       "      <td>NaN</td>\n",
       "      <td>NaN</td>\n",
       "      <td>NaN</td>\n",
       "      <td>NaN</td>\n",
       "      <td>NaN</td>\n",
       "      <td>NaN</td>\n",
       "      <td>NaN</td>\n",
       "      <td>NaN</td>\n",
       "      <td>NaN</td>\n",
       "      <td>...</td>\n",
       "      <td>NaN</td>\n",
       "      <td>NaN</td>\n",
       "      <td>NaN</td>\n",
       "      <td>NaN</td>\n",
       "      <td>NaN</td>\n",
       "      <td>NaN</td>\n",
       "      <td>NaN</td>\n",
       "      <td>NaN</td>\n",
       "      <td>NaN</td>\n",
       "      <td>NaN</td>\n",
       "    </tr>\n",
       "    <tr>\n",
       "      <th>2</th>\n",
       "      <td>NaN</td>\n",
       "      <td>NaN</td>\n",
       "      <td>NaN</td>\n",
       "      <td>NaN</td>\n",
       "      <td>NaN</td>\n",
       "      <td>NaN</td>\n",
       "      <td>NaN</td>\n",
       "      <td>NaN</td>\n",
       "      <td>NaN</td>\n",
       "      <td>NaN</td>\n",
       "      <td>...</td>\n",
       "      <td>NaN</td>\n",
       "      <td>NaN</td>\n",
       "      <td>NaN</td>\n",
       "      <td>NaN</td>\n",
       "      <td>NaN</td>\n",
       "      <td>NaN</td>\n",
       "      <td>NaN</td>\n",
       "      <td>NaN</td>\n",
       "      <td>NaN</td>\n",
       "      <td>NaN</td>\n",
       "    </tr>\n",
       "    <tr>\n",
       "      <th>3</th>\n",
       "      <td>NaN</td>\n",
       "      <td>NaN</td>\n",
       "      <td>NaN</td>\n",
       "      <td>NaN</td>\n",
       "      <td>NaN</td>\n",
       "      <td>NaN</td>\n",
       "      <td>NaN</td>\n",
       "      <td>NaN</td>\n",
       "      <td>NaN</td>\n",
       "      <td>NaN</td>\n",
       "      <td>...</td>\n",
       "      <td>NaN</td>\n",
       "      <td>NaN</td>\n",
       "      <td>NaN</td>\n",
       "      <td>NaN</td>\n",
       "      <td>NaN</td>\n",
       "      <td>NaN</td>\n",
       "      <td>NaN</td>\n",
       "      <td>NaN</td>\n",
       "      <td>NaN</td>\n",
       "      <td>NaN</td>\n",
       "    </tr>\n",
       "    <tr>\n",
       "      <th>4</th>\n",
       "      <td>NaN</td>\n",
       "      <td>NaN</td>\n",
       "      <td>NaN</td>\n",
       "      <td>NaN</td>\n",
       "      <td>NaN</td>\n",
       "      <td>NaN</td>\n",
       "      <td>NaN</td>\n",
       "      <td>NaN</td>\n",
       "      <td>NaN</td>\n",
       "      <td>NaN</td>\n",
       "      <td>...</td>\n",
       "      <td>NaN</td>\n",
       "      <td>NaN</td>\n",
       "      <td>NaN</td>\n",
       "      <td>NaN</td>\n",
       "      <td>NaN</td>\n",
       "      <td>NaN</td>\n",
       "      <td>NaN</td>\n",
       "      <td>NaN</td>\n",
       "      <td>NaN</td>\n",
       "      <td>NaN</td>\n",
       "    </tr>\n",
       "  </tbody>\n",
       "</table>\n",
       "<p>5 rows × 128 columns</p>\n",
       "</div>"
      ],
      "text/plain": [
       "   0    1    2    3    4    5    6    7    8    9    ...  118  119  120  121  \\\n",
       "0  NaN  NaN  NaN  NaN  NaN  NaN  NaN  NaN  NaN  NaN  ...  NaN  NaN  NaN  NaN   \n",
       "1  NaN  NaN  NaN  NaN  NaN  NaN  NaN  NaN  NaN  NaN  ...  NaN  NaN  NaN  NaN   \n",
       "2  NaN  NaN  NaN  NaN  NaN  NaN  NaN  NaN  NaN  NaN  ...  NaN  NaN  NaN  NaN   \n",
       "3  NaN  NaN  NaN  NaN  NaN  NaN  NaN  NaN  NaN  NaN  ...  NaN  NaN  NaN  NaN   \n",
       "4  NaN  NaN  NaN  NaN  NaN  NaN  NaN  NaN  NaN  NaN  ...  NaN  NaN  NaN  NaN   \n",
       "\n",
       "   122  123  124  125  126  127  \n",
       "0  NaN  NaN  NaN  NaN  NaN  NaN  \n",
       "1  NaN  NaN  NaN  NaN  NaN  NaN  \n",
       "2  NaN  NaN  NaN  NaN  NaN  NaN  \n",
       "3  NaN  NaN  NaN  NaN  NaN  NaN  \n",
       "4  NaN  NaN  NaN  NaN  NaN  NaN  \n",
       "\n",
       "[5 rows x 128 columns]"
      ]
     },
     "execution_count": 637,
     "metadata": {},
     "output_type": "execute_result"
    }
   ],
   "source": [
    "vecs = pd.DataFrame(index = data_tbt.index, columns = [d for d in range(128)])\n",
    "vecs.head()"
   ]
  },
  {
   "cell_type": "code",
   "execution_count": 638,
   "metadata": {},
   "outputs": [],
   "source": [
    "for i, t in enumerate(data_tbt['text']): \n",
    "    t_vec = (nlp(' '.join(t))).vector # векторизуем текст\n",
    "    if t_vec.shape == (0,):\n",
    "        vecs.values[i] = np.array(0)*128 # заменяем строчки на вектор\n",
    "    else:\n",
    "        vecs.values[i] = t_vec"
   ]
  },
  {
   "cell_type": "code",
   "execution_count": 640,
   "metadata": {},
   "outputs": [],
   "source": [
    "data_new = pd.concat([data_tbt.drop(['text'], axis = 1), vecs], axis=1)"
   ]
  },
  {
   "cell_type": "code",
   "execution_count": 641,
   "metadata": {},
   "outputs": [
    {
     "data": {
      "text/html": [
       "<div>\n",
       "<style scoped>\n",
       "    .dataframe tbody tr th:only-of-type {\n",
       "        vertical-align: middle;\n",
       "    }\n",
       "\n",
       "    .dataframe tbody tr th {\n",
       "        vertical-align: top;\n",
       "    }\n",
       "\n",
       "    .dataframe thead th {\n",
       "        text-align: right;\n",
       "    }\n",
       "</style>\n",
       "<table border=\"1\" class=\"dataframe\">\n",
       "  <thead>\n",
       "    <tr style=\"text-align: right;\">\n",
       "      <th></th>\n",
       "      <th>id</th>\n",
       "      <th>label</th>\n",
       "      <th>question</th>\n",
       "      <th>sent_number</th>\n",
       "      <th>token_number</th>\n",
       "      <th>verb_number</th>\n",
       "      <th>0</th>\n",
       "      <th>1</th>\n",
       "      <th>2</th>\n",
       "      <th>3</th>\n",
       "      <th>...</th>\n",
       "      <th>118</th>\n",
       "      <th>119</th>\n",
       "      <th>120</th>\n",
       "      <th>121</th>\n",
       "      <th>122</th>\n",
       "      <th>123</th>\n",
       "      <th>124</th>\n",
       "      <th>125</th>\n",
       "      <th>126</th>\n",
       "      <th>127</th>\n",
       "    </tr>\n",
       "  </thead>\n",
       "  <tbody>\n",
       "    <tr>\n",
       "      <th>0</th>\n",
       "      <td>0</td>\n",
       "      <td>Sheldon</td>\n",
       "      <td>0</td>\n",
       "      <td>2</td>\n",
       "      <td>4</td>\n",
       "      <td>2</td>\n",
       "      <td>2.96365</td>\n",
       "      <td>-0.566775</td>\n",
       "      <td>1.00098</td>\n",
       "      <td>0.451432</td>\n",
       "      <td>...</td>\n",
       "      <td>0.732542</td>\n",
       "      <td>-0.28111</td>\n",
       "      <td>4.2614</td>\n",
       "      <td>0.0570422</td>\n",
       "      <td>-0.0023995</td>\n",
       "      <td>-0.981146</td>\n",
       "      <td>-0.460228</td>\n",
       "      <td>1.25648</td>\n",
       "      <td>-0.796368</td>\n",
       "      <td>-0.435367</td>\n",
       "    </tr>\n",
       "    <tr>\n",
       "      <th>1</th>\n",
       "      <td>1</td>\n",
       "      <td>Leonard</td>\n",
       "      <td>1</td>\n",
       "      <td>1</td>\n",
       "      <td>1</td>\n",
       "      <td>1</td>\n",
       "      <td>0.354289</td>\n",
       "      <td>0.261622</td>\n",
       "      <td>2.52276</td>\n",
       "      <td>-1.71967</td>\n",
       "      <td>...</td>\n",
       "      <td>2.47453</td>\n",
       "      <td>1.1445</td>\n",
       "      <td>3.38133</td>\n",
       "      <td>2.44787</td>\n",
       "      <td>1.21138</td>\n",
       "      <td>0.18246</td>\n",
       "      <td>-1.93527</td>\n",
       "      <td>1.14494</td>\n",
       "      <td>4.05326</td>\n",
       "      <td>-1.06251</td>\n",
       "    </tr>\n",
       "    <tr>\n",
       "      <th>2</th>\n",
       "      <td>2</td>\n",
       "      <td>Sheldon</td>\n",
       "      <td>0</td>\n",
       "      <td>4</td>\n",
       "      <td>15</td>\n",
       "      <td>3</td>\n",
       "      <td>0.731979</td>\n",
       "      <td>0.363962</td>\n",
       "      <td>0.252169</td>\n",
       "      <td>0.00546308</td>\n",
       "      <td>...</td>\n",
       "      <td>2.08969</td>\n",
       "      <td>0.444882</td>\n",
       "      <td>1.89342</td>\n",
       "      <td>1.0534</td>\n",
       "      <td>0.795524</td>\n",
       "      <td>0.517677</td>\n",
       "      <td>1.31697</td>\n",
       "      <td>-0.607077</td>\n",
       "      <td>2.6591</td>\n",
       "      <td>-2.62316</td>\n",
       "    </tr>\n",
       "    <tr>\n",
       "      <th>3</th>\n",
       "      <td>3</td>\n",
       "      <td>Leonard</td>\n",
       "      <td>0</td>\n",
       "      <td>1</td>\n",
       "      <td>2</td>\n",
       "      <td>2</td>\n",
       "      <td>-0.248104</td>\n",
       "      <td>0.477245</td>\n",
       "      <td>3.15916</td>\n",
       "      <td>1.41339</td>\n",
       "      <td>...</td>\n",
       "      <td>1.0226</td>\n",
       "      <td>0.757894</td>\n",
       "      <td>2.38013</td>\n",
       "      <td>2.08806</td>\n",
       "      <td>1.78191</td>\n",
       "      <td>-2.44701</td>\n",
       "      <td>-3.18553</td>\n",
       "      <td>-0.775667</td>\n",
       "      <td>1.47726</td>\n",
       "      <td>-1.57177</td>\n",
       "    </tr>\n",
       "    <tr>\n",
       "      <th>4</th>\n",
       "      <td>4</td>\n",
       "      <td>Sheldon</td>\n",
       "      <td>1</td>\n",
       "      <td>13</td>\n",
       "      <td>49</td>\n",
       "      <td>9</td>\n",
       "      <td>0.314938</td>\n",
       "      <td>0.440362</td>\n",
       "      <td>0.314906</td>\n",
       "      <td>0.327243</td>\n",
       "      <td>...</td>\n",
       "      <td>1.5133</td>\n",
       "      <td>0.142645</td>\n",
       "      <td>1.53841</td>\n",
       "      <td>0.405505</td>\n",
       "      <td>1.81746</td>\n",
       "      <td>0.424581</td>\n",
       "      <td>1.28393</td>\n",
       "      <td>-0.432487</td>\n",
       "      <td>2.28994</td>\n",
       "      <td>-1.77956</td>\n",
       "    </tr>\n",
       "  </tbody>\n",
       "</table>\n",
       "<p>5 rows × 134 columns</p>\n",
       "</div>"
      ],
      "text/plain": [
       "   id    label  question  sent_number  token_number  verb_number         0  \\\n",
       "0   0  Sheldon         0            2             4            2   2.96365   \n",
       "1   1  Leonard         1            1             1            1  0.354289   \n",
       "2   2  Sheldon         0            4            15            3  0.731979   \n",
       "3   3  Leonard         0            1             2            2 -0.248104   \n",
       "4   4  Sheldon         1           13            49            9  0.314938   \n",
       "\n",
       "          1         2           3  ...       118       119      120  \\\n",
       "0 -0.566775   1.00098    0.451432  ...  0.732542  -0.28111   4.2614   \n",
       "1  0.261622   2.52276    -1.71967  ...   2.47453    1.1445  3.38133   \n",
       "2  0.363962  0.252169  0.00546308  ...   2.08969  0.444882  1.89342   \n",
       "3  0.477245   3.15916     1.41339  ...    1.0226  0.757894  2.38013   \n",
       "4  0.440362  0.314906    0.327243  ...    1.5133  0.142645  1.53841   \n",
       "\n",
       "         121        122       123       124       125       126       127  \n",
       "0  0.0570422 -0.0023995 -0.981146 -0.460228   1.25648 -0.796368 -0.435367  \n",
       "1    2.44787    1.21138   0.18246  -1.93527   1.14494   4.05326  -1.06251  \n",
       "2     1.0534   0.795524  0.517677   1.31697 -0.607077    2.6591  -2.62316  \n",
       "3    2.08806    1.78191  -2.44701  -3.18553 -0.775667   1.47726  -1.57177  \n",
       "4   0.405505    1.81746  0.424581   1.28393 -0.432487   2.28994  -1.77956  \n",
       "\n",
       "[5 rows x 134 columns]"
      ]
     },
     "execution_count": 641,
     "metadata": {},
     "output_type": "execute_result"
    }
   ],
   "source": [
    "data_new.head()"
   ]
  },
  {
   "cell_type": "markdown",
   "metadata": {},
   "source": [
    "# Machine Learning "
   ]
  },
  {
   "cell_type": "code",
   "execution_count": 600,
   "metadata": {},
   "outputs": [],
   "source": [
    "from sklearn.model_selection import train_test_split\n",
    "x_train, x_test, y_train, y_test = train_test_split(data_new.drop(['label'], axis = 1), data_new['label'], test_size=0.33, random_state=42)"
   ]
  },
  {
   "cell_type": "code",
   "execution_count": 601,
   "metadata": {},
   "outputs": [
    {
     "data": {
      "text/plain": [
       "{0: 'Amy',\n",
       " 1: 'Bernadette',\n",
       " 2: 'Howard',\n",
       " 3: 'Leonard',\n",
       " 4: 'Penny',\n",
       " 5: 'Raj',\n",
       " 6: 'Sheldon'}"
      ]
     },
     "execution_count": 601,
     "metadata": {},
     "output_type": "execute_result"
    }
   ],
   "source": [
    "from sklearn.preprocessing import LabelEncoder\n",
    "encoder = LabelEncoder()\n",
    "encoder.fit(y_train)\n",
    "train_class = encoder.transform(y_train)\n",
    "test_class = encoder.transform(y_test)\n",
    "dict(enumerate(encoder.classes_))"
   ]
  },
  {
   "cell_type": "code",
   "execution_count": 642,
   "metadata": {},
   "outputs": [],
   "source": [
    "x_all = data_new.drop('label', axis=1)\n",
    "y_all = data_new['label']"
   ]
  },
  {
   "cell_type": "code",
   "execution_count": null,
   "metadata": {},
   "outputs": [],
   "source": [
    "x_train"
   ]
  },
  {
   "cell_type": "code",
   "execution_count": null,
   "metadata": {},
   "outputs": [],
   "source": [
    "print(\"Accuracy:\",metrics.accuracy_score(test_class, y_pred))\n",
    "print(\"Precision:\",metrics.precision_score(test_class, y_pred, average='macro'))\n",
    "print(\"Recall:\",metrics.recall_score(test_class, y_pred, average='macro'))\n",
    "print ('F1:', metrics.f1_score(test_class, y_pred, average='macro'))"
   ]
  },
  {
   "cell_type": "code",
   "execution_count": 621,
   "metadata": {},
   "outputs": [],
   "source": [
    "from sklearn.metrics import f1_score, precision_score, recall_score, accuracy_score, confusion_matrix\n",
    "from sklearn.model_selection import RepeatedKFold, KFold, cross_val_score"
   ]
  },
  {
   "cell_type": "code",
   "execution_count": 622,
   "metadata": {},
   "outputs": [],
   "source": [
    "rkf = RepeatedKFold(n_splits=5, n_repeats=5, random_state=42)"
   ]
  },
  {
   "cell_type": "code",
   "execution_count": 646,
   "metadata": {},
   "outputs": [],
   "source": [
    "from sklearn.linear_model import LogisticRegression\n",
    "\n",
    "logreg = LogisticRegression()\n",
    "logreg.fit (x_train, train_class)\n",
    "y_pred_log=logreg.predict(x_test)"
   ]
  },
  {
   "cell_type": "code",
   "execution_count": 660,
   "metadata": {},
   "outputs": [],
   "source": [
    "lg_scores = cross_val_score(logreg, x_all, y_all, cv=rkf, scoring='accuracy')\n",
    "lg_scores2 = cross_val_score(logreg, x_all, y_all, cv=rkf, scoring='recall_macro')\n",
    "lg_scores3 = cross_val_score(logreg, x_all, y_all, cv=rkf, scoring='precision_macro')\n",
    "lg_scores4 = cross_val_score(logreg, x_all, y_all, cv=rkf, scoring='f1_macro')"
   ]
  },
  {
   "cell_type": "code",
   "execution_count": 663,
   "metadata": {},
   "outputs": [
    {
     "name": "stdout",
     "output_type": "stream",
     "text": [
      "0.22911564625850342\n",
      "0.2099023760669617\n",
      "0.21330763114168538\n",
      "0.20462855075973657\n"
     ]
    }
   ],
   "source": [
    "print(lg_scores.mean())\n",
    "print(lg_scores2.mean())\n",
    "print(lg_scores3.mean())\n",
    "print(lg_scores4.mean())"
   ]
  },
  {
   "cell_type": "code",
   "execution_count": 606,
   "metadata": {},
   "outputs": [
    {
     "data": {
      "text/plain": [
       "array([[ 6,  0,  4,  2,  1,  4,  3],\n",
       "       [ 2,  0,  1,  3,  1,  4,  0],\n",
       "       [ 4,  1,  6,  9,  8,  5,  3],\n",
       "       [ 4,  2,  3, 12,  7,  6,  5],\n",
       "       [ 7,  1, 12, 13, 10,  6,  4],\n",
       "       [ 6,  0,  6,  8,  8,  2,  3],\n",
       "       [13,  0,  1,  4, 11,  7, 15]])"
      ]
     },
     "execution_count": 606,
     "metadata": {},
     "output_type": "execute_result"
    }
   ],
   "source": [
    "from sklearn import metrics\n",
    "cnf_matrix = metrics.confusion_matrix(test_class, y_pred_log)\n",
    "cnf_matrix"
   ]
  },
  {
   "cell_type": "code",
   "execution_count": 607,
   "metadata": {},
   "outputs": [],
   "source": [
    "import numpy as np\n",
    "import matplotlib.pyplot as plt\n",
    "import seaborn as sns"
   ]
  },
  {
   "cell_type": "code",
   "execution_count": 608,
   "metadata": {},
   "outputs": [
    {
     "data": {
      "text/plain": [
       "['Amy', 'Bernadette', 'Howard', 'Leonard', 'Penny', 'Raj', 'Sheldon']"
      ]
     },
     "execution_count": 608,
     "metadata": {},
     "output_type": "execute_result"
    }
   ],
   "source": [
    "list(dict(enumerate(encoder.classes_)).values())"
   ]
  },
  {
   "cell_type": "code",
   "execution_count": 610,
   "metadata": {},
   "outputs": [],
   "source": [
    "from sklearn.ensemble import RandomForestClassifier\n",
    "\n",
    "rdf=RandomForestClassifier(n_estimators=50)\n",
    "rdf.fit(x_train, train_class)\n",
    "y_pred_rnf=rdf.predict(x_test)"
   ]
  },
  {
   "cell_type": "code",
   "execution_count": 664,
   "metadata": {},
   "outputs": [
    {
     "name": "stderr",
     "output_type": "stream",
     "text": [
      "/anaconda3/lib/python3.6/site-packages/sklearn/metrics/classification.py:1135: UndefinedMetricWarning: Precision is ill-defined and being set to 0.0 in labels with no predicted samples.\n",
      "  'precision', 'predicted', average, warn_for)\n",
      "/anaconda3/lib/python3.6/site-packages/sklearn/metrics/classification.py:1135: UndefinedMetricWarning: Precision is ill-defined and being set to 0.0 in labels with no predicted samples.\n",
      "  'precision', 'predicted', average, warn_for)\n",
      "/anaconda3/lib/python3.6/site-packages/sklearn/metrics/classification.py:1135: UndefinedMetricWarning: Precision is ill-defined and being set to 0.0 in labels with no predicted samples.\n",
      "  'precision', 'predicted', average, warn_for)\n",
      "/anaconda3/lib/python3.6/site-packages/sklearn/metrics/classification.py:1135: UndefinedMetricWarning: Precision is ill-defined and being set to 0.0 in labels with no predicted samples.\n",
      "  'precision', 'predicted', average, warn_for)\n",
      "/anaconda3/lib/python3.6/site-packages/sklearn/metrics/classification.py:1135: UndefinedMetricWarning: F-score is ill-defined and being set to 0.0 in labels with no predicted samples.\n",
      "  'precision', 'predicted', average, warn_for)\n",
      "/anaconda3/lib/python3.6/site-packages/sklearn/metrics/classification.py:1135: UndefinedMetricWarning: F-score is ill-defined and being set to 0.0 in labels with no predicted samples.\n",
      "  'precision', 'predicted', average, warn_for)\n",
      "/anaconda3/lib/python3.6/site-packages/sklearn/metrics/classification.py:1135: UndefinedMetricWarning: F-score is ill-defined and being set to 0.0 in labels with no predicted samples.\n",
      "  'precision', 'predicted', average, warn_for)\n",
      "/anaconda3/lib/python3.6/site-packages/sklearn/metrics/classification.py:1135: UndefinedMetricWarning: F-score is ill-defined and being set to 0.0 in labels with no predicted samples.\n",
      "  'precision', 'predicted', average, warn_for)\n"
     ]
    }
   ],
   "source": [
    "rf_scores = cross_val_score(rdf, x_all, y_all, cv=rkf, scoring='accuracy')\n",
    "rf_scores2 = cross_val_score(rdf, x_all, y_all, cv=rkf, scoring='recall_macro')\n",
    "rf_scores3 = cross_val_score(rdf, x_all, y_all, cv=rkf, scoring='precision_macro')\n",
    "rf_scores4 = cross_val_score(rdf, x_all, y_all, cv=rkf, scoring='f1_macro')"
   ]
  },
  {
   "cell_type": "code",
   "execution_count": 665,
   "metadata": {},
   "outputs": [
    {
     "name": "stdout",
     "output_type": "stream",
     "text": [
      "0.2500680272108844\n",
      "0.22201300631479587\n",
      "0.20577472233618413\n",
      "0.20615399982586782\n"
     ]
    }
   ],
   "source": [
    "print(rf_scores.mean())\n",
    "print(rf_scores2.mean())\n",
    "print(rf_scores3.mean())\n",
    "print(rf_scores4.mean())"
   ]
  },
  {
   "cell_type": "markdown",
   "metadata": {},
   "source": [
    "# Clustering "
   ]
  },
  {
   "cell_type": "code",
   "execution_count": 668,
   "metadata": {},
   "outputs": [
    {
     "data": {
      "image/png": "[encoded data removed]",
      "text/plain": [
       "<Figure size 432x288 with 1 Axes>"
      ]
     },
     "metadata": {},
     "output_type": "display_data"
    }
   ],
   "source": [
    "from matplotlib import pyplot as plt\n",
    "from sklearn.cluster import KMeans\n",
    "inertia = []\n",
    "for k in range(1, 15):\n",
    "    Z = KMeans(n_clusters=k, \n",
    "               init = 'random',\n",
    "               n_init = 10,\n",
    "               max_iter = 100).fit(x_train)\n",
    "    inertia.append(Z.inertia_)\n",
    "\n",
    "plt.plot(range(1, 15), inertia, 'bo-', marker='s')\n",
    "plt.xlabel('$k$')\n",
    "plt.ylabel('Objective function value')\n",
    "# plt.axvline(c='r')\n",
    "plt.show()"
   ]
  },
  {
   "cell_type": "code",
   "execution_count": 669,
   "metadata": {},
   "outputs": [],
   "source": [
    "from sklearn.metrics import silhouette_samples, silhouette_score"
   ]
  },
  {
   "cell_type": "code",
   "execution_count": 671,
   "metadata": {},
   "outputs": [
    {
     "name": "stdout",
     "output_type": "stream",
     "text": [
      "Silhouette Score\n",
      "Silhouette Coefficient for 2 clusters: 0.6167559315529694\n",
      "Silhouette Coefficient for 3 clusters: 0.5631207159421495\n",
      "Silhouette Coefficient for 4 clusters: 0.5398249578801031\n",
      "Silhouette Coefficient for 5 clusters: 0.5157849334169395\n",
      "Silhouette Coefficient for 6 clusters: 0.5067545640158124\n",
      "Silhouette Coefficient for 7 clusters: 0.5016426563129585\n",
      "Silhouette Coefficient for 8 clusters: 0.48566177608050776\n",
      "Silhouette Coefficient for 9 clusters: 0.4682585009179948\n",
      "Silhouette Coefficient for 10 clusters: 0.4576952177845197\n",
      "Silhouette Coefficient for 11 clusters: 0.4508157647657096\n",
      "Silhouette Coefficient for 12 clusters: 0.4355010428743627\n",
      "Silhouette Coefficient for 13 clusters: 0.41367371715427864\n",
      "Silhouette Coefficient for 14 clusters: 0.3934330097970034\n"
     ]
    },
    {
     "data": {
      "image/png": "[encoded data removed]",
      "text/plain": [
       "<Figure size 432x288 with 1 Axes>"
      ]
     },
     "metadata": {},
     "output_type": "display_data"
    }
   ],
   "source": [
    "print(\"Silhouette Score\") \n",
    "silhouette_scores_list = [] \n",
    "\n",
    "for cluster_number in range(2, 15): \n",
    "    kMInstance = KMeans(n_clusters=cluster_number, init='k-means++', n_init=10) \n",
    "    kMInstance.fit(x_train) \n",
    "    current_silhouette_score = silhouette_score(x_train, kMInstance.labels_, metric='euclidean', sample_size=10000) \n",
    "    silhouette_scores_list.append((cluster_number, current_silhouette_score)) \n",
    "    print(\"Silhouette Coefficient for {} clusters: {}\".format(cluster_number, current_silhouette_score)) \n",
    "\n",
    "plt.plot(list(map(lambda x : x[0], silhouette_scores_list)), \n",
    "list(map(lambda x : x[1], silhouette_scores_list))) \n",
    "\n",
    "plt.xlabel('Cluster Number') \n",
    "plt.ylabel('Silhouette Score') \n",
    "plt.title('Silhouette Score Analysis') \n",
    "plt.grid(True) \n",
    "plt.show()"
   ]
  }
 ],
 "metadata": {
  "kernelspec": {
   "display_name": "Python 3",
   "language": "python",
   "name": "python3"
  },
  "language_info": {
   "codemirror_mode": {
    "name": "ipython",
    "version": 3
   },
   "file_extension": ".py",
   "mimetype": "text/x-python",
   "name": "python",
   "nbconvert_exporter": "python",
   "pygments_lexer": "ipython3",
   "version": "3.6.8"
  }
 },
 "nbformat": 4,
 "nbformat_minor": 2
}
