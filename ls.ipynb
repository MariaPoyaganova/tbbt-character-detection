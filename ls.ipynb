{
  "nbformat": 4,
  "nbformat_minor": 0,
  "metadata": {
    "colab": {
      "name": "ls.ipynb",
      "provenance": []
    },
    "kernelspec": {
      "name": "python3",
      "display_name": "Python 3"
    }
  },
  "cells": [
    {
      "cell_type": "code",
      "metadata": {
        "id": "cG6CkA7r0OQL",
        "colab_type": "code",
        "outputId": "6506c42e-7f63-456b-bed4-a90aba08a9e4",
        "colab": {
          "resources": {
            "http://localhost:8080/nbextensions/google.colab/files.js": {
              "data": "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",
              "ok": true,
              "headers": [
                [
                  "content-type",
                  "application/javascript"
                ]
              ],
              "status": 200,
              "status_text": ""
            }
          },
          "base_uri": "https://localhost:8080/",
          "height": 71
        }
      },
      "source": [
        "from google.colab import files\n",
        "uploaded = files.upload()"
      ],
      "execution_count": 0,
      "outputs": [
        {
          "output_type": "display_data",
          "data": {
            "text/html": [
              "\n",
              "     <input type=\"file\" id=\"files-65cd860a-1309-460e-afdf-1fecad345427\" name=\"files[]\" multiple disabled />\n",
              "     <output id=\"result-65cd860a-1309-460e-afdf-1fecad345427\">\n",
              "      Upload widget is only available when the cell has been executed in the\n",
              "      current browser session. Please rerun this cell to enable.\n",
              "      </output>\n",
              "      <script src=\"/nbextensions/google.colab/files.js\"></script> "
            ],
            "text/plain": [
              "<IPython.core.display.HTML object>"
            ]
          },
          "metadata": {
            "tags": []
          }
        },
        {
          "output_type": "stream",
          "text": [
            "Saving TBBTs1repr.txt to TBBTs1repr.txt\n"
          ],
          "name": "stdout"
        }
      ]
    },
    {
      "cell_type": "code",
      "metadata": {
        "id": "AfCCpMqO0aCe",
        "colab_type": "code",
        "outputId": "5068eef3-b659-4ccf-b6a6-7037e6a4ef47",
        "colab": {
          "base_uri": "https://localhost:8080/",
          "height": 204
        }
      },
      "source": [
        "import codecs\n",
        "import pandas as pd\n",
        "with codecs.open('TBBTs1repr.txt', 'r', encoding='utf-8', \n",
        "                 errors='ignore') as f:\n",
        "                 data = pd.read_csv(f, delimiter=':', header = None)\n",
        "data.head()"
      ],
      "execution_count": 0,
      "outputs": [
        {
          "output_type": "execute_result",
          "data": {
            "text/html": [
              "<div>\n",
              "<style scoped>\n",
              "    .dataframe tbody tr th:only-of-type {\n",
              "        vertical-align: middle;\n",
              "    }\n",
              "\n",
              "    .dataframe tbody tr th {\n",
              "        vertical-align: top;\n",
              "    }\n",
              "\n",
              "    .dataframe thead th {\n",
              "        text-align: right;\n",
              "    }\n",
              "</style>\n",
              "<table border=\"1\" class=\"dataframe\">\n",
              "  <thead>\n",
              "    <tr style=\"text-align: right;\">\n",
              "      <th></th>\n",
              "      <th>0</th>\n",
              "      <th>1</th>\n",
              "    </tr>\n",
              "  </thead>\n",
              "  <tbody>\n",
              "    <tr>\n",
              "      <th>0</th>\n",
              "      <td>Sheldon</td>\n",
              "      <td>So if a photon is directed through a plane wi...</td>\n",
              "    </tr>\n",
              "    <tr>\n",
              "      <th>1</th>\n",
              "      <td>Leonard</td>\n",
              "      <td>Agreed, what's your point?</td>\n",
              "    </tr>\n",
              "    <tr>\n",
              "      <th>2</th>\n",
              "      <td>Sheldon</td>\n",
              "      <td>There's no point, I just think it's a good id...</td>\n",
              "    </tr>\n",
              "    <tr>\n",
              "      <th>3</th>\n",
              "      <td>Leonard</td>\n",
              "      <td>One across is Aegean, eight down is Nabakov, ...</td>\n",
              "    </tr>\n",
              "    <tr>\n",
              "      <th>4</th>\n",
              "      <td>Leonard</td>\n",
              "      <td>Yes. Um, is this the High IQ sperm bank?</td>\n",
              "    </tr>\n",
              "  </tbody>\n",
              "</table>\n",
              "</div>"
            ],
            "text/plain": [
              "         0                                                  1\n",
              "0  Sheldon   So if a photon is directed through a plane wi...\n",
              "1  Leonard                         Agreed, what's your point?\n",
              "2  Sheldon   There's no point, I just think it's a good id...\n",
              "3  Leonard   One across is Aegean, eight down is Nabakov, ...\n",
              "4  Leonard           Yes. Um, is this the High IQ sperm bank?"
            ]
          },
          "metadata": {
            "tags": []
          },
          "execution_count": 6
        }
      ]
    },
    {
      "cell_type": "code",
      "metadata": {
        "id": "z3jTuq3kRjrt",
        "colab_type": "code",
        "colab": {}
      },
      "source": [
        "data.to_csv('tbt1season')"
      ],
      "execution_count": 0,
      "outputs": []
    },
    {
      "cell_type": "code",
      "metadata": {
        "id": "zuLbWHMK1a9L",
        "colab_type": "code",
        "outputId": "881d1e81-f72f-433b-ce55-58a6308c436a",
        "colab": {
          "base_uri": "https://localhost:8080/",
          "height": 204
        }
      },
      "source": [
        "data_tbt = pd.DataFrame()\n",
        "data_tbt['label'] = data[0]\n",
        "data_tbt['text'] = data[1]\n",
        "data_tbt.head()"
      ],
      "execution_count": 0,
      "outputs": [
        {
          "output_type": "execute_result",
          "data": {
            "text/html": [
              "<div>\n",
              "<style scoped>\n",
              "    .dataframe tbody tr th:only-of-type {\n",
              "        vertical-align: middle;\n",
              "    }\n",
              "\n",
              "    .dataframe tbody tr th {\n",
              "        vertical-align: top;\n",
              "    }\n",
              "\n",
              "    .dataframe thead th {\n",
              "        text-align: right;\n",
              "    }\n",
              "</style>\n",
              "<table border=\"1\" class=\"dataframe\">\n",
              "  <thead>\n",
              "    <tr style=\"text-align: right;\">\n",
              "      <th></th>\n",
              "      <th>label</th>\n",
              "      <th>text</th>\n",
              "    </tr>\n",
              "  </thead>\n",
              "  <tbody>\n",
              "    <tr>\n",
              "      <th>0</th>\n",
              "      <td>Sheldon</td>\n",
              "      <td>So if a photon is directed through a plane wi...</td>\n",
              "    </tr>\n",
              "    <tr>\n",
              "      <th>1</th>\n",
              "      <td>Leonard</td>\n",
              "      <td>Agreed, what's your point?</td>\n",
              "    </tr>\n",
              "    <tr>\n",
              "      <th>2</th>\n",
              "      <td>Sheldon</td>\n",
              "      <td>There's no point, I just think it's a good id...</td>\n",
              "    </tr>\n",
              "    <tr>\n",
              "      <th>3</th>\n",
              "      <td>Leonard</td>\n",
              "      <td>One across is Aegean, eight down is Nabakov, ...</td>\n",
              "    </tr>\n",
              "    <tr>\n",
              "      <th>4</th>\n",
              "      <td>Leonard</td>\n",
              "      <td>Yes. Um, is this the High IQ sperm bank?</td>\n",
              "    </tr>\n",
              "  </tbody>\n",
              "</table>\n",
              "</div>"
            ],
            "text/plain": [
              "     label                                               text\n",
              "0  Sheldon   So if a photon is directed through a plane wi...\n",
              "1  Leonard                         Agreed, what's your point?\n",
              "2  Sheldon   There's no point, I just think it's a good id...\n",
              "3  Leonard   One across is Aegean, eight down is Nabakov, ...\n",
              "4  Leonard           Yes. Um, is this the High IQ sperm bank?"
            ]
          },
          "metadata": {
            "tags": []
          },
          "execution_count": 7
        }
      ]
    },
    {
      "cell_type": "code",
      "metadata": {
        "id": "Kb5N0DSV8kVu",
        "colab_type": "code",
        "outputId": "e8d7b030-4547-4b2f-a668-1c9e91434fc0",
        "colab": {
          "base_uri": "https://localhost:8080/",
          "height": 255
        }
      },
      "source": [
        "data_tbt.describe"
      ],
      "execution_count": 0,
      "outputs": [
        {
          "output_type": "execute_result",
          "data": {
            "text/plain": [
              "<bound method NDFrame.describe of         label  ... verb_number\n",
              "0     Sheldon  ...           6\n",
              "1     Leonard  ...           1\n",
              "2     Sheldon  ...           1\n",
              "3     Leonard  ...           2\n",
              "4     Leonard  ...           0\n",
              "...       ...  ...         ...\n",
              "2518    Penny  ...           1\n",
              "2519    Penny  ...           1\n",
              "2520  Sheldon  ...           0\n",
              "2521  Sheldon  ...           0\n",
              "2522  Sheldon  ...           0\n",
              "\n",
              "[2523 rows x 4 columns]>"
            ]
          },
          "metadata": {
            "tags": []
          },
          "execution_count": 173
        }
      ]
    },
    {
      "cell_type": "code",
      "metadata": {
        "id": "RZYvQuQ11bA4",
        "colab_type": "code",
        "colab": {}
      },
      "source": [
        "from spacy.lang.en.stop_words import STOP_WORDS\n",
        "import re\n",
        "import spacy"
      ],
      "execution_count": 0,
      "outputs": []
    },
    {
      "cell_type": "code",
      "metadata": {
        "id": "IPu_zuaj1a7_",
        "colab_type": "code",
        "colab": {}
      },
      "source": [
        "nlp = spacy.load('en',disable=['parser', 'ner', 'textcat'])\n",
        "\n",
        "def reduce_to_double_max(text):\n",
        "    text = re.sub(r'(\\w)\\1{2,}', r'\\1\\1', text)\n",
        "    return re.sub(r'(\\W)\\1+', r'\\1', text)\n",
        "def preprocess_corpus(corpus):\n",
        "    data_pro = []\n",
        "    data_ = []\n",
        "    corpus = (reduce_to_double_max(s.lower()) for s in corpus)\n",
        "    docs = nlp.pipe(corpus, batch_size=1000, n_threads=4)\n",
        "    return [[x.lemma_ for x in doc if x.is_alpha and not x.is_stop] for doc in docs]"
      ],
      "execution_count": 0,
      "outputs": []
    },
    {
      "cell_type": "code",
      "metadata": {
        "id": "f0hHpFCa3Q-f",
        "colab_type": "code",
        "colab": {}
      },
      "source": [
        "data_pro = preprocess_corpus(data_tbt['text'])\n",
        "data_tbt['text'] = data_pro"
      ],
      "execution_count": 0,
      "outputs": []
    },
    {
      "cell_type": "code",
      "metadata": {
        "id": "Cq7NnNlE3REs",
        "colab_type": "code",
        "colab": {}
      },
      "source": [
        "token_len = []\n",
        "for i in data_tbt['text']:\n",
        "    token_len.append(len(i))\n",
        "data_tbt['token_number'] = token_len"
      ],
      "execution_count": 0,
      "outputs": []
    },
    {
      "cell_type": "code",
      "metadata": {
        "id": "AlqZ0ujT3RQ3",
        "colab_type": "code",
        "colab": {}
      },
      "source": [
        "whole_verb = []\n",
        "for i in data_tbt['text']:\n",
        "    verbs = []\n",
        "    doc = nlp(' '.join(i))\n",
        "    for s in doc:\n",
        "        verbs.append(s.pos_)\n",
        "    whole_verb.append(verbs)\n",
        "verb_count = []\n",
        "for i, x in enumerate(whole_verb):\n",
        "    verb_count.insert(i, x.count('VERB'))\n",
        "data_tbt['verb_number'] = verb_count"
      ],
      "execution_count": 0,
      "outputs": []
    },
    {
      "cell_type": "code",
      "metadata": {
        "id": "Z7GVxWEZ3RZF",
        "colab_type": "code",
        "colab": {}
      },
      "source": [
        "import numpy as np\n",
        "vecs = pd.DataFrame(index = data_tbt.index, columns = [d for d in range(96)])\n",
        "for i, t in enumerate(data_tbt['text']): # для каждой строки в датафрейме\n",
        "    t_vec = (nlp(' '.join(t))).vector # векторизуем текст\n",
        "    if t_vec.shape == (0,):\n",
        "        vecs.values[i] = np.array(0)*96 # заменяем строчки на наш вектор\n",
        "    else:\n",
        "        vecs.values[i] = t_vec"
      ],
      "execution_count": 0,
      "outputs": []
    },
    {
      "cell_type": "code",
      "metadata": {
        "id": "l12YvY0g3Rc6",
        "colab_type": "code",
        "outputId": "3da5d85f-7b50-4986-997a-56cc59609bdd",
        "colab": {
          "base_uri": "https://localhost:8080/",
          "height": 253
        }
      },
      "source": [
        "data_new = pd.concat([data_tbt.drop(['text'], axis = 1), vecs], axis=1)\n",
        "data_new.head()"
      ],
      "execution_count": 0,
      "outputs": [
        {
          "output_type": "execute_result",
          "data": {
            "text/html": [
              "<div>\n",
              "<style scoped>\n",
              "    .dataframe tbody tr th:only-of-type {\n",
              "        vertical-align: middle;\n",
              "    }\n",
              "\n",
              "    .dataframe tbody tr th {\n",
              "        vertical-align: top;\n",
              "    }\n",
              "\n",
              "    .dataframe thead th {\n",
              "        text-align: right;\n",
              "    }\n",
              "</style>\n",
              "<table border=\"1\" class=\"dataframe\">\n",
              "  <thead>\n",
              "    <tr style=\"text-align: right;\">\n",
              "      <th></th>\n",
              "      <th>label</th>\n",
              "      <th>token_number</th>\n",
              "      <th>verb_number</th>\n",
              "      <th>0</th>\n",
              "      <th>1</th>\n",
              "      <th>2</th>\n",
              "      <th>3</th>\n",
              "      <th>4</th>\n",
              "      <th>5</th>\n",
              "      <th>6</th>\n",
              "      <th>7</th>\n",
              "      <th>8</th>\n",
              "      <th>9</th>\n",
              "      <th>10</th>\n",
              "      <th>11</th>\n",
              "      <th>12</th>\n",
              "      <th>13</th>\n",
              "      <th>14</th>\n",
              "      <th>15</th>\n",
              "      <th>16</th>\n",
              "      <th>17</th>\n",
              "      <th>18</th>\n",
              "      <th>19</th>\n",
              "      <th>20</th>\n",
              "      <th>21</th>\n",
              "      <th>22</th>\n",
              "      <th>23</th>\n",
              "      <th>24</th>\n",
              "      <th>25</th>\n",
              "      <th>26</th>\n",
              "      <th>27</th>\n",
              "      <th>28</th>\n",
              "      <th>29</th>\n",
              "      <th>30</th>\n",
              "      <th>31</th>\n",
              "      <th>32</th>\n",
              "      <th>33</th>\n",
              "      <th>34</th>\n",
              "      <th>35</th>\n",
              "      <th>36</th>\n",
              "      <th>...</th>\n",
              "      <th>56</th>\n",
              "      <th>57</th>\n",
              "      <th>58</th>\n",
              "      <th>59</th>\n",
              "      <th>60</th>\n",
              "      <th>61</th>\n",
              "      <th>62</th>\n",
              "      <th>63</th>\n",
              "      <th>64</th>\n",
              "      <th>65</th>\n",
              "      <th>66</th>\n",
              "      <th>67</th>\n",
              "      <th>68</th>\n",
              "      <th>69</th>\n",
              "      <th>70</th>\n",
              "      <th>71</th>\n",
              "      <th>72</th>\n",
              "      <th>73</th>\n",
              "      <th>74</th>\n",
              "      <th>75</th>\n",
              "      <th>76</th>\n",
              "      <th>77</th>\n",
              "      <th>78</th>\n",
              "      <th>79</th>\n",
              "      <th>80</th>\n",
              "      <th>81</th>\n",
              "      <th>82</th>\n",
              "      <th>83</th>\n",
              "      <th>84</th>\n",
              "      <th>85</th>\n",
              "      <th>86</th>\n",
              "      <th>87</th>\n",
              "      <th>88</th>\n",
              "      <th>89</th>\n",
              "      <th>90</th>\n",
              "      <th>91</th>\n",
              "      <th>92</th>\n",
              "      <th>93</th>\n",
              "      <th>94</th>\n",
              "      <th>95</th>\n",
              "    </tr>\n",
              "  </thead>\n",
              "  <tbody>\n",
              "    <tr>\n",
              "      <th>0</th>\n",
              "      <td>Sheldon</td>\n",
              "      <td>15</td>\n",
              "      <td>6</td>\n",
              "      <td>2.71854</td>\n",
              "      <td>-1.69295</td>\n",
              "      <td>-1.37983</td>\n",
              "      <td>-2.75074</td>\n",
              "      <td>-1.20803</td>\n",
              "      <td>-0.244602</td>\n",
              "      <td>3.96906</td>\n",
              "      <td>-0.777473</td>\n",
              "      <td>-1.83566</td>\n",
              "      <td>0.414197</td>\n",
              "      <td>0.105504</td>\n",
              "      <td>-1.21259</td>\n",
              "      <td>1.19482</td>\n",
              "      <td>-2.44159</td>\n",
              "      <td>-0.432531</td>\n",
              "      <td>0.649202</td>\n",
              "      <td>-0.753645</td>\n",
              "      <td>0.928621</td>\n",
              "      <td>-0.942427</td>\n",
              "      <td>2.19147</td>\n",
              "      <td>-0.920059</td>\n",
              "      <td>-2.06194</td>\n",
              "      <td>2.69526</td>\n",
              "      <td>2.16205</td>\n",
              "      <td>2.81637</td>\n",
              "      <td>1.85688</td>\n",
              "      <td>2.04901</td>\n",
              "      <td>-0.60804</td>\n",
              "      <td>0.770163</td>\n",
              "      <td>5.72771</td>\n",
              "      <td>0.711163</td>\n",
              "      <td>0.746499</td>\n",
              "      <td>-1.0197</td>\n",
              "      <td>1.63738</td>\n",
              "      <td>2.39808</td>\n",
              "      <td>1.02307</td>\n",
              "      <td>-2.1316</td>\n",
              "      <td>...</td>\n",
              "      <td>0.253926</td>\n",
              "      <td>0.166492</td>\n",
              "      <td>-1.06922</td>\n",
              "      <td>0.941752</td>\n",
              "      <td>-1.58647</td>\n",
              "      <td>-1.5046</td>\n",
              "      <td>3.00013</td>\n",
              "      <td>-0.816495</td>\n",
              "      <td>-1.28644</td>\n",
              "      <td>0.517785</td>\n",
              "      <td>2.10685</td>\n",
              "      <td>1.8316</td>\n",
              "      <td>-0.146028</td>\n",
              "      <td>2.34653</td>\n",
              "      <td>1.77045</td>\n",
              "      <td>-1.2526</td>\n",
              "      <td>1.0053</td>\n",
              "      <td>0.621164</td>\n",
              "      <td>1.8708</td>\n",
              "      <td>0.144951</td>\n",
              "      <td>-0.0552356</td>\n",
              "      <td>-0.068831</td>\n",
              "      <td>-0.199255</td>\n",
              "      <td>-1.58289</td>\n",
              "      <td>-1.40903</td>\n",
              "      <td>-1.5122</td>\n",
              "      <td>-1.38704</td>\n",
              "      <td>3.98262</td>\n",
              "      <td>-0.904311</td>\n",
              "      <td>-1.35329</td>\n",
              "      <td>0.658382</td>\n",
              "      <td>-0.862337</td>\n",
              "      <td>4.33871</td>\n",
              "      <td>-0.490098</td>\n",
              "      <td>-0.768481</td>\n",
              "      <td>-0.816859</td>\n",
              "      <td>-0.507383</td>\n",
              "      <td>-1.3906</td>\n",
              "      <td>-3.11994</td>\n",
              "      <td>0.131066</td>\n",
              "    </tr>\n",
              "    <tr>\n",
              "      <th>1</th>\n",
              "      <td>Leonard</td>\n",
              "      <td>2</td>\n",
              "      <td>1</td>\n",
              "      <td>6.02366</td>\n",
              "      <td>-1.8192</td>\n",
              "      <td>1.01357</td>\n",
              "      <td>-2.84733</td>\n",
              "      <td>-1.13786</td>\n",
              "      <td>-0.310215</td>\n",
              "      <td>1.90259</td>\n",
              "      <td>-3.13564</td>\n",
              "      <td>-4.29688</td>\n",
              "      <td>-0.895856</td>\n",
              "      <td>-0.595898</td>\n",
              "      <td>-0.927388</td>\n",
              "      <td>-0.0380634</td>\n",
              "      <td>-0.895255</td>\n",
              "      <td>0.0310076</td>\n",
              "      <td>0.352337</td>\n",
              "      <td>-0.63045</td>\n",
              "      <td>1.27658</td>\n",
              "      <td>1.01737</td>\n",
              "      <td>2.13218</td>\n",
              "      <td>-2.28408</td>\n",
              "      <td>-2.71677</td>\n",
              "      <td>3.19517</td>\n",
              "      <td>0.310333</td>\n",
              "      <td>-1.11384</td>\n",
              "      <td>1.02826</td>\n",
              "      <td>1.09783</td>\n",
              "      <td>-1.04047</td>\n",
              "      <td>-1.87171</td>\n",
              "      <td>6.02528</td>\n",
              "      <td>1.72662</td>\n",
              "      <td>-1.7212</td>\n",
              "      <td>0.812062</td>\n",
              "      <td>3.71952</td>\n",
              "      <td>2.03655</td>\n",
              "      <td>2.31319</td>\n",
              "      <td>0.541923</td>\n",
              "      <td>...</td>\n",
              "      <td>1.25028</td>\n",
              "      <td>0.267096</td>\n",
              "      <td>1.25234</td>\n",
              "      <td>1.12003</td>\n",
              "      <td>0.868547</td>\n",
              "      <td>0.388889</td>\n",
              "      <td>1.19685</td>\n",
              "      <td>1.94884</td>\n",
              "      <td>-0.926095</td>\n",
              "      <td>-0.36848</td>\n",
              "      <td>-0.967613</td>\n",
              "      <td>-0.102845</td>\n",
              "      <td>0.251481</td>\n",
              "      <td>3.48753</td>\n",
              "      <td>1.87524</td>\n",
              "      <td>-3.04992</td>\n",
              "      <td>-0.0289081</td>\n",
              "      <td>-1.4669</td>\n",
              "      <td>0.523738</td>\n",
              "      <td>2.5442</td>\n",
              "      <td>-0.101736</td>\n",
              "      <td>0.982604</td>\n",
              "      <td>-2.21325</td>\n",
              "      <td>0.607803</td>\n",
              "      <td>-0.991935</td>\n",
              "      <td>0.318405</td>\n",
              "      <td>-1.04227</td>\n",
              "      <td>2.7439</td>\n",
              "      <td>-0.905751</td>\n",
              "      <td>-2.95808</td>\n",
              "      <td>0.856815</td>\n",
              "      <td>-2.35612</td>\n",
              "      <td>3.92044</td>\n",
              "      <td>-0.0664591</td>\n",
              "      <td>2.61211</td>\n",
              "      <td>-2.60908</td>\n",
              "      <td>3.12441</td>\n",
              "      <td>-0.883338</td>\n",
              "      <td>-1.65415</td>\n",
              "      <td>0.653254</td>\n",
              "    </tr>\n",
              "    <tr>\n",
              "      <th>2</th>\n",
              "      <td>Sheldon</td>\n",
              "      <td>6</td>\n",
              "      <td>1</td>\n",
              "      <td>3.67645</td>\n",
              "      <td>-2.12415</td>\n",
              "      <td>1.26999</td>\n",
              "      <td>-2.24487</td>\n",
              "      <td>-2.02412</td>\n",
              "      <td>0.298901</td>\n",
              "      <td>3.55186</td>\n",
              "      <td>-1.13206</td>\n",
              "      <td>-1.40121</td>\n",
              "      <td>1.14289</td>\n",
              "      <td>-0.422661</td>\n",
              "      <td>-0.580119</td>\n",
              "      <td>-0.435215</td>\n",
              "      <td>-2.72085</td>\n",
              "      <td>1.11855</td>\n",
              "      <td>0.276999</td>\n",
              "      <td>0.934364</td>\n",
              "      <td>1.33578</td>\n",
              "      <td>-0.333408</td>\n",
              "      <td>2.68171</td>\n",
              "      <td>-0.755454</td>\n",
              "      <td>-1.96291</td>\n",
              "      <td>1.12305</td>\n",
              "      <td>2.57518</td>\n",
              "      <td>1.18074</td>\n",
              "      <td>1.54403</td>\n",
              "      <td>1.81452</td>\n",
              "      <td>-1.29589</td>\n",
              "      <td>-0.221793</td>\n",
              "      <td>6.66188</td>\n",
              "      <td>-1.18066</td>\n",
              "      <td>-0.547833</td>\n",
              "      <td>-0.709512</td>\n",
              "      <td>1.10137</td>\n",
              "      <td>2.00723</td>\n",
              "      <td>1.58817</td>\n",
              "      <td>-0.339205</td>\n",
              "      <td>...</td>\n",
              "      <td>1.29968</td>\n",
              "      <td>0.0268929</td>\n",
              "      <td>-0.930526</td>\n",
              "      <td>0.727847</td>\n",
              "      <td>-1.19275</td>\n",
              "      <td>-0.490711</td>\n",
              "      <td>2.82957</td>\n",
              "      <td>-1.58232</td>\n",
              "      <td>0.383225</td>\n",
              "      <td>1.08168</td>\n",
              "      <td>0.793271</td>\n",
              "      <td>1.85126</td>\n",
              "      <td>-0.666013</td>\n",
              "      <td>2.14725</td>\n",
              "      <td>1.46802</td>\n",
              "      <td>-2.01419</td>\n",
              "      <td>1.26345</td>\n",
              "      <td>0.630267</td>\n",
              "      <td>1.19709</td>\n",
              "      <td>0.660847</td>\n",
              "      <td>-1.4955</td>\n",
              "      <td>1.61964</td>\n",
              "      <td>-1.72201</td>\n",
              "      <td>-1.67134</td>\n",
              "      <td>-2.33495</td>\n",
              "      <td>-0.500434</td>\n",
              "      <td>-1.15182</td>\n",
              "      <td>3.46047</td>\n",
              "      <td>-0.239297</td>\n",
              "      <td>-1.66999</td>\n",
              "      <td>0.161884</td>\n",
              "      <td>-0.681843</td>\n",
              "      <td>3.96972</td>\n",
              "      <td>-0.548487</td>\n",
              "      <td>0.290827</td>\n",
              "      <td>-0.275648</td>\n",
              "      <td>-0.754272</td>\n",
              "      <td>-1.8701</td>\n",
              "      <td>-1.73342</td>\n",
              "      <td>1.09986</td>\n",
              "    </tr>\n",
              "    <tr>\n",
              "      <th>3</th>\n",
              "      <td>Leonard</td>\n",
              "      <td>19</td>\n",
              "      <td>2</td>\n",
              "      <td>1.78056</td>\n",
              "      <td>-2.64</td>\n",
              "      <td>-1.31757</td>\n",
              "      <td>-1.81627</td>\n",
              "      <td>-1.57533</td>\n",
              "      <td>1.0343</td>\n",
              "      <td>3.87847</td>\n",
              "      <td>0.832834</td>\n",
              "      <td>-1.80127</td>\n",
              "      <td>1.47268</td>\n",
              "      <td>-0.619456</td>\n",
              "      <td>-0.731292</td>\n",
              "      <td>0.331141</td>\n",
              "      <td>-1.63907</td>\n",
              "      <td>-0.370965</td>\n",
              "      <td>-1.39959</td>\n",
              "      <td>1.11918</td>\n",
              "      <td>1.36117</td>\n",
              "      <td>0.0493754</td>\n",
              "      <td>2.30287</td>\n",
              "      <td>-0.620399</td>\n",
              "      <td>-2.15794</td>\n",
              "      <td>1.82345</td>\n",
              "      <td>2.53002</td>\n",
              "      <td>1.76269</td>\n",
              "      <td>1.54639</td>\n",
              "      <td>1.23007</td>\n",
              "      <td>-2.36225</td>\n",
              "      <td>1.74923</td>\n",
              "      <td>3.7952</td>\n",
              "      <td>-0.465761</td>\n",
              "      <td>0.0368299</td>\n",
              "      <td>-0.845251</td>\n",
              "      <td>0.538286</td>\n",
              "      <td>2.47414</td>\n",
              "      <td>1.27791</td>\n",
              "      <td>-1.67623</td>\n",
              "      <td>...</td>\n",
              "      <td>1.06309</td>\n",
              "      <td>0.713684</td>\n",
              "      <td>-0.689146</td>\n",
              "      <td>0.844137</td>\n",
              "      <td>-2.35981</td>\n",
              "      <td>-1.11697</td>\n",
              "      <td>2.34019</td>\n",
              "      <td>-1.02254</td>\n",
              "      <td>-0.720008</td>\n",
              "      <td>2.4287</td>\n",
              "      <td>-0.947547</td>\n",
              "      <td>-0.331976</td>\n",
              "      <td>-0.55439</td>\n",
              "      <td>1.05925</td>\n",
              "      <td>1.50308</td>\n",
              "      <td>-1.04619</td>\n",
              "      <td>0.612561</td>\n",
              "      <td>1.73307</td>\n",
              "      <td>2.31899</td>\n",
              "      <td>1.06315</td>\n",
              "      <td>-0.955065</td>\n",
              "      <td>-0.421596</td>\n",
              "      <td>-1.82926</td>\n",
              "      <td>-2.23067</td>\n",
              "      <td>-1.241</td>\n",
              "      <td>-1.72531</td>\n",
              "      <td>-1.2927</td>\n",
              "      <td>3.55299</td>\n",
              "      <td>0.434448</td>\n",
              "      <td>-0.652515</td>\n",
              "      <td>0.0101902</td>\n",
              "      <td>-0.361861</td>\n",
              "      <td>3.6175</td>\n",
              "      <td>-0.69205</td>\n",
              "      <td>-1.14206</td>\n",
              "      <td>1.0422</td>\n",
              "      <td>-0.50199</td>\n",
              "      <td>-0.956701</td>\n",
              "      <td>-1.33986</td>\n",
              "      <td>0.707906</td>\n",
              "    </tr>\n",
              "    <tr>\n",
              "      <th>4</th>\n",
              "      <td>Leonard</td>\n",
              "      <td>6</td>\n",
              "      <td>0</td>\n",
              "      <td>1.21365</td>\n",
              "      <td>-2.07647</td>\n",
              "      <td>0.766395</td>\n",
              "      <td>-1.69032</td>\n",
              "      <td>-0.507166</td>\n",
              "      <td>-0.8967</td>\n",
              "      <td>1.49741</td>\n",
              "      <td>-1.46111</td>\n",
              "      <td>-1.3988</td>\n",
              "      <td>1.83502</td>\n",
              "      <td>0.385584</td>\n",
              "      <td>-0.437192</td>\n",
              "      <td>-1.33439</td>\n",
              "      <td>-4.06351</td>\n",
              "      <td>-2.17151</td>\n",
              "      <td>0.9561</td>\n",
              "      <td>0.0182525</td>\n",
              "      <td>1.17869</td>\n",
              "      <td>1.25195</td>\n",
              "      <td>1.55627</td>\n",
              "      <td>1.17939</td>\n",
              "      <td>-1.25698</td>\n",
              "      <td>0.927937</td>\n",
              "      <td>1.59864</td>\n",
              "      <td>-0.0642736</td>\n",
              "      <td>1.63696</td>\n",
              "      <td>0.0797467</td>\n",
              "      <td>0.869216</td>\n",
              "      <td>-0.130546</td>\n",
              "      <td>6.24029</td>\n",
              "      <td>-2.12251</td>\n",
              "      <td>-0.881989</td>\n",
              "      <td>-1.20348</td>\n",
              "      <td>2.82055</td>\n",
              "      <td>-0.503472</td>\n",
              "      <td>2.19665</td>\n",
              "      <td>3.26497</td>\n",
              "      <td>...</td>\n",
              "      <td>1.77402</td>\n",
              "      <td>0.51058</td>\n",
              "      <td>-3.21021</td>\n",
              "      <td>0.14417</td>\n",
              "      <td>0.104315</td>\n",
              "      <td>0.552795</td>\n",
              "      <td>1.39872</td>\n",
              "      <td>2.04901</td>\n",
              "      <td>0.454828</td>\n",
              "      <td>2.34558</td>\n",
              "      <td>4.35897</td>\n",
              "      <td>-0.63109</td>\n",
              "      <td>0.639288</td>\n",
              "      <td>1.55446</td>\n",
              "      <td>2.04968</td>\n",
              "      <td>-1.7149</td>\n",
              "      <td>-0.573185</td>\n",
              "      <td>-1.65724</td>\n",
              "      <td>-0.569967</td>\n",
              "      <td>-1.40546</td>\n",
              "      <td>-0.812901</td>\n",
              "      <td>2.77598</td>\n",
              "      <td>0.410078</td>\n",
              "      <td>-1.49951</td>\n",
              "      <td>-2.46254</td>\n",
              "      <td>0.984798</td>\n",
              "      <td>-1.42005</td>\n",
              "      <td>0.94342</td>\n",
              "      <td>0.0749236</td>\n",
              "      <td>-1.30051</td>\n",
              "      <td>1.24954</td>\n",
              "      <td>0.190347</td>\n",
              "      <td>2.48614</td>\n",
              "      <td>-1.18694</td>\n",
              "      <td>-0.151259</td>\n",
              "      <td>0.54332</td>\n",
              "      <td>-1.86474</td>\n",
              "      <td>-0.257653</td>\n",
              "      <td>0.122237</td>\n",
              "      <td>2.23082</td>\n",
              "    </tr>\n",
              "  </tbody>\n",
              "</table>\n",
              "<p>5 rows × 99 columns</p>\n",
              "</div>"
            ],
            "text/plain": [
              "     label  token_number  verb_number  ...        93        94        95\n",
              "0  Sheldon            15            6  ...   -1.3906  -3.11994  0.131066\n",
              "1  Leonard             2            1  ... -0.883338  -1.65415  0.653254\n",
              "2  Sheldon             6            1  ...   -1.8701  -1.73342   1.09986\n",
              "3  Leonard            19            2  ... -0.956701  -1.33986  0.707906\n",
              "4  Leonard             6            0  ... -0.257653  0.122237   2.23082\n",
              "\n",
              "[5 rows x 99 columns]"
            ]
          },
          "metadata": {
            "tags": []
          },
          "execution_count": 14
        }
      ]
    },
    {
      "cell_type": "code",
      "metadata": {
        "id": "Z9GVECos3RXB",
        "colab_type": "code",
        "colab": {}
      },
      "source": [
        "from sklearn.model_selection import train_test_split\n",
        "x_train, x_test, y_train, y_test = train_test_split(data_new.drop(['label'], axis = 1), data_new['label'], test_size=0.33, random_state=42)"
      ],
      "execution_count": 0,
      "outputs": []
    },
    {
      "cell_type": "code",
      "metadata": {
        "id": "24xV7NTw3RN_",
        "colab_type": "code",
        "outputId": "94f5c0de-fd45-4a24-c94b-255b3389660e",
        "colab": {
          "base_uri": "https://localhost:8080/",
          "height": 34
        }
      },
      "source": [
        "from sklearn.preprocessing import LabelEncoder\n",
        "encoder = LabelEncoder()\n",
        "encoder.fit(y_train)\n",
        "train_class = encoder.transform(y_train)\n",
        "test_class = encoder.transform(y_test)\n",
        "dict(enumerate(encoder.classes_))"
      ],
      "execution_count": 0,
      "outputs": [
        {
          "output_type": "execute_result",
          "data": {
            "text/plain": [
              "{0: 'Howard', 1: 'Leonard', 2: 'Penny', 3: 'Raj', 4: 'Sheldon'}"
            ]
          },
          "metadata": {
            "tags": []
          },
          "execution_count": 16
        }
      ]
    },
    {
      "cell_type": "code",
      "metadata": {
        "id": "yG94YHlK3RMb",
        "colab_type": "code",
        "outputId": "76701872-0f71-45a6-8433-84782baa3eb6",
        "colab": {
          "base_uri": "https://localhost:8080/",
          "height": 122
        }
      },
      "source": [
        "from sklearn import svm\n",
        "from sklearn import metrics\n",
        "\n",
        "clf = svm.SVC(kernel='linear') # Linear Kernel\n",
        "clf.fit(x_train, train_class)\n",
        "y_pred = clf.predict(x_test)\n",
        "print(\"Accuracy:\",metrics.accuracy_score(test_class, y_pred))\n",
        "print(\"Precision:\",metrics.precision_score(test_class, y_pred, average='macro'))\n",
        "print(\"Recall:\",metrics.recall_score(test_class, y_pred, average='macro'))"
      ],
      "execution_count": 0,
      "outputs": [
        {
          "output_type": "stream",
          "text": [
            "Accuracy: 0.382953181272509\n",
            "Precision: 0.24634989029801116\n",
            "Recall: 0.2510695254334808\n"
          ],
          "name": "stdout"
        },
        {
          "output_type": "stream",
          "text": [
            "/usr/local/lib/python3.6/dist-packages/sklearn/metrics/_classification.py:1272: UndefinedMetricWarning: Precision is ill-defined and being set to 0.0 in labels with no predicted samples. Use `zero_division` parameter to control this behavior.\n",
            "  _warn_prf(average, modifier, msg_start, len(result))\n"
          ],
          "name": "stderr"
        }
      ]
    },
    {
      "cell_type": "code",
      "metadata": {
        "id": "cbAaIZAY3RI6",
        "colab_type": "code",
        "outputId": "1287fbcc-10d6-46b8-a0c5-7cd8feebe0b6",
        "colab": {
          "base_uri": "https://localhost:8080/",
          "height": 238
        }
      },
      "source": [
        "from sklearn.linear_model import LogisticRegression\n",
        "\n",
        "logreg = LogisticRegression()\n",
        "logreg.fit(x_train, train_class)\n",
        "y_pred_log=logreg.predict(x_test)\n",
        "cnf_matrix = metrics.confusion_matrix(test_class, y_pred_log)\n",
        "cnf_matrix"
      ],
      "execution_count": 0,
      "outputs": [
        {
          "output_type": "stream",
          "text": [
            "/usr/local/lib/python3.6/dist-packages/sklearn/linear_model/_logistic.py:940: ConvergenceWarning: lbfgs failed to converge (status=1):\n",
            "STOP: TOTAL NO. of ITERATIONS REACHED LIMIT.\n",
            "\n",
            "Increase the number of iterations (max_iter) or scale the data as shown in:\n",
            "    https://scikit-learn.org/stable/modules/preprocessing.html\n",
            "Please also refer to the documentation for alternative solver options:\n",
            "    https://scikit-learn.org/stable/modules/linear_model.html#logistic-regression\n",
            "  extra_warning_msg=_LOGISTIC_SOLVER_CONVERGENCE_MSG)\n"
          ],
          "name": "stderr"
        },
        {
          "output_type": "execute_result",
          "data": {
            "text/plain": [
              "array([[  3,  42,   9,   2,  50],\n",
              "       [ 10,  82,  21,   5, 100],\n",
              "       [  3,  47,  29,   3,  57],\n",
              "       [  4,  16,   4,   3,  24],\n",
              "       [ 12,  73,  22,  11, 201]])"
            ]
          },
          "metadata": {
            "tags": []
          },
          "execution_count": 18
        }
      ]
    },
    {
      "cell_type": "code",
      "metadata": {
        "id": "LSxsDYc2_lWO",
        "colab_type": "code",
        "outputId": "51011117-049b-4ab7-e0dc-b8c85ca6189b",
        "colab": {
          "base_uri": "https://localhost:8080/",
          "height": 68
        }
      },
      "source": [
        "print(\"Accuracy:\",metrics.accuracy_score(test_class, y_pred_log))\n",
        "print(\"Precision:\",metrics.precision_score(test_class, y_pred_log, average='macro'))\n",
        "print(\"Recall:\",metrics.recall_score(test_class, y_pred_log, average='macro'))"
      ],
      "execution_count": 0,
      "outputs": [
        {
          "output_type": "stream",
          "text": [
            "Accuracy: 0.3817527010804322\n",
            "Precision: 0.2681177727501257\n",
            "Recall: 0.26039986852147406\n"
          ],
          "name": "stdout"
        }
      ]
    },
    {
      "cell_type": "code",
      "metadata": {
        "id": "G-ALjemE3RCZ",
        "colab_type": "code",
        "outputId": "6953814c-1e65-4fd9-ba2c-c9285739e6a3",
        "colab": {
          "base_uri": "https://localhost:8080/",
          "height": 339
        }
      },
      "source": [
        "import matplotlib.pyplot as plt\n",
        "import seaborn as sns\n",
        "\n",
        "class_names= list(dict(enumerate(encoder.classes_)).values()) # name  of classes\n",
        "fig, ax = plt.subplots()\n",
        "tick_marks = np.arange(len(dict(enumerate(encoder.classes_))))\n",
        "plt.xticks(tick_marks, list(dict(enumerate(encoder.classes_)).values()))\n",
        "plt.yticks(tick_marks, list(dict(enumerate(encoder.classes_)).values()))\n",
        "sns.heatmap(pd.DataFrame(cnf_matrix), annot=True, cmap=\"YlGnBu\" ,fmt='g')\n",
        "ax.xaxis.set_label_position(\"top\")\n",
        "plt.tight_layout()\n",
        "plt.title('Confusion matrix', y=1.1)\n",
        "plt.ylabel('Actual label')\n",
        "plt.xlabel('Predicted label')"
      ],
      "execution_count": 0,
      "outputs": [
        {
          "output_type": "execute_result",
          "data": {
            "text/plain": [
              "Text(0.5, 257.44, 'Predicted label')"
            ]
          },
          "metadata": {
            "tags": []
          },
          "execution_count": 31
        },
        {
          "output_type": "display_data",
          "data": {
            "image/png": "[encoded data removed]",
            "text/plain": [
              "<Figure size 432x288 with 2 Axes>"
            ]
          },
          "metadata": {
            "tags": []
          }
        }
      ]
    },
    {
      "cell_type": "code",
      "metadata": {
        "id": "vsbbyta71a4Y",
        "colab_type": "code",
        "outputId": "d9c12db6-046a-429e-ce7e-2c58559e26b4",
        "colab": {
          "base_uri": "https://localhost:8080/",
          "height": 122
        }
      },
      "source": [
        "from sklearn.ensemble import RandomForestClassifier\n",
        "\n",
        "\n",
        "rdf=RandomForestClassifier(n_estimators=50)\n",
        "rdf.fit(x_train, train_class)\n",
        "y_pred_rnf=rdf.predict(x_test)\n",
        "print(\"Accuracy:\",metrics.accuracy_score(test_class, y_pred_rnf))\n",
        "print(\"Precision:\",metrics.precision_score(test_class, y_pred_rnf, average='macro'))\n",
        "print(\"Recall:\",metrics.recall_score(test_class, y_pred_rnf, average='macro'))"
      ],
      "execution_count": 0,
      "outputs": [
        {
          "output_type": "stream",
          "text": [
            "Accuracy: 0.3949579831932773\n",
            "Precision: 0.28114493310685534\n",
            "Recall: 0.2604574707784697\n"
          ],
          "name": "stdout"
        },
        {
          "output_type": "stream",
          "text": [
            "/usr/local/lib/python3.6/dist-packages/sklearn/metrics/_classification.py:1272: UndefinedMetricWarning: Precision is ill-defined and being set to 0.0 in labels with no predicted samples. Use `zero_division` parameter to control this behavior.\n",
            "  _warn_prf(average, modifier, msg_start, len(result))\n"
          ],
          "name": "stderr"
        }
      ]
    },
    {
      "cell_type": "code",
      "metadata": {
        "id": "jF2t58U3MpMc",
        "colab_type": "code",
        "outputId": "6b5ca076-339c-4c73-e039-268f692e9076",
        "colab": {
          "base_uri": "https://localhost:8080/",
          "height": 204
        }
      },
      "source": [
        "data_string = []\n",
        "for i in data_tbt['text']:\n",
        "  data_string.append(' '.join(i))\n",
        "data_tbt_string = pd.DataFrame()\n",
        "data_tbt_string['label'] = data_tbt['label']\n",
        "data_tbt_string['text'] = data_string\n",
        "data_tbt_string['token_number'] = data_tbt['token_number']\n",
        "data_tbt_string['verb_number'] = data_tbt['verb_number']\n",
        "data_tbt_string.head()"
      ],
      "execution_count": 0,
      "outputs": [
        {
          "output_type": "execute_result",
          "data": {
            "text/html": [
              "<div>\n",
              "<style scoped>\n",
              "    .dataframe tbody tr th:only-of-type {\n",
              "        vertical-align: middle;\n",
              "    }\n",
              "\n",
              "    .dataframe tbody tr th {\n",
              "        vertical-align: top;\n",
              "    }\n",
              "\n",
              "    .dataframe thead th {\n",
              "        text-align: right;\n",
              "    }\n",
              "</style>\n",
              "<table border=\"1\" class=\"dataframe\">\n",
              "  <thead>\n",
              "    <tr style=\"text-align: right;\">\n",
              "      <th></th>\n",
              "      <th>label</th>\n",
              "      <th>text</th>\n",
              "      <th>token_number</th>\n",
              "      <th>verb_number</th>\n",
              "    </tr>\n",
              "  </thead>\n",
              "  <tbody>\n",
              "    <tr>\n",
              "      <th>0</th>\n",
              "      <td>Sheldon</td>\n",
              "      <td>photon direct plane slit slit observe slit uno...</td>\n",
              "      <td>15</td>\n",
              "      <td>6</td>\n",
              "    </tr>\n",
              "    <tr>\n",
              "      <th>1</th>\n",
              "      <td>Leonard</td>\n",
              "      <td>agree point</td>\n",
              "      <td>2</td>\n",
              "      <td>1</td>\n",
              "    </tr>\n",
              "    <tr>\n",
              "      <th>2</th>\n",
              "      <td>Sheldon</td>\n",
              "      <td>point think good idea tee shirt</td>\n",
              "      <td>6</td>\n",
              "      <td>1</td>\n",
              "    </tr>\n",
              "    <tr>\n",
              "      <th>3</th>\n",
              "      <td>Leonard</td>\n",
              "      <td>aegean nabakov mcm fourteen finger phylum make...</td>\n",
              "      <td>19</td>\n",
              "      <td>2</td>\n",
              "    </tr>\n",
              "    <tr>\n",
              "      <th>4</th>\n",
              "      <td>Leonard</td>\n",
              "      <td>yes um high iq sperm bank</td>\n",
              "      <td>6</td>\n",
              "      <td>0</td>\n",
              "    </tr>\n",
              "  </tbody>\n",
              "</table>\n",
              "</div>"
            ],
            "text/plain": [
              "     label  ... verb_number\n",
              "0  Sheldon  ...           6\n",
              "1  Leonard  ...           1\n",
              "2  Sheldon  ...           1\n",
              "3  Leonard  ...           2\n",
              "4  Leonard  ...           0\n",
              "\n",
              "[5 rows x 4 columns]"
            ]
          },
          "metadata": {
            "tags": []
          },
          "execution_count": 22
        }
      ]
    },
    {
      "cell_type": "code",
      "metadata": {
        "id": "9c04VQInMf33",
        "colab_type": "code",
        "colab": {}
      },
      "source": [
        "x_train_1, x_test_1, y_train_1, y_test_1 = train_test_split(data_tbt_string.drop(['label'], axis = 1), data_tbt_string['label'], test_size=0.33, random_state=42)"
      ],
      "execution_count": 0,
      "outputs": []
    },
    {
      "cell_type": "code",
      "metadata": {
        "id": "nvtXBJxeQGp0",
        "colab_type": "code",
        "outputId": "3952eb2e-190f-4ea7-fb8e-08bda8b4a00c",
        "colab": {
          "base_uri": "https://localhost:8080/",
          "height": 34
        }
      },
      "source": [
        "encoder.fit(y_train_1)\n",
        "train_class_1 = encoder.transform(y_train_1)\n",
        "test_class_1 = encoder.transform(y_test_1)\n",
        "dict(enumerate(encoder.classes_))"
      ],
      "execution_count": 0,
      "outputs": [
        {
          "output_type": "execute_result",
          "data": {
            "text/plain": [
              "{0: 'Howard', 1: 'Leonard', 2: 'Penny', 3: 'Raj', 4: 'Sheldon'}"
            ]
          },
          "metadata": {
            "tags": []
          },
          "execution_count": 24
        }
      ]
    },
    {
      "cell_type": "code",
      "metadata": {
        "id": "2FYWd2KgL_9k",
        "colab_type": "code",
        "colab": {}
      },
      "source": [
        "from sklearn.feature_extraction.text import TfidfVectorizer\n",
        "vect_1 = TfidfVectorizer(max_df=0.87,\n",
        "               smooth_idf=1, max_features=300000)\n",
        "#tf-idf\n",
        "train_tf =  vect_1.fit_transform(x_train_1['text'])\n",
        "test_tf = vect_1.transform(x_test_1['text'])"
      ],
      "execution_count": 0,
      "outputs": []
    },
    {
      "cell_type": "code",
      "metadata": {
        "id": "xosOIW2KCIU_",
        "colab_type": "code",
        "outputId": "1ca4d577-3f1b-48e2-ef73-b9e8e2a86486",
        "colab": {
          "base_uri": "https://localhost:8080/",
          "height": 85
        }
      },
      "source": [
        "logreg = LogisticRegression()\n",
        "logreg.fit(train_tf, train_class_1)\n",
        "y_pred_log_1=logreg.predict(test_tf)\n",
        "print(\"Accuracy:\",metrics.accuracy_score(test_class_1, y_pred_log_1))\n",
        "print(\"Precision:\",metrics.precision_score(test_class_1, y_pred_log_1, average='macro'))\n",
        "print(\"Recall:\",metrics.recall_score(test_class_1, y_pred_log_1, average='macro'))\n",
        "print(\"F1-score:\",metrics.f1_score(test_class_1, y_pred_log_1, average='macro'))"
      ],
      "execution_count": 0,
      "outputs": [
        {
          "output_type": "stream",
          "text": [
            "Accuracy: 0.4309723889555822\n",
            "Precision: 0.5627296734065469\n",
            "Recall: 0.2960374551544504\n",
            "F1-score: 0.28720225127378723\n"
          ],
          "name": "stdout"
        }
      ]
    },
    {
      "cell_type": "code",
      "metadata": {
        "id": "7LgbmaWlL_z5",
        "colab_type": "code",
        "outputId": "46bf378b-6af9-4e86-ec2d-4f112250564e",
        "colab": {
          "base_uri": "https://localhost:8080/",
          "height": 68
        }
      },
      "source": [
        "clf_1 = svm.SVC(kernel='linear') # Linear Kernel\n",
        "clf_1.fit(train_tf, train_class_1)\n",
        "y_pred_1 = clf_1.predict(test_tf)\n",
        "print(\"Accuracy:\",metrics.accuracy_score(test_class_1, y_pred_1))\n",
        "print(\"Precision:\",metrics.precision_score(test_class_1, y_pred_1, average='macro'))\n",
        "print(\"Recall:\",metrics.recall_score(test_class_1, y_pred_1, average='macro'))"
      ],
      "execution_count": 0,
      "outputs": [
        {
          "output_type": "stream",
          "text": [
            "Accuracy: 0.41656662665066024\n",
            "Precision: 0.4172952602952603\n",
            "Recall: 0.3017767983039052\n"
          ],
          "name": "stdout"
        }
      ]
    },
    {
      "cell_type": "code",
      "metadata": {
        "id": "KXEZgjPOYj9v",
        "colab_type": "code",
        "outputId": "d02818f6-60ec-4b65-9794-71b5bdba7817",
        "colab": {
          "base_uri": "https://localhost:8080/",
          "height": 68
        }
      },
      "source": [
        "rdf_1 = RandomForestClassifier(n_estimators=50)\n",
        "rdf_1.fit(train_tf, train_class_1)\n",
        "y_pred_rnf_1 = rdf_1.predict(test_tf)\n",
        "print(\"Accuracy:\",metrics.accuracy_score(test_class_1, y_pred_rnf_1))\n",
        "print(\"Precision:\",metrics.precision_score(test_class, y_pred_rnf_1, average='macro'))\n",
        "print(\"Recall:\",metrics.recall_score(test_class, y_pred_rnf_1, average='macro'))"
      ],
      "execution_count": 0,
      "outputs": [
        {
          "output_type": "stream",
          "text": [
            "Accuracy: 0.3697478991596639\n",
            "Precision: 0.33096472072516253\n",
            "Recall: 0.2940960543617188\n"
          ],
          "name": "stdout"
        }
      ]
    },
    {
      "cell_type": "code",
      "metadata": {
        "id": "JAVB0HHhS6mq",
        "colab_type": "code",
        "colab": {}
      },
      "source": [
        "import re\n",
        "import numpy as np\n",
        "import pandas as pd\n",
        "from pprint import pprint\n",
        "\n",
        "import gensim\n",
        "import gensim.corpora as corpora\n",
        "from gensim.utils import simple_preprocess\n",
        "from gensim.models import CoherenceModel\n",
        "\n",
        "import pyLDAvis\n",
        "import pyLDAvis.gensim\n",
        "import matplotlib.pyplot as plt\n",
        "%matplotlib inline\n",
        "\n",
        "import logging\n",
        "import warnings\n",
        "\n",
        "warnings.filterwarnings('ignore', category = DeprecationWarning)"
      ],
      "execution_count": 0,
      "outputs": []
    },
    {
      "cell_type": "code",
      "metadata": {
        "id": "FrImVcinS6yP",
        "colab_type": "code",
        "colab": {}
      },
      "source": [
        "text_data = data_pro\n",
        "id2word = corpora.Dictionary(text_data)\n",
        "texts = text_data\n",
        "corpus = [id2word.doc2bow(text) for text in texts]"
      ],
      "execution_count": 0,
      "outputs": []
    },
    {
      "cell_type": "code",
      "metadata": {
        "id": "-Y4-XYnQS6vU",
        "colab_type": "code",
        "outputId": "82dcb763-b265-4f6b-9576-34b5f82fadd6",
        "colab": {
          "base_uri": "https://localhost:8080/",
          "height": 102
        }
      },
      "source": [
        "lda_model = gensim.models.ldamodel.LdaModel(corpus, num_topics = 5, id2word=id2word, passes=15)\n",
        "topics = lda_model.print_topics(num_words=6)\n",
        "for t in topics:\n",
        "    print(t)"
      ],
      "execution_count": 0,
      "outputs": [
        {
          "output_type": "stream",
          "text": [
            "(0, '0.024*\"know\" + 0.022*\"okay\" + 0.019*\"go\" + 0.010*\"sheldon\" + 0.010*\"want\" + 0.009*\"leonard\"')\n",
            "(1, '0.016*\"penny\" + 0.013*\"like\" + 0.012*\"oh\" + 0.010*\"right\" + 0.010*\"go\" + 0.008*\"sister\"')\n",
            "(2, '0.016*\"oh\" + 0.014*\"okay\" + 0.014*\"look\" + 0.013*\"know\" + 0.012*\"yeah\" + 0.012*\"leonard\"')\n",
            "(3, '0.026*\"time\" + 0.018*\"machine\" + 0.014*\"want\" + 0.013*\"get\" + 0.012*\"think\" + 0.011*\"oh\"')\n",
            "(4, '0.008*\"think\" + 0.008*\"way\" + 0.008*\"yes\" + 0.007*\"oh\" + 0.007*\"alright\" + 0.007*\"go\"')\n"
          ],
          "name": "stdout"
        }
      ]
    },
    {
      "cell_type": "code",
      "metadata": {
        "id": "HS2jdde_S6tG",
        "colab_type": "code",
        "outputId": "7dcc17aa-6237-4d2b-a397-352ba3fd0a3e",
        "colab": {
          "base_uri": "https://localhost:8080/",
          "height": 1000
        }
      },
      "source": [
        "pyLDAvis.enable_notebook()\n",
        "showme = pyLDAvis.gensim.prepare(lda_model, corpus, id2word)\n",
        "showme"
      ],
      "execution_count": 0,
      "outputs": [
        {
          "output_type": "stream",
          "text": [
            "/usr/local/lib/python3.6/dist-packages/pyLDAvis/_prepare.py:257: FutureWarning: Sorting because non-concatenation axis is not aligned. A future version\n",
            "of pandas will change to not sort by default.\n",
            "\n",
            "To accept the future behavior, pass 'sort=False'.\n",
            "\n",
            "To retain the current behavior and silence the warning, pass 'sort=True'.\n",
            "\n",
            "  return pd.concat([default_term_info] + list(topic_dfs))\n"
          ],
          "name": "stderr"
        },
        {
          "output_type": "execute_result",
          "data": {
            "text/html": [
              "\n",
              "<link rel=\"stylesheet\" type=\"text/css\" href=\"https://cdn.rawgit.com/bmabey/pyLDAvis/files/ldavis.v1.0.0.css\">\n",
              "\n",
              "\n",
              "<div id=\"ldavis_el1221401319202026325544536488\"></div>\n",
              "<script type=\"text/javascript\">\n",
              "\n",
              "var ldavis_el1221401319202026325544536488_data = {\"mdsDat\": {\"x\": [0.10953516158954575, 0.09048455830415547, 0.029968641290316046, -0.19248536626533957, -0.03750299491867766], \"y\": [-0.16511094742883417, 0.04975535712458434, 0.08237901652156178, -0.07969484380603159, 0.11267141758871964], \"topics\": [1, 2, 3, 4, 5], \"cluster\": [1, 1, 1, 1, 1], \"Freq\": [30.509990692138672, 20.449512481689453, 17.011463165283203, 16.37352180480957, 15.655511856079102]}, \"tinfo\": {\"Category\": [\"Default\", \"Default\", \"Default\", \"Default\", \"Default\", \"Default\", \"Default\", \"Default\", \"Default\", \"Default\", \"Default\", \"Default\", \"Default\", \"Default\", \"Default\", \"Default\", \"Default\", \"Default\", \"Default\", \"Default\", \"Default\", \"Default\", \"Default\", \"Default\", \"Default\", \"Default\", \"Default\", \"Default\", \"Default\", \"Default\", \"Topic1\", \"Topic1\", \"Topic1\", \"Topic1\", \"Topic1\", \"Topic1\", \"Topic1\", \"Topic1\", \"Topic1\", \"Topic1\", \"Topic1\", \"Topic1\", \"Topic1\", \"Topic1\", \"Topic1\", \"Topic1\", \"Topic1\", \"Topic1\", \"Topic1\", \"Topic1\", \"Topic1\", \"Topic1\", \"Topic1\", \"Topic1\", \"Topic1\", \"Topic1\", \"Topic1\", \"Topic1\", \"Topic1\", \"Topic1\", \"Topic1\", \"Topic1\", \"Topic1\", \"Topic1\", \"Topic1\", \"Topic1\", \"Topic1\", \"Topic1\", \"Topic1\", \"Topic1\", \"Topic1\", \"Topic1\", \"Topic1\", \"Topic1\", \"Topic1\", \"Topic1\", \"Topic1\", \"Topic1\", \"Topic1\", \"Topic1\", \"Topic1\", \"Topic1\", \"Topic1\", \"Topic1\", \"Topic1\", \"Topic1\", \"Topic1\", \"Topic1\", \"Topic1\", \"Topic2\", \"Topic2\", \"Topic2\", \"Topic2\", \"Topic2\", \"Topic2\", \"Topic2\", \"Topic2\", \"Topic2\", \"Topic2\", \"Topic2\", \"Topic2\", \"Topic2\", \"Topic2\", \"Topic2\", \"Topic2\", \"Topic2\", \"Topic2\", \"Topic2\", \"Topic2\", \"Topic2\", \"Topic2\", \"Topic2\", \"Topic2\", \"Topic2\", \"Topic2\", \"Topic2\", \"Topic2\", \"Topic2\", \"Topic2\", \"Topic2\", \"Topic2\", \"Topic2\", \"Topic2\", \"Topic2\", \"Topic2\", \"Topic2\", \"Topic2\", \"Topic2\", \"Topic2\", \"Topic2\", \"Topic2\", \"Topic2\", \"Topic2\", \"Topic2\", \"Topic2\", \"Topic2\", \"Topic2\", \"Topic2\", \"Topic2\", \"Topic2\", \"Topic2\", \"Topic2\", \"Topic2\", \"Topic2\", \"Topic2\", \"Topic2\", \"Topic2\", \"Topic2\", \"Topic2\", \"Topic2\", \"Topic2\", \"Topic2\", \"Topic2\", \"Topic2\", \"Topic3\", \"Topic3\", \"Topic3\", \"Topic3\", \"Topic3\", \"Topic3\", \"Topic3\", \"Topic3\", \"Topic3\", \"Topic3\", \"Topic3\", \"Topic3\", \"Topic3\", \"Topic3\", \"Topic3\", \"Topic3\", \"Topic3\", \"Topic3\", \"Topic3\", \"Topic3\", \"Topic3\", \"Topic3\", \"Topic3\", \"Topic3\", \"Topic3\", \"Topic3\", \"Topic3\", \"Topic3\", \"Topic3\", \"Topic3\", \"Topic3\", \"Topic3\", \"Topic3\", \"Topic3\", \"Topic3\", \"Topic3\", \"Topic3\", \"Topic3\", \"Topic3\", \"Topic3\", \"Topic3\", \"Topic3\", \"Topic3\", \"Topic3\", \"Topic3\", \"Topic3\", \"Topic3\", \"Topic3\", \"Topic3\", \"Topic3\", \"Topic3\", \"Topic3\", \"Topic3\", \"Topic3\", \"Topic4\", \"Topic4\", \"Topic4\", \"Topic4\", \"Topic4\", \"Topic4\", \"Topic4\", \"Topic4\", \"Topic4\", \"Topic4\", \"Topic4\", \"Topic4\", \"Topic4\", \"Topic4\", \"Topic4\", \"Topic4\", \"Topic4\", \"Topic4\", \"Topic4\", \"Topic4\", \"Topic4\", \"Topic4\", \"Topic4\", \"Topic4\", \"Topic4\", \"Topic4\", \"Topic4\", \"Topic4\", \"Topic4\", \"Topic4\", \"Topic4\", \"Topic4\", \"Topic4\", \"Topic4\", \"Topic4\", \"Topic4\", \"Topic4\", \"Topic4\", \"Topic4\", \"Topic4\", \"Topic4\", \"Topic4\", \"Topic4\", \"Topic4\", \"Topic4\", \"Topic4\", \"Topic4\", \"Topic4\", \"Topic4\", \"Topic4\", \"Topic4\", \"Topic4\", \"Topic4\", \"Topic4\", \"Topic4\", \"Topic4\", \"Topic5\", \"Topic5\", \"Topic5\", \"Topic5\", \"Topic5\", \"Topic5\", \"Topic5\", \"Topic5\", \"Topic5\", \"Topic5\", \"Topic5\", \"Topic5\", \"Topic5\", \"Topic5\", \"Topic5\", \"Topic5\", \"Topic5\", \"Topic5\", \"Topic5\", \"Topic5\", \"Topic5\", \"Topic5\", \"Topic5\", \"Topic5\", \"Topic5\", \"Topic5\", \"Topic5\", \"Topic5\", \"Topic5\", \"Topic5\", \"Topic5\", \"Topic5\", \"Topic5\", \"Topic5\", \"Topic5\", \"Topic5\", \"Topic5\", \"Topic5\", \"Topic5\", \"Topic5\", \"Topic5\", \"Topic5\", \"Topic5\", \"Topic5\", \"Topic5\", \"Topic5\", \"Topic5\", \"Topic5\", \"Topic5\", \"Topic5\", \"Topic5\", \"Topic5\", \"Topic5\", \"Topic5\", \"Topic5\", \"Topic5\", \"Topic5\", \"Topic5\", \"Topic5\"], \"Freq\": [98.0, 78.0, 160.0, 67.0, 94.0, 48.0, 84.0, 114.0, 53.0, 55.0, 58.0, 51.0, 27.0, 54.0, 22.0, 92.0, 31.0, 49.0, 19.0, 66.0, 43.0, 72.0, 48.0, 48.0, 162.0, 29.0, 109.0, 17.0, 16.0, 141.0, 97.8144760131836, 77.74308013916016, 25.382490158081055, 18.49822998046875, 46.94645690917969, 13.806102752685547, 13.087933540344238, 11.455455780029297, 11.175283432006836, 11.55139446258545, 11.081581115722656, 10.218921661376953, 9.399818420410156, 9.392361640930176, 8.474175453186035, 8.403888702392578, 8.46250057220459, 8.049691200256348, 7.624364852905273, 7.621068477630615, 7.620892524719238, 9.099998474121094, 7.1921186447143555, 7.515176773071289, 7.122138023376465, 7.166511058807373, 6.6279520988464355, 46.880340576171875, 6.266320705413818, 7.108072280883789, 24.1290225982666, 20.92240333557129, 36.617191314697266, 45.88226318359375, 40.20895767211914, 39.1485481262207, 111.2022476196289, 24.92245864868164, 72.61714172363281, 16.97408676147461, 26.527828216552734, 82.73326110839844, 18.786996841430664, 38.46337890625, 20.79827880859375, 43.126708984375, 31.044965744018555, 15.865492820739746, 38.317604064941406, 18.584354400634766, 54.424686431884766, 42.10362243652344, 26.925134658813477, 32.69037628173828, 37.642250061035156, 23.97406005859375, 21.913633346557617, 19.59737205505371, 19.480487823486328, 14.569857597351074, 14.219576835632324, 12.564194679260254, 12.486425399780273, 10.702899932861328, 9.48007583618164, 9.479011535644531, 9.054791450500488, 9.054174423217773, 8.480805397033691, 8.407149314880371, 7.2618865966796875, 7.261349678039551, 7.187612056732178, 7.117316246032715, 6.822799205780029, 6.757904529571533, 6.317191123962402, 6.316471576690674, 6.314728736877441, 7.076047420501709, 5.899099826812744, 5.876733779907227, 5.468266487121582, 5.467929840087891, 5.4667510986328125, 5.0386433601379395, 5.038487434387207, 5.037761211395264, 5.036847114562988, 8.892291069030762, 20.104074478149414, 8.065144538879395, 54.13410568237305, 15.587824821472168, 22.92987823486328, 13.759263038635254, 89.57646179199219, 17.611915588378906, 15.113938331604004, 14.877496719360352, 40.36267852783203, 12.364583015441895, 10.54098892211914, 10.061193466186523, 36.202293395996094, 9.490262985229492, 18.174280166625977, 9.644365310668945, 24.93960952758789, 29.626314163208008, 31.787553787231445, 21.93170738220215, 13.41502571105957, 26.463319778442383, 17.494626998901367, 16.441225051879883, 14.799806594848633, 22.074665069580078, 16.989952087402344, 15.066182136535645, 13.146679878234863, 14.82612133026123, 13.42688274383545, 12.657334327697754, 21.5835018157959, 16.707012176513672, 14.03664779663086, 11.698453903198242, 11.29489517211914, 9.218871116638184, 11.462441444396973, 8.81926155090332, 8.35353946685791, 7.956204414367676, 7.950549602508545, 7.557520389556885, 7.152682304382324, 7.148383140563965, 6.756511211395264, 6.756739616394043, 6.683800220489502, 6.293145179748535, 6.2908453941345215, 6.279606342315674, 5.89052152633667, 5.889884948730469, 5.887394428253174, 5.883774280548096, 5.862839221954346, 5.490929126739502, 5.490804672241211, 5.490542411804199, 5.4803547859191895, 5.090059757232666, 12.978287696838379, 6.333624362945557, 7.1088786125183105, 27.43794059753418, 24.245820999145508, 10.438283920288086, 9.315914154052734, 8.712079048156738, 9.133769035339355, 9.212641716003418, 24.3431396484375, 28.86395263671875, 18.30169105529785, 10.233901977539062, 14.170807838439941, 20.215707778930664, 22.395755767822266, 16.51915168762207, 14.328432083129883, 15.327922821044922, 13.597277641296387, 9.792071342468262, 8.72756576538086, 8.913884162902832, 16.101612091064453, 11.22280502319336, 11.851653099060059, 9.610260963439941, 8.85023021697998, 8.02596664428711, 7.960516929626465, 6.8035149574279785, 6.74570894241333, 6.419496059417725, 6.469124794006348, 6.101556777954102, 6.1000471115112305, 6.099605083465576, 5.651637077331543, 6.057495594024658, 5.586379051208496, 5.268565654754639, 5.26800537109375, 5.26311731338501, 4.884165287017822, 4.881052017211914, 5.215501308441162, 4.500147342681885, 4.498961448669434, 4.4977569580078125, 4.497498989105225, 4.490391731262207, 4.430867671966553, 4.4262590408325195, 23.882627487182617, 34.56508255004883, 12.876468658447266, 9.153203010559082, 5.987520694732666, 43.814414978027344, 9.895217895507812, 16.601686477661133, 13.535723686218262, 11.499512672424316, 14.666075706481934, 9.342238426208496, 23.098169326782227, 7.776453495025635, 11.393628120422363, 12.90322494506836, 17.689910888671875, 9.458864212036133, 16.659088134765625, 18.34359359741211, 15.320904731750488, 13.792861938476562, 10.468864440917969, 10.803863525390625, 8.246087074279785, 8.215242385864258, 18.462942123413086, 13.269584655761719, 13.008255004882812, 9.224214553833008, 7.29257345199585, 7.3429718017578125, 6.903106689453125, 6.899569034576416, 6.833242893218994, 6.577284812927246, 6.576909065246582, 6.566848278045654, 6.564843654632568, 6.905433654785156, 6.187010288238525, 6.187010288238525, 6.426420211791992, 5.731155872344971, 5.3396172523498535, 5.3378682136535645, 5.273387432098389, 7.147091388702393, 5.321580410003662, 5.31049108505249, 4.950078010559082, 4.87326192855835, 4.563368320465088, 4.558373928070068, 4.555395126342773, 4.555092811584473, 7.53867244720459, 7.063556671142578, 47.21209716796875, 6.548507213592529, 44.674591064453125, 16.151294708251953, 11.892220497131348, 11.929604530334473, 20.689512252807617, 23.309141159057617, 7.926165580749512, 17.028589248657227, 22.493724822998047, 9.590431213378906, 7.5326666831970215, 11.706685066223145, 11.877501487731934, 15.100687980651855, 11.202869415283203, 14.596302032470703, 12.506403923034668, 8.673137664794922, 7.770572662353516, 9.478879928588867, 9.0513334274292, 9.6015625, 7.989010810852051, 8.22461223602295, 7.596157073974609], \"Term\": [\"want\", \"come\", \"oh\", \"yeah\", \"think\", \"talk\", \"look\", \"leonard\", \"machine\", \"good\", \"birthday\", \"thing\", \"sorry\", \"friend\", \"chicken\", \"sheldon\", \"find\", \"work\", \"understand\", \"right\", \"uh\", \"need\", \"party\", \"point\", \"know\", \"thank\", \"time\", \"tangerine\", \"wait\", \"okay\", \"want\", \"come\", \"happy\", \"pick\", \"talk\", \"surprise\", \"fine\", \"huh\", \"cake\", \"everybody\", \"expect\", \"available\", \"mint\", \"separate\", \"month\", \"low\", \"ahead\", \"swell\", \"premise\", \"mistake\", \"thought\", \"costume\", \"burner\", \"drunk\", \"perfect\", \"addition\", \"board\", \"thing\", \"computer\", \"convention\", \"howard\", \"buy\", \"uh\", \"good\", \"party\", \"point\", \"know\", \"maybe\", \"leonard\", \"home\", \"alright\", \"okay\", \"cat\", \"guy\", \"year\", \"penny\", \"friend\", \"um\", \"look\", \"ask\", \"oh\", \"get\", \"birthday\", \"like\", \"go\", \"time\", \"think\", \"say\", \"way\", \"smart\", \"sound\", \"stupid\", \"walk\", \"move\", \"dvd\", \"subject\", \"yip\", \"zz\", \"cheesecake\", \"sick\", \"secret\", \"lactose\", \"cool\", \"thirty\", \"medication\", \"settle\", \"involve\", \"real\", \"classic\", \"tomorrow\", \"loofah\", \"dna\", \"office\", \"produce\", \"surprised\", \"du\", \"dip\", \"optional\", \"wrap\", \"family\", \"big\", \"fire\", \"yeah\", \"stop\", \"thank\", \"fun\", \"oh\", \"eat\", \"break\", \"stay\", \"look\", \"peanut\", \"kid\", \"wow\", \"sheldon\", \"social\", \"god\", \"screw\", \"little\", \"like\", \"get\", \"right\", \"turn\", \"leonard\", \"tell\", \"man\", \"people\", \"okay\", \"go\", \"penny\", \"work\", \"know\", \"time\", \"guy\", \"chicken\", \"tangerine\", \"mother\", \"dude\", \"sell\", \"mad\", \"hold\", \"free\", \"physicist\", \"ass\", \"kick\", \"pass\", \"yell\", \"embarrassed\", \"ignore\", \"tiny\", \"breakfast\", \"bar\", \"paper\", \"thai\", \"possibility\", \"father\", \"hard\", \"stare\", \"exist\", \"better\", \"th\", \"birth\", \"plus\", \"business\", \"dollar\", \"bedroom\", \"reason\", \"birthday\", \"work\", \"present\", \"take\", \"mom\", \"forget\", \"make\", \"need\", \"okay\", \"little\", \"order\", \"let\", \"get\", \"know\", \"sheldon\", \"right\", \"go\", \"time\", \"leave\", \"boy\", \"oh\", \"wait\", \"box\", \"remember\", \"mrs\", \"genetic\", \"blah\", \"halo\", \"chance\", \"stand\", \"bit\", \"conversation\", \"jacuzzi\", \"larry\", \"spear\", \"detail\", \"copenhagen\", \"doctor\", \"response\", \"rocket\", \"match\", \"render\", \"collection\", \"propose\", \"physical\", \"fair\", \"war\", \"yesterday\", \"offspring\", \"ground\", \"goodbye\", \"sorry\", \"machine\", \"play\", \"explain\", \"baby\", \"time\", \"dibs\", \"sister\", \"life\", \"raj\", \"find\", \"start\", \"need\", \"set\", \"care\", \"hey\", \"think\", \"sit\", \"sheldon\", \"go\", \"penny\", \"get\", \"let\", \"like\", \"mean\", \"tell\", \"understand\", \"egg\", \"e\", \"hell\", \"welcome\", \"apparently\", \"hee\", \"word\", \"hi\", \"mucus\", \"unconscious\", \"necessary\", \"personal\", \"enjoy\", \"shi\", \"de\", \"plan\", \"string\", \"bird\", \"uncomfortable\", \"funny\", \"ordinary\", \"water\", \"appropriate\", \"pound\", \"kitty\", \"donkey\", \"crowded\", \"spin\", \"honest\", \"travel\", \"child\", \"think\", \"lie\", \"go\", \"find\", \"course\", \"feel\", \"friend\", \"right\", \"wonder\", \"tell\", \"sheldon\", \"idea\", \"date\", \"say\", \"work\", \"leonard\", \"let\", \"time\", \"yeah\", \"end\", \"room\", \"way\", \"good\", \"like\", \"throw\", \"know\", \"oh\"], \"Total\": [98.0, 78.0, 160.0, 67.0, 94.0, 48.0, 84.0, 114.0, 53.0, 55.0, 58.0, 51.0, 27.0, 54.0, 22.0, 92.0, 31.0, 49.0, 19.0, 66.0, 43.0, 72.0, 48.0, 48.0, 162.0, 29.0, 109.0, 17.0, 16.0, 141.0, 98.73582458496094, 78.4815444946289, 26.127872467041016, 19.104646682739258, 48.51544189453125, 14.408514976501465, 13.70372200012207, 12.06475830078125, 11.777569770812988, 12.200761795043945, 11.706083297729492, 10.851874351501465, 10.000506401062012, 9.999927520751953, 9.077041625976562, 9.00753402709961, 9.076187133789062, 8.6504487991333, 8.223516464233398, 8.223405838012695, 8.223261833190918, 9.851250648498535, 7.79669189453125, 8.151545524597168, 7.727022171020508, 7.793554782867432, 7.230599403381348, 51.14499282836914, 6.872775077819824, 7.797436714172363, 27.129945755004883, 23.794931411743164, 43.32072448730469, 55.39516830444336, 48.29377746582031, 48.087127685546875, 162.67608642578125, 32.42871856689453, 114.56011962890625, 20.878768920898438, 35.5394401550293, 141.68856811523438, 23.86031150817871, 60.97758102416992, 28.346477508544922, 81.04973602294922, 54.14313507080078, 21.21686363220215, 84.13155364990234, 27.312721252441406, 160.6566925048828, 108.04633331298828, 58.179534912109375, 88.95924377441406, 132.9783172607422, 109.408935546875, 94.95543670654297, 43.5459098815918, 43.680320739746094, 15.18061351776123, 14.820943832397461, 13.1678466796875, 13.097211837768555, 11.304974555969238, 10.083202362060547, 10.082876205444336, 9.652471542358398, 9.652420997619629, 9.081405639648438, 9.010896682739258, 7.859491348266602, 7.859457492828369, 7.7892231941223145, 7.719011306762695, 7.428210735321045, 7.358614444732666, 6.927005290985107, 6.926999568939209, 6.9269795417785645, 7.788322448730469, 6.497158527374268, 6.496171951293945, 6.066449165344238, 6.066447734832764, 6.066481113433838, 5.63579797744751, 5.635781764984131, 5.635786533355713, 5.635723114013672, 9.976905822753906, 22.884904861450195, 9.146258354187012, 67.55962371826172, 18.654529571533203, 29.25069808959961, 17.26181411743164, 160.6566925048828, 25.274599075317383, 21.258312225341797, 21.282381057739258, 84.13155364990234, 17.293807983398438, 13.864842414855957, 13.075820922851562, 92.04254150390625, 12.034801483154297, 34.856441497802734, 12.499835968017578, 63.86900329589844, 88.95924377441406, 108.04633331298828, 66.32795715332031, 23.91764259338379, 114.56011962890625, 49.330482482910156, 42.51863479614258, 37.91187286376953, 141.68856811523438, 132.9783172607422, 81.04973602294922, 49.908470153808594, 162.67608642578125, 109.408935546875, 60.97758102416992, 22.1924991607666, 17.316240310668945, 14.650049209594727, 12.309684753417969, 11.9083833694458, 9.838616371154785, 12.255191802978516, 9.438278198242188, 8.972145080566406, 8.570748329162598, 8.571287155151367, 8.170002937316895, 7.768741607666016, 7.769571304321289, 7.3678879737854, 7.3682074546813965, 7.302621841430664, 6.901852607727051, 6.901838302612305, 6.902641296386719, 6.500977993011475, 6.50094747543335, 6.501223087310791, 6.501129627227783, 6.4999895095825195, 6.100020885467529, 6.099990367889404, 6.100065231323242, 6.100473403930664, 5.6991119384765625, 15.981819152832031, 7.326086044311523, 8.55648136138916, 58.179534912109375, 49.908470153808594, 15.460517883300781, 13.352333068847656, 12.165614128112793, 13.297985076904297, 13.681699752807617, 72.0009994506836, 141.68856811523438, 63.86900329589844, 19.185321807861328, 43.33914566040039, 108.04633331298828, 162.67608642578125, 92.04254150390625, 66.32795715332031, 132.9783172607422, 109.408935546875, 27.65126609802246, 22.36457633972168, 160.6566925048828, 16.721296310424805, 11.844820022583008, 12.552361488342285, 10.244562149047852, 9.473875045776367, 8.640768051147461, 8.578489303588867, 7.424388885498047, 7.361355304718018, 7.039443492889404, 7.102091312408447, 6.717077255249023, 6.7170538902282715, 6.717301368713379, 6.269886016845703, 6.721896171569824, 6.207458972930908, 5.884843349456787, 5.8850603103637695, 5.8851118087768555, 5.500113487243652, 5.500521659851074, 5.887156009674072, 5.115326881408691, 5.115503787994385, 5.1153998374938965, 5.115650177001953, 5.116516590118408, 5.0529680252075195, 5.053033351898193, 27.546810150146484, 53.78850555419922, 18.715301513671875, 12.733158111572266, 7.435575485229492, 109.408935546875, 15.156571388244629, 32.62285232543945, 24.588964462280273, 20.77958869934082, 31.292686462402344, 15.44079875946045, 72.0009994506836, 12.123356819152832, 25.33826446533203, 41.14665603637695, 94.95543670654297, 20.499969482421875, 92.04254150390625, 132.9783172607422, 81.04973602294922, 108.04633331298828, 43.33914566040039, 88.95924377441406, 31.80803108215332, 49.330482482910156, 19.083478927612305, 13.88493824005127, 13.621675491333008, 9.921164512634277, 7.906469821929932, 7.969752788543701, 7.516317367553711, 7.516329765319824, 7.45308780670166, 7.189633369445801, 7.189623832702637, 7.189566612243652, 7.190741539001465, 7.585543632507324, 6.799557685852051, 6.799557685852051, 7.064742088317871, 6.346104145050049, 5.956254959106445, 5.956363201141357, 5.892635822296143, 7.99028205871582, 5.956571102142334, 5.955673694610596, 5.565893173217773, 5.502486705780029, 5.175655841827393, 5.176126480102539, 5.176281452178955, 5.176192760467529, 8.812246322631836, 8.721327781677246, 94.95543670654297, 8.155847549438477, 132.9783172607422, 31.292686462402344, 20.172592163085938, 21.868976593017578, 54.14313507080078, 66.32795715332031, 11.857208251953125, 49.330482482910156, 92.04254150390625, 18.689123153686523, 11.050753593444824, 43.5459098815918, 49.908470153808594, 114.56011962890625, 43.33914566040039, 109.408935546875, 67.55962371826172, 18.58246612548828, 14.224284172058105, 43.680320739746094, 55.39516830444336, 88.95924377441406, 24.448089599609375, 162.67608642578125, 160.6566925048828], \"loglift\": [30.0, 29.0, 28.0, 27.0, 26.0, 25.0, 24.0, 23.0, 22.0, 21.0, 20.0, 19.0, 18.0, 17.0, 16.0, 15.0, 14.0, 13.0, 12.0, 11.0, 10.0, 9.0, 8.0, 7.0, 6.0, 5.0, 4.0, 3.0, 2.0, 1.0, 1.1777000427246094, 1.1777000427246094, 1.1582000255584717, 1.1548999547958374, 1.1541999578475952, 1.1444000005722046, 1.1411000490188599, 1.1353000402450562, 1.134600043296814, 1.1324000358581543, 1.1323000192642212, 1.1269999742507935, 1.1252000331878662, 1.124400019645691, 1.118399977684021, 1.1176999807357788, 1.1171000003814697, 1.1151000261306763, 1.1115000247955322, 1.1109999418258667, 1.1109999418258667, 1.107800006866455, 1.1064000129699707, 1.1058000326156616, 1.1055999994277954, 1.1031999588012695, 1.100100040435791, 1.100000023841858, 1.0946999788284302, 1.094599962234497, 1.0699000358581543, 1.058500051498413, 1.0190000534057617, 0.9987000226974487, 1.0039000511169434, 0.9815000295639038, 0.8066999912261963, 0.923799991607666, 0.7311999797821045, 0.9800999760627747, 0.8946999907493591, 0.6491000056266785, 0.9480999708175659, 0.7263000011444092, 0.8774999976158142, 0.5562000274658203, 0.6309000253677368, 0.8964999914169312, 0.40059998631477356, 0.8021000027656555, 0.1046999990940094, 0.24469999969005585, 0.41659998893737793, 0.1860000044107437, -0.07490000128746033, -0.3310000002384186, -0.2791999876499176, 0.388700008392334, 0.37959998846054077, 1.5461000204086304, 1.545799970626831, 1.5403000116348267, 1.5394999980926514, 1.5325000286102295, 1.5255000591278076, 1.5255000591278076, 1.523300051689148, 1.5232000350952148, 1.5188000202178955, 1.517899990081787, 1.5081000328063965, 1.5081000328063965, 1.5068000555038452, 1.506100058555603, 1.5022000074386597, 1.5020999908447266, 1.4951000213623047, 1.4948999881744385, 1.4946999549865723, 1.4912999868392944, 1.4905999898910522, 1.4869999885559082, 1.4833999872207642, 1.483299970626831, 1.4831000566482544, 1.4752000570297241, 1.4752000570297241, 1.475000023841858, 1.4749000072479248, 1.472100019454956, 1.4577000141143799, 1.461400032043457, 1.3657000064849854, 1.4076000452041626, 1.3437000513076782, 1.3603999614715576, 1.003000020980835, 1.2259999513626099, 1.2460999488830566, 1.229200005531311, 0.8526999950408936, 1.2517000436782837, 1.313099980354309, 1.3250999450683594, 0.6541000008583069, 1.3496999740600586, 0.9359999895095825, 1.3279000520706177, 0.6467999815940857, 0.4876999855041504, 0.3637000024318695, 0.4805000126361847, 1.0089999437332153, 0.12189999967813492, 0.550599992275238, 0.6370999813079834, 0.6466000080108643, -0.2720000147819519, -0.47040000557899475, -0.09539999812841415, 0.2531999945640564, -0.8082000017166138, -0.5105999708175659, 0.01489999983459711, 1.743499994277954, 1.7354999780654907, 1.7285000085830688, 1.7203999757766724, 1.718400001525879, 1.7062000036239624, 1.7043999433517456, 1.7034000158309937, 1.6998000144958496, 1.6969000101089478, 1.6960999965667725, 1.6934000253677368, 1.6886999607086182, 1.687999963760376, 1.6847000122070312, 1.6845999956130981, 1.6827000379562378, 1.6790000200271606, 1.6785999536514282, 1.6766999959945679, 1.672700047492981, 1.6726000308990479, 1.6720999479293823, 1.6714999675750732, 1.6680999994277954, 1.666100025177002, 1.666100025177002, 1.6660000085830688, 1.6641000509262085, 1.6583000421524048, 1.563099980354309, 1.6256999969482422, 1.5858999490737915, 1.019700050354004, 1.049299955368042, 1.378499984741211, 1.4112999439239502, 1.437399983406067, 1.3955999612808228, 1.3758000135421753, 0.6869000196456909, 0.18019999563694, 0.521399974822998, 1.142799973487854, 0.6534000039100647, 0.09520000219345093, -0.21160000562667847, 0.053599998354911804, 0.23890000581741333, -0.38920000195503235, -0.3138999938964844, 0.7332000136375427, 0.830299973487854, -1.1203999519348145, 1.7717000246047974, 1.7555999755859375, 1.7520999908447266, 1.7455999851226807, 1.7414000034332275, 1.735700011253357, 1.7346999645233154, 1.7222000360488892, 1.7222000360488892, 1.7173000574111938, 1.7161999940872192, 1.7134000062942505, 1.7131999731063843, 1.7130000591278076, 1.7057000398635864, 1.705399990081787, 1.7041000127792358, 1.6988999843597412, 1.698699951171875, 1.6978000402450562, 1.6907000541687012, 1.690000057220459, 1.6884000301361084, 1.681399941444397, 1.6811000108718872, 1.680799961090088, 1.6806999444961548, 1.6790000200271606, 1.6780999898910522, 1.6770999431610107, 1.6668000221252441, 1.367300033569336, 1.4356000423431396, 1.4794000387191772, 1.592900037765503, 0.8944000005722046, 1.3831000328063965, 1.1339999437332153, 1.212499976158142, 1.2178000211715698, 1.0516999959945679, 1.3070000410079956, 0.6725999712944031, 1.3654999732971191, 1.010200023651123, 0.6498000025749207, 0.1290999948978424, 1.0360000133514404, 0.10019999742507935, -0.17139999568462372, 0.1437000036239624, -0.24889999628067017, 0.3889000117778778, -0.298799991607666, 0.4595000147819519, 0.017000000923871994, 1.8213000297546387, 1.809000015258789, 1.8083000183105469, 1.781499981880188, 1.7734999656677246, 1.7724000215530396, 1.7691999673843384, 1.7687000036239624, 1.7675000429153442, 1.7653000354766846, 1.7653000354766846, 1.763800024986267, 1.7632999420166016, 1.7604000568389893, 1.7598999738693237, 1.7598999738693237, 1.759600043296814, 1.7524000406265259, 1.7451000213623047, 1.7446999549865723, 1.743299961090088, 1.742799997329712, 1.7416000366210938, 1.7396999597549438, 1.7371000051498413, 1.7329000234603882, 1.7283999919891357, 1.7273000478744507, 1.7266000509262085, 1.7265000343322754, 1.6983000040054321, 1.6434999704360962, 1.1555999517440796, 1.6347999572753906, 0.7635999917984009, 1.1929999589920044, 1.3258999586105347, 1.2482999563217163, 0.892300009727478, 0.8086000084877014, 1.4515999555587769, 0.7907000184059143, 0.44530001282691956, 1.1871999502182007, 1.4710999727249146, 0.5407000184059143, 0.4187999963760376, -0.1720000058412552, 0.5015000104904175, -0.1599999964237213, 0.16760000586509705, 1.0923999547958374, 1.2496999502182007, 0.3264999985694885, 0.04280000180006027, -0.3718999922275543, 0.7358999848365784, -1.1303000450134277, -1.1972999572753906], \"logprob\": [30.0, 29.0, 28.0, 27.0, 26.0, 25.0, 24.0, 23.0, 22.0, 21.0, 20.0, 19.0, 18.0, 17.0, 16.0, 15.0, 14.0, 13.0, 12.0, 11.0, 10.0, 9.0, 8.0, 7.0, 6.0, 5.0, 4.0, 3.0, 2.0, 1.0, -3.8380000591278076, -4.067599773406982, -5.186999797821045, -5.503399848937988, -4.5721001625061035, -5.795899868011475, -5.849400043487549, -5.982600212097168, -6.007400035858154, -5.974299907684326, -6.0157999992370605, -6.096799850463867, -6.1803998947143555, -6.18120002746582, -6.283999919891357, -6.292399883270264, -6.285399913787842, -6.335400104522705, -6.389699935913086, -6.390100002288818, -6.390200138092041, -6.212800025939941, -6.4481000900268555, -6.404099941253662, -6.457900047302246, -6.451600074768066, -6.529799938201904, -4.573500156402588, -6.585899829864502, -6.459799766540527, -5.237599849700928, -5.380199909210205, -4.820499897003174, -4.59499979019165, -4.7270002365112305, -4.753699779510498, -3.709700107574463, -5.2052998542785645, -4.135900020599365, -5.589399814605713, -5.142899990081787, -4.00540018081665, -5.4878997802734375, -4.771399974822998, -5.386199951171875, -4.656899929046631, -4.985599994659424, -5.656899929046631, -4.775199890136719, -5.498700141906738, -4.424200057983398, -4.6809000968933105, -5.127999782562256, -4.934000015258789, -4.792900085449219, -5.244100093841553, -5.334000110626221, -5.445700168609619, -5.451600074768066, -5.3420000076293945, -5.366300106048584, -5.490099906921387, -5.496300220489502, -5.650400161743164, -5.7718000411987305, -5.771900177001953, -5.817699909210205, -5.817699909210205, -5.883200168609619, -5.891900062561035, -6.038300037384033, -6.038400173187256, -6.048600196838379, -6.0584001541137695, -6.1006999015808105, -6.110300064086914, -6.177700042724609, -6.177800178527832, -6.178100109100342, -6.064199924468994, -6.246200084686279, -6.25, -6.322000026702881, -6.3221001625061035, -6.322299957275391, -6.403800010681152, -6.403900146484375, -6.4039998054504395, -6.404200077056885, -5.8358001708984375, -5.019999980926514, -5.9334001541137695, -4.0295000076293945, -5.274499893188477, -4.888500213623047, -5.3993000984191895, -3.525899887084961, -5.152400016784668, -5.305300235748291, -5.321100234985352, -4.3231000900268555, -5.506100177764893, -5.6656999588012695, -5.712299823760986, -4.43179988861084, -5.770699977874756, -5.120999813079834, -5.7546000480651855, -4.804500102996826, -4.632299900054932, -4.5619001388549805, -4.933000087738037, -5.424600124359131, -4.745200157165527, -5.15910005569458, -5.221199989318848, -5.326399803161621, -4.926499843597412, -5.188300132751465, -5.308499813079834, -5.444799900054932, -5.3246002197265625, -5.423699855804443, -5.482699871063232, -4.764999866485596, -5.021100044250488, -5.195199966430664, -5.377399921417236, -5.412499904632568, -5.615600109100342, -5.397799968719482, -5.659999847412109, -5.714200019836426, -5.762899875640869, -5.763700008392334, -5.814300060272217, -5.8694000244140625, -5.869999885559082, -5.926400184631348, -5.926400184631348, -5.93720006942749, -5.997399806976318, -5.997799873352051, -5.999599933624268, -6.063499927520752, -6.063700199127197, -6.0640997886657715, -6.064700126647949, -6.068299770355225, -6.133800029754639, -6.133800029754639, -6.133900165557861, -6.135700225830078, -6.20959997177124, -5.273600101470947, -5.991000175476074, -5.875500202178955, -4.525000095367432, -4.648600101470947, -5.491399765014648, -5.605199813842773, -5.6722002029418945, -5.624899864196777, -5.616300106048584, -4.644599914550781, -4.474299907684326, -4.929900169372559, -5.511199951171875, -5.185699939727783, -4.830399990081787, -4.728000164031982, -5.032400131225586, -5.174600124359131, -5.1072001457214355, -5.2270002365112305, -5.555300235748291, -5.670400142669678, -5.6493000984191895, -5.019800186157227, -5.38070011138916, -5.326200008392334, -5.535799980163574, -5.618199825286865, -5.716000080108643, -5.7241997718811035, -5.881199836730957, -5.889800071716309, -5.939300060272217, -5.931600093841553, -5.990099906921387, -5.9903998374938965, -5.9903998374938965, -6.066699981689453, -5.997399806976318, -6.0782999992370605, -6.136899948120117, -6.13700008392334, -6.137899875640869, -6.212699890136719, -6.2133002281188965, -6.146999835968018, -6.294600009918213, -6.2947998046875, -6.295100212097168, -6.295100212097168, -6.2967000007629395, -6.310100078582764, -6.311100006103516, -4.625500202178955, -4.255799770355225, -5.243299961090088, -5.58459997177124, -6.008999824523926, -4.018700122833252, -5.5065999031066895, -4.989200115203857, -5.193299770355225, -5.356400012969971, -5.113100051879883, -5.5640997886657715, -4.658899784088135, -5.747600078582764, -5.365600109100342, -5.241199970245361, -4.9257001876831055, -5.551700115203857, -4.9857001304626465, -4.889400005340576, -5.069499969482422, -5.174499988555908, -5.450300216674805, -5.418799877166748, -5.688899993896484, -5.692699909210205, -4.838099956512451, -5.168399810791016, -5.188199996948242, -5.5320000648498535, -5.767000198364258, -5.7600998878479, -5.821899890899658, -5.822400093078613, -5.831999778747559, -5.870200157165527, -5.870299816131592, -5.871799945831299, -5.872099876403809, -5.821499824523926, -5.931399822235107, -5.931399822235107, -5.893400192260742, -6.007900238037109, -6.078700065612793, -6.078999996185303, -6.09119987487793, -5.787099838256836, -6.082099914550781, -6.084099769592285, -6.154399871826172, -6.170100212097168, -6.235799789428711, -6.2368998527526855, -6.237500190734863, -6.237599849700928, -5.733799934387207, -5.798900127410889, -3.899199962615967, -5.874599933624268, -3.954400062561035, -4.971799850463867, -5.277900218963623, -5.274799823760986, -4.7241997718811035, -4.605000019073486, -5.683700084686279, -4.918900012969971, -4.640600204467773, -5.493100166320801, -5.734600067138672, -5.293700218200684, -5.279200077056885, -5.039100170135498, -5.337699890136719, -5.0731000900268555, -5.22760009765625, -5.593599796295166, -5.703499794006348, -5.504799842834473, -5.550899982452393, -5.4918999671936035, -5.67579984664917, -5.646699905395508, -5.726200103759766]}, \"token.table\": {\"Topic\": [1, 1, 1, 2, 4, 5, 5, 1, 3, 4, 5, 3, 1, 4, 5, 3, 1, 3, 3, 2, 4, 5, 3, 1, 3, 5, 4, 4, 1, 4, 1, 2, 3, 1, 2, 5, 3, 1, 3, 1, 5, 1, 1, 4, 1, 2, 5, 4, 2, 3, 2, 5, 2, 4, 1, 1, 1, 4, 2, 4, 1, 1, 4, 5, 5, 4, 5, 5, 4, 2, 4, 2, 2, 4, 3, 5, 5, 1, 2, 3, 2, 5, 2, 5, 5, 3, 1, 3, 5, 5, 1, 3, 1, 3, 4, 4, 2, 3, 3, 1, 2, 5, 4, 5, 1, 1, 2, 3, 4, 3, 1, 4, 5, 2, 3, 5, 4, 1, 2, 3, 4, 1, 2, 3, 4, 5, 1, 2, 3, 1, 5, 4, 4, 1, 2, 3, 4, 5, 4, 1, 3, 5, 5, 1, 2, 4, 5, 3, 1, 2, 4, 5, 1, 3, 1, 2, 3, 5, 3, 2, 4, 3, 1, 2, 5, 1, 2, 3, 4, 5, 2, 4, 1, 2, 3, 5, 1, 2, 5, 1, 2, 3, 4, 5, 4, 5, 2, 4, 5, 1, 2, 3, 4, 5, 1, 2, 3, 4, 5, 2, 1, 2, 4, 1, 1, 2, 3, 4, 3, 1, 3, 1, 2, 3, 4, 4, 1, 3, 4, 1, 4, 5, 2, 1, 1, 3, 5, 1, 3, 2, 4, 5, 5, 1, 2, 3, 4, 2, 4, 1, 2, 3, 5, 1, 2, 3, 4, 5, 2, 1, 2, 3, 5, 5, 3, 1, 3, 5, 3, 2, 3, 1, 2, 4, 5, 1, 2, 3, 5, 1, 5, 4, 3, 1, 5, 2, 3, 4, 3, 1, 2, 3, 5, 1, 3, 5, 2, 4, 1, 4, 2, 1, 3, 4, 4, 4, 1, 2, 3, 5, 4, 2, 3, 4, 5, 1, 2, 3, 5, 2, 3, 2, 3, 1, 1, 3, 4, 2, 2, 3, 4, 5, 5, 2, 1, 4, 5, 1, 4, 5, 2, 2, 5, 3, 4, 2, 4, 5, 4, 3, 2, 3, 4, 5, 1, 2, 4, 2, 3, 5, 2, 2, 1, 2, 1, 3, 5, 1, 4, 3, 1, 2, 3, 4, 5, 3, 3, 2, 3, 1, 2, 3, 1, 2, 4, 5, 2, 1, 1, 2, 3, 5, 1, 2, 3, 4, 5, 3, 2, 2, 5, 1, 2, 1, 3, 1, 3, 5, 5, 5, 4, 2, 1, 4, 5, 1, 2, 3, 5, 5, 2, 5, 5, 2, 3, 5, 1, 2, 2, 1, 2, 5, 1, 5, 3, 4, 2, 2], \"Freq\": [0.8981781005859375, 0.8814274072647095, 0.7597193121910095, 0.08441326022148132, 0.16882652044296265, 0.8783208727836609, 0.8395355939865112, 0.6956465244293213, 0.1464519053697586, 0.0732259526848793, 0.0732259526848793, 0.9334074258804321, 0.9214997887611389, 0.8069314956665039, 0.13448858261108398, 0.8693318367004395, 0.13649854063987732, 0.8189911842346191, 0.8196693062782288, 0.8739385008811951, 0.0873938500881195, 0.8394536375999451, 0.8196633458137512, 0.46408072113990784, 0.46408072113990784, 0.0687526986002922, 0.8523401021957397, 0.9258435964584351, 0.9681078195571899, 0.9286760091781616, 0.31299498677253723, 0.26828140020370483, 0.40242210030555725, 0.2352021187543869, 0.7056063413619995, 0.0470404215157032, 0.9585598111152649, 0.8978166580200195, 0.8773296475410461, 0.8825408816337585, 0.08405151218175888, 0.9339787364006042, 0.5130580067634583, 0.43412601947784424, 0.7963014245033264, 0.12573181092739105, 0.08382119983434677, 0.9428385496139526, 0.8809208869934082, 0.9913259148597717, 0.11466144025325775, 0.8026300668716431, 0.8661783933639526, 0.9090046882629395, 0.9938642382621765, 0.8730098009109497, 0.8977308869361877, 0.844821572303772, 0.8986775279045105, 0.8926053047180176, 0.913589596748352, 0.24786105751991272, 0.14871662855148315, 0.5948665142059326, 0.9659733176231384, 0.271474689245224, 0.7239325046539307, 0.8824103474617004, 0.9569551944732666, 0.3298899233341217, 0.6597798466682434, 0.8871883749961853, 0.923620879650116, 0.9665790796279907, 0.813424289226532, 0.18771329522132874, 0.9660611152648926, 0.981408953666687, 0.88718581199646, 0.9748421907424927, 0.8925735950469971, 0.9543613195419312, 0.7121774554252625, 0.2769578993320465, 0.936266303062439, 0.9009506106376648, 0.37669917941093445, 0.10762833803892136, 0.4843275249004364, 0.9228079319000244, 0.9835451245307922, 0.9230784177780151, 0.9396823644638062, 0.23560532927513123, 0.7068160176277161, 0.7819366455078125, 0.9020832777023315, 0.10023147612810135, 0.9229423999786377, 0.274361252784729, 0.18290750682353973, 0.548722505569458, 0.4793452322483063, 0.511301577091217, 0.9486473798751831, 0.10933432728052139, 0.8746746182441711, 0.6767942905426025, 0.3007974624633789, 0.9535637497901917, 0.5725564360618591, 0.03693912550806999, 0.38786080479621887, 0.8110387325286865, 0.17379401624202728, 0.8485167026519775, 0.9499808549880981, 0.38872212171554565, 0.2961692214012146, 0.18510577082633972, 0.12957404553890228, 0.28576087951660156, 0.12784038484096527, 0.11280034482479095, 0.13536041975021362, 0.33840101957321167, 0.25820192694664, 0.51640385389328, 0.22951281070709229, 0.8303973078727722, 0.1624690443277359, 0.7916037440299988, 0.7916139364242554, 0.6231798529624939, 0.2131931036710739, 0.04919840767979622, 0.04919840767979622, 0.06559787690639496, 0.9325651526451111, 0.9568325877189636, 0.9229032397270203, 0.9313071370124817, 0.9071515798568726, 0.38885298371315, 0.2916397452354431, 0.31594306230545044, 0.9392080307006836, 0.897578775882721, 0.8142242431640625, 0.04789554327726364, 0.14368663728237152, 0.9659609198570251, 0.884631335735321, 0.11057891696691513, 0.9117463827133179, 0.16052117943763733, 0.2675352990627289, 0.5350705981254578, 0.9500687122344971, 0.8661751747131348, 0.8932456374168396, 0.9333487153053284, 0.21637462079524994, 0.7933735847473145, 0.9086800813674927, 0.6823375225067139, 0.09220777451992035, 0.13523806631565094, 0.03688310831785202, 0.04917747899889946, 0.8906466960906982, 0.8932487368583679, 0.2531529664993286, 0.21698825061321259, 0.3616470992565155, 0.14465883374214172, 0.637220025062561, 0.22695507109165192, 0.13093562424182892, 0.16151680052280426, 0.023073827847838402, 0.3230336010456085, 0.23073828220367432, 0.25381210446357727, 0.12261141091585159, 0.8582798838615417, 0.2033432573080063, 0.5693610906600952, 0.2033432573080063, 0.3709563910961151, 0.3372330963611603, 0.06744661927223206, 0.1236521303653717, 0.1124110296368599, 0.21919865906238556, 0.3914261758327484, 0.28182685375213623, 0.046971142292022705, 0.046971142292022705, 0.9234806299209595, 0.45167356729507446, 0.47544586658477783, 0.05943073332309723, 0.888145387172699, 0.1859133243560791, 0.07436533272266388, 0.09295666217803955, 0.6506966352462769, 0.9147627949714661, 0.2923613488674164, 0.6578130125999451, 0.37630558013916016, 0.37630558013916016, 0.18815279006958008, 0.07055729627609253, 0.8496015071868896, 0.7709215879440308, 0.18502119183540344, 0.030836865305900574, 0.5658948421478271, 0.25150880217552185, 0.15719300508499146, 0.9423534274101257, 0.8999544382095337, 0.9728329181671143, 0.7397900223731995, 0.24659667909145355, 0.8813444375991821, 0.9556282162666321, 0.973022997379303, 0.9761276245117188, 0.973624050617218, 0.9736331105232239, 0.208330437541008, 0.12499826401472092, 0.3333286941051483, 0.31944000720977783, 0.8242053985595703, 0.7817819118499756, 0.33612045645713806, 0.5602007508277893, 0.05602007359266281, 0.04979562386870384, 0.5857917666435242, 0.15527011454105377, 0.20467424392700195, 0.021173197776079178, 0.03528866171836853, 0.8871876001358032, 0.05212318152189255, 0.1042463630437851, 0.5212318301200867, 0.26061591506004333, 0.8760641813278198, 0.8693336248397827, 0.828264057636261, 0.020706601440906525, 0.14494620263576508, 0.9791918396949768, 0.6938899755477905, 0.23129665851593018, 0.5305384397506714, 0.18507154285907745, 0.18507154285907745, 0.08636672049760818, 0.47478529810905457, 0.3956544101238251, 0.026376960799098015, 0.10550784319639206, 0.9059117436408997, 0.9734740257263184, 0.977454662322998, 0.891648530960083, 0.9421791434288025, 0.8492879271507263, 0.16029664874076843, 0.16029664874076843, 0.6946187615394592, 0.8196085095405579, 0.8110278248786926, 0.16636468470096588, 0.9229380488395691, 0.898328423500061, 0.9728198647499084, 0.6468088626861572, 0.3234044313430786, 0.8242055773735046, 0.8493065237998962, 0.4331173300743103, 0.529365599155426, 0.8661758899688721, 0.1168704703450203, 0.8180932998657227, 0.9559954404830933, 0.9090721607208252, 0.8496403098106384, 0.10553619265556335, 0.3316851854324341, 0.2110723853111267, 0.3467617630958557, 0.8496089577674866, 0.07030230760574341, 0.07030230760574341, 0.35151153802871704, 0.5624184608459473, 0.4592853784561157, 0.1837141513824463, 0.09185707569122314, 0.27557122707366943, 0.8000105023384094, 0.16000209748744965, 0.8906428813934326, 0.9237189888954163, 0.9000065326690674, 0.24745622277259827, 0.08248540759086609, 0.6598832607269287, 0.9512660503387451, 0.391123503446579, 0.1846971958875656, 0.1846971958875656, 0.23901991546154022, 0.8824103474617004, 0.8878139853477478, 0.2452268749475479, 0.5211070775985718, 0.21457351744174957, 0.3902444839477539, 0.43902504444122314, 0.09756112098693848, 0.988102376461029, 0.7478312253952026, 0.1661847084760666, 0.10890553146600723, 0.8712442517280579, 0.9446092247962952, 0.8932158350944519, 0.9659444093704224, 0.9509118795394897, 0.9229165315628052, 0.06476348638534546, 0.3238174319267273, 0.5828713774681091, 0.06476348638534546, 0.046987224370241165, 0.7048083543777466, 0.23493611812591553, 0.857700526714325, 0.16081884503364563, 0.9454619288444519, 0.9872533082962036, 0.8926024436950684, 0.9716476798057556, 0.8242010474205017, 0.9248074889183044, 0.6740394830703735, 0.2995731234550476, 0.9687637090682983, 0.020611993968486786, 0.9817373752593994, 0.12162864953279495, 0.34461450576782227, 0.020271440967917442, 0.16217152774333954, 0.34461450576782227, 0.8196734189987183, 0.8692324757575989, 0.7863060235977173, 0.20512330532073975, 0.9189560413360596, 0.019552256911993027, 0.05865676701068878, 0.23168763518333435, 0.08425004780292511, 0.1895626038312912, 0.49496904015541077, 0.9068518877029419, 0.97284996509552, 0.44993290305137634, 0.12270897626876831, 0.08180598169565201, 0.32722392678260803, 0.21936051547527313, 0.11882027983665466, 0.12796029448509216, 0.4021609425544739, 0.13710032403469086, 0.9500275254249573, 0.8987814784049988, 0.11347844451665878, 0.9078275561332703, 0.41810140013694763, 0.5435318350791931, 0.8540946841239929, 0.138501837849617, 0.7541171312332153, 0.2356615960597992, 0.8394383788108826, 0.9736253619194031, 0.9432242512702942, 0.9568636417388916, 0.9162255525588989, 0.9925475716590881, 0.7819525599479675, 0.8394091129302979, 0.4349784851074219, 0.1831488311290741, 0.16025523841381073, 0.20604243874549866, 0.8853508830070496, 0.25301066040992737, 0.6746950745582581, 0.9313055872917175, 0.26047682762145996, 0.4808802902698517, 0.24044014513492584, 0.22943110764026642, 0.7647703289985657, 0.8871976137161255, 0.014801740646362305, 0.7992939949035645, 0.19242262840270996, 0.7408328056335449, 0.24694426357746124, 0.9010468125343323, 0.7819142937660217, 0.9324036836624146, 0.9324085712432861], \"Term\": [\"addition\", \"ahead\", \"alright\", \"alright\", \"alright\", \"apparently\", \"appropriate\", \"ask\", \"ask\", \"ask\", \"ask\", \"ass\", \"available\", \"baby\", \"baby\", \"bar\", \"bedroom\", \"bedroom\", \"better\", \"big\", \"big\", \"bird\", \"birth\", \"birthday\", \"birthday\", \"birthday\", \"bit\", \"blah\", \"board\", \"box\", \"boy\", \"boy\", \"boy\", \"break\", \"break\", \"break\", \"breakfast\", \"burner\", \"business\", \"buy\", \"buy\", \"cake\", \"care\", \"care\", \"cat\", \"cat\", \"cat\", \"chance\", \"cheesecake\", \"chicken\", \"child\", \"child\", \"classic\", \"collection\", \"come\", \"computer\", \"convention\", \"conversation\", \"cool\", \"copenhagen\", \"costume\", \"course\", \"course\", \"course\", \"crowded\", \"date\", \"date\", \"de\", \"detail\", \"dibs\", \"dibs\", \"dip\", \"dna\", \"doctor\", \"dollar\", \"dollar\", \"donkey\", \"drunk\", \"du\", \"dude\", \"dvd\", \"e\", \"eat\", \"eat\", \"egg\", \"embarrassed\", \"end\", \"end\", \"end\", \"enjoy\", \"everybody\", \"exist\", \"expect\", \"explain\", \"explain\", \"fair\", \"family\", \"family\", \"father\", \"feel\", \"feel\", \"feel\", \"find\", \"find\", \"fine\", \"fire\", \"fire\", \"forget\", \"forget\", \"free\", \"friend\", \"friend\", \"friend\", \"fun\", \"fun\", \"funny\", \"genetic\", \"get\", \"get\", \"get\", \"get\", \"go\", \"go\", \"go\", \"go\", \"go\", \"god\", \"god\", \"god\", \"good\", \"good\", \"goodbye\", \"ground\", \"guy\", \"guy\", \"guy\", \"guy\", \"guy\", \"halo\", \"happy\", \"hard\", \"hee\", \"hell\", \"hey\", \"hey\", \"hey\", \"hi\", \"hold\", \"home\", \"home\", \"home\", \"honest\", \"howard\", \"howard\", \"huh\", \"idea\", \"idea\", \"idea\", \"ignore\", \"involve\", \"jacuzzi\", \"kick\", \"kid\", \"kid\", \"kitty\", \"know\", \"know\", \"know\", \"know\", \"know\", \"lactose\", \"larry\", \"leave\", \"leave\", \"leave\", \"leave\", \"leonard\", \"leonard\", \"leonard\", \"let\", \"let\", \"let\", \"let\", \"let\", \"lie\", \"lie\", \"life\", \"life\", \"life\", \"like\", \"like\", \"like\", \"like\", \"like\", \"little\", \"little\", \"little\", \"little\", \"little\", \"loofah\", \"look\", \"look\", \"look\", \"low\", \"machine\", \"machine\", \"machine\", \"machine\", \"mad\", \"make\", \"make\", \"man\", \"man\", \"man\", \"man\", \"match\", \"maybe\", \"maybe\", \"maybe\", \"mean\", \"mean\", \"mean\", \"medication\", \"mint\", \"mistake\", \"mom\", \"mom\", \"month\", \"mother\", \"move\", \"mrs\", \"mucus\", \"necessary\", \"need\", \"need\", \"need\", \"need\", \"office\", \"offspring\", \"oh\", \"oh\", \"oh\", \"oh\", \"okay\", \"okay\", \"okay\", \"okay\", \"okay\", \"optional\", \"order\", \"order\", \"order\", \"order\", \"ordinary\", \"paper\", \"party\", \"party\", \"party\", \"pass\", \"peanut\", \"peanut\", \"penny\", \"penny\", \"penny\", \"penny\", \"people\", \"people\", \"people\", \"people\", \"perfect\", \"personal\", \"physical\", \"physicist\", \"pick\", \"plan\", \"play\", \"play\", \"play\", \"plus\", \"point\", \"point\", \"possibility\", \"pound\", \"premise\", \"present\", \"present\", \"produce\", \"propose\", \"raj\", \"raj\", \"real\", \"reason\", \"reason\", \"remember\", \"render\", \"response\", \"right\", \"right\", \"right\", \"right\", \"rocket\", \"room\", \"room\", \"room\", \"room\", \"say\", \"say\", \"say\", \"say\", \"screw\", \"screw\", \"secret\", \"sell\", \"separate\", \"set\", \"set\", \"set\", \"settle\", \"sheldon\", \"sheldon\", \"sheldon\", \"sheldon\", \"shi\", \"sick\", \"sister\", \"sister\", \"sister\", \"sit\", \"sit\", \"sit\", \"smart\", \"social\", \"social\", \"sorry\", \"sorry\", \"sound\", \"spear\", \"spin\", \"stand\", \"stare\", \"start\", \"start\", \"start\", \"start\", \"stay\", \"stay\", \"stay\", \"stop\", \"stop\", \"string\", \"stupid\", \"subject\", \"surprise\", \"surprised\", \"swell\", \"take\", \"take\", \"talk\", \"talk\", \"tangerine\", \"tell\", \"tell\", \"tell\", \"tell\", \"tell\", \"th\", \"thai\", \"thank\", \"thank\", \"thing\", \"thing\", \"thing\", \"think\", \"think\", \"think\", \"think\", \"thirty\", \"thought\", \"throw\", \"throw\", \"throw\", \"throw\", \"time\", \"time\", \"time\", \"time\", \"time\", \"tiny\", \"tomorrow\", \"travel\", \"travel\", \"turn\", \"turn\", \"uh\", \"uh\", \"um\", \"um\", \"uncomfortable\", \"unconscious\", \"understand\", \"wait\", \"walk\", \"want\", \"war\", \"water\", \"way\", \"way\", \"way\", \"way\", \"welcome\", \"wonder\", \"wonder\", \"word\", \"work\", \"work\", \"work\", \"wow\", \"wow\", \"wrap\", \"yeah\", \"yeah\", \"yeah\", \"year\", \"year\", \"yell\", \"yesterday\", \"yip\", \"zz\"]}, \"R\": 30, \"lambda.step\": 0.01, \"plot.opts\": {\"xlab\": \"PC1\", \"ylab\": \"PC2\"}, \"topic.order\": [5, 1, 4, 2, 3]};\n",
              "\n",
              "function LDAvis_load_lib(url, callback){\n",
              "  var s = document.createElement('script');\n",
              "  s.src = url;\n",
              "  s.async = true;\n",
              "  s.onreadystatechange = s.onload = callback;\n",
              "  s.onerror = function(){console.warn(\"failed to load library \" + url);};\n",
              "  document.getElementsByTagName(\"head\")[0].appendChild(s);\n",
              "}\n",
              "\n",
              "if(typeof(LDAvis) !== \"undefined\"){\n",
              "   // already loaded: just create the visualization\n",
              "   !function(LDAvis){\n",
              "       new LDAvis(\"#\" + \"ldavis_el1221401319202026325544536488\", ldavis_el1221401319202026325544536488_data);\n",
              "   }(LDAvis);\n",
              "}else if(typeof define === \"function\" && define.amd){\n",
              "   // require.js is available: use it to load d3/LDAvis\n",
              "   require.config({paths: {d3: \"https://cdnjs.cloudflare.com/ajax/libs/d3/3.5.5/d3.min\"}});\n",
              "   require([\"d3\"], function(d3){\n",
              "      window.d3 = d3;\n",
              "      LDAvis_load_lib(\"https://cdn.rawgit.com/bmabey/pyLDAvis/files/ldavis.v1.0.0.js\", function(){\n",
              "        new LDAvis(\"#\" + \"ldavis_el1221401319202026325544536488\", ldavis_el1221401319202026325544536488_data);\n",
              "      });\n",
              "    });\n",
              "}else{\n",
              "    // require.js not available: dynamically load d3 & LDAvis\n",
              "    LDAvis_load_lib(\"https://cdnjs.cloudflare.com/ajax/libs/d3/3.5.5/d3.min.js\", function(){\n",
              "         LDAvis_load_lib(\"https://cdn.rawgit.com/bmabey/pyLDAvis/files/ldavis.v1.0.0.js\", function(){\n",
              "                 new LDAvis(\"#\" + \"ldavis_el1221401319202026325544536488\", ldavis_el1221401319202026325544536488_data);\n",
              "            })\n",
              "         });\n",
              "}\n",
              "</script>"
            ],
            "text/plain": [
              "PreparedData(topic_coordinates=              x         y  topics  cluster       Freq\n",
              "topic                                                \n",
              "4      0.109535 -0.165111       1        1  30.509991\n",
              "0      0.090485  0.049755       2        1  20.449512\n",
              "3      0.029969  0.082379       3        1  17.011463\n",
              "1     -0.192485 -0.079695       4        1  16.373522\n",
              "2     -0.037503  0.112671       5        1  15.655512, topic_info=     Category        Freq   Term       Total  loglift  logprob\n",
              "92    Default   98.000000   want   98.000000  30.0000  30.0000\n",
              "234   Default   78.000000   come   78.000000  29.0000  29.0000\n",
              "128   Default  160.000000     oh  160.000000  28.0000  28.0000\n",
              "219   Default   67.000000   yeah   67.000000  27.0000  27.0000\n",
              "16    Default   94.000000  think   94.000000  26.0000  26.0000\n",
              "...       ...         ...    ...         ...      ...      ...\n",
              "12     Topic5    9.051333   good   55.395168   0.0428  -5.5509\n",
              "204    Topic5    9.601562   like   88.959244  -0.3719  -5.4919\n",
              "1392   Topic5    7.989011  throw   24.448090   0.7359  -5.6758\n",
              "70     Topic5    8.224612   know  162.676086  -1.1303  -5.6467\n",
              "128    Topic5    7.596157     oh  160.656693  -1.1973  -5.7262\n",
              "\n",
              "[323 rows x 6 columns], token_table=      Topic      Freq       Term\n",
              "term                            \n",
              "1190      1  0.898178   addition\n",
              "1790      1  0.881427      ahead\n",
              "928       1  0.759719    alright\n",
              "928       2  0.084413    alright\n",
              "928       4  0.168827    alright\n",
              "...     ...       ...        ...\n",
              "332       5  0.246944       year\n",
              "1664      3  0.901047       yell\n",
              "3468      4  0.781914  yesterday\n",
              "4009      2  0.932404        yip\n",
              "3512      2  0.932409         zz\n",
              "\n",
              "[428 rows x 3 columns], R=30, lambda_step=0.01, plot_opts={'xlab': 'PC1', 'ylab': 'PC2'}, topic_order=[5, 1, 4, 2, 3])"
            ]
          },
          "metadata": {
            "tags": []
          },
          "execution_count": 65
        }
      ]
    },
    {
      "cell_type": "code",
      "metadata": {
        "id": "UHcoEfVAaOUm",
        "colab_type": "code",
        "outputId": "2cd17e78-75b1-4f37-d02a-7b1198c63361",
        "colab": {
          "base_uri": "https://localhost:8080/",
          "height": 34
        }
      },
      "source": [
        "print('Perplexity: ', lda_model.log_perplexity(corpus))"
      ],
      "execution_count": 0,
      "outputs": [
        {
          "output_type": "stream",
          "text": [
            "Perplexity:  -8.193285532872613\n"
          ],
          "name": "stdout"
        }
      ]
    },
    {
      "cell_type": "code",
      "metadata": {
        "id": "EHC4WasoaWmV",
        "colab_type": "code",
        "outputId": "06ac7cbb-f51d-432c-c346-00242c76b4e8",
        "colab": {
          "base_uri": "https://localhost:8080/",
          "height": 34
        }
      },
      "source": [
        "coherence_model_lda = CoherenceModel(model=lda_model, texts=text_data, dictionary=id2word, coherence='c_v')\n",
        "coherence_lda = coherence_model_lda.get_coherence()\n",
        "print('Coherence Score: ', coherence_lda)"
      ],
      "execution_count": 0,
      "outputs": [
        {
          "output_type": "stream",
          "text": [
            "Coherence Score:  0.3879567153864695\n"
          ],
          "name": "stdout"
        }
      ]
    },
    {
      "cell_type": "code",
      "metadata": {
        "id": "QeBD7yYpzGOk",
        "colab_type": "code",
        "outputId": "825aa0c1-3bf9-4e82-bf59-b9f59d47cd24",
        "colab": {
          "base_uri": "https://localhost:8080/",
          "height": 204
        }
      },
      "source": [
        "data_tbt.head()"
      ],
      "execution_count": 0,
      "outputs": [
        {
          "output_type": "execute_result",
          "data": {
            "text/html": [
              "<div>\n",
              "<style scoped>\n",
              "    .dataframe tbody tr th:only-of-type {\n",
              "        vertical-align: middle;\n",
              "    }\n",
              "\n",
              "    .dataframe tbody tr th {\n",
              "        vertical-align: top;\n",
              "    }\n",
              "\n",
              "    .dataframe thead th {\n",
              "        text-align: right;\n",
              "    }\n",
              "</style>\n",
              "<table border=\"1\" class=\"dataframe\">\n",
              "  <thead>\n",
              "    <tr style=\"text-align: right;\">\n",
              "      <th></th>\n",
              "      <th>label</th>\n",
              "      <th>text</th>\n",
              "      <th>token_number</th>\n",
              "      <th>verb_number</th>\n",
              "    </tr>\n",
              "  </thead>\n",
              "  <tbody>\n",
              "    <tr>\n",
              "      <th>0</th>\n",
              "      <td>Sheldon</td>\n",
              "      <td>[photon, direct, plane, slit, slit, observe, s...</td>\n",
              "      <td>15</td>\n",
              "      <td>6</td>\n",
              "    </tr>\n",
              "    <tr>\n",
              "      <th>1</th>\n",
              "      <td>Leonard</td>\n",
              "      <td>[agree, point]</td>\n",
              "      <td>2</td>\n",
              "      <td>1</td>\n",
              "    </tr>\n",
              "    <tr>\n",
              "      <th>2</th>\n",
              "      <td>Sheldon</td>\n",
              "      <td>[point, think, good, idea, tee, shirt]</td>\n",
              "      <td>6</td>\n",
              "      <td>1</td>\n",
              "    </tr>\n",
              "    <tr>\n",
              "      <th>3</th>\n",
              "      <td>Leonard</td>\n",
              "      <td>[aegean, nabakov, mcm, fourteen, finger, phylu...</td>\n",
              "      <td>19</td>\n",
              "      <td>2</td>\n",
              "    </tr>\n",
              "    <tr>\n",
              "      <th>4</th>\n",
              "      <td>Leonard</td>\n",
              "      <td>[yes, um, high, iq, sperm, bank]</td>\n",
              "      <td>6</td>\n",
              "      <td>0</td>\n",
              "    </tr>\n",
              "  </tbody>\n",
              "</table>\n",
              "</div>"
            ],
            "text/plain": [
              "     label  ... verb_number\n",
              "0  Sheldon  ...           6\n",
              "1  Leonard  ...           1\n",
              "2  Sheldon  ...           1\n",
              "3  Leonard  ...           2\n",
              "4  Leonard  ...           0\n",
              "\n",
              "[5 rows x 4 columns]"
            ]
          },
          "metadata": {
            "tags": []
          },
          "execution_count": 68
        }
      ]
    },
    {
      "cell_type": "code",
      "metadata": {
        "id": "7QiZnqh6zMN0",
        "colab_type": "code",
        "outputId": "95393cb5-161c-4d72-9288-9b0182ef0f1b",
        "colab": {
          "base_uri": "https://localhost:8080/",
          "height": 34
        }
      },
      "source": [
        "dict_lda = {}\n",
        "for i in dict(enumerate(encoder.classes_)).values():\n",
        "  dict_lda[i] = []\n",
        "dict_lda"
      ],
      "execution_count": 0,
      "outputs": [
        {
          "output_type": "execute_result",
          "data": {
            "text/plain": [
              "{'Howard': [], 'Leonard': [], 'Penny': [], 'Raj': [], 'Sheldon': []}"
            ]
          },
          "metadata": {
            "tags": []
          },
          "execution_count": 32
        }
      ]
    },
    {
      "cell_type": "code",
      "metadata": {
        "id": "8TBPvTAlzMj5",
        "colab_type": "code",
        "colab": {}
      },
      "source": [
        "for x, y in enumerate(data_tbt['text']):\n",
        "  dict_lda[data_tbt['label'][x]].append(y)"
      ],
      "execution_count": 0,
      "outputs": []
    },
    {
      "cell_type": "code",
      "metadata": {
        "id": "Kf3gZbnuzM1e",
        "colab_type": "code",
        "outputId": "3cc62fb2-afc2-4e2d-84ca-caaa4223220d",
        "colab": {
          "base_uri": "https://localhost:8080/",
          "height": 357
        }
      },
      "source": [
        "dict_viz = {}\n",
        "for i in dict_lda:\n",
        "  text_data = dict_lda[i]\n",
        "  id2word = corpora.Dictionary(text_data)\n",
        "  texts = text_data\n",
        "  corpus = [id2word.doc2bow(text) for text in texts]\n",
        "  lda_model = gensim.models.ldamodel.LdaModel(corpus, num_topics = 3, id2word=id2word, passes=15)\n",
        "  dict_viz[i] = [lda_model, corpus, id2word]\n",
        "  topics = lda_model.print_topics(num_words=5)\n",
        "  print('Topics of', i)\n",
        "  for t in topics:\n",
        "    print(t)"
      ],
      "execution_count": 0,
      "outputs": [
        {
          "output_type": "stream",
          "text": [
            "Topics of Howard\n",
            "(0, '0.013*\"know\" + 0.011*\"get\" + 0.009*\"sheldon\" + 0.009*\"like\" + 0.008*\"look\"')\n",
            "(1, '0.012*\"think\" + 0.012*\"sheldon\" + 0.011*\"get\" + 0.008*\"need\" + 0.008*\"girl\"')\n",
            "(2, '0.010*\"lady\" + 0.009*\"right\" + 0.007*\"good\" + 0.007*\"speak\" + 0.006*\"talk\"')\n",
            "Topics of Leonard\n",
            "(0, '0.018*\"go\" + 0.017*\"come\" + 0.009*\"sheldon\" + 0.009*\"need\" + 0.008*\"know\"')\n",
            "(1, '0.016*\"know\" + 0.015*\"okay\" + 0.012*\"oh\" + 0.009*\"thing\" + 0.009*\"sheldon\"')\n",
            "(2, '0.019*\"penny\" + 0.015*\"like\" + 0.014*\"sheldon\" + 0.011*\"oh\" + 0.011*\"uh\"')\n",
            "Topics of Penny\n",
            "(0, '0.023*\"okay\" + 0.022*\"yeah\" + 0.021*\"know\" + 0.019*\"want\" + 0.017*\"get\"')\n",
            "(1, '0.042*\"oh\" + 0.027*\"guy\" + 0.020*\"go\" + 0.017*\"leonard\" + 0.017*\"good\"')\n",
            "(2, '0.034*\"okay\" + 0.021*\"know\" + 0.018*\"think\" + 0.018*\"need\" + 0.013*\"hey\"')\n",
            "Topics of Raj\n",
            "(0, '0.015*\"little\" + 0.013*\"lalita\" + 0.011*\"girl\" + 0.010*\"dude\" + 0.010*\"maybe\"')\n",
            "(1, '0.022*\"oh\" + 0.015*\"time\" + 0.014*\"get\" + 0.014*\"hee\" + 0.012*\"indian\"')\n",
            "(2, '0.012*\"oh\" + 0.008*\"new\" + 0.008*\"sheldon\" + 0.008*\"tell\" + 0.008*\"leave\"')\n",
            "Topics of Sheldon\n",
            "(0, '0.014*\"go\" + 0.009*\"time\" + 0.008*\"penny\" + 0.008*\"leonard\" + 0.007*\"know\"')\n",
            "(1, '0.008*\"need\" + 0.006*\"leave\" + 0.006*\"time\" + 0.006*\"point\" + 0.006*\"know\"')\n",
            "(2, '0.013*\"think\" + 0.012*\"want\" + 0.009*\"leonard\" + 0.008*\"oh\" + 0.005*\"people\"')\n"
          ],
          "name": "stdout"
        }
      ]
    },
    {
      "cell_type": "code",
      "metadata": {
        "id": "ASuBCG1j2YHX",
        "colab_type": "code",
        "outputId": "34f84827-19c7-4116-b3f8-738670ce5a52",
        "colab": {
          "base_uri": "https://localhost:8080/",
          "height": 1000
        }
      },
      "source": [
        "pyLDAvis.enable_notebook()\n",
        "showme = pyLDAvis.gensim.prepare(dict_viz['Howard'][0], dict_viz['Howard'][1], dict_viz['Howard'][2])\n",
        "showme"
      ],
      "execution_count": 0,
      "outputs": [
        {
          "output_type": "stream",
          "text": [
            "/usr/local/lib/python3.6/dist-packages/pyLDAvis/_prepare.py:257: FutureWarning: Sorting because non-concatenation axis is not aligned. A future version\n",
            "of pandas will change to not sort by default.\n",
            "\n",
            "To accept the future behavior, pass 'sort=False'.\n",
            "\n",
            "To retain the current behavior and silence the warning, pass 'sort=True'.\n",
            "\n",
            "  return pd.concat([default_term_info] + list(topic_dfs))\n"
          ],
          "name": "stderr"
        },
        {
          "output_type": "execute_result",
          "data": {
            "text/html": [
              "\n",
              "<link rel=\"stylesheet\" type=\"text/css\" href=\"https://cdn.rawgit.com/bmabey/pyLDAvis/files/ldavis.v1.0.0.css\">\n",
              "\n",
              "\n",
              "<div id=\"ldavis_el1221401320468709525071648973\"></div>\n",
              "<script type=\"text/javascript\">\n",
              "\n",
              "var ldavis_el1221401320468709525071648973_data = {\"mdsDat\": {\"x\": [-0.04406609017881054, -0.13742447481822156, 0.18149056499703212], \"y\": [-0.17594928767933982, 0.12444233684467874, 0.051506950834661024], \"topics\": [1, 2, 3], \"cluster\": [1, 1, 1], \"Freq\": [39.7054557800293, 30.31931495666504, 29.975223541259766]}, \"tinfo\": {\"Category\": [\"Default\", \"Default\", \"Default\", \"Default\", \"Default\", \"Default\", \"Default\", \"Default\", \"Default\", \"Default\", \"Default\", \"Default\", \"Default\", \"Default\", \"Default\", \"Default\", \"Default\", \"Default\", \"Default\", \"Default\", \"Default\", \"Default\", \"Default\", \"Default\", \"Default\", \"Default\", \"Default\", \"Default\", \"Default\", \"Default\", \"Topic1\", \"Topic1\", \"Topic1\", \"Topic1\", \"Topic1\", \"Topic1\", \"Topic1\", \"Topic1\", \"Topic1\", \"Topic1\", \"Topic1\", \"Topic1\", \"Topic1\", \"Topic1\", \"Topic1\", \"Topic1\", \"Topic1\", \"Topic1\", \"Topic1\", \"Topic1\", \"Topic1\", \"Topic1\", \"Topic1\", \"Topic1\", \"Topic1\", \"Topic1\", \"Topic1\", \"Topic1\", \"Topic1\", \"Topic1\", \"Topic1\", \"Topic1\", \"Topic1\", \"Topic1\", \"Topic1\", \"Topic1\", \"Topic1\", \"Topic1\", \"Topic1\", \"Topic1\", \"Topic1\", \"Topic1\", \"Topic1\", \"Topic1\", \"Topic1\", \"Topic1\", \"Topic1\", \"Topic1\", \"Topic1\", \"Topic1\", \"Topic1\", \"Topic1\", \"Topic1\", \"Topic1\", \"Topic1\", \"Topic1\", \"Topic1\", \"Topic1\", \"Topic1\", \"Topic1\", \"Topic1\", \"Topic2\", \"Topic2\", \"Topic2\", \"Topic2\", \"Topic2\", \"Topic2\", \"Topic2\", \"Topic2\", \"Topic2\", \"Topic2\", \"Topic2\", \"Topic2\", \"Topic2\", \"Topic2\", \"Topic2\", \"Topic2\", \"Topic2\", \"Topic2\", \"Topic2\", \"Topic2\", \"Topic2\", \"Topic2\", \"Topic2\", \"Topic2\", \"Topic2\", \"Topic2\", \"Topic2\", \"Topic2\", \"Topic2\", \"Topic2\", \"Topic2\", \"Topic2\", \"Topic2\", \"Topic2\", \"Topic2\", \"Topic2\", \"Topic2\", \"Topic2\", \"Topic2\", \"Topic2\", \"Topic2\", \"Topic2\", \"Topic2\", \"Topic2\", \"Topic2\", \"Topic2\", \"Topic2\", \"Topic2\", \"Topic2\", \"Topic2\", \"Topic2\", \"Topic2\", \"Topic2\", \"Topic2\", \"Topic2\", \"Topic3\", \"Topic3\", \"Topic3\", \"Topic3\", \"Topic3\", \"Topic3\", \"Topic3\", \"Topic3\", \"Topic3\", \"Topic3\", \"Topic3\", \"Topic3\", \"Topic3\", \"Topic3\", \"Topic3\", \"Topic3\", \"Topic3\", \"Topic3\", \"Topic3\", \"Topic3\", \"Topic3\", \"Topic3\", \"Topic3\", \"Topic3\", \"Topic3\", \"Topic3\", \"Topic3\", \"Topic3\", \"Topic3\", \"Topic3\", \"Topic3\", \"Topic3\", \"Topic3\", \"Topic3\", \"Topic3\", \"Topic3\", \"Topic3\", \"Topic3\", \"Topic3\", \"Topic3\", \"Topic3\", \"Topic3\", \"Topic3\", \"Topic3\", \"Topic3\", \"Topic3\", \"Topic3\", \"Topic3\", \"Topic3\", \"Topic3\", \"Topic3\", \"Topic3\", \"Topic3\"], \"Freq\": [56.0, 20.0, 18.0, 33.0, 35.0, 15.0, 18.0, 13.0, 13.0, 31.0, 41.0, 23.0, 18.0, 33.0, 13.0, 25.0, 16.0, 31.0, 10.0, 40.0, 10.0, 23.0, 15.0, 58.0, 23.0, 13.0, 13.0, 8.0, 8.0, 8.0, 18.235164642333984, 15.595953941345215, 10.542550086975098, 7.977821350097656, 7.977585792541504, 7.977328777313232, 7.976502418518066, 7.976075172424316, 7.975572109222412, 7.968014240264893, 7.921433448791504, 5.41380500793457, 5.413655757904053, 5.413493633270264, 5.413476467132568, 5.413459777832031, 5.413446426391602, 5.413422584533691, 5.413013458251953, 5.412980079650879, 5.412875175476074, 5.412810802459717, 5.412793159484863, 5.412788391113281, 5.4127373695373535, 5.412013530731201, 5.411961555480957, 5.41190242767334, 5.411850452423096, 5.4118332862854, 20.598520278930664, 7.628793716430664, 15.701740264892578, 26.268476486206055, 28.76674461364746, 15.796704292297363, 25.63852882385254, 10.491501808166504, 23.35844612121582, 12.766136169433594, 8.075448036193848, 10.279213905334473, 8.045748710632324, 8.037221908569336, 8.024799346923828, 8.01109504699707, 8.008551597595215, 15.170684814453125, 7.860746383666992, 15.636494636535645, 16.65413475036621, 13.048768997192383, 15.990344047546387, 10.448640823364258, 10.51023006439209, 10.561614036560059, 9.751596450805664, 8.615058898925781, 8.141965866088867, 8.325234413146973, 8.036715507507324, 20.196447372436523, 15.176078796386719, 12.695263862609863, 10.190884590148926, 7.746307373046875, 7.7416911125183105, 7.738658428192139, 5.257012844085693, 5.257009029388428, 5.256957530975342, 5.256937026977539, 5.256770133972168, 5.256714820861816, 5.256669998168945, 5.25657844543457, 5.256513595581055, 5.256460666656494, 5.256449222564697, 5.256381034851074, 5.256331920623779, 5.256078720092773, 5.255814552307129, 5.255676746368408, 5.255570411682129, 5.255526065826416, 5.255247592926025, 5.2551469802856445, 5.255088806152344, 5.254853248596191, 5.253247261047363, 7.400611877441406, 12.68527889251709, 17.503368377685547, 10.263015747070312, 10.235505104064941, 19.843597412109375, 20.869741439819336, 22.8400936126709, 10.097601890563965, 12.81294059753418, 7.762754917144775, 17.55597496032715, 7.593196868896484, 7.614345073699951, 12.712261199951172, 15.441777229309082, 12.771383285522461, 12.766397476196289, 7.878927707672119, 7.864473342895508, 7.847348690032959, 9.166804313659668, 7.542880535125732, 12.22141170501709, 8.00883960723877, 17.76813316345215, 12.76982593536377, 10.26882266998291, 7.7733635902404785, 7.773026466369629, 7.771883964538574, 7.7702317237854, 7.757399082183838, 12.260279655456543, 5.274831771850586, 5.274815559387207, 5.274814128875732, 5.2745819091796875, 5.2745747566223145, 5.2744927406311035, 5.27446174621582, 5.274322986602783, 5.274194717407227, 5.274192810058594, 5.274184703826904, 5.274087905883789, 5.27406120300293, 5.2740583419799805, 5.274037837982178, 5.27360725402832, 5.272645473480225, 5.2724175453186035, 5.272132396697998, 5.271966457366943, 5.271616458892822, 14.861477851867676, 24.558433532714844, 38.33157730102539, 7.111974239349365, 16.693002700805664, 10.286561012268066, 30.46170997619629, 15.756155967712402, 10.671526908874512, 14.522948265075684, 7.318556308746338, 7.821556568145752, 7.784700870513916, 7.794002532958984, 10.508304595947266, 12.819581031799316, 8.0099515914917, 9.8919095993042, 10.308393478393555, 10.461402893066406, 7.8721699714660645, 7.7934441566467285, 7.428994178771973], \"Term\": [\"get\", \"want\", \"chka\", \"time\", \"think\", \"pick\", \"god\", \"forget\", \"people\", \"work\", \"look\", \"friend\", \"lady\", \"need\", \"stay\", \"okay\", \"peanut\", \"come\", \"mother\", \"know\", \"mean\", \"girl\", \"sensor\", \"sheldon\", \"yeah\", \"baby\", \"gentleman\", \"use\", \"birth\", \"destiny\", \"god\", \"peanut\", \"mano\", \"love\", \"old\", \"repair\", \"wear\", \"order\", \"will\", \"meet\", \"guy\", \"end\", \"away\", \"tangerine\", \"chicken\", \"e\", \"marathon\", \"comic\", \"loofah\", \"sake\", \"shower\", \"swell\", \"satellite\", \"course\", \"set\", \"slash\", \"cable\", \"brissket\", \"art\", \"th\", \"girl\", \"hello\", \"year\", \"need\", \"oh\", \"talk\", \"look\", \"team\", \"go\", \"tell\", \"point\", \"maybe\", \"walk\", \"sorry\", \"try\", \"mom\", \"thank\", \"come\", \"boy\", \"like\", \"get\", \"right\", \"sheldon\", \"yeah\", \"good\", \"work\", \"hey\", \"time\", \"uh\", \"little\", \"kid\", \"want\", \"pick\", \"people\", \"mean\", \"hug\", \"penny\", \"phone\", \"dong\", \"ding\", \"bang\", \"small\", \"world\", \"alright\", \"kiss\", \"see\", \"make\", \"squad\", \"motion\", \"skip\", \"perpetual\", \"puffy\", \"ha\", \"robot\", \"smell\", \"large\", \"available\", \"news\", \"coitus\", \"solution\", \"lesley\", \"check\", \"sensor\", \"okay\", \"woman\", \"gentleman\", \"work\", \"think\", \"know\", \"head\", \"yeah\", \"physics\", \"like\", \"problem\", \"room\", \"good\", \"look\", \"little\", \"right\", \"find\", \"wolowitz\", \"speak\", \"turn\", \"hang\", \"sheldon\", \"tell\", \"chka\", \"forget\", \"mother\", \"use\", \"birth\", \"destiny\", \"let\", \"probably\", \"stay\", \"hair\", \"brush\", \"shrug\", \"idea\", \"self\", \"low\", \"young\", \"jewish\", \"hard\", \"colon\", \"bear\", \"hooked\", \"push\", \"summer\", \"detail\", \"box\", \"physical\", \"blog\", \"bit\", \"sit\", \"dibs\", \"lady\", \"time\", \"get\", \"sure\", \"friend\", \"baby\", \"sheldon\", \"come\", \"party\", \"think\", \"machine\", \"true\", \"bar\", \"birthday\", \"hey\", \"know\", \"human\", \"little\", \"go\", \"like\", \"turn\", \"right\", \"need\"], \"Total\": [56.0, 20.0, 18.0, 33.0, 35.0, 15.0, 18.0, 13.0, 13.0, 31.0, 41.0, 23.0, 18.0, 33.0, 13.0, 25.0, 16.0, 31.0, 10.0, 40.0, 10.0, 23.0, 15.0, 58.0, 23.0, 13.0, 13.0, 8.0, 8.0, 8.0, 18.791553497314453, 16.225019454956055, 11.097738265991211, 8.533119201660156, 8.533114433288574, 8.533105850219727, 8.533084869384766, 8.53307056427002, 8.53305435180664, 8.532864570617676, 8.531490325927734, 5.968520164489746, 5.968516826629639, 5.968511581420898, 5.968511581420898, 5.968512058258057, 5.968511581420898, 5.968510150909424, 5.968499183654785, 5.9684977531433105, 5.968494415283203, 5.968493461608887, 5.968491554260254, 5.9684929847717285, 5.968490123748779, 5.968472003936768, 5.9684672355651855, 5.968466281890869, 5.9684648513793945, 5.968464374542236, 23.84170913696289, 8.5230131149292, 18.718172073364258, 33.99030685424805, 39.03502655029297, 21.21902084350586, 41.419166564941406, 13.58659839630127, 38.8963737487793, 21.123699188232422, 11.026287078857422, 16.071462631225586, 11.03360652923584, 11.025172233581543, 11.024810791015625, 11.024412155151367, 11.024340629577637, 31.20656967163086, 11.02854061126709, 43.653873443603516, 56.22887420654297, 33.608612060546875, 58.673465728759766, 23.54668617248535, 26.04735565185547, 31.022066116333008, 26.0512638092041, 33.536659240722656, 13.52690601348877, 30.988529205322266, 13.532120704650879, 20.76197052001953, 15.781524658203125, 13.291224479675293, 10.800802230834961, 8.310306549072266, 8.31042194366455, 8.31053638458252, 5.819962501525879, 5.819963455200195, 5.819962978363037, 5.819964408874512, 5.8199663162231445, 5.819966793060303, 5.819966793060303, 5.81997013092041, 5.8199687004089355, 5.81997013092041, 5.819971084594727, 5.819971084594727, 5.819972038269043, 5.819976329803467, 5.819979667663574, 5.819983005523682, 5.819986343383789, 5.819979667663574, 5.819991111755371, 5.820016860961914, 5.819990158081055, 5.819974422454834, 5.820037841796875, 8.317817687988281, 15.855485916137695, 25.963817596435547, 13.362130165100098, 13.365280151367188, 31.022066116333008, 35.754112243652344, 40.86946487426758, 15.800433158874512, 23.54668617248535, 10.874393463134766, 43.653873443603516, 10.813118934631348, 10.875011444091797, 26.04735565185547, 41.419166564941406, 30.988529205322266, 33.608612060546875, 13.307382583618164, 13.435957908630371, 13.436508178710938, 20.890832901000977, 13.441481590270996, 58.673465728759766, 21.123699188232422, 18.330530166625977, 13.333046913146973, 10.834349632263184, 8.335543632507324, 8.33554744720459, 8.335556030273438, 8.335538864135742, 8.335548400878906, 13.34645938873291, 5.836794376373291, 5.836794376373291, 5.836795330047607, 5.836798191070557, 5.836796283721924, 5.836798191070557, 5.836798667907715, 5.836800575256348, 5.836801528930664, 5.836800575256348, 5.8368048667907715, 5.836798667907715, 5.836803436279297, 5.8368120193481445, 5.836795806884766, 5.8368000984191895, 5.8368377685546875, 5.836806774139404, 5.836812973022461, 5.836813449859619, 5.83682107925415, 18.3207950592041, 33.536659240722656, 56.22887420654297, 8.352958679199219, 23.48801040649414, 13.398494720458984, 58.673465728759766, 31.20656967163086, 18.44723129272461, 35.754112243652344, 10.843978881835938, 13.316485404968262, 13.316635131835938, 13.464223861694336, 26.0512638092041, 40.86946487426758, 15.951677322387695, 30.988529205322266, 38.8963737487793, 43.653873443603516, 20.890832901000977, 33.608612060546875, 33.99030685424805], \"loglift\": [30.0, 29.0, 28.0, 27.0, 26.0, 25.0, 24.0, 23.0, 22.0, 21.0, 20.0, 19.0, 18.0, 17.0, 16.0, 15.0, 14.0, 13.0, 12.0, 11.0, 10.0, 9.0, 8.0, 7.0, 6.0, 5.0, 4.0, 3.0, 2.0, 1.0, 0.8935999870300293, 0.8841000199317932, 0.8723999857902527, 0.8564000129699707, 0.8564000129699707, 0.8562999963760376, 0.8561999797821045, 0.8561999797821045, 0.8561000227928162, 0.8551999926567078, 0.8495000004768372, 0.8260999917984009, 0.8260999917984009, 0.8260999917984009, 0.8260999917984009, 0.8260999917984009, 0.8260999917984009, 0.8260999917984009, 0.8259999752044678, 0.8259999752044678, 0.8259999752044678, 0.8259999752044678, 0.8259999752044678, 0.8259999752044678, 0.8259000182151794, 0.8258000016212463, 0.8258000016212463, 0.8258000016212463, 0.8258000016212463, 0.8258000016212463, 0.7774999737739563, 0.8127999901771545, 0.7480000257492065, 0.6660000085830688, 0.618399977684021, 0.628600001335144, 0.4440000057220459, 0.6651999950408936, 0.41370001435279846, 0.42010000348091125, 0.6122000217437744, 0.47679999470710754, 0.6079000234603882, 0.6075999736785889, 0.6061000227928162, 0.6043999791145325, 0.6040999889373779, 0.20239999890327454, 0.585099995136261, -0.10300000011920929, -0.2930999994277954, -0.02239999920129776, -0.37630000710487366, 0.1111999973654747, 0.016100000590085983, -0.15379999577999115, -0.05900000035762787, -0.43540000915527344, 0.41600000858306885, -0.3905999958515167, 0.4025999903678894, 1.1657999753952026, 1.1542999744415283, 1.1475000381469727, 1.1353000402450562, 1.1231000423431396, 1.122499942779541, 1.1220999956130981, 1.0916999578475952, 1.0916999578475952, 1.091599941253662, 1.091599941253662, 1.091599941253662, 1.091599941253662, 1.091599941253662, 1.091599941253662, 1.091599941253662, 1.0915000438690186, 1.0915000438690186, 1.0915000438690186, 1.0915000438690186, 1.0915000438690186, 1.0914000272750854, 1.0914000272750854, 1.0914000272750854, 1.0914000272750854, 1.0913000106811523, 1.0913000106811523, 1.0913000106811523, 1.0911999940872192, 1.09089994430542, 1.0765000581741333, 0.970300018787384, 0.7990999817848206, 0.9294999837875366, 0.9265999794006348, 0.7465999722480774, 0.6549999713897705, 0.6115000247955322, 0.7455999851226807, 0.5849000215530396, 0.8562999963760376, 0.2824999988079071, 0.839900016784668, 0.8370000123977661, 0.47600001096725464, 0.20669999718666077, 0.3070000112056732, 0.22540000081062317, 0.6693000197410583, 0.657800018787384, 0.6556000113487244, 0.36970001459121704, 0.6155999898910522, -0.37540000677108765, 0.22349999845027924, 1.1735999584197998, 1.1615999937057495, 1.1512000560760498, 1.1349999904632568, 1.1348999738693237, 1.1347999572753906, 1.134600043296814, 1.1328999996185303, 1.1198999881744385, 1.103600025177002, 1.103600025177002, 1.103600025177002, 1.1035000085830688, 1.1035000085830688, 1.1035000085830688, 1.1035000085830688, 1.1035000085830688, 1.1033999919891357, 1.1033999919891357, 1.1033999919891357, 1.1033999919891357, 1.1033999919891357, 1.1033999919891357, 1.1033999919891357, 1.1032999753952026, 1.1030999422073364, 1.1030999422073364, 1.1030000448226929, 1.1030000448226929, 1.1029000282287598, 0.9955000281333923, 0.8931999802589417, 0.8216000199317932, 1.0440000295639038, 0.8633000254631042, 0.940500020980835, 0.5493000149726868, 0.521399974822998, 0.6575000286102295, 0.30390000343322754, 0.8116000294685364, 0.6726999878883362, 0.667900025844574, 0.6581000089645386, 0.2969000041484833, 0.04540000110864639, 0.5159000158309937, 0.06289999932050705, -0.12309999763965607, -0.22380000352859497, 0.2287999987602234, -0.2567000091075897, -0.3158999979496002], \"logprob\": [30.0, 29.0, 28.0, 27.0, 26.0, 25.0, 24.0, 23.0, 22.0, 21.0, 20.0, 19.0, 18.0, 17.0, 16.0, 15.0, 14.0, 13.0, 12.0, 11.0, 10.0, 9.0, 8.0, 7.0, 6.0, 5.0, 4.0, 3.0, 2.0, 1.0, -4.780900001525879, -4.937300205230713, -5.328800201416016, -5.607600212097168, -5.607600212097168, -5.607699871063232, -5.607800006866455, -5.607800006866455, -5.607900142669678, -5.608799934387207, -5.614699840545654, -5.995299816131592, -5.995299816131592, -5.9953999519348145, -5.9953999519348145, -5.9953999519348145, -5.9953999519348145, -5.9953999519348145, -5.995500087738037, -5.995500087738037, -5.995500087738037, -5.995500087738037, -5.995500087738037, -5.995500087738037, -5.995500087738037, -5.99560022354126, -5.995699882507324, -5.995699882507324, -5.995699882507324, -5.995699882507324, -4.658999919891357, -5.652299880981445, -4.930500030517578, -4.415900230407715, -4.324999809265137, -4.924499988555908, -4.440199851989746, -5.333700180053711, -4.533299922943115, -5.137499809265137, -5.595399856567383, -5.354100227355957, -5.599100112915039, -5.600200176239014, -5.6016998291015625, -5.603400230407715, -5.603799819946289, -4.964900016784668, -5.622399806976318, -4.934700012207031, -4.871600151062012, -5.115600109100342, -4.912300109863281, -5.337800025939941, -5.331900119781494, -5.327000141143799, -5.406799793243408, -5.530799865722656, -5.587200164794922, -5.565000057220459, -5.600200176239014, -4.40910005569458, -4.694799900054932, -4.873300075531006, -5.093100070953369, -5.367300033569336, -5.3678998947143555, -5.368299961090088, -5.755000114440918, -5.755000114440918, -5.755000114440918, -5.755000114440918, -5.755000114440918, -5.755099773406982, -5.755099773406982, -5.755099773406982, -5.755099773406982, -5.755099773406982, -5.755099773406982, -5.755099773406982, -5.755099773406982, -5.755199909210205, -5.755199909210205, -5.755300045013428, -5.755300045013428, -5.755300045013428, -5.755300045013428, -5.75540018081665, -5.75540018081665, -5.75540018081665, -5.75570011138916, -5.413000106811523, -4.874100208282471, -4.552199840545654, -5.085999965667725, -5.088699817657471, -4.426700115203857, -4.376299858093262, -4.285999774932861, -5.10230016708374, -4.864099979400635, -5.365200042724609, -4.549200057983398, -5.38730001449585, -5.384500026702881, -4.872000217437744, -4.677499771118164, -4.867400169372559, -4.867700099945068, -5.350399971008301, -5.352200031280518, -5.354400157928467, -5.198999881744385, -5.394000053405762, -4.911399841308594, -5.334000110626221, -4.525700092315674, -4.856100082397461, -5.073999881744385, -5.352399826049805, -5.352499961853027, -5.35260009765625, -5.352799892425537, -5.354499816894531, -4.8968000411987305, -5.740200042724609, -5.740200042724609, -5.740200042724609, -5.740200042724609, -5.740300178527832, -5.740300178527832, -5.740300178527832, -5.740300178527832, -5.740300178527832, -5.740300178527832, -5.740300178527832, -5.740300178527832, -5.740300178527832, -5.740300178527832, -5.7403998374938965, -5.7403998374938965, -5.740600109100342, -5.740699768066406, -5.740699768066406, -5.740699768066406, -5.740799903869629, -4.704400062561035, -4.202099800109863, -3.7569000720977783, -5.441400051116943, -4.588200092315674, -5.072299957275391, -3.9867000579833984, -4.645899772644043, -5.035600185394287, -4.727399826049805, -5.412700176239014, -5.34630012512207, -5.35099983215332, -5.349800109863281, -5.051000118255615, -4.852200031280518, -5.322500228881836, -5.111400127410889, -5.070199966430664, -5.055500030517578, -5.339799880981445, -5.349899768829346, -5.397799968719482]}, \"token.table\": {\"Topic\": [2, 1, 2, 1, 1, 3, 2, 2, 3, 3, 3, 1, 3, 3, 3, 3, 1, 3, 1, 3, 1, 1, 2, 1, 3, 2, 3, 1, 3, 1, 1, 3, 3, 3, 2, 2, 1, 1, 2, 3, 3, 1, 3, 1, 2, 1, 2, 3, 1, 2, 3, 1, 2, 3, 1, 1, 2, 3, 1, 2, 3, 1, 2, 3, 2, 3, 1, 2, 1, 2, 3, 3, 2, 1, 2, 3, 3, 3, 1, 3, 2, 1, 2, 3, 2, 3, 2, 2, 3, 1, 2, 3, 1, 2, 3, 1, 1, 2, 1, 3, 1, 2, 3, 2, 1, 1, 1, 2, 2, 1, 1, 2, 3, 2, 1, 3, 2, 1, 2, 3, 1, 2, 3, 1, 1, 1, 2, 3, 1, 2, 2, 2, 2, 3, 1, 2, 2, 1, 2, 3, 2, 3, 2, 3, 1, 1, 2, 3, 2, 1, 2, 1, 1, 2, 3, 1, 2, 1, 1, 2, 3, 1, 3, 3, 2, 1, 2, 2, 2, 1, 2, 1, 2, 2, 1, 3, 3, 1, 3, 1, 1, 2, 3, 1, 1, 2, 1, 2, 1, 1, 2, 2, 3, 1, 3, 2, 3, 1, 2, 1, 2, 3, 1, 2, 3, 3, 1, 3, 2, 1, 1, 1, 2, 1, 2, 1, 2, 3, 2, 1, 2, 1, 2, 3], \"Freq\": [0.8591114282608032, 0.8377363681793213, 0.8591078519821167, 0.8377290368080139, 0.2239057421684265, 0.74635249376297, 0.8591119647026062, 0.37547022104263306, 0.6007523536682129, 0.8566330671310425, 0.9597449898719788, 0.37135449051856995, 0.594167172908783, 0.856631875038147, 0.8566327691078186, 0.8566337823867798, 0.725390613079071, 0.27202147245407104, 0.8377361297607422, 0.8566346168518066, 0.8377360105514526, 0.12022384256124496, 0.8415669202804565, 0.837729811668396, 0.981968343257904, 0.8591079711914062, 0.8566336631774902, 0.48066800832748413, 0.5127125382423401, 0.8377299904823303, 0.8377324342727661, 0.9597440361976624, 0.8566343784332275, 0.8566306829452515, 0.8591119050979614, 0.8591120839118958, 0.8377297520637512, 0.8377286195755005, 0.6011700630187988, 0.37573128938674927, 0.9750209450721741, 0.29802438616752625, 0.7237735390663147, 0.22446218132972717, 0.7482072710990906, 0.3023357689380646, 0.01778445765376091, 0.675809383392334, 0.8808093070983887, 0.12582990527153015, 0.041943300515413284, 0.5913147330284119, 0.12854668498039246, 0.2570933699607849, 0.9578771591186523, 0.42230772972106934, 0.4990909695625305, 0.11517483741044998, 0.9377025365829468, 0.8591095209121704, 0.8566346168518066, 0.3719828128814697, 0.5951724648475647, 0.8566335439682007, 0.6328940391540527, 0.31644701957702637, 0.9386351704597473, 0.11732939630746841, 0.3838585317134857, 0.23031511902809143, 0.4222443997859955, 0.8566339612007141, 0.962660014629364, 0.31344667077064514, 0.18806800246238708, 0.5015146732330322, 0.8566340208053589, 0.8566336631774902, 0.591185986995697, 0.36949124932289124, 0.8591114282608032, 0.12234072387218475, 0.5627673268318176, 0.3180858790874481, 0.1637483537197113, 0.8187417387962341, 0.8591095209121704, 0.8591009378433228, 0.9597460031509399, 0.36651960015296936, 0.41233453154563904, 0.22907474637031555, 0.2581600546836853, 0.4195100665092468, 0.32270005345344543, 0.8377315402030945, 0.6277287006378174, 0.362151175737381, 0.9375235438346863, 0.8566340208053589, 0.09221707284450531, 0.2766512334346771, 0.645519495010376, 0.8591111302375793, 0.9911929368972778, 0.837729811668396, 0.6222208738327026, 0.3111104369163513, 0.9258571267127991, 0.9375514984130859, 0.7256622910499573, 0.2721233665943146, 0.9229903221130371, 0.8591107726097107, 0.7649239301681519, 0.2059410661458969, 0.8591040372848511, 0.7429224848747253, 0.12809008359909058, 0.12809008359909058, 0.30812108516693115, 0.6932724714279175, 0.038515135645866394, 0.9375240206718445, 0.9375288486480713, 0.2710433900356293, 0.16262602806091309, 0.5962954163551331, 0.9861313104629517, 0.9626466631889343, 0.9780889749526978, 0.8591106534004211, 0.9626334309577942, 0.8566282391548157, 0.275877445936203, 0.735673189163208, 0.9504784941673279, 0.7255389094352722, 0.2720770835876465, 0.9597448706626892, 0.7398420572280884, 0.27744075655937195, 0.8591099977493286, 0.8566332459449768, 0.9375249743461609, 0.38680562376976013, 0.38680562376976013, 0.2380342334508896, 0.8591090440750122, 0.2758617699146271, 0.7356314063072205, 0.8377317190170288, 0.8377326130867004, 0.859110951423645, 0.8566343188285828, 0.1892089545726776, 0.8199055194854736, 0.8377327919006348, 0.2726956605911255, 0.20452174544334412, 0.5113043785095215, 0.837732195854187, 0.8566344380378723, 0.8566318154335022, 0.8591107726097107, 0.8377353549003601, 0.8591117858886719, 0.859108567237854, 0.8591102957725525, 0.725612223148346, 0.2721045911312103, 0.3721204996109009, 0.5953927636146545, 0.859110951423645, 0.07492624223232269, 0.8991148471832275, 0.8566319942474365, 0.11971805989742279, 0.8380264043807983, 0.8377323150634766, 0.7540404200553894, 0.1413825899362564, 0.1413825899362564, 0.837729811668396, 0.7360193729400635, 0.220805823802948, 0.6154224872589111, 0.37872153520584106, 0.8377364277839661, 0.7256669998168945, 0.27212512493133545, 0.5873450040817261, 0.4195321500301361, 0.2683630585670471, 0.745452880859375, 0.3754744529724121, 0.6007590889930725, 0.7256360650062561, 0.27211350202560425, 0.19147154688835144, 0.43081095814704895, 0.3829430937767029, 0.5914138555526733, 0.2217802107334137, 0.2217802107334137, 0.959745466709137, 0.7250576019287109, 0.2718966007232666, 0.9632996916770935, 0.9375272989273071, 0.9375306367874146, 0.372135728597641, 0.5954171419143677, 0.22451509535312653, 0.748383641242981, 0.35458630323410034, 0.6447023749351501, 0.03223511949181557, 0.859111487865448, 0.4246882200241089, 0.5520946979522705, 0.8547843098640442, 0.16027206182479858, 0.8566339612007141], \"Term\": [\"alright\", \"art\", \"available\", \"away\", \"baby\", \"baby\", \"bang\", \"bar\", \"bar\", \"bear\", \"birth\", \"birthday\", \"birthday\", \"bit\", \"blog\", \"box\", \"boy\", \"boy\", \"brissket\", \"brush\", \"cable\", \"check\", \"check\", \"chicken\", \"chka\", \"coitus\", \"colon\", \"come\", \"come\", \"comic\", \"course\", \"destiny\", \"detail\", \"dibs\", \"ding\", \"dong\", \"e\", \"end\", \"find\", \"find\", \"forget\", \"friend\", \"friend\", \"gentleman\", \"gentleman\", \"get\", \"get\", \"get\", \"girl\", \"girl\", \"girl\", \"go\", \"go\", \"go\", \"god\", \"good\", \"good\", \"good\", \"guy\", \"ha\", \"hair\", \"hang\", \"hang\", \"hard\", \"head\", \"head\", \"hello\", \"hello\", \"hey\", \"hey\", \"hey\", \"hooked\", \"hug\", \"human\", \"human\", \"human\", \"idea\", \"jewish\", \"kid\", \"kid\", \"kiss\", \"know\", \"know\", \"know\", \"lady\", \"lady\", \"large\", \"lesley\", \"let\", \"like\", \"like\", \"like\", \"little\", \"little\", \"little\", \"loofah\", \"look\", \"look\", \"love\", \"low\", \"machine\", \"machine\", \"machine\", \"make\", \"mano\", \"marathon\", \"maybe\", \"maybe\", \"mean\", \"meet\", \"mom\", \"mom\", \"mother\", \"motion\", \"need\", \"need\", \"news\", \"oh\", \"oh\", \"oh\", \"okay\", \"okay\", \"okay\", \"old\", \"order\", \"party\", \"party\", \"party\", \"peanut\", \"penny\", \"people\", \"perpetual\", \"phone\", \"physical\", \"physics\", \"physics\", \"pick\", \"point\", \"point\", \"probably\", \"problem\", \"problem\", \"puffy\", \"push\", \"repair\", \"right\", \"right\", \"right\", \"robot\", \"room\", \"room\", \"sake\", \"satellite\", \"see\", \"self\", \"sensor\", \"sensor\", \"set\", \"sheldon\", \"sheldon\", \"sheldon\", \"shower\", \"shrug\", \"sit\", \"skip\", \"slash\", \"small\", \"smell\", \"solution\", \"sorry\", \"sorry\", \"speak\", \"speak\", \"squad\", \"stay\", \"stay\", \"summer\", \"sure\", \"sure\", \"swell\", \"talk\", \"talk\", \"talk\", \"tangerine\", \"team\", \"team\", \"tell\", \"tell\", \"th\", \"thank\", \"thank\", \"think\", \"think\", \"time\", \"time\", \"true\", \"true\", \"try\", \"try\", \"turn\", \"turn\", \"turn\", \"uh\", \"uh\", \"uh\", \"use\", \"walk\", \"walk\", \"want\", \"wear\", \"will\", \"wolowitz\", \"wolowitz\", \"woman\", \"woman\", \"work\", \"work\", \"work\", \"world\", \"yeah\", \"yeah\", \"year\", \"year\", \"young\"]}, \"R\": 30, \"lambda.step\": 0.01, \"plot.opts\": {\"xlab\": \"PC1\", \"ylab\": \"PC2\"}, \"topic.order\": [1, 2, 3]};\n",
              "\n",
              "function LDAvis_load_lib(url, callback){\n",
              "  var s = document.createElement('script');\n",
              "  s.src = url;\n",
              "  s.async = true;\n",
              "  s.onreadystatechange = s.onload = callback;\n",
              "  s.onerror = function(){console.warn(\"failed to load library \" + url);};\n",
              "  document.getElementsByTagName(\"head\")[0].appendChild(s);\n",
              "}\n",
              "\n",
              "if(typeof(LDAvis) !== \"undefined\"){\n",
              "   // already loaded: just create the visualization\n",
              "   !function(LDAvis){\n",
              "       new LDAvis(\"#\" + \"ldavis_el1221401320468709525071648973\", ldavis_el1221401320468709525071648973_data);\n",
              "   }(LDAvis);\n",
              "}else if(typeof define === \"function\" && define.amd){\n",
              "   // require.js is available: use it to load d3/LDAvis\n",
              "   require.config({paths: {d3: \"https://cdnjs.cloudflare.com/ajax/libs/d3/3.5.5/d3.min\"}});\n",
              "   require([\"d3\"], function(d3){\n",
              "      window.d3 = d3;\n",
              "      LDAvis_load_lib(\"https://cdn.rawgit.com/bmabey/pyLDAvis/files/ldavis.v1.0.0.js\", function(){\n",
              "        new LDAvis(\"#\" + \"ldavis_el1221401320468709525071648973\", ldavis_el1221401320468709525071648973_data);\n",
              "      });\n",
              "    });\n",
              "}else{\n",
              "    // require.js not available: dynamically load d3 & LDAvis\n",
              "    LDAvis_load_lib(\"https://cdnjs.cloudflare.com/ajax/libs/d3/3.5.5/d3.min.js\", function(){\n",
              "         LDAvis_load_lib(\"https://cdn.rawgit.com/bmabey/pyLDAvis/files/ldavis.v1.0.0.js\", function(){\n",
              "                 new LDAvis(\"#\" + \"ldavis_el1221401320468709525071648973\", ldavis_el1221401320468709525071648973_data);\n",
              "            })\n",
              "         });\n",
              "}\n",
              "</script>"
            ],
            "text/plain": [
              "PreparedData(topic_coordinates=              x         y  topics  cluster       Freq\n",
              "topic                                                \n",
              "0     -0.044066 -0.175949       1        1  39.705456\n",
              "1     -0.137424  0.124442       2        1  30.319315\n",
              "2      0.181491  0.051507       3        1  29.975224, topic_info=    Category       Freq   Term      Total  loglift  logprob\n",
              "109  Default  56.000000    get  56.000000  30.0000  30.0000\n",
              "17   Default  20.000000   want  20.000000  29.0000  29.0000\n",
              "394  Default  18.000000   chka  18.000000  28.0000  28.0000\n",
              "337  Default  33.000000   time  33.000000  27.0000  27.0000\n",
              "242  Default  35.000000  think  35.000000  26.0000  26.0000\n",
              "..       ...        ...    ...        ...      ...      ...\n",
              "133   Topic3  10.308393     go  38.896374  -0.1231  -5.0702\n",
              "93    Topic3  10.461403   like  43.653873  -0.2238  -5.0555\n",
              "82    Topic3   7.872170   turn  20.890833   0.2288  -5.3398\n",
              "10    Topic3   7.793444  right  33.608612  -0.2567  -5.3499\n",
              "391   Topic3   7.428994   need  33.990307  -0.3159  -5.3978\n",
              "\n",
              "[199 rows x 6 columns], token_table=      Topic      Freq       Term\n",
              "term                            \n",
              "167       2  0.859111    alright\n",
              "597       1  0.837736        art\n",
              "18        2  0.859108  available\n",
              "816       1  0.837729       away\n",
              "84        1  0.223906       baby\n",
              "...     ...       ...        ...\n",
              "12        1  0.424688       yeah\n",
              "12        2  0.552095       yeah\n",
              "439       1  0.854784       year\n",
              "439       2  0.160272       year\n",
              "718       3  0.856634      young\n",
              "\n",
              "[224 rows x 3 columns], R=30, lambda_step=0.01, plot_opts={'xlab': 'PC1', 'ylab': 'PC2'}, topic_order=[1, 2, 3])"
            ]
          },
          "metadata": {
            "tags": []
          },
          "execution_count": 83
        }
      ]
    },
    {
      "cell_type": "code",
      "metadata": {
        "id": "DiDhe7GazM6f",
        "colab_type": "code",
        "outputId": "74fbbec7-4989-4c20-a339-d20b3c822e18",
        "colab": {
          "resources": {
            "http://localhost:8080/nbextensions/google.colab/files.js": {
              "data": "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",
              "ok": true,
              "headers": [
                [
                  "content-type",
                  "application/javascript"
                ]
              ],
              "status": 200,
              "status_text": ""
            }
          },
          "base_uri": "https://localhost:8080/",
          "height": 71
        }
      },
      "source": [
        "from google.colab import files\n",
        "uploaded = files.upload()"
      ],
      "execution_count": 0,
      "outputs": [
        {
          "output_type": "display_data",
          "data": {
            "text/html": [
              "\n",
              "     <input type=\"file\" id=\"files-aa614fe1-15ca-4fef-9ae1-27e4271bcbe7\" name=\"files[]\" multiple disabled />\n",
              "     <output id=\"result-aa614fe1-15ca-4fef-9ae1-27e4271bcbe7\">\n",
              "      Upload widget is only available when the cell has been executed in the\n",
              "      current browser session. Please rerun this cell to enable.\n",
              "      </output>\n",
              "      <script src=\"/nbextensions/google.colab/files.js\"></script> "
            ],
            "text/plain": [
              "<IPython.core.display.HTML object>"
            ]
          },
          "metadata": {
            "tags": []
          }
        },
        {
          "output_type": "stream",
          "text": [
            "Saving tbt1season_1.txt to tbt1season_1.txt\n"
          ],
          "name": "stdout"
        }
      ]
    },
    {
      "cell_type": "code",
      "metadata": {
        "id": "QhwmbFozzMhC",
        "colab_type": "code",
        "outputId": "7b395574-a815-4eb0-ae2d-480a27bc6a7a",
        "colab": {
          "base_uri": "https://localhost:8080/",
          "height": 204
        }
      },
      "source": [
        "import codecs\n",
        "import pandas as pd\n",
        "with codecs.open('tbt1season_1.txt', 'r', encoding='utf-8', \n",
        "                 errors='ignore') as f:\n",
        "                 data_ep = pd.read_csv(f, delimiter='\\t', header = None)\n",
        "data_ep.head()"
      ],
      "execution_count": 0,
      "outputs": [
        {
          "output_type": "execute_result",
          "data": {
            "text/html": [
              "<div>\n",
              "<style scoped>\n",
              "    .dataframe tbody tr th:only-of-type {\n",
              "        vertical-align: middle;\n",
              "    }\n",
              "\n",
              "    .dataframe tbody tr th {\n",
              "        vertical-align: top;\n",
              "    }\n",
              "\n",
              "    .dataframe thead th {\n",
              "        text-align: right;\n",
              "    }\n",
              "</style>\n",
              "<table border=\"1\" class=\"dataframe\">\n",
              "  <thead>\n",
              "    <tr style=\"text-align: right;\">\n",
              "      <th></th>\n",
              "      <th>0</th>\n",
              "      <th>1</th>\n",
              "      <th>2</th>\n",
              "      <th>3</th>\n",
              "    </tr>\n",
              "  </thead>\n",
              "  <tbody>\n",
              "    <tr>\n",
              "      <th>0</th>\n",
              "      <td>0</td>\n",
              "      <td>Sheldon</td>\n",
              "      <td>So if a photon is directed through a plane wi...</td>\n",
              "      <td>1</td>\n",
              "    </tr>\n",
              "    <tr>\n",
              "      <th>1</th>\n",
              "      <td>1</td>\n",
              "      <td>Leonard</td>\n",
              "      <td>Agreed, what's your point?</td>\n",
              "      <td>1</td>\n",
              "    </tr>\n",
              "    <tr>\n",
              "      <th>2</th>\n",
              "      <td>2</td>\n",
              "      <td>Sheldon</td>\n",
              "      <td>There's no point, I just think it's a good id...</td>\n",
              "      <td>1</td>\n",
              "    </tr>\n",
              "    <tr>\n",
              "      <th>3</th>\n",
              "      <td>3</td>\n",
              "      <td>Leonard</td>\n",
              "      <td>One across is Aegean, eight down is Nabakov, ...</td>\n",
              "      <td>1</td>\n",
              "    </tr>\n",
              "    <tr>\n",
              "      <th>4</th>\n",
              "      <td>4</td>\n",
              "      <td>Leonard</td>\n",
              "      <td>Yes. Um, is this the High IQ sperm bank?</td>\n",
              "      <td>1</td>\n",
              "    </tr>\n",
              "  </tbody>\n",
              "</table>\n",
              "</div>"
            ],
            "text/plain": [
              "   0        1                                                  2  3\n",
              "0  0  Sheldon   So if a photon is directed through a plane wi...  1\n",
              "1  1  Leonard                         Agreed, what's your point?  1\n",
              "2  2  Sheldon   There's no point, I just think it's a good id...  1\n",
              "3  3  Leonard   One across is Aegean, eight down is Nabakov, ...  1\n",
              "4  4  Leonard           Yes. Um, is this the High IQ sperm bank?  1"
            ]
          },
          "metadata": {
            "tags": []
          },
          "execution_count": 99
        }
      ]
    },
    {
      "cell_type": "code",
      "metadata": {
        "id": "0h4yfFKazMeX",
        "colab_type": "code",
        "colab": {}
      },
      "source": [
        "data_ep = data_ep.drop([0], axis = 1)"
      ],
      "execution_count": 0,
      "outputs": []
    },
    {
      "cell_type": "code",
      "metadata": {
        "id": "99NuAbkgj1VD",
        "colab_type": "code",
        "colab": {}
      },
      "source": [
        "data_ep.rename(columns={1: 'label', 2: 'text', 3: 'episode'}, inplace=True)"
      ],
      "execution_count": 0,
      "outputs": []
    },
    {
      "cell_type": "code",
      "metadata": {
        "id": "500G_VqBj1TQ",
        "colab_type": "code",
        "outputId": "87a6b874-1a32-416d-8481-7373395fb0c5",
        "colab": {
          "base_uri": "https://localhost:8080/",
          "height": 204
        }
      },
      "source": [
        "data_ep.head()"
      ],
      "execution_count": 0,
      "outputs": [
        {
          "output_type": "execute_result",
          "data": {
            "text/html": [
              "<div>\n",
              "<style scoped>\n",
              "    .dataframe tbody tr th:only-of-type {\n",
              "        vertical-align: middle;\n",
              "    }\n",
              "\n",
              "    .dataframe tbody tr th {\n",
              "        vertical-align: top;\n",
              "    }\n",
              "\n",
              "    .dataframe thead th {\n",
              "        text-align: right;\n",
              "    }\n",
              "</style>\n",
              "<table border=\"1\" class=\"dataframe\">\n",
              "  <thead>\n",
              "    <tr style=\"text-align: right;\">\n",
              "      <th></th>\n",
              "      <th>label</th>\n",
              "      <th>text</th>\n",
              "      <th>episode</th>\n",
              "    </tr>\n",
              "  </thead>\n",
              "  <tbody>\n",
              "    <tr>\n",
              "      <th>0</th>\n",
              "      <td>Sheldon</td>\n",
              "      <td>So if a photon is directed through a plane wi...</td>\n",
              "      <td>1</td>\n",
              "    </tr>\n",
              "    <tr>\n",
              "      <th>1</th>\n",
              "      <td>Leonard</td>\n",
              "      <td>Agreed, what's your point?</td>\n",
              "      <td>1</td>\n",
              "    </tr>\n",
              "    <tr>\n",
              "      <th>2</th>\n",
              "      <td>Sheldon</td>\n",
              "      <td>There's no point, I just think it's a good id...</td>\n",
              "      <td>1</td>\n",
              "    </tr>\n",
              "    <tr>\n",
              "      <th>3</th>\n",
              "      <td>Leonard</td>\n",
              "      <td>One across is Aegean, eight down is Nabakov, ...</td>\n",
              "      <td>1</td>\n",
              "    </tr>\n",
              "    <tr>\n",
              "      <th>4</th>\n",
              "      <td>Leonard</td>\n",
              "      <td>Yes. Um, is this the High IQ sperm bank?</td>\n",
              "      <td>1</td>\n",
              "    </tr>\n",
              "  </tbody>\n",
              "</table>\n",
              "</div>"
            ],
            "text/plain": [
              "     label                                               text  episode\n",
              "0  Sheldon   So if a photon is directed through a plane wi...        1\n",
              "1  Leonard                         Agreed, what's your point?        1\n",
              "2  Sheldon   There's no point, I just think it's a good id...        1\n",
              "3  Leonard   One across is Aegean, eight down is Nabakov, ...        1\n",
              "4  Leonard           Yes. Um, is this the High IQ sperm bank?        1"
            ]
          },
          "metadata": {
            "tags": []
          },
          "execution_count": 102
        }
      ]
    },
    {
      "cell_type": "code",
      "metadata": {
        "id": "8Vg0ksaQj1P4",
        "colab_type": "code",
        "outputId": "c43800a0-5481-4c70-f481-fcf3c834cd0d",
        "colab": {
          "base_uri": "https://localhost:8080/",
          "height": 204
        }
      },
      "source": [
        "data_pro_ep = preprocess_corpus(data_ep['text'])\n",
        "data_ep['text'] = data_pro_ep\n",
        "token_len_ep = []\n",
        "for i in data_ep['text']:\n",
        "    token_len_ep.append(len(i))\n",
        "data_ep['token_number'] = token_len_ep\n",
        "data_ep.head()"
      ],
      "execution_count": 0,
      "outputs": [
        {
          "output_type": "execute_result",
          "data": {
            "text/html": [
              "<div>\n",
              "<style scoped>\n",
              "    .dataframe tbody tr th:only-of-type {\n",
              "        vertical-align: middle;\n",
              "    }\n",
              "\n",
              "    .dataframe tbody tr th {\n",
              "        vertical-align: top;\n",
              "    }\n",
              "\n",
              "    .dataframe thead th {\n",
              "        text-align: right;\n",
              "    }\n",
              "</style>\n",
              "<table border=\"1\" class=\"dataframe\">\n",
              "  <thead>\n",
              "    <tr style=\"text-align: right;\">\n",
              "      <th></th>\n",
              "      <th>label</th>\n",
              "      <th>text</th>\n",
              "      <th>episode</th>\n",
              "      <th>token_number</th>\n",
              "    </tr>\n",
              "  </thead>\n",
              "  <tbody>\n",
              "    <tr>\n",
              "      <th>0</th>\n",
              "      <td>Sheldon</td>\n",
              "      <td>[photon, direct, plane, slit, slit, observe, s...</td>\n",
              "      <td>1</td>\n",
              "      <td>15</td>\n",
              "    </tr>\n",
              "    <tr>\n",
              "      <th>1</th>\n",
              "      <td>Leonard</td>\n",
              "      <td>[agree, point]</td>\n",
              "      <td>1</td>\n",
              "      <td>2</td>\n",
              "    </tr>\n",
              "    <tr>\n",
              "      <th>2</th>\n",
              "      <td>Sheldon</td>\n",
              "      <td>[point, think, good, idea, tee, shirt]</td>\n",
              "      <td>1</td>\n",
              "      <td>6</td>\n",
              "    </tr>\n",
              "    <tr>\n",
              "      <th>3</th>\n",
              "      <td>Leonard</td>\n",
              "      <td>[aegean, nabakov, mcm, fourteen, finger, phylu...</td>\n",
              "      <td>1</td>\n",
              "      <td>19</td>\n",
              "    </tr>\n",
              "    <tr>\n",
              "      <th>4</th>\n",
              "      <td>Leonard</td>\n",
              "      <td>[yes, um, high, iq, sperm, bank]</td>\n",
              "      <td>1</td>\n",
              "      <td>6</td>\n",
              "    </tr>\n",
              "  </tbody>\n",
              "</table>\n",
              "</div>"
            ],
            "text/plain": [
              "     label  ... token_number\n",
              "0  Sheldon  ...           15\n",
              "1  Leonard  ...            2\n",
              "2  Sheldon  ...            6\n",
              "3  Leonard  ...           19\n",
              "4  Leonard  ...            6\n",
              "\n",
              "[5 rows x 4 columns]"
            ]
          },
          "metadata": {
            "tags": []
          },
          "execution_count": 103
        }
      ]
    },
    {
      "cell_type": "code",
      "metadata": {
        "id": "vNP4SEfkuDS7",
        "colab_type": "code",
        "colab": {}
      },
      "source": [
        "dict_ep = {}\n",
        "for i in dict(enumerate(encoder.classes_)).values():\n",
        "  dict_ep[i] = [0]*data_ep['episode'].nunique()"
      ],
      "execution_count": 0,
      "outputs": []
    },
    {
      "cell_type": "code",
      "metadata": {
        "id": "YjVaIXexj1JI",
        "colab_type": "code",
        "colab": {}
      },
      "source": [
        "for x, y in enumerate(data_ep['token_number']):\n",
        "  dict_ep[data_ep['label'][x]][data_ep['episode'][x]-1] += y"
      ],
      "execution_count": 0,
      "outputs": []
    },
    {
      "cell_type": "code",
      "metadata": {
        "id": "3UIF5rnP84qc",
        "colab_type": "code",
        "outputId": "ac12ae4e-c394-4659-b9ba-e5ab056b352c",
        "colab": {
          "base_uri": "https://localhost:8080/",
          "height": 34
        }
      },
      "source": [
        "words_ = 0\n",
        "for i in data_ep['token_number']:\n",
        "  words_ += i\n",
        "words_"
      ],
      "execution_count": 0,
      "outputs": [
        {
          "output_type": "execute_result",
          "data": {
            "text/plain": [
              "14886"
            ]
          },
          "metadata": {
            "tags": []
          },
          "execution_count": 174
        }
      ]
    },
    {
      "cell_type": "code",
      "metadata": {
        "id": "7oJ6bSmbzMbw",
        "colab_type": "code",
        "outputId": "c1781ebd-4250-41d8-9632-4fdc2fe17451",
        "colab": {
          "base_uri": "https://localhost:8080/",
          "height": 1000
        }
      },
      "source": [
        "dict_ep"
      ],
      "execution_count": 0,
      "outputs": [
        {
          "output_type": "execute_result",
          "data": {
            "text/plain": [
              "{'Howard': [96,\n",
              "  266,\n",
              "  489,\n",
              "  468,\n",
              "  333,\n",
              "  257,\n",
              "  475,\n",
              "  533,\n",
              "  554,\n",
              "  427,\n",
              "  466,\n",
              "  487,\n",
              "  788,\n",
              "  757,\n",
              "  665,\n",
              "  706,\n",
              "  677],\n",
              " 'Leonard': [368,\n",
              "  1070,\n",
              "  1935,\n",
              "  1699,\n",
              "  1501,\n",
              "  971,\n",
              "  1111,\n",
              "  1061,\n",
              "  988,\n",
              "  999,\n",
              "  1293,\n",
              "  958,\n",
              "  1009,\n",
              "  1119,\n",
              "  1141,\n",
              "  946,\n",
              "  769],\n",
              " 'Penny': [182,\n",
              "  594,\n",
              "  828,\n",
              "  620,\n",
              "  414,\n",
              "  453,\n",
              "  655,\n",
              "  697,\n",
              "  798,\n",
              "  709,\n",
              "  733,\n",
              "  623,\n",
              "  465,\n",
              "  425,\n",
              "  585,\n",
              "  578,\n",
              "  911],\n",
              " 'Raj': [3,\n",
              "  60,\n",
              "  147,\n",
              "  181,\n",
              "  100,\n",
              "  157,\n",
              "  208,\n",
              "  487,\n",
              "  571,\n",
              "  559,\n",
              "  120,\n",
              "  157,\n",
              "  273,\n",
              "  433,\n",
              "  551,\n",
              "  525,\n",
              "  307],\n",
              " 'Sheldon': [419,\n",
              "  1182,\n",
              "  1819,\n",
              "  1753,\n",
              "  1651,\n",
              "  1719,\n",
              "  1456,\n",
              "  1485,\n",
              "  1523,\n",
              "  1570,\n",
              "  1637,\n",
              "  1894,\n",
              "  1607,\n",
              "  1697,\n",
              "  1568,\n",
              "  1672,\n",
              "  1681]}"
            ]
          },
          "metadata": {
            "tags": []
          },
          "execution_count": 159
        }
      ]
    },
    {
      "cell_type": "code",
      "metadata": {
        "id": "lvKEGzdnw2Cs",
        "colab_type": "code",
        "outputId": "c533c3da-8049-4f23-957f-d843b5fe2c2a",
        "colab": {
          "base_uri": "https://localhost:8080/",
          "height": 54
        }
      },
      "source": [
        "ddd = []\n",
        "for i in dict_lda['Howard']:\n",
        "  ddd.append(' '.join(i))\n",
        "' '.join(ddd)"
      ],
      "execution_count": 0,
      "outputs": [
        {
          "output_type": "execute_result",
          "data": {
            "text/plain": [
              "'wait till stephen hawk lecture mit creepy computer voice yeah right grandmother town hang lady want anticipate coitus available coitus enchante madamoiselle howard wolowitz cal tech department applied physics familiar work currently orbit jupiter large moon take high resolution digital photograph bon douche french good shower sentiment express language ka tong guay jow oh speak english speak woman kind nerd juice box favourite place kick quest great house ale yeah level button game character hang maybe quest turn leave lake street head colorado know wonderful little sushi bar karaoke baby baby hooked uh baby baby hooked peanut oil look puffy feel puffy look finger like vienna sausage tell beautiful flawless russian talk attractive woman case cheesecake scent goddess yeah problem fly night grab napkin homie get serve rajesh koothrapali speak penny hug hug perfume smell oh boy afraid instruction pictographic representation imaginative way assemble component right sweden space program good point go to cool liquid coolant maybe little aquarium pump run quarter inch pvc hold honey man work pvc come maybe little corrugated sheet metal radiator perfect leonard sheldon junk yard pick square meter scrap aluminium raj run lab oxy acetaline torch alright foot gentleman gate elzebub stay frosty horde armed goblin gate guard sword azeroth raj blow gate stand slash slash leonard get tail sheldon get raj use sleath spell sheldon sheldon swordmaster sound like neighbor home steal snail mail old school like kiss kind kiss cheek lip chaste french romantic look better disagree love sprint marathon relentless pursuit end fall arm hit pepper spray know guy work lab pitfall trust know come sexual harassment law bit self teach expert sheldon robot know want tell maybe history science fiction true harm human inaction allow human come harm harm allow harm case human endanger smell robot lesley usual wolowitz solution happen know place plenty eligible woman leonard pick think mrs tishman get eye treat hey science bitch introduce special lady friend summer excuse bold sheldon get smoulder good look hey look come fast remember south infantry division plus superman godzilla hang honey shiva ganesh hindu god entire union army recommend work man sized appetite morning weight training cardio funk heart smart platter walk quiet beauty like night music happen human beatbox order neurotic talk hey look doctor stud blogosphere buzzing news lesley winkle make eine kleine bang bang music  absolutely humiliating yes lose kyle bernstein bar mitzvah party shoot good reason lead disaster boy girl party costume gentleman sew machine boy girl party flash run solo peter pan robin hood head fella get lucky get dozen condom quiver girl bathroom peter pan get handful pixie dust thank peanut afford swell tight hey guy check sexy nurse believe time turn head cough go use mirror technique brush hair brush hair shrug shrug subconsciously think sync belong know psychology journal internet research great pick girl working stethoscope maybe like hear heart skip beat seriously transient arrhythmia marvel comic story original norse god have anchovy pizza bathroom time penny pick day good luck thong time throw like sort erotic bouillabaisse bonjour mademoiselle understand new town hola nerd migo oh yeah sorry clean shower oh way loofah mitt reach place will precisely loofah exfoliate brain ah probably need talk stuff bear collection lady chka chka chka chka chka chka chka let offer little outside box think christy stay mother live wanna repair casa wolowitz sorry mention earlier wolowitz perfect human cloning go order care night pull blouse weep yay excuse bar mitzvah bond cash phone right have sex kid record lady lady sure middle ground girl talk go scooter little spin sheldon get sight fire charge plasma rifle son bitch medpack need medpack guess parent get broadband webchatte clothe little pointless doogie howser air like year bet love scrubs entire premise fiddler roof course speak culturally let forget get catchy tune want rent fiddler worry thank hello lalita raj koothrappali yes good talk wear oh important like meet friday work time place meantime real babe thank fine time date work parent like try slippery nipple work parent fine look girl mom set moustache vestigial tail oh yeah try watch online want credit card year comic con day disneyland hire snow white come house course prefer kid wrath tell happen learn pick indian chick gentleman send signal laptop local isp race fiber optic cable speed light san francisco bounce satellite geosynchronous orbit lisbon portugal data packet hand submerged transatlantic cable terminate halifax nova scotia transfer continent microwave relay isp receiver attach lamp ready stereo problem turn san francisco lisbon halifax et voila public access enable monster truck austin texas blue viper operate suburban tel aviv  sure synthetic human jewish promise mother know sheldon topical conference bowes einstein condensate party legendary forget party nerd get hey leonard mamma research methodology flawed check house probably people okay open joke fine let roll hey nice suit think will believe hey check featured video uh oh come talk wait minute farminfarmian speak bogarde symposium quark block okay millenium falcon chewbacca want princess leia find way spend evening lose think skip step yeah uh break leg road trip long beach game know phone ma hear phone ask talk hello dear lord milky green god sake ma year old chocolate milk eggoe howard sleeping mother call ungodly hour mother sheldon fault forget protocol place great ear infection stand ma friend come negatory planet ape marathon new art today look go chimp stink paw popcorn damn dirty ape sorry spare sheldon case trap forever whiny hyper neurotic snot web right wireless mini cam bluetooth headset eye thing subsonic impact sensor sheldon get bed start walk device register send signal laptop point base geography apartment ambulatory speed sick sheldon seven second glass glass hand knee need sensor close sheldon room stay low bear leave true mean straight stay straight give bearing true true okay turn right angle head right little little true alright close sheldon room deploy sensor turn good point forward crawl hang sensor pick turn head tell sensor work hey damage hug howie know sheldon friend afford start insult small brown paper bag ma look right ding dong ding dong tomorrow go help today sheldon lab year come hello small payload support structure european science experimental package go space shuttle attach payload bay sensor apparatus rest understand acceleration need stay perfectly level provide yeah okay shelf sheldon diploma office say master engineering get leonard problem solve far mean available thing need kim kid lose focus know biology thing completely derail world class mind yeah meet denise polmerry grade point average fall waste lot time think like need hot year old asian girl thing smart guy hook think mean think mean uh uh know type cheerleader student council go jock will look anybody gifted program year begging agree turn set seat mom car pant football team laugh allergy interesting kind pretty little chubby probably low self esteem oh kid get peek guess time change young smart new sexy unbelievable component build international space station ticket launch model rocket park wow recognize ooh detail new star trek film go scene depict spock birth maybe clinic imagine spock dad little room copy pointy ear shapely rear gentleman switch local nerd news fishman chen chowdry mcnair field team university physics bowl year form barbershop quartet get gig play knotsbury farm kryptonian villain long story outweigh need perpetual motion squad law physics plus little head lady perpetual motion squad night hey buzz think answer engineering question engineer correct answer compare sheldon disposable feminine cleansing product use summer eve team sound like tall thin woman want coat dalmatian okay go need strong fourth team gentleman believe find solution problem get team hit thang dilepton schmilepton need try face sheldon mano e mano e mano mano degree celsius approximate temperature young lady row look like find ship roswell get squat time machine movie time machine worry way thing work people wait til second bid swoop call sniping lucky duck share buck turn have home actually tremendous bargain shipping work dollar pound dish fit elevator necessary master engineering remotely repair satellite regular basis troubleshoot space shuttle payload mar rover start pull left perform end alignment million mile away baby break push hard go birth colon talk chick magnet meet girl wanna come time machine friend house lame go towel good choice alexander graham bell invent telephone call dr watson boston go knock door mrs bell hey mrs bell big fan husband come watch invent telephone push hard go birth colon lox bagel breakfast time traveller screw balcony garage look create like nerdvana hang need complete justice society america collection dibs forget dibs mom bar mizvah bond got thank dollar tree israel okay man cool friend guess make large breast shh hot girl sheldon office think follow parking lot free examine brief know disgusting punish oh look sorry late work project space shuttle expect look bam howard wolowitz think delightfully droll french tre drole destiny think destiny destiny thy anaheim walk car structure level c right ha ha eyebrow hallelujah hallelujah like motorcycle ride hog wear helmet yeah people invent circumcision welcome penny fancy indian man invent pajama warn judo champion math camp happy jewish kill rabbi porkchop sister oh poor deluded bastard amazing howard like magic treat behold ordinary cane da dah combine physical strength arm wrestle mental agility tetris ultimate sport love birthday wake mom special french toast breakfast wear birthday king crown play laser tag friend think ahead tell senior prom sure remember peanut party suppose possible record threesome know want fine threesome kid yes bring friend raj get awesome limited edition dark knight sculpture base alex ross definitive batman get amazing autographed copy feynman lecture physics okay like see chilly try tell non optional social convention come manual listen new art show revise definitive cut blade runner see anniversary final cut second previously unseen footage completely change tone film come q harrison ford body double play time granola bar peanut yell get emergency room tongue swell size brisket oh god oh god oh god oh laundry hamper okay sheldon suppose fine washer dryer listen throw friend surprise party suppose apartment hour way leave tell eat peanut allergic peanut look need band aid pretend shot epinephrine tell friend need observation hour hour half okay know world work introduce man free people becauth becauth th th brissket brissket water need water okay understand hospital right look good want home know stop toy woman thy little buddy think colonoscopy necessary oh right birthday idea birthday completely forget wow lousy way spend birthday wo de ming zi shi sheldon know glad decide learn mandarin fluent billion people annoy instead call leonard syphilitic donkey blog find smash repair go apparently post intimate detail physical relationship blog find good idea sit hold comfort moment feel right cop feel remember sit hand bit warm say depth despair throw demand right right walk away god sake sheldon like tangerine chicken order tangerine chicken boy story get better time hear wait till stephen hawk lecture mit creepy computer voice yeah right grandmother town hang lady want anticipate coitus available coitus enchante madamoiselle howard wolowitz cal tech department applied physics familiar work currently orbit jupiter large moon take high resolution digital photograph bon douche french good shower sentiment express language ka tong guay jow oh speak english speak woman kind nerd juice box favourite place kick quest great house ale yeah level button game character hang maybe quest turn leave lake street head colorado know wonderful little sushi bar karaoke baby baby hooked uh baby baby hooked peanut oil look puffy feel puffy look finger like vienna sausage tell beautiful flawless russian talk attractive woman case cheesecake scent goddess yeah problem fly night grab napkin homie get serve rajesh koothrapali speak penny hug hug perfume smell oh boy afraid instruction pictographic representation imaginative way assemble component right sweden space program good point go to cool liquid coolant maybe little aquarium pump run quarter inch pvc hold honey man work pvc come maybe little corrugated sheet metal radiator perfect leonard sheldon junk yard pick square meter scrap aluminium raj run lab oxy acetaline torch alright foot gentleman gate elzebub stay frosty horde armed goblin gate guard sword azeroth raj blow gate stand slash slash leonard get tail sheldon get raj use sleath spell sheldon sheldon swordmaster sound like neighbor home steal snail mail old school like kiss kind kiss cheek lip chaste french romantic look better disagree love sprint marathon relentless pursuit end fall arm hit pepper spray know guy work lab pitfall trust know come sexual harassment law bit self teach expert sheldon robot know want tell maybe history science fiction true harm human inaction allow human come harm harm allow harm case human endanger smell robot lesley usual wolowitz solution happen know place plenty eligible woman leonard pick think mrs tishman get eye treat hey science bitch introduce special lady friend summer excuse bold sheldon get smoulder good look hey look come fast remember south infantry division plus superman godzilla hang honey shiva ganesh hindu god entire union army recommend work man sized appetite morning weight training cardio funk heart smart platter walk quiet beauty like night music happen human beatbox order neurotic talk hey look doctor stud blogosphere buzzing news lesley winkle make eine kleine bang bang music  absolutely humiliating yes lose kyle bernstein bar mitzvah party shoot good reason lead disaster boy girl party costume gentleman sew machine boy girl party flash run solo peter pan robin hood head fella get lucky get dozen condom quiver girl bathroom peter pan get handful pixie dust thank peanut afford swell tight hey guy check sexy nurse believe time turn head cough go use mirror technique brush hair brush hair shrug shrug subconsciously think sync belong know psychology journal internet research great pick girl working stethoscope maybe like hear heart skip beat seriously transient arrhythmia marvel comic story original norse god have anchovy pizza bathroom time penny pick day good luck thong time throw like sort erotic bouillabaisse bonjour mademoiselle understand new town hola nerd migo oh yeah sorry clean shower oh way loofah mitt reach place will precisely loofah exfoliate brain ah probably need talk stuff bear collection lady chka chka chka chka chka chka chka let offer little outside box think christy stay mother live wanna repair casa wolowitz sorry mention earlier wolowitz perfect human cloning go order care night pull blouse weep yay excuse bar mitzvah bond cash phone right have sex kid record lady lady sure middle ground girl talk go scooter little spin sheldon get sight fire charge plasma rifle son bitch medpack need medpack guess parent get broadband webchatte clothe little pointless doogie howser air like year bet love scrubs entire premise fiddler roof course speak culturally let forget get catchy tune want rent fiddler worry thank hello lalita raj koothrappali yes good talk wear oh important like meet friday work time place meantime real babe thank fine time date work parent like try slippery nipple work parent fine look girl mom set moustache vestigial tail oh yeah try watch online want credit card year comic con day disneyland hire snow white come house course prefer kid wrath tell happen learn pick indian chick gentleman send signal laptop local isp race fiber optic cable speed light san francisco bounce satellite geosynchronous orbit lisbon portugal data packet hand submerged transatlantic cable terminate halifax nova scotia transfer continent microwave relay isp receiver attach lamp ready stereo problem turn san francisco lisbon halifax et voila public access enable monster truck austin texas blue viper operate suburban tel aviv  sure synthetic human jewish promise mother know sheldon topical conference bowes einstein condensate party legendary forget party nerd get hey leonard mamma research methodology flawed check house probably people okay open joke fine let roll hey nice suit think will believe hey check featured video uh oh come talk wait minute farminfarmian speak bogarde symposium quark block okay millenium falcon chewbacca want princess leia find way spend evening lose think skip step yeah uh break leg road trip long beach game know phone ma hear phone ask talk hello dear lord milky green god sake ma year old chocolate milk eggoe howard sleeping mother call ungodly hour mother sheldon fault forget protocol place great ear infection stand ma friend come negatory planet ape marathon new art today look go chimp stink paw popcorn damn dirty ape sorry spare sheldon case trap forever whiny hyper neurotic snot web right wireless mini cam bluetooth headset eye thing subsonic impact sensor sheldon get bed start walk device register send signal laptop point base geography apartment ambulatory speed sick sheldon seven second glass glass hand knee need sensor close sheldon room stay low bear leave true mean straight stay straight give bearing true true okay turn right angle head right little little true alright close sheldon room deploy sensor turn good point forward crawl hang sensor pick turn head tell sensor work hey damage hug howie know sheldon friend afford start insult small brown paper bag ma look right ding dong ding dong tomorrow go help today sheldon lab year come hello small payload support structure european science experimental package go space shuttle attach payload bay sensor apparatus rest understand acceleration need stay perfectly level provide yeah okay shelf sheldon diploma office say master engineering get leonard problem solve far mean available thing need kim kid lose focus know biology thing completely derail world class mind yeah meet denise polmerry grade point average fall waste lot time think like need hot year old asian girl thing smart guy hook think mean think mean uh uh know type cheerleader student council go jock will look anybody gifted program year begging agree turn set seat mom car pant football team laugh allergy interesting kind pretty little chubby probably low self esteem oh kid get peek guess time change young smart new sexy unbelievable component build international space station ticket launch model rocket park wow recognize ooh detail new star trek film go scene depict spock birth maybe clinic imagine spock dad little room copy pointy ear shapely rear gentleman switch local nerd news fishman chen chowdry mcnair field team university physics bowl year form barbershop quartet get gig play knotsbury farm kryptonian villain long story outweigh need perpetual motion squad law physics plus little head lady perpetual motion squad night hey buzz think answer engineering question engineer correct answer compare sheldon disposable feminine cleansing product use summer eve team sound like tall thin woman want coat dalmatian okay go need strong fourth team gentleman believe find solution problem get team hit thang dilepton schmilepton need try face sheldon mano e mano e mano mano degree celsius approximate temperature young lady row look like find ship roswell get squat time machine movie time machine worry way thing work people wait til second bid swoop call sniping lucky duck share buck turn have home actually tremendous bargain shipping work dollar pound dish fit elevator necessary master engineering remotely repair satellite regular basis troubleshoot space shuttle payload mar rover start pull left perform end alignment million mile away baby break push hard go birth colon talk chick magnet meet girl wanna come time machine friend house lame go towel good choice alexander graham bell invent telephone call dr watson boston go knock door mrs bell hey mrs bell big fan husband come watch invent telephone push hard go birth colon lox bagel breakfast time traveller screw balcony garage look create like nerdvana hang need complete justice society america collection dibs forget dibs mom bar mizvah bond got thank dollar tree israel okay man cool friend guess make large breast shh hot girl sheldon office think follow parking lot free examine brief know disgusting punish oh look sorry late work project space shuttle expect look bam howard wolowitz think delightfully droll french tre drole destiny think destiny destiny thy anaheim walk car structure level c right ha ha eyebrow hallelujah hallelujah like motorcycle ride hog wear helmet yeah people invent circumcision welcome penny fancy indian man invent pajama warn judo champion math camp happy jewish kill rabbi porkchop sister oh poor deluded bastard amazing howard like magic treat behold ordinary cane da dah combine physical strength arm wrestle mental agility tetris ultimate sport love birthday wake mom special french toast breakfast wear birthday king crown play laser tag friend think ahead tell senior prom sure remember peanut party suppose possible record threesome know want fine threesome kid yes bring friend raj get awesome limited edition dark knight sculpture base alex ross definitive batman get amazing autographed copy feynman lecture physics okay like see chilly try tell non optional social convention come manual listen new art show revise definitive cut blade runner see anniversary final cut second previously unseen footage completely change tone film come q harrison ford body double play time granola bar peanut yell get emergency room tongue swell size brisket oh god oh god oh god oh laundry hamper okay sheldon suppose fine washer dryer listen throw friend surprise party suppose apartment hour way leave tell eat peanut allergic peanut look need band aid pretend shot epinephrine tell friend need observation hour hour half okay know world work introduce man free people becauth becauth th th brissket brissket water need water okay understand hospital right look good want home know stop toy woman thy little buddy think colonoscopy necessary oh right birthday idea birthday completely forget wow lousy way spend birthday wo de ming zi shi sheldon know glad decide learn mandarin fluent billion people annoy instead call leonard syphilitic donkey blog find smash repair go apparently post intimate detail physical relationship blog find good idea sit hold comfort moment feel right cop feel remember sit hand bit warm say depth despair throw demand right right walk away god sake sheldon like tangerine chicken order tangerine chicken boy story get better time hear wait till stephen hawk lecture mit creepy computer voice yeah right grandmother town hang lady want anticipate coitus available coitus enchante madamoiselle howard wolowitz cal tech department applied physics familiar work currently orbit jupiter large moon take high resolution digital photograph bon douche french good shower sentiment express language ka tong guay jow oh speak english speak woman kind nerd juice box favourite place kick quest great house ale yeah level button game character hang maybe quest turn leave lake street head colorado know wonderful little sushi bar karaoke baby baby hooked uh baby baby hooked peanut oil look puffy feel puffy look finger like vienna sausage tell beautiful flawless russian talk attractive woman case cheesecake scent goddess yeah problem fly night grab napkin homie get serve rajesh koothrapali speak penny hug hug perfume smell oh boy afraid instruction pictographic representation imaginative way assemble component right sweden space program good point go to cool liquid coolant maybe little aquarium pump run quarter inch pvc hold honey man work pvc come maybe little corrugated sheet metal radiator perfect leonard sheldon junk yard pick square meter scrap aluminium raj run lab oxy acetaline torch alright foot gentleman gate elzebub stay frosty horde armed goblin gate guard sword azeroth raj blow gate stand slash slash leonard get tail sheldon get raj use sleath spell sheldon sheldon swordmaster sound like neighbor home steal snail mail old school like kiss kind kiss cheek lip chaste french romantic look better disagree love sprint marathon relentless pursuit end fall arm hit pepper spray know guy work lab pitfall trust know come sexual harassment law bit self teach expert sheldon robot know want tell maybe history science fiction true harm human inaction allow human come harm harm allow harm case human endanger smell robot lesley usual wolowitz solution happen know place plenty eligible woman leonard pick think mrs tishman get eye treat hey science bitch introduce special lady friend summer excuse bold sheldon get smoulder good look hey look come fast remember south infantry division plus superman godzilla hang honey shiva ganesh hindu god entire union army recommend work man sized appetite morning weight training cardio funk heart smart platter walk quiet beauty like night music happen human beatbox order neurotic talk hey look doctor stud blogosphere buzzing news lesley winkle make eine kleine bang bang music  absolutely humiliating yes lose kyle bernstein bar mitzvah party shoot good reason lead disaster boy girl party costume gentleman sew machine boy girl party flash run solo peter pan robin hood head fella get lucky get dozen condom quiver girl bathroom peter pan get handful pixie dust thank peanut afford swell tight hey guy check sexy nurse believe time turn head cough go use mirror technique brush hair brush hair shrug shrug subconsciously think sync belong know psychology journal internet research great pick girl working stethoscope maybe like hear heart skip beat seriously transient arrhythmia marvel comic story original norse god have anchovy pizza bathroom time penny pick day good luck thong time throw like sort erotic bouillabaisse bonjour mademoiselle understand new town hola nerd migo oh yeah sorry clean shower oh way loofah mitt reach place will precisely loofah exfoliate brain ah probably need talk stuff bear collection lady chka chka chka chka chka chka chka let offer little outside box think christy stay mother live wanna repair casa wolowitz sorry mention earlier wolowitz perfect human cloning go order care night pull blouse weep yay excuse bar mitzvah bond cash phone right have sex kid record lady lady sure middle ground girl talk go scooter little spin sheldon get sight fire charge plasma rifle son bitch medpack need medpack guess parent get broadband webchatte clothe little pointless doogie howser air like year bet love scrubs entire premise fiddler roof course speak culturally let forget get catchy tune want rent fiddler worry thank hello lalita raj koothrappali yes good talk wear oh important like meet friday work time place meantime real babe thank fine time date work parent like try slippery nipple work parent fine look girl mom set moustache vestigial tail oh yeah try watch online want credit card year comic con day disneyland hire snow white come house course prefer kid wrath tell happen learn pick indian chick gentleman send signal laptop local isp race fiber optic cable speed light san francisco bounce satellite geosynchronous orbit lisbon portugal data packet hand submerged transatlantic cable terminate halifax nova scotia transfer continent microwave relay isp receiver attach lamp ready stereo problem turn san francisco lisbon halifax et voila public access enable monster truck austin texas blue viper operate suburban tel aviv  sure synthetic human jewish promise mother know sheldon topical conference bowes einstein condensate party legendary forget party nerd get hey leonard mamma research methodology flawed check house probably people okay open joke fine let roll hey nice suit think will believe hey check featured video uh oh come talk wait minute farminfarmian speak bogarde symposium quark block okay millenium falcon chewbacca want princess leia find way spend evening lose think skip step yeah uh break leg road trip long beach game know phone ma hear phone ask talk hello dear lord milky green god sake ma year old chocolate milk eggoe howard sleeping mother call ungodly hour mother sheldon fault forget protocol place great ear infection stand ma friend come negatory planet ape marathon new art today look go chimp stink paw popcorn damn dirty ape sorry spare sheldon case trap forever whiny hyper neurotic snot web right wireless mini cam bluetooth headset eye thing subsonic impact sensor sheldon get bed start walk device register send signal laptop point base geography apartment ambulatory speed sick sheldon seven second glass glass hand knee need sensor close sheldon room stay low bear leave true mean straight stay straight give bearing true true okay turn right angle head right little little true alright close sheldon room deploy sensor turn good point forward crawl hang sensor pick turn head tell sensor work hey damage hug howie know sheldon friend afford start insult small brown paper bag ma look right ding dong ding dong tomorrow go help today sheldon lab year come hello small payload support structure european science experimental package go space shuttle attach payload bay sensor apparatus rest understand acceleration need stay perfectly level provide yeah okay shelf sheldon diploma office say master engineering get leonard problem solve far mean available thing need kim kid lose focus know biology thing completely derail world class mind yeah meet denise polmerry grade point average fall waste lot time think like need hot year old asian girl thing smart guy hook think mean think mean uh uh know type cheerleader student council go jock will look anybody gifted program year begging agree turn set seat mom car pant football team laugh allergy interesting kind pretty little chubby probably low self esteem oh kid get peek guess time change young smart new sexy unbelievable component build international space station ticket launch model rocket park wow recognize ooh detail new star trek film go scene depict spock birth maybe clinic imagine spock dad little room copy pointy ear shapely rear gentleman switch local nerd news fishman chen chowdry mcnair field team university physics bowl year form barbershop quartet get gig play knotsbury farm kryptonian villain long story outweigh need perpetual motion squad law physics plus little head lady perpetual motion squad night hey buzz think answer engineering question engineer correct answer compare sheldon disposable feminine cleansing product use summer eve team sound like tall thin woman want coat dalmatian okay go need strong fourth team gentleman believe find solution problem get team hit thang dilepton schmilepton need try face sheldon mano e mano e mano mano degree celsius approximate temperature young lady row look like find ship roswell get squat time machine movie time machine worry way thing work people wait til second bid swoop call sniping lucky duck share buck turn have home actually tremendous bargain shipping work dollar pound dish fit elevator necessary master engineering remotely repair satellite regular basis troubleshoot space shuttle payload mar rover start pull left perform end alignment million mile away baby break push hard go birth colon talk chick magnet meet girl wanna come time machine friend house lame go towel good choice alexander graham bell invent telephone call dr watson boston go knock door mrs bell hey mrs bell big fan husband come watch invent telephone push hard go birth colon lox bagel breakfast time traveller screw balcony garage look create like nerdvana hang need complete justice society america collection dibs forget dibs mom bar mizvah bond got thank dollar tree israel okay man cool friend guess make large breast shh hot girl sheldon office think follow parking lot free examine brief know disgusting punish oh look sorry late work project space shuttle expect look bam howard wolowitz think delightfully droll french tre drole destiny think destiny destiny thy anaheim walk car structure level c right ha ha eyebrow hallelujah hallelujah like motorcycle ride hog wear helmet yeah people invent circumcision welcome penny fancy indian man invent pajama warn judo champion math camp happy jewish kill rabbi porkchop sister oh poor deluded bastard amazing howard like magic treat behold ordinary cane da dah combine physical strength arm wrestle mental agility tetris ultimate sport love birthday wake mom special french toast breakfast wear birthday king crown play laser tag friend think ahead tell senior prom sure remember peanut party suppose possible record threesome know want fine threesome kid yes bring friend raj get awesome limited edition dark knight sculpture base alex ross definitive batman get amazing autographed copy feynman lecture physics okay like see chilly try tell non optional social convention come manual listen new art show revise definitive cut blade runner see anniversary final cut second previously unseen footage completely change tone film come q harrison ford body double play time granola bar peanut yell get emergency room tongue swell size brisket oh god oh god oh god oh laundry hamper okay sheldon suppose fine washer dryer listen throw friend surprise party suppose apartment hour way leave tell eat peanut allergic peanut look need band aid pretend shot epinephrine tell friend need observation hour hour half okay know world work introduce man free people becauth becauth th th brissket brissket water need water okay understand hospital right look good want home know stop toy woman thy little buddy think colonoscopy necessary oh right birthday idea birthday completely forget wow lousy way spend birthday wo de ming zi shi sheldon know glad decide learn mandarin fluent billion people annoy instead call leonard syphilitic donkey blog find smash repair go apparently post intimate detail physical relationship blog find good idea sit hold comfort moment feel right cop feel remember sit hand bit warm say depth despair throw demand right right walk away god sake sheldon like tangerine chicken order tangerine chicken boy story get better time hear'"
            ]
          },
          "metadata": {
            "tags": []
          },
          "execution_count": 163
        }
      ]
    },
    {
      "cell_type": "code",
      "metadata": {
        "id": "b0VEBNokyEJ_",
        "colab_type": "code",
        "outputId": "33abf1a6-1900-4087-8da0-1d6d1316cb4d",
        "colab": {
          "base_uri": "https://localhost:8080/",
          "height": 122
        }
      },
      "source": [
        "heroes = {}\n",
        "for i in dict_lda:\n",
        "  record = []\n",
        "  for s in dict_lda[i]:\n",
        "    record.append(' '.join(s))\n",
        "  heroes[i] = ' '.join(record)\n",
        "heroes"
      ],
      "execution_count": 0,
      "outputs": [
        {
          "output_type": "execute_result",
          "data": {
            "text/plain": [
              "{'Howard': 'wait till stephen hawk lecture mit creepy computer voice yeah right grandmother town hang lady want anticipate coitus available coitus enchante madamoiselle howard wolowitz cal tech department applied physics familiar work currently orbit jupiter large moon take high resolution digital photograph bon douche french good shower sentiment express language ka tong guay jow oh speak english speak woman kind nerd juice box favourite place kick quest great house ale yeah level button game character hang maybe quest turn leave lake street head colorado know wonderful little sushi bar karaoke baby baby hooked uh baby baby hooked peanut oil look puffy feel puffy look finger like vienna sausage tell beautiful flawless russian talk attractive woman case cheesecake scent goddess yeah problem fly night grab napkin homie get serve rajesh koothrapali speak penny hug hug perfume smell oh boy afraid instruction pictographic representation imaginative way assemble component right sweden space program good point go to cool liquid coolant maybe little aquarium pump run quarter inch pvc hold honey man work pvc come maybe little corrugated sheet metal radiator perfect leonard sheldon junk yard pick square meter scrap aluminium raj run lab oxy acetaline torch alright foot gentleman gate elzebub stay frosty horde armed goblin gate guard sword azeroth raj blow gate stand slash slash leonard get tail sheldon get raj use sleath spell sheldon sheldon swordmaster sound like neighbor home steal snail mail old school like kiss kind kiss cheek lip chaste french romantic look better disagree love sprint marathon relentless pursuit end fall arm hit pepper spray know guy work lab pitfall trust know come sexual harassment law bit self teach expert sheldon robot know want tell maybe history science fiction true harm human inaction allow human come harm harm allow harm case human endanger smell robot lesley usual wolowitz solution happen know place plenty eligible woman leonard pick think mrs tishman get eye treat hey science bitch introduce special lady friend summer excuse bold sheldon get smoulder good look hey look come fast remember south infantry division plus superman godzilla hang honey shiva ganesh hindu god entire union army recommend work man sized appetite morning weight training cardio funk heart smart platter walk quiet beauty like night music happen human beatbox order neurotic talk hey look doctor stud blogosphere buzzing news lesley winkle make eine kleine bang bang music  absolutely humiliating yes lose kyle bernstein bar mitzvah party shoot good reason lead disaster boy girl party costume gentleman sew machine boy girl party flash run solo peter pan robin hood head fella get lucky get dozen condom quiver girl bathroom peter pan get handful pixie dust thank peanut afford swell tight hey guy check sexy nurse believe time turn head cough go use mirror technique brush hair brush hair shrug shrug subconsciously think sync belong know psychology journal internet research great pick girl working stethoscope maybe like hear heart skip beat seriously transient arrhythmia marvel comic story original norse god have anchovy pizza bathroom time penny pick day good luck thong time throw like sort erotic bouillabaisse bonjour mademoiselle understand new town hola nerd migo oh yeah sorry clean shower oh way loofah mitt reach place will precisely loofah exfoliate brain ah probably need talk stuff bear collection lady chka chka chka chka chka chka chka let offer little outside box think christy stay mother live wanna repair casa wolowitz sorry mention earlier wolowitz perfect human cloning go order care night pull blouse weep yay excuse bar mitzvah bond cash phone right have sex kid record lady lady sure middle ground girl talk go scooter little spin sheldon get sight fire charge plasma rifle son bitch medpack need medpack guess parent get broadband webchatte clothe little pointless doogie howser air like year bet love scrubs entire premise fiddler roof course speak culturally let forget get catchy tune want rent fiddler worry thank hello lalita raj koothrappali yes good talk wear oh important like meet friday work time place meantime real babe thank fine time date work parent like try slippery nipple work parent fine look girl mom set moustache vestigial tail oh yeah try watch online want credit card year comic con day disneyland hire snow white come house course prefer kid wrath tell happen learn pick indian chick gentleman send signal laptop local isp race fiber optic cable speed light san francisco bounce satellite geosynchronous orbit lisbon portugal data packet hand submerged transatlantic cable terminate halifax nova scotia transfer continent microwave relay isp receiver attach lamp ready stereo problem turn san francisco lisbon halifax et voila public access enable monster truck austin texas blue viper operate suburban tel aviv  sure synthetic human jewish promise mother know sheldon topical conference bowes einstein condensate party legendary forget party nerd get hey leonard mamma research methodology flawed check house probably people okay open joke fine let roll hey nice suit think will believe hey check featured video uh oh come talk wait minute farminfarmian speak bogarde symposium quark block okay millenium falcon chewbacca want princess leia find way spend evening lose think skip step yeah uh break leg road trip long beach game know phone ma hear phone ask talk hello dear lord milky green god sake ma year old chocolate milk eggoe howard sleeping mother call ungodly hour mother sheldon fault forget protocol place great ear infection stand ma friend come negatory planet ape marathon new art today look go chimp stink paw popcorn damn dirty ape sorry spare sheldon case trap forever whiny hyper neurotic snot web right wireless mini cam bluetooth headset eye thing subsonic impact sensor sheldon get bed start walk device register send signal laptop point base geography apartment ambulatory speed sick sheldon seven second glass glass hand knee need sensor close sheldon room stay low bear leave true mean straight stay straight give bearing true true okay turn right angle head right little little true alright close sheldon room deploy sensor turn good point forward crawl hang sensor pick turn head tell sensor work hey damage hug howie know sheldon friend afford start insult small brown paper bag ma look right ding dong ding dong tomorrow go help today sheldon lab year come hello small payload support structure european science experimental package go space shuttle attach payload bay sensor apparatus rest understand acceleration need stay perfectly level provide yeah okay shelf sheldon diploma office say master engineering get leonard problem solve far mean available thing need kim kid lose focus know biology thing completely derail world class mind yeah meet denise polmerry grade point average fall waste lot time think like need hot year old asian girl thing smart guy hook think mean think mean uh uh know type cheerleader student council go jock will look anybody gifted program year begging agree turn set seat mom car pant football team laugh allergy interesting kind pretty little chubby probably low self esteem oh kid get peek guess time change young smart new sexy unbelievable component build international space station ticket launch model rocket park wow recognize ooh detail new star trek film go scene depict spock birth maybe clinic imagine spock dad little room copy pointy ear shapely rear gentleman switch local nerd news fishman chen chowdry mcnair field team university physics bowl year form barbershop quartet get gig play knotsbury farm kryptonian villain long story outweigh need perpetual motion squad law physics plus little head lady perpetual motion squad night hey buzz think answer engineering question engineer correct answer compare sheldon disposable feminine cleansing product use summer eve team sound like tall thin woman want coat dalmatian okay go need strong fourth team gentleman believe find solution problem get team hit thang dilepton schmilepton need try face sheldon mano e mano e mano mano degree celsius approximate temperature young lady row look like find ship roswell get squat time machine movie time machine worry way thing work people wait til second bid swoop call sniping lucky duck share buck turn have home actually tremendous bargain shipping work dollar pound dish fit elevator necessary master engineering remotely repair satellite regular basis troubleshoot space shuttle payload mar rover start pull left perform end alignment million mile away baby break push hard go birth colon talk chick magnet meet girl wanna come time machine friend house lame go towel good choice alexander graham bell invent telephone call dr watson boston go knock door mrs bell hey mrs bell big fan husband come watch invent telephone push hard go birth colon lox bagel breakfast time traveller screw balcony garage look create like nerdvana hang need complete justice society america collection dibs forget dibs mom bar mizvah bond got thank dollar tree israel okay man cool friend guess make large breast shh hot girl sheldon office think follow parking lot free examine brief know disgusting punish oh look sorry late work project space shuttle expect look bam howard wolowitz think delightfully droll french tre drole destiny think destiny destiny thy anaheim walk car structure level c right ha ha eyebrow hallelujah hallelujah like motorcycle ride hog wear helmet yeah people invent circumcision welcome penny fancy indian man invent pajama warn judo champion math camp happy jewish kill rabbi porkchop sister oh poor deluded bastard amazing howard like magic treat behold ordinary cane da dah combine physical strength arm wrestle mental agility tetris ultimate sport love birthday wake mom special french toast breakfast wear birthday king crown play laser tag friend think ahead tell senior prom sure remember peanut party suppose possible record threesome know want fine threesome kid yes bring friend raj get awesome limited edition dark knight sculpture base alex ross definitive batman get amazing autographed copy feynman lecture physics okay like see chilly try tell non optional social convention come manual listen new art show revise definitive cut blade runner see anniversary final cut second previously unseen footage completely change tone film come q harrison ford body double play time granola bar peanut yell get emergency room tongue swell size brisket oh god oh god oh god oh laundry hamper okay sheldon suppose fine washer dryer listen throw friend surprise party suppose apartment hour way leave tell eat peanut allergic peanut look need band aid pretend shot epinephrine tell friend need observation hour hour half okay know world work introduce man free people becauth becauth th th brissket brissket water need water okay understand hospital right look good want home know stop toy woman thy little buddy think colonoscopy necessary oh right birthday idea birthday completely forget wow lousy way spend birthday wo de ming zi shi sheldon know glad decide learn mandarin fluent billion people annoy instead call leonard syphilitic donkey blog find smash repair go apparently post intimate detail physical relationship blog find good idea sit hold comfort moment feel right cop feel remember sit hand bit warm say depth despair throw demand right right walk away god sake sheldon like tangerine chicken order tangerine chicken boy story get better time hear wait till stephen hawk lecture mit creepy computer voice yeah right grandmother town hang lady want anticipate coitus available coitus enchante madamoiselle howard wolowitz cal tech department applied physics familiar work currently orbit jupiter large moon take high resolution digital photograph bon douche french good shower sentiment express language ka tong guay jow oh speak english speak woman kind nerd juice box favourite place kick quest great house ale yeah level button game character hang maybe quest turn leave lake street head colorado know wonderful little sushi bar karaoke baby baby hooked uh baby baby hooked peanut oil look puffy feel puffy look finger like vienna sausage tell beautiful flawless russian talk attractive woman case cheesecake scent goddess yeah problem fly night grab napkin homie get serve rajesh koothrapali speak penny hug hug perfume smell oh boy afraid instruction pictographic representation imaginative way assemble component right sweden space program good point go to cool liquid coolant maybe little aquarium pump run quarter inch pvc hold honey man work pvc come maybe little corrugated sheet metal radiator perfect leonard sheldon junk yard pick square meter scrap aluminium raj run lab oxy acetaline torch alright foot gentleman gate elzebub stay frosty horde armed goblin gate guard sword azeroth raj blow gate stand slash slash leonard get tail sheldon get raj use sleath spell sheldon sheldon swordmaster sound like neighbor home steal snail mail old school like kiss kind kiss cheek lip chaste french romantic look better disagree love sprint marathon relentless pursuit end fall arm hit pepper spray know guy work lab pitfall trust know come sexual harassment law bit self teach expert sheldon robot know want tell maybe history science fiction true harm human inaction allow human come harm harm allow harm case human endanger smell robot lesley usual wolowitz solution happen know place plenty eligible woman leonard pick think mrs tishman get eye treat hey science bitch introduce special lady friend summer excuse bold sheldon get smoulder good look hey look come fast remember south infantry division plus superman godzilla hang honey shiva ganesh hindu god entire union army recommend work man sized appetite morning weight training cardio funk heart smart platter walk quiet beauty like night music happen human beatbox order neurotic talk hey look doctor stud blogosphere buzzing news lesley winkle make eine kleine bang bang music  absolutely humiliating yes lose kyle bernstein bar mitzvah party shoot good reason lead disaster boy girl party costume gentleman sew machine boy girl party flash run solo peter pan robin hood head fella get lucky get dozen condom quiver girl bathroom peter pan get handful pixie dust thank peanut afford swell tight hey guy check sexy nurse believe time turn head cough go use mirror technique brush hair brush hair shrug shrug subconsciously think sync belong know psychology journal internet research great pick girl working stethoscope maybe like hear heart skip beat seriously transient arrhythmia marvel comic story original norse god have anchovy pizza bathroom time penny pick day good luck thong time throw like sort erotic bouillabaisse bonjour mademoiselle understand new town hola nerd migo oh yeah sorry clean shower oh way loofah mitt reach place will precisely loofah exfoliate brain ah probably need talk stuff bear collection lady chka chka chka chka chka chka chka let offer little outside box think christy stay mother live wanna repair casa wolowitz sorry mention earlier wolowitz perfect human cloning go order care night pull blouse weep yay excuse bar mitzvah bond cash phone right have sex kid record lady lady sure middle ground girl talk go scooter little spin sheldon get sight fire charge plasma rifle son bitch medpack need medpack guess parent get broadband webchatte clothe little pointless doogie howser air like year bet love scrubs entire premise fiddler roof course speak culturally let forget get catchy tune want rent fiddler worry thank hello lalita raj koothrappali yes good talk wear oh important like meet friday work time place meantime real babe thank fine time date work parent like try slippery nipple work parent fine look girl mom set moustache vestigial tail oh yeah try watch online want credit card year comic con day disneyland hire snow white come house course prefer kid wrath tell happen learn pick indian chick gentleman send signal laptop local isp race fiber optic cable speed light san francisco bounce satellite geosynchronous orbit lisbon portugal data packet hand submerged transatlantic cable terminate halifax nova scotia transfer continent microwave relay isp receiver attach lamp ready stereo problem turn san francisco lisbon halifax et voila public access enable monster truck austin texas blue viper operate suburban tel aviv  sure synthetic human jewish promise mother know sheldon topical conference bowes einstein condensate party legendary forget party nerd get hey leonard mamma research methodology flawed check house probably people okay open joke fine let roll hey nice suit think will believe hey check featured video uh oh come talk wait minute farminfarmian speak bogarde symposium quark block okay millenium falcon chewbacca want princess leia find way spend evening lose think skip step yeah uh break leg road trip long beach game know phone ma hear phone ask talk hello dear lord milky green god sake ma year old chocolate milk eggoe howard sleeping mother call ungodly hour mother sheldon fault forget protocol place great ear infection stand ma friend come negatory planet ape marathon new art today look go chimp stink paw popcorn damn dirty ape sorry spare sheldon case trap forever whiny hyper neurotic snot web right wireless mini cam bluetooth headset eye thing subsonic impact sensor sheldon get bed start walk device register send signal laptop point base geography apartment ambulatory speed sick sheldon seven second glass glass hand knee need sensor close sheldon room stay low bear leave true mean straight stay straight give bearing true true okay turn right angle head right little little true alright close sheldon room deploy sensor turn good point forward crawl hang sensor pick turn head tell sensor work hey damage hug howie know sheldon friend afford start insult small brown paper bag ma look right ding dong ding dong tomorrow go help today sheldon lab year come hello small payload support structure european science experimental package go space shuttle attach payload bay sensor apparatus rest understand acceleration need stay perfectly level provide yeah okay shelf sheldon diploma office say master engineering get leonard problem solve far mean available thing need kim kid lose focus know biology thing completely derail world class mind yeah meet denise polmerry grade point average fall waste lot time think like need hot year old asian girl thing smart guy hook think mean think mean uh uh know type cheerleader student council go jock will look anybody gifted program year begging agree turn set seat mom car pant football team laugh allergy interesting kind pretty little chubby probably low self esteem oh kid get peek guess time change young smart new sexy unbelievable component build international space station ticket launch model rocket park wow recognize ooh detail new star trek film go scene depict spock birth maybe clinic imagine spock dad little room copy pointy ear shapely rear gentleman switch local nerd news fishman chen chowdry mcnair field team university physics bowl year form barbershop quartet get gig play knotsbury farm kryptonian villain long story outweigh need perpetual motion squad law physics plus little head lady perpetual motion squad night hey buzz think answer engineering question engineer correct answer compare sheldon disposable feminine cleansing product use summer eve team sound like tall thin woman want coat dalmatian okay go need strong fourth team gentleman believe find solution problem get team hit thang dilepton schmilepton need try face sheldon mano e mano e mano mano degree celsius approximate temperature young lady row look like find ship roswell get squat time machine movie time machine worry way thing work people wait til second bid swoop call sniping lucky duck share buck turn have home actually tremendous bargain shipping work dollar pound dish fit elevator necessary master engineering remotely repair satellite regular basis troubleshoot space shuttle payload mar rover start pull left perform end alignment million mile away baby break push hard go birth colon talk chick magnet meet girl wanna come time machine friend house lame go towel good choice alexander graham bell invent telephone call dr watson boston go knock door mrs bell hey mrs bell big fan husband come watch invent telephone push hard go birth colon lox bagel breakfast time traveller screw balcony garage look create like nerdvana hang need complete justice society america collection dibs forget dibs mom bar mizvah bond got thank dollar tree israel okay man cool friend guess make large breast shh hot girl sheldon office think follow parking lot free examine brief know disgusting punish oh look sorry late work project space shuttle expect look bam howard wolowitz think delightfully droll french tre drole destiny think destiny destiny thy anaheim walk car structure level c right ha ha eyebrow hallelujah hallelujah like motorcycle ride hog wear helmet yeah people invent circumcision welcome penny fancy indian man invent pajama warn judo champion math camp happy jewish kill rabbi porkchop sister oh poor deluded bastard amazing howard like magic treat behold ordinary cane da dah combine physical strength arm wrestle mental agility tetris ultimate sport love birthday wake mom special french toast breakfast wear birthday king crown play laser tag friend think ahead tell senior prom sure remember peanut party suppose possible record threesome know want fine threesome kid yes bring friend raj get awesome limited edition dark knight sculpture base alex ross definitive batman get amazing autographed copy feynman lecture physics okay like see chilly try tell non optional social convention come manual listen new art show revise definitive cut blade runner see anniversary final cut second previously unseen footage completely change tone film come q harrison ford body double play time granola bar peanut yell get emergency room tongue swell size brisket oh god oh god oh god oh laundry hamper okay sheldon suppose fine washer dryer listen throw friend surprise party suppose apartment hour way leave tell eat peanut allergic peanut look need band aid pretend shot epinephrine tell friend need observation hour hour half okay know world work introduce man free people becauth becauth th th brissket brissket water need water okay understand hospital right look good want home know stop toy woman thy little buddy think colonoscopy necessary oh right birthday idea birthday completely forget wow lousy way spend birthday wo de ming zi shi sheldon know glad decide learn mandarin fluent billion people annoy instead call leonard syphilitic donkey blog find smash repair go apparently post intimate detail physical relationship blog find good idea sit hold comfort moment feel right cop feel remember sit hand bit warm say depth despair throw demand right right walk away god sake sheldon like tangerine chicken order tangerine chicken boy story get better time hear wait till stephen hawk lecture mit creepy computer voice yeah right grandmother town hang lady want anticipate coitus available coitus enchante madamoiselle howard wolowitz cal tech department applied physics familiar work currently orbit jupiter large moon take high resolution digital photograph bon douche french good shower sentiment express language ka tong guay jow oh speak english speak woman kind nerd juice box favourite place kick quest great house ale yeah level button game character hang maybe quest turn leave lake street head colorado know wonderful little sushi bar karaoke baby baby hooked uh baby baby hooked peanut oil look puffy feel puffy look finger like vienna sausage tell beautiful flawless russian talk attractive woman case cheesecake scent goddess yeah problem fly night grab napkin homie get serve rajesh koothrapali speak penny hug hug perfume smell oh boy afraid instruction pictographic representation imaginative way assemble component right sweden space program good point go to cool liquid coolant maybe little aquarium pump run quarter inch pvc hold honey man work pvc come maybe little corrugated sheet metal radiator perfect leonard sheldon junk yard pick square meter scrap aluminium raj run lab oxy acetaline torch alright foot gentleman gate elzebub stay frosty horde armed goblin gate guard sword azeroth raj blow gate stand slash slash leonard get tail sheldon get raj use sleath spell sheldon sheldon swordmaster sound like neighbor home steal snail mail old school like kiss kind kiss cheek lip chaste french romantic look better disagree love sprint marathon relentless pursuit end fall arm hit pepper spray know guy work lab pitfall trust know come sexual harassment law bit self teach expert sheldon robot know want tell maybe history science fiction true harm human inaction allow human come harm harm allow harm case human endanger smell robot lesley usual wolowitz solution happen know place plenty eligible woman leonard pick think mrs tishman get eye treat hey science bitch introduce special lady friend summer excuse bold sheldon get smoulder good look hey look come fast remember south infantry division plus superman godzilla hang honey shiva ganesh hindu god entire union army recommend work man sized appetite morning weight training cardio funk heart smart platter walk quiet beauty like night music happen human beatbox order neurotic talk hey look doctor stud blogosphere buzzing news lesley winkle make eine kleine bang bang music  absolutely humiliating yes lose kyle bernstein bar mitzvah party shoot good reason lead disaster boy girl party costume gentleman sew machine boy girl party flash run solo peter pan robin hood head fella get lucky get dozen condom quiver girl bathroom peter pan get handful pixie dust thank peanut afford swell tight hey guy check sexy nurse believe time turn head cough go use mirror technique brush hair brush hair shrug shrug subconsciously think sync belong know psychology journal internet research great pick girl working stethoscope maybe like hear heart skip beat seriously transient arrhythmia marvel comic story original norse god have anchovy pizza bathroom time penny pick day good luck thong time throw like sort erotic bouillabaisse bonjour mademoiselle understand new town hola nerd migo oh yeah sorry clean shower oh way loofah mitt reach place will precisely loofah exfoliate brain ah probably need talk stuff bear collection lady chka chka chka chka chka chka chka let offer little outside box think christy stay mother live wanna repair casa wolowitz sorry mention earlier wolowitz perfect human cloning go order care night pull blouse weep yay excuse bar mitzvah bond cash phone right have sex kid record lady lady sure middle ground girl talk go scooter little spin sheldon get sight fire charge plasma rifle son bitch medpack need medpack guess parent get broadband webchatte clothe little pointless doogie howser air like year bet love scrubs entire premise fiddler roof course speak culturally let forget get catchy tune want rent fiddler worry thank hello lalita raj koothrappali yes good talk wear oh important like meet friday work time place meantime real babe thank fine time date work parent like try slippery nipple work parent fine look girl mom set moustache vestigial tail oh yeah try watch online want credit card year comic con day disneyland hire snow white come house course prefer kid wrath tell happen learn pick indian chick gentleman send signal laptop local isp race fiber optic cable speed light san francisco bounce satellite geosynchronous orbit lisbon portugal data packet hand submerged transatlantic cable terminate halifax nova scotia transfer continent microwave relay isp receiver attach lamp ready stereo problem turn san francisco lisbon halifax et voila public access enable monster truck austin texas blue viper operate suburban tel aviv  sure synthetic human jewish promise mother know sheldon topical conference bowes einstein condensate party legendary forget party nerd get hey leonard mamma research methodology flawed check house probably people okay open joke fine let roll hey nice suit think will believe hey check featured video uh oh come talk wait minute farminfarmian speak bogarde symposium quark block okay millenium falcon chewbacca want princess leia find way spend evening lose think skip step yeah uh break leg road trip long beach game know phone ma hear phone ask talk hello dear lord milky green god sake ma year old chocolate milk eggoe howard sleeping mother call ungodly hour mother sheldon fault forget protocol place great ear infection stand ma friend come negatory planet ape marathon new art today look go chimp stink paw popcorn damn dirty ape sorry spare sheldon case trap forever whiny hyper neurotic snot web right wireless mini cam bluetooth headset eye thing subsonic impact sensor sheldon get bed start walk device register send signal laptop point base geography apartment ambulatory speed sick sheldon seven second glass glass hand knee need sensor close sheldon room stay low bear leave true mean straight stay straight give bearing true true okay turn right angle head right little little true alright close sheldon room deploy sensor turn good point forward crawl hang sensor pick turn head tell sensor work hey damage hug howie know sheldon friend afford start insult small brown paper bag ma look right ding dong ding dong tomorrow go help today sheldon lab year come hello small payload support structure european science experimental package go space shuttle attach payload bay sensor apparatus rest understand acceleration need stay perfectly level provide yeah okay shelf sheldon diploma office say master engineering get leonard problem solve far mean available thing need kim kid lose focus know biology thing completely derail world class mind yeah meet denise polmerry grade point average fall waste lot time think like need hot year old asian girl thing smart guy hook think mean think mean uh uh know type cheerleader student council go jock will look anybody gifted program year begging agree turn set seat mom car pant football team laugh allergy interesting kind pretty little chubby probably low self esteem oh kid get peek guess time change young smart new sexy unbelievable component build international space station ticket launch model rocket park wow recognize ooh detail new star trek film go scene depict spock birth maybe clinic imagine spock dad little room copy pointy ear shapely rear gentleman switch local nerd news fishman chen chowdry mcnair field team university physics bowl year form barbershop quartet get gig play knotsbury farm kryptonian villain long story outweigh need perpetual motion squad law physics plus little head lady perpetual motion squad night hey buzz think answer engineering question engineer correct answer compare sheldon disposable feminine cleansing product use summer eve team sound like tall thin woman want coat dalmatian okay go need strong fourth team gentleman believe find solution problem get team hit thang dilepton schmilepton need try face sheldon mano e mano e mano mano degree celsius approximate temperature young lady row look like find ship roswell get squat time machine movie time machine worry way thing work people wait til second bid swoop call sniping lucky duck share buck turn have home actually tremendous bargain shipping work dollar pound dish fit elevator necessary master engineering remotely repair satellite regular basis troubleshoot space shuttle payload mar rover start pull left perform end alignment million mile away baby break push hard go birth colon talk chick magnet meet girl wanna come time machine friend house lame go towel good choice alexander graham bell invent telephone call dr watson boston go knock door mrs bell hey mrs bell big fan husband come watch invent telephone push hard go birth colon lox bagel breakfast time traveller screw balcony garage look create like nerdvana hang need complete justice society america collection dibs forget dibs mom bar mizvah bond got thank dollar tree israel okay man cool friend guess make large breast shh hot girl sheldon office think follow parking lot free examine brief know disgusting punish oh look sorry late work project space shuttle expect look bam howard wolowitz think delightfully droll french tre drole destiny think destiny destiny thy anaheim walk car structure level c right ha ha eyebrow hallelujah hallelujah like motorcycle ride hog wear helmet yeah people invent circumcision welcome penny fancy indian man invent pajama warn judo champion math camp happy jewish kill rabbi porkchop sister oh poor deluded bastard amazing howard like magic treat behold ordinary cane da dah combine physical strength arm wrestle mental agility tetris ultimate sport love birthday wake mom special french toast breakfast wear birthday king crown play laser tag friend think ahead tell senior prom sure remember peanut party suppose possible record threesome know want fine threesome kid yes bring friend raj get awesome limited edition dark knight sculpture base alex ross definitive batman get amazing autographed copy feynman lecture physics okay like see chilly try tell non optional social convention come manual listen new art show revise definitive cut blade runner see anniversary final cut second previously unseen footage completely change tone film come q harrison ford body double play time granola bar peanut yell get emergency room tongue swell size brisket oh god oh god oh god oh laundry hamper okay sheldon suppose fine washer dryer listen throw friend surprise party suppose apartment hour way leave tell eat peanut allergic peanut look need band aid pretend shot epinephrine tell friend need observation hour hour half okay know world work introduce man free people becauth becauth th th brissket brissket water need water okay understand hospital right look good want home know stop toy woman thy little buddy think colonoscopy necessary oh right birthday idea birthday completely forget wow lousy way spend birthday wo de ming zi shi sheldon know glad decide learn mandarin fluent billion people annoy instead call leonard syphilitic donkey blog find smash repair go apparently post intimate detail physical relationship blog find good idea sit hold comfort moment feel right cop feel remember sit hand bit warm say depth despair throw demand right right walk away god sake sheldon like tangerine chicken order tangerine chicken boy story get better time hear',\n",
              " 'Leonard': 'agree point aegean nabakov mcm fourteen finger phylum make fourteen port au prince papa doc capital idea port au prince haiti yes um high iq sperm bank thank right kid semi pro sheldon idea little extra money fractional bandwidth apartment sure love know renege proffer sperm care millimetre right send board school new neighbor significant improvement old neighbor mean interrupt live hall oh uh live um live separate heterosexual bedroom hi uh oh welcome building invite lunch watch season dvd think good neighbor invite feel welcome wrong need widen circle yes meet go invite nice meal chat difficult listen say appropriate response um bring home indian food um know move stressful find undergo stress good food company comforting effect curry natural laxative tell uh clean colon thing worry okay home board like board board invent dimension math come universe sit nice lot company yeah like regular boggle klingon probably tell think sheldon try sagittarius guess wu uh sort job oh okay love cheesecake eat think good idea base life movie sound wonderful feel like crazy uh uh paradox paradox nature think light look huygen light wave confirm double slit experiment come albert einstein discover light behave like particle bad shower work right hall true remember thanksgive grandmother alzheimer episode bad watch carve turkey try sex make think sex male female go engage hypothetical try good neighbor carnal relationship develop participate briefly darth vader shampoo luke skywalker conditioner lady new neighbor anticipate coitus stop say coitus come trick shower save blog howard welcome oh go step right okay hair product sheldon favour sure ask favour favour ask favour sheldon biological impossibility come come know break up wuh break joyce kim mend broken heart situation complicated kind dispute penny ex boyfriend get custody tv want avoid have scene sheldon go scene talking uh pick penny tv go like excuse little hitch able identify fingerprint string theory aftermath big bang come combine iq able figure stupid building grab door oh scientist sheldon sorry drag right motive hope establish relationship penny day lead sex learn lesson league get work day win nobel prize die ex boyfriend send regard think rest fairly self explanatory valid hypothesis baby smart beautiful thai food okay penny pad thai peanut uh sure eye howard case start swell ask napkin dare go come home work great work sort act carbohydrate delivery system go to furniture deliver um plan want join thai food superman movie marathon superman match speed decelerate excuse entire argument predicate assumption superman flight feat strength comic book challenge find single reference kryptonian skin cell okay apartment fourth floor elevator break go oh go okay cool thank guess bring need strength physicist intellectual descendent archimede fulcrum lever earth matter easy easy okay get inclined plane force require lift reduce sine angle stair thirty degree half exactly half let push okay move easy math oh okay uh okay yeah problem come help pull turn man thing woman expect sex good neighbor case way lower odd penny little messy occur compulsive need sort organize label entire world hard believe people sort breakfast cereal numerically fiber content sheldon home transvestite live care keep place closet oh hey penny arrive bring hair insane break woman apartment middle night clean realize penny wake reasonable explanation give explanation reasonableness determine jury peer sheldon ridiculous fine accept premise let oh hell surprised know folk cure insomnia break neighbor apartment clean think know convince maybe tonight sneak shampoo carpet yes god sake sheldon hold sarcasm sign time open mouth sarcasm sign god go bad oh yes discuss length night okay look penny think feel perfectly valid maybe little bit later today feel little bit lack well word violate maybe talk go march right apologize funny mad um thing penny oppenheimer come regret contribution atomic bomb regret participation error judgment hallmark great human experiment willingness recognize mistake mistake madame curie discovery radium turn great scientific potential later die slow painful death radiation poisoning example field ebola research inch dowel package phillip head screw insist consider inefficient design example penny flat screen tv mean space waste control inefficient loud oh drip tray sluice overflow reservoir oh get replace panel b f crossbar h aircraft grade aluminium meet hour panic hour warrior unsheathe weapon magic wielder raise wand stay formation alright tail prehensile swat raj trap flank forget sword sheldon help raj dammit man die bastard teleport betray money look avatar right penny mailman oh sorry uh yeah uh get mail oh probably good idea civil servant document propensity know snap fine penny fine guy kiss fine jealous little concerned like look guy yeah kinda dreamy penny go realistic speed look howard ask lesley winkle dinner go walk lab ask strip naked dance lesley like propose experiment right lesley like propose experiment pff second minestrone think bio social exploration neuro chemical overlay go characterise modification colleague friendship paradigm addition date like component need quibble terminology generally accept pattern area pick restaurant movie probably romantic comedy feature talent hugh grant sandra bullock heartrate pheromone etc yes mean kiss define parameter kiss thank shall count propose experiment think present finding oh try kiss earth mean mile go know wear chain god good song know think take asthma account feline geneticist san diego develop cut little hypo allergenic calico think name kind tear einstein newton sergeant fuzzyboot maybe cute little cuddly cat matter woman interested woman reject right ask ask right march ask good afternoon penny hi hey uh wonder plan dinner inherent ambiguity word dinner technically refer large meal day consume clarify dinner mean supper dinner think thirty different time subset uh algebraically speak unknown example sheldon quizzno lunch find fill time fault quizzno varied menu cos carve stone carve okay thirty tell perspire little way come join stuff chicken carbonara sub quizzno reason oh know maybe good idea right alcohol poor judgment stop mean perfectly nice guy reason restaurant lovely dinner maybe walk talk thing common love pottery love pottery know pause know happen lean kiss little tentative realize kiss bite low lip know want thing go distance go sex oh god oh god have panic attack calm have panic attack panic attack oh kid need cancel kind illness want come care critical feel uncomfortable go future want try phone expect stop ask question need shower oh yeah turn raj howard work sheldon colonoscopy bounce kid common people life want nip intestinal polyp bud exception string theory happen prove string theory good hey look idea internal logical consistency new cheesecake factory good good uh hallway friend thing doug ugh start rebound sex sure um thirty hour experience thirty hour spread glorious summer chafe right course yeah emotional chafing hey want cool olive glass touch actually centripetal force inward force generate glass act olive excuse ride olive non inertial reference frame sorry car way poor guy bike nice time course hang bunch guy work colonoscopy girl date know date capital bold face underline like day ted think little concussion go lay good night hit roadblock invisibility sound like breakthrough science magazine tell hold cover guess congratulation order avoid finkleday meet new department head congratulate shake hand interesting lead buffet india come new boss polite glorify high school science teacher successful experiment light fart make egg breakfast huh cos look lot like breakfast sound yummy look forward work bacon know sure apologize gablehauser job okay let fix egg hey run penny upset fish happen scramble egg research fish nightlight mum word sheldon sure want apologize gablehauser job like luminous fish thank come short notice know lose focus day get new obsession particularly disturb great mind century raise glow dark fish weave sarape time leave house week ago lovely story um go sheldon sound like wise man death ray couple single like individually wrap slice cheese friend ridiculous dammit sheldon snap physicist belong university research hide room impressive narrow orcs magic superman vulnerable magic mention lose godzilla illinois cavalry hulk orcs hamburger like hamburger sorry hamburger lesley penny live hall sheldon lesley research university happen elliot wong yeah parent feel name leonard put advanced placement class get beat lesley oh kid penny mean cute couple penny know lesley turn unambiguously mean penny think lesley indicate penny interest ask penny know ask lesley lesley turn penny offer consolation bad cute couple think good leonard remain available poppy seed bagel breakfast positive urine test opiate certainly dilate pupil guess point bring go penny oh okay little musical foreplay terrific oh yeah fix problem have stare board day sheldon go right pretty objective scale delineate variation good ask wuh th th th different question uh sheldon thank mean happy happy see happy think happy care want happy reason happiness person unhappy know second person happy romantically unavailable person know ridiculous care penny think lesley terrific girl attractive like extremely intelligent fix equation believe luck regardless chance real relationship lesley go pass hypothetical future happiness woman want happy woman currently make happy brr smash flash frozen banana extend intimacy want slip radiation lab share decontamination shower sure think discover banana feel yeah glad happen doctor wha internet know true old tuesday hamburger broken hearted oh honest think go work mean generic platitude subtle bid attention listen okay know grow ingredient soup oh come battle win battle lose think acknowledge fairly savage pre adolescent jew hide tree yell kid yarmulkah kid yarmulkah ask come science fiction fantasy costume change okay get flash change agree frodo go thor hey sheldon want talk party terrific um party chance penny context social group need embarrass tonight example tonight need know middle leakey say party perfect opportunity penny member peer group potential close friend want look like dork actually penny rob oh doppler effect socialise meet new people catwoman generic cat know penny friend know talk people ridiculous jump yes need wing man tell people zebra frodo penny ex boyfriend big moon orbit leave know crash party penny want maybe want friend equal ground look year ago virtue size strength kurt entitle choice female partner yes society undergo paradigm shift information age sheldon alpha male go assert dominance face face hobbit uh hobbit mortal halfle inhabitant middle earth elf immortal tall warrior okay understand impulse try physically intimidate mean compete intellectual level drive animalistic puffery say animalistic course animal climb little high evolutionary tree penny okay handle dwarf hobbit hobbit misfire neuron hippocampus prevent conversion short term long term memory homo habilis discover opposable thumb say go confrontation fact doubt spell confrontation yeah fine good good party thank have get little late sure drunk angry kurt go yeah frickin genius guy like human race survive right see see roll shire let try mcflono mcfloonyloo heh heh start like christy let stay oh think whore okay fine play get way play team point cut raj half way play team penny fire fair unpleasant winner know penny good team maybe enter couple halo tournament guess option enigma raj couch bed get new pillow hypo allergenic crazy person choice friendship mean lot sorry suggest let penny stay succumb cannibalism penny promise chew flesh bone sleep stay blanket pillow fyi toothbrush red plexiglass case uv light funny expression sleep tight refer early construction bed feature mattress suspend interlock rope occasionally sleep tight know know look tv room breakfast bed penny welcome stay thing live mother sheldon dictate howard order chinese food wolowitz order entree order dumpling instead substitution reduction fine bring order dumpling extra leftover home wolowitz new girlfriend let invite penny fourth order egg roll idea indian food yeah divide soup wolowitz spending time friend christy right uh wolowitz occupy want ask sheldon sheldon remember role play maybe ask dance girlfriend aah god sake sheldon drive crazy pretty sure anger sheldon think go ask howard choose sex halo right sex nudity orgasms human contact start throw grenade raj straight tank sniper use rocket launcher think hear okay need honorary justice league america membership card actually read popular program india big fan musical love maybe like haroun tanweer hey think find new friend look bright turn nice beautiful girl mom say year oh great key acquire proficiency task repetition look penny love help raj go stuff right drink um raj go stuff right like drink thank drink wonderful example liquid different specific gravity interact cylindrical container thank amazing wait minute plan let meet like marry go stay drunk rest life drink obnoxious pretty sure lalita know reason sheldon get beat hell doctor mrs koothrappali fairness entirely raj fault leave date friend raj get hold happen lalita go wonder go tell parent have grandchild believe get okay online hang hang realize um howard enable public access wireless webcam wave hello run red corvette sheldon letter trash institute experimental physic want present paper property super solid topical conference bowes einstein condensate okay drill bedrock question throw forget party honor get know up drop nobel prize shut howard sheldon okay let way oh come reason lead author go alphabetically excuse design experiment prove hypothesis entire scientific community suppose word alright care go conference present finding forbid oh admit work talk thing stare try brain explode know like classic sci fi movie scanner know bzz pchew mind say know physics fun guy save stuff want try oh bottled city kandor kandor capital city planet krypton miniaturise brainiac krypton explode rescue superman lot cooler girl look know will look look put scientist compromise mind train synthesize fact come inarguable conclusion mention sheldon batcrap crazy oh careful original series battlestar galactica flight suit costume flight suit uh huh go corduroy suit ah technically yes notice reversible work yeah eighth grade growth spurt okay leave conference know choose okay go ask time work let present paper right look well kid particle physics woodstock expect crowd little nervous joke okay um okay uh farmer chicken will lay egg call physicist help physicist calculation say um solution work spherical chicken vacuum right classic right conclusion datum temperature approach absolute zero moment inertia change solid super solid clearly appear previously unknown state matter thank question skip anecdote science isaac newton possibly arrogant look happy presentation maybe give come screw condescension maybe college like maybe get doctorate instead person smart room offense clearly person torment insecurity ego need constant validation yes dr leonard hofstadter parent need self esteem stranger like bad blow head mind try blow head nutcase vulcan nerve pinch lucky run right problem need help excuse like apologize oh jeez suit look bad liquid metal terminator create future skynet skynet develop mile dyson future longer exist dyson death terminator skynet kinky know hell oh mail letter throw away chicken believe personal growth happen oh congratulation lucky break uh friday attend symposium molecular positronium sheldon worried safety highly doubt away suppose hurt feeling say terrific wait hear sing social protocol friend proud suck ooaw easy violent sociopath tell lie tell lie oh get bad feeling tell lie replace different lie un unravelable okay drug intervention cousing go long beach go rehab tell lie know suppose remember expect lie go symposium pasadena actuality pretend drug intervention long beach oh hey penny wow look ready showcase look great go long beach sheldon drug addict cousin leopold wait go long beach let sheldon murderer mate make sense talk fine buy leo get solution oh god sheldon cousin leo leo hey um tell showcase night people detox pretty ugly let privacy gee yeah funny thing work long go stay reset board yeah right nebraska family sheldon relax symptom sure contagious penny excuse sheldon bit germophobe better start spray lysol hell lime jello sheldon sick sheldon think overreact mix pancake batter time label apartment include label maker second say urine cup huh guess owe betty crocker company letter apology kidding alright rest drink plenty fluid drink want soup work sheldon yes train dog operate centrifuge need dog operate centrifuge blind scientist howard leonard code milky green affirmative fever try stop koothrappali need find place lay low eighteen hour movie hour apiece start uh radiation suit sheldon cheesecake factory tell home paranoid establish nest uh yeah happy penny oh god breech radiation unit city jeopardy oh god professor googenfeil melt get to bye feel guilty oh dammit glass okay blind guy help find hi penny wonder sheldon restaurant okay nice okay get to get kind blow chernobyl thing get to bye home screw half hour apey blurriness want eye surgery okay bedroom spare glass bedroom dresser bat signal will footstep set carry hand knee straight alright hit head crawl like wait penny think penny come stand vomit lay new sheldon way improvement old sheldon graduate work impressive advantage kim bad feeling mm hmm come sheldon hardly show come denni rec center get nautilus equipment come denni radiation lab like look obnoxious little mirror like share tale woe eat sheldon feel well let kid know someday come young smart go sheldon okay right design experiment study soft component cosmic radiation sea level need help blow okay sheldon understand go bit career crisis search area feel valuable productive need tell want listen carefully possible like able cope fact year old kid smart accomplished hang talk murder denni kim say will happen interested physics howard racist year old girl trick daughter work day okay socially awkward genius room attractive age appropriate woman flaw plan like year old girl drunk okay leave chance let pick girl figure denni sure want spend couple year homework drink stupor non fat white russian hold head toilet puke tell wish guy like get cornell write essay drive visit weekend act like know think girl talk talk howard talk india okay uncalle kid get girl yeah mission accomplish home night smart know ticket launch tell policewoman frisk rocket pant yeah ruin life like know detail mother human father vulcan conceive spill kid year guy entire physics bowl kneel zod come need person team people sheldon need quote spock die word need let vote favour gentleman great state denial yield question exercise annoying series vote gentleman lose intend threaten quit way army ant favour oh uh okay woman mix crowd problem smell nice actually notice okay let start sheldon let somebody answer maybe little break aa confusing aa mean certain people mean mind hey check get batman cookie jar friend like batman cookie team howard raj team meeting okay let try way uh coffee klatch couple friend thing lead turn team okay let try way annoying want play anymore will smile eat macaroon bat jar exactly laugh guy let remember sheldon friend room mate raj get tv blossom join physics bowl team ask leslie winkle fine take team sack hey leslie leslie question little awkward know give gee cos sure sound like comforting okay like question enter physics bowl need fourth team oh yeah know stay thing stand perpetual motion squad eta meson prevost theory exchange hang sheldon prove single handedly smart important lose win team sorry somebody sit physics bowl trophy know disagree physics bowl trophy leonard smart sheldon bring know thing wait think shatner believe guy auction miniature time machine prop original film bid time machine sophie choice spur moment thing figure thousand want blow miniature time machine come sniper sniper yeah know afford assume sell sized time machine go upstairs yes elevator break year come guy push oh know move upstairs know time machine hey wait set time machine drop work yesterday time travel joke mind let guy ready push yeah far cool thing own second sound fair sheldon selfish pay belong way sit time machine okay set dial march turn okay set dial january future fun light flash dish spin wanna try want get time machine prevent explain knock unconscious right present nice clue yes upset uh thing girl like penny end guy time machine thank point oh know move time machine thing important toy worry baby get pack collectible take comic book store sell money terrific want buy share time machine want personal reason look want buy pay dollar share toy action figure prop replica costume robot darth vader voice changer get rid bidding war sell larry comic book store offer fair price collection forget guy sell go mad sorry raj mind okay want rare mint condition production error star trek generation geordi laforge visor original packaging way open think time rid stuff know life turn time machine little big living room glad agree hire guy help come fella hand physicist concern super collider actually work create black hole swallow earth end life know hey check school pharmacology look volunteer know raj maybe comic book store bulletin board go sheldon office lose maybe lawyer wedding tomorrow stay tonight settle stay hee hee classic yeah use uh polish spear fishing equipment spear fish crossbow hunt spear fish uh penny sheldon twin sister missy missy neighbor penny stare oh huh um maybe like woman tall perfect onion dip onion dip entertain excuse apartment roommate sister penny universe penny sheldon aware sister incredibly attractive woman alright note point koothrappali wolowitz hit sister okay uh oh consider father go responsibility sure missy choose suitable mate exactly owe posterity protect genetic integrity sister future offspring man family respect wish sheldon unreasonable agree sheldon sister hide penny hit time go fight missy let right way honorable way stay bitch yeah ha ha natural selection work hi penny go listen guy mike date go catch way speak missy leave tomorrow wonder like dinner oh alright uh enjoy rest evening um anticipate oh call trestling forget cake know birthday saturday celebrate birthday big deal way raise parent focusse celebrate achievement expel birth canal consider okay mean little think maybe parent change mind surprise party like birthday come home cello lesson see lot strange car park get door hear people whisper smell german chocolate cake favorite uh turn grandfather die oh kind like birthday party get cousin cake howard thai restaurant town know eat peanut come ah peanut boy look halo battle life kid copenhagen immune system sit bubble play halo believe doctor copenhagen boy taste hans christian hand grenade come come oh clever little come come gun shoot hey sorry find parking spot look like swell maybe pick benedryl drug store home excuse friend have allergic reaction peanut healthcare system country afraid lawsuit sure test know get swell actually think try apartment throw surprise party mad actually risk life care alright birthday party hey penny uh birthday learn chinese concerned pass chicken look understand break painful penny boyfriend break know go try talk damsel distress care upset go friend go advantage vulnerability say friend gay friend sorry choice actually easy find okay exactly guy write need know detail sex life think mind okay know bad paint picture affectionate woman open express affection non traditional locale elevator park movie theater curiosity subway transportation system subway sandwich shop violate health code huh okay point absolutely reason embarrassed underreacte break imply confidentiality bedroom case elevator park fast food franchise explain right betrayal oh sure huh maybe gay friend change subject roll dice mad relationship break repair walk fix eat tangerine chicken quick oh know throw gig ipod yeah yeah old quick go go comment nice guy honest big deal think tonight people actually penny excited nauseous sheldon date probably chance penny happen blow tell date oh okay hear schrodinger cat agree point aegean nabakov mcm fourteen finger phylum make fourteen port au prince papa doc capital idea port au prince haiti yes um high iq sperm bank thank right kid semi pro sheldon idea little extra money fractional bandwidth apartment sure love know renege proffer sperm care millimetre right send board school new neighbor significant improvement old neighbor mean interrupt live hall oh uh live um live separate heterosexual bedroom hi uh oh welcome building invite lunch watch season dvd think good neighbor invite feel welcome wrong need widen circle yes meet go invite nice meal chat difficult listen say appropriate response um bring home indian food um know move stressful find undergo stress good food company comforting effect curry natural laxative tell uh clean colon thing worry okay home board like board board invent dimension math come universe sit nice lot company yeah like regular boggle klingon probably tell think sheldon try sagittarius guess wu uh sort job oh okay love cheesecake eat think good idea base life movie sound wonderful feel like crazy uh uh paradox paradox nature think light look huygen light wave confirm double slit experiment come albert einstein discover light behave like particle bad shower work right hall true remember thanksgive grandmother alzheimer episode bad watch carve turkey try sex make think sex male female go engage hypothetical try good neighbor carnal relationship develop participate briefly darth vader shampoo luke skywalker conditioner lady new neighbor anticipate coitus stop say coitus come trick shower save blog howard welcome oh go step right okay hair product sheldon favour sure ask favour favour ask favour sheldon biological impossibility come come know break up wuh break joyce kim mend broken heart situation complicated kind dispute penny ex boyfriend get custody tv want avoid have scene sheldon go scene talking uh pick penny tv go like excuse little hitch able identify fingerprint string theory aftermath big bang come combine iq able figure stupid building grab door oh scientist sheldon sorry drag right motive hope establish relationship penny day lead sex learn lesson league get work day win nobel prize die ex boyfriend send regard think rest fairly self explanatory valid hypothesis baby smart beautiful thai food okay penny pad thai peanut uh sure eye howard case start swell ask napkin dare go come home work great work sort act carbohydrate delivery system go to furniture deliver um plan want join thai food superman movie marathon superman match speed decelerate excuse entire argument predicate assumption superman flight feat strength comic book challenge find single reference kryptonian skin cell okay apartment fourth floor elevator break go oh go okay cool thank guess bring need strength physicist intellectual descendent archimede fulcrum lever earth matter easy easy okay get inclined plane force require lift reduce sine angle stair thirty degree half exactly half let push okay move easy math oh okay uh okay yeah problem come help pull turn man thing woman expect sex good neighbor case way lower odd penny little messy occur compulsive need sort organize label entire world hard believe people sort breakfast cereal numerically fiber content sheldon home transvestite live care keep place closet oh hey penny arrive bring hair insane break woman apartment middle night clean realize penny wake reasonable explanation give explanation reasonableness determine jury peer sheldon ridiculous fine accept premise let oh hell surprised know folk cure insomnia break neighbor apartment clean think know convince maybe tonight sneak shampoo carpet yes god sake sheldon hold sarcasm sign time open mouth sarcasm sign god go bad oh yes discuss length night okay look penny think feel perfectly valid maybe little bit later today feel little bit lack well word violate maybe talk go march right apologize funny mad um thing penny oppenheimer come regret contribution atomic bomb regret participation error judgment hallmark great human experiment willingness recognize mistake mistake madame curie discovery radium turn great scientific potential later die slow painful death radiation poisoning example field ebola research inch dowel package phillip head screw insist consider inefficient design example penny flat screen tv mean space waste control inefficient loud oh drip tray sluice overflow reservoir oh get replace panel b f crossbar h aircraft grade aluminium meet hour panic hour warrior unsheathe weapon magic wielder raise wand stay formation alright tail prehensile swat raj trap flank forget sword sheldon help raj dammit man die bastard teleport betray money look avatar right penny mailman oh sorry uh yeah uh get mail oh probably good idea civil servant document propensity know snap fine penny fine guy kiss fine jealous little concerned like look guy yeah kinda dreamy penny go realistic speed look howard ask lesley winkle dinner go walk lab ask strip naked dance lesley like propose experiment right lesley like propose experiment pff second minestrone think bio social exploration neuro chemical overlay go characterise modification colleague friendship paradigm addition date like component need quibble terminology generally accept pattern area pick restaurant movie probably romantic comedy feature talent hugh grant sandra bullock heartrate pheromone etc yes mean kiss define parameter kiss thank shall count propose experiment think present finding oh try kiss earth mean mile go know wear chain god good song know think take asthma account feline geneticist san diego develop cut little hypo allergenic calico think name kind tear einstein newton sergeant fuzzyboot maybe cute little cuddly cat matter woman interested woman reject right ask ask right march ask good afternoon penny hi hey uh wonder plan dinner inherent ambiguity word dinner technically refer large meal day consume clarify dinner mean supper dinner think thirty different time subset uh algebraically speak unknown example sheldon quizzno lunch find fill time fault quizzno varied menu cos carve stone carve okay thirty tell perspire little way come join stuff chicken carbonara sub quizzno reason oh know maybe good idea right alcohol poor judgment stop mean perfectly nice guy reason restaurant lovely dinner maybe walk talk thing common love pottery love pottery know pause know happen lean kiss little tentative realize kiss bite low lip know want thing go distance go sex oh god oh god have panic attack calm have panic attack panic attack oh kid need cancel kind illness want come care critical feel uncomfortable go future want try phone expect stop ask question need shower oh yeah turn raj howard work sheldon colonoscopy bounce kid common people life want nip intestinal polyp bud exception string theory happen prove string theory good hey look idea internal logical consistency new cheesecake factory good good uh hallway friend thing doug ugh start rebound sex sure um thirty hour experience thirty hour spread glorious summer chafe right course yeah emotional chafing hey want cool olive glass touch actually centripetal force inward force generate glass act olive excuse ride olive non inertial reference frame sorry car way poor guy bike nice time course hang bunch guy work colonoscopy girl date know date capital bold face underline like day ted think little concussion go lay good night hit roadblock invisibility sound like breakthrough science magazine tell hold cover guess congratulation order avoid finkleday meet new department head congratulate shake hand interesting lead buffet india come new boss polite glorify high school science teacher successful experiment light fart make egg breakfast huh cos look lot like breakfast sound yummy look forward work bacon know sure apologize gablehauser job okay let fix egg hey run penny upset fish happen scramble egg research fish nightlight mum word sheldon sure want apologize gablehauser job like luminous fish thank come short notice know lose focus day get new obsession particularly disturb great mind century raise glow dark fish weave sarape time leave house week ago lovely story um go sheldon sound like wise man death ray couple single like individually wrap slice cheese friend ridiculous dammit sheldon snap physicist belong university research hide room impressive narrow orcs magic superman vulnerable magic mention lose godzilla illinois cavalry hulk orcs hamburger like hamburger sorry hamburger lesley penny live hall sheldon lesley research university happen elliot wong yeah parent feel name leonard put advanced placement class get beat lesley oh kid penny mean cute couple penny know lesley turn unambiguously mean penny think lesley indicate penny interest ask penny know ask lesley lesley turn penny offer consolation bad cute couple think good leonard remain available poppy seed bagel breakfast positive urine test opiate certainly dilate pupil guess point bring go penny oh okay little musical foreplay terrific oh yeah fix problem have stare board day sheldon go right pretty objective scale delineate variation good ask wuh th th th different question uh sheldon thank mean happy happy see happy think happy care want happy reason happiness person unhappy know second person happy romantically unavailable person know ridiculous care penny think lesley terrific girl attractive like extremely intelligent fix equation believe luck regardless chance real relationship lesley go pass hypothetical future happiness woman want happy woman currently make happy brr smash flash frozen banana extend intimacy want slip radiation lab share decontamination shower sure think discover banana feel yeah glad happen doctor wha internet know true old tuesday hamburger broken hearted oh honest think go work mean generic platitude subtle bid attention listen okay know grow ingredient soup oh come battle win battle lose think acknowledge fairly savage pre adolescent jew hide tree yell kid yarmulkah kid yarmulkah ask come science fiction fantasy costume change okay get flash change agree frodo go thor hey sheldon want talk party terrific um party chance penny context social group need embarrass tonight example tonight need know middle leakey say party perfect opportunity penny member peer group potential close friend want look like dork actually penny rob oh doppler effect socialise meet new people catwoman generic cat know penny friend know talk people ridiculous jump yes need wing man tell people zebra frodo penny ex boyfriend big moon orbit leave know crash party penny want maybe want friend equal ground look year ago virtue size strength kurt entitle choice female partner yes society undergo paradigm shift information age sheldon alpha male go assert dominance face face hobbit uh hobbit mortal halfle inhabitant middle earth elf immortal tall warrior okay understand impulse try physically intimidate mean compete intellectual level drive animalistic puffery say animalistic course animal climb little high evolutionary tree penny okay handle dwarf hobbit hobbit misfire neuron hippocampus prevent conversion short term long term memory homo habilis discover opposable thumb say go confrontation fact doubt spell confrontation yeah fine good good party thank have get little late sure drunk angry kurt go yeah frickin genius guy like human race survive right see see roll shire let try mcflono mcfloonyloo heh heh start like christy let stay oh think whore okay fine play get way play team point cut raj half way play team penny fire fair unpleasant winner know penny good team maybe enter couple halo tournament guess option enigma raj couch bed get new pillow hypo allergenic crazy person choice friendship mean lot sorry suggest let penny stay succumb cannibalism penny promise chew flesh bone sleep stay blanket pillow fyi toothbrush red plexiglass case uv light funny expression sleep tight refer early construction bed feature mattress suspend interlock rope occasionally sleep tight know know look tv room breakfast bed penny welcome stay thing live mother sheldon dictate howard order chinese food wolowitz order entree order dumpling instead substitution reduction fine bring order dumpling extra leftover home wolowitz new girlfriend let invite penny fourth order egg roll idea indian food yeah divide soup wolowitz spending time friend christy right uh wolowitz occupy want ask sheldon sheldon remember role play maybe ask dance girlfriend aah god sake sheldon drive crazy pretty sure anger sheldon think go ask howard choose sex halo right sex nudity orgasms human contact start throw grenade raj straight tank sniper use rocket launcher think hear okay need honorary justice league america membership card actually read popular program india big fan musical love maybe like haroun tanweer hey think find new friend look bright turn nice beautiful girl mom say year oh great key acquire proficiency task repetition look penny love help raj go stuff right drink um raj go stuff right like drink thank drink wonderful example liquid different specific gravity interact cylindrical container thank amazing wait minute plan let meet like marry go stay drunk rest life drink obnoxious pretty sure lalita know reason sheldon get beat hell doctor mrs koothrappali fairness entirely raj fault leave date friend raj get hold happen lalita go wonder go tell parent have grandchild believe get okay online hang hang realize um howard enable public access wireless webcam wave hello run red corvette sheldon letter trash institute experimental physic want present paper property super solid topical conference bowes einstein condensate okay drill bedrock question throw forget party honor get know up drop nobel prize shut howard sheldon okay let way oh come reason lead author go alphabetically excuse design experiment prove hypothesis entire scientific community suppose word alright care go conference present finding forbid oh admit work talk thing stare try brain explode know like classic sci fi movie scanner know bzz pchew mind say know physics fun guy save stuff want try oh bottled city kandor kandor capital city planet krypton miniaturise brainiac krypton explode rescue superman lot cooler girl look know will look look put scientist compromise mind train synthesize fact come inarguable conclusion mention sheldon batcrap crazy oh careful original series battlestar galactica flight suit costume flight suit uh huh go corduroy suit ah technically yes notice reversible work yeah eighth grade growth spurt okay leave conference know choose okay go ask time work let present paper right look well kid particle physics woodstock expect crowd little nervous joke okay um okay uh farmer chicken will lay egg call physicist help physicist calculation say um solution work spherical chicken vacuum right classic right conclusion datum temperature approach absolute zero moment inertia change solid super solid clearly appear previously unknown state matter thank question skip anecdote science isaac newton possibly arrogant look happy presentation maybe give come screw condescension maybe college like maybe get doctorate instead person smart room offense clearly person torment insecurity ego need constant validation yes dr leonard hofstadter parent need self esteem stranger like bad blow head mind try blow head nutcase vulcan nerve pinch lucky run right problem need help excuse like apologize oh jeez suit look bad liquid metal terminator create future skynet skynet develop mile dyson future longer exist dyson death terminator skynet kinky know hell oh mail letter throw away chicken believe personal growth happen oh congratulation lucky break uh friday attend symposium molecular positronium sheldon worried safety highly doubt away suppose hurt feeling say terrific wait hear sing social protocol friend proud suck ooaw easy violent sociopath tell lie tell lie oh get bad feeling tell lie replace different lie un unravelable okay drug intervention cousing go long beach go rehab tell lie know suppose remember expect lie go symposium pasadena actuality pretend drug intervention long beach oh hey penny wow look ready showcase look great go long beach sheldon drug addict cousin leopold wait go long beach let sheldon murderer mate make sense talk fine buy leo get solution oh god sheldon cousin leo leo hey um tell showcase night people detox pretty ugly let privacy gee yeah funny thing work long go stay reset board yeah right nebraska family sheldon relax symptom sure contagious penny excuse sheldon bit germophobe better start spray lysol hell lime jello sheldon sick sheldon think overreact mix pancake batter time label apartment include label maker second say urine cup huh guess owe betty crocker company letter apology kidding alright rest drink plenty fluid drink want soup work sheldon yes train dog operate centrifuge need dog operate centrifuge blind scientist howard leonard code milky green affirmative fever try stop koothrappali need find place lay low eighteen hour movie hour apiece start uh radiation suit sheldon cheesecake factory tell home paranoid establish nest uh yeah happy penny oh god breech radiation unit city jeopardy oh god professor googenfeil melt get to bye feel guilty oh dammit glass okay blind guy help find hi penny wonder sheldon restaurant okay nice okay get to get kind blow chernobyl thing get to bye home screw half hour apey blurriness want eye surgery okay bedroom spare glass bedroom dresser bat signal will footstep set carry hand knee straight alright hit head crawl like wait penny think penny come stand vomit lay new sheldon way improvement old sheldon graduate work impressive advantage kim bad feeling mm hmm come sheldon hardly show come denni rec center get nautilus equipment come denni radiation lab like look obnoxious little mirror like share tale woe eat sheldon feel well let kid know someday come young smart go sheldon okay right design experiment study soft component cosmic radiation sea level need help blow okay sheldon understand go bit career crisis search area feel valuable productive need tell want listen carefully possible like able cope fact year old kid smart accomplished hang talk murder denni kim say will happen interested physics howard racist year old girl trick daughter work day okay socially awkward genius room attractive age appropriate woman flaw plan like year old girl drunk okay leave chance let pick girl figure denni sure want spend couple year homework drink stupor non fat white russian hold head toilet puke tell wish guy like get cornell write essay drive visit weekend act like know think girl talk talk howard talk india okay uncalle kid get girl yeah mission accomplish home night smart know ticket launch tell policewoman frisk rocket pant yeah ruin life like know detail mother human father vulcan conceive spill kid year guy entire physics bowl kneel zod come need person team people sheldon need quote spock die word need let vote favour gentleman great state denial yield question exercise annoying series vote gentleman lose intend threaten quit way army ant favour oh uh okay woman mix crowd problem smell nice actually notice okay let start sheldon let somebody answer maybe little break aa confusing aa mean certain people mean mind hey check get batman cookie jar friend like batman cookie team howard raj team meeting okay let try way uh coffee klatch couple friend thing lead turn team okay let try way annoying want play anymore will smile eat macaroon bat jar exactly laugh guy let remember sheldon friend room mate raj get tv blossom join physics bowl team ask leslie winkle fine take team sack hey leslie leslie question little awkward know give gee cos sure sound like comforting okay like question enter physics bowl need fourth team oh yeah know stay thing stand perpetual motion squad eta meson prevost theory exchange hang sheldon prove single handedly smart important lose win team sorry somebody sit physics bowl trophy know disagree physics bowl trophy leonard smart sheldon bring know thing wait think shatner believe guy auction miniature time machine prop original film bid time machine sophie choice spur moment thing figure thousand want blow miniature time machine come sniper sniper yeah know afford assume sell sized time machine go upstairs yes elevator break year come guy push oh know move upstairs know time machine hey wait set time machine drop work yesterday time travel joke mind let guy ready push yeah far cool thing own second sound fair sheldon selfish pay belong way sit time machine okay set dial march turn okay set dial january future fun light flash dish spin wanna try want get time machine prevent explain knock unconscious right present nice clue yes upset uh thing girl like penny end guy time machine thank point oh know move time machine thing important toy worry baby get pack collectible take comic book store sell money terrific want buy share time machine want personal reason look want buy pay dollar share toy action figure prop replica costume robot darth vader voice changer get rid bidding war sell larry comic book store offer fair price collection forget guy sell go mad sorry raj mind okay want rare mint condition production error star trek generation geordi laforge visor original packaging way open think time rid stuff know life turn time machine little big living room glad agree hire guy help come fella hand physicist concern super collider actually work create black hole swallow earth end life know hey check school pharmacology look volunteer know raj maybe comic book store bulletin board go sheldon office lose maybe lawyer wedding tomorrow stay tonight settle stay hee hee classic yeah use uh polish spear fishing equipment spear fish crossbow hunt spear fish uh penny sheldon twin sister missy missy neighbor penny stare oh huh um maybe like woman tall perfect onion dip onion dip entertain excuse apartment roommate sister penny universe penny sheldon aware sister incredibly attractive woman alright note point koothrappali wolowitz hit sister okay uh oh consider father go responsibility sure missy choose suitable mate exactly owe posterity protect genetic integrity sister future offspring man family respect wish sheldon unreasonable agree sheldon sister hide penny hit time go fight missy let right way honorable way stay bitch yeah ha ha natural selection work hi penny go listen guy mike date go catch way speak missy leave tomorrow wonder like dinner oh alright uh enjoy rest evening um anticipate oh call trestling forget cake know birthday saturday celebrate birthday big deal way raise parent focusse celebrate achievement expel birth canal consider okay mean little think maybe parent change mind surprise party like birthday come home cello lesson see lot strange car park get door hear people whisper smell german chocolate cake favorite uh turn grandfather die oh kind like birthday party get cousin cake howard thai restaurant town know eat peanut come ah peanut boy look halo battle life kid copenhagen immune system sit bubble play halo believe doctor copenhagen boy taste hans christian hand grenade come come oh clever little come come gun shoot hey sorry find parking spot look like swell maybe pick benedryl drug store home excuse friend have allergic reaction peanut healthcare system country afraid lawsuit sure test know get swell actually think try apartment throw surprise party mad actually risk life care alright birthday party hey penny uh birthday learn chinese concerned pass chicken look understand break painful penny boyfriend break know go try talk damsel distress care upset go friend go advantage vulnerability say friend gay friend sorry choice actually easy find okay exactly guy write need know detail sex life think mind okay know bad paint picture affectionate woman open express affection non traditional locale elevator park movie theater curiosity subway transportation system subway sandwich shop violate health code huh okay point absolutely reason embarrassed underreacte break imply confidentiality bedroom case elevator park fast food franchise explain right betrayal oh sure huh maybe gay friend change subject roll dice mad relationship break repair walk fix eat tangerine chicken quick oh know throw gig ipod yeah yeah old quick go go comment nice guy honest big deal think tonight people actually penny excited nauseous sheldon date probably chance penny happen blow tell date oh okay hear schrodinger cat agree point aegean nabakov mcm fourteen finger phylum make fourteen port au prince papa doc capital idea port au prince haiti yes um high iq sperm bank thank right kid semi pro sheldon idea little extra money fractional bandwidth apartment sure love know renege proffer sperm care millimetre right send board school new neighbor significant improvement old neighbor mean interrupt live hall oh uh live um live separate heterosexual bedroom hi uh oh welcome building invite lunch watch season dvd think good neighbor invite feel welcome wrong need widen circle yes meet go invite nice meal chat difficult listen say appropriate response um bring home indian food um know move stressful find undergo stress good food company comforting effect curry natural laxative tell uh clean colon thing worry okay home board like board board invent dimension math come universe sit nice lot company yeah like regular boggle klingon probably tell think sheldon try sagittarius guess wu uh sort job oh okay love cheesecake eat think good idea base life movie sound wonderful feel like crazy uh uh paradox paradox nature think light look huygen light wave confirm double slit experiment come albert einstein discover light behave like particle bad shower work right hall true remember thanksgive grandmother alzheimer episode bad watch carve turkey try sex make think sex male female go engage hypothetical try good neighbor carnal relationship develop participate briefly darth vader shampoo luke skywalker conditioner lady new neighbor anticipate coitus stop say coitus come trick shower save blog howard welcome oh go step right okay hair product sheldon favour sure ask favour favour ask favour sheldon biological impossibility come come know break up wuh break joyce kim mend broken heart situation complicated kind dispute penny ex boyfriend get custody tv want avoid have scene sheldon go scene talking uh pick penny tv go like excuse little hitch able identify fingerprint string theory aftermath big bang come combine iq able figure stupid building grab door oh scientist sheldon sorry drag right motive hope establish relationship penny day lead sex learn lesson league get work day win nobel prize die ex boyfriend send regard think rest fairly self explanatory valid hypothesis baby smart beautiful thai food okay penny pad thai peanut uh sure eye howard case start swell ask napkin dare go come home work great work sort act carbohydrate delivery system go to furniture deliver um plan want join thai food superman movie marathon superman match speed decelerate excuse entire argument predicate assumption superman flight feat strength comic book challenge find single reference kryptonian skin cell okay apartment fourth floor elevator break go oh go okay cool thank guess bring need strength physicist intellectual descendent archimede fulcrum lever earth matter easy easy okay get inclined plane force require lift reduce sine angle stair thirty degree half exactly half let push okay move easy math oh okay uh okay yeah problem come help pull turn man thing woman expect sex good neighbor case way lower odd penny little messy occur compulsive need sort organize label entire world hard believe people sort breakfast cereal numerically fiber content sheldon home transvestite live care keep place closet oh hey penny arrive bring hair insane break woman apartment middle night clean realize penny wake reasonable explanation give explanation reasonableness determine jury peer sheldon ridiculous fine accept premise let oh hell surprised know folk cure insomnia break neighbor apartment clean think know convince maybe tonight sneak shampoo carpet yes god sake sheldon hold sarcasm sign time open mouth sarcasm sign god go bad oh yes discuss length night okay look penny think feel perfectly valid maybe little bit later today feel little bit lack well word violate maybe talk go march right apologize funny mad um thing penny oppenheimer come regret contribution atomic bomb regret participation error judgment hallmark great human experiment willingness recognize mistake mistake madame curie discovery radium turn great scientific potential later die slow painful death radiation poisoning example field ebola research inch dowel package phillip head screw insist consider inefficient design example penny flat screen tv mean space waste control inefficient loud oh drip tray sluice overflow reservoir oh get replace panel b f crossbar h aircraft grade aluminium meet hour panic hour warrior unsheathe weapon magic wielder raise wand stay formation alright tail prehensile swat raj trap flank forget sword sheldon help raj dammit man die bastard teleport betray money look avatar right penny mailman oh sorry uh yeah uh get mail oh probably good idea civil servant document propensity know snap fine penny fine guy kiss fine jealous little concerned like look guy yeah kinda dreamy penny go realistic speed look howard ask lesley winkle dinner go walk lab ask strip naked dance lesley like propose experiment right lesley like propose experiment pff second minestrone think bio social exploration neuro chemical overlay go characterise modification colleague friendship paradigm addition date like component need quibble terminology generally accept pattern area pick restaurant movie probably romantic comedy feature talent hugh grant sandra bullock heartrate pheromone etc yes mean kiss define parameter kiss thank shall count propose experiment think present finding oh try kiss earth mean mile go know wear chain god good song know think take asthma account feline geneticist san diego develop cut little hypo allergenic calico think name kind tear einstein newton sergeant fuzzyboot maybe cute little cuddly cat matter woman interested woman reject right ask ask right march ask good afternoon penny hi hey uh wonder plan dinner inherent ambiguity word dinner technically refer large meal day consume clarify dinner mean supper dinner think thirty different time subset uh algebraically speak unknown example sheldon quizzno lunch find fill time fault quizzno varied menu cos carve stone carve okay thirty tell perspire little way come join stuff chicken carbonara sub quizzno reason oh know maybe good idea right alcohol poor judgment stop mean perfectly nice guy reason restaurant lovely dinner maybe walk talk thing common love pottery love pottery know pause know happen lean kiss little tentative realize kiss bite low lip know want thing go distance go sex oh god oh god have panic attack calm have panic attack panic attack oh kid need cancel kind illness want come care critical feel uncomfortable go future want try phone expect stop ask question need shower oh yeah turn raj howard work sheldon colonoscopy bounce kid common people life want nip intestinal polyp bud exception string theory happen prove string theory good hey look idea internal logical consistency new cheesecake factory good good uh hallway friend thing doug ugh start rebound sex sure um thirty hour experience thirty hour spread glorious summer chafe right course yeah emotional chafing hey want cool olive glass touch actually centripetal force inward force generate glass act olive excuse ride olive non inertial reference frame sorry car way poor guy bike nice time course hang bunch guy work colonoscopy girl date know date capital bold face underline like day ted think little concussion go lay good night hit roadblock invisibility sound like breakthrough science magazine tell hold cover guess congratulation order avoid finkleday meet new department head congratulate shake hand interesting lead buffet india come new boss polite glorify high school science teacher successful experiment light fart make egg breakfast huh cos look lot like breakfast sound yummy look forward work bacon know sure apologize gablehauser job okay let fix egg hey run penny upset fish happen scramble egg research fish nightlight mum word sheldon sure want apologize gablehauser job like luminous fish thank come short notice know lose focus day get new obsession particularly disturb great mind century raise glow dark fish weave sarape time leave house week ago lovely story um go sheldon sound like wise man death ray couple single like individually wrap slice cheese friend ridiculous dammit sheldon snap physicist belong university research hide room impressive narrow orcs magic superman vulnerable magic mention lose godzilla illinois cavalry hulk orcs hamburger like hamburger sorry hamburger lesley penny live hall sheldon lesley research university happen elliot wong yeah parent feel name leonard put advanced placement class get beat lesley oh kid penny mean cute couple penny know lesley turn unambiguously mean penny think lesley indicate penny interest ask penny know ask lesley lesley turn penny offer consolation bad cute couple think good leonard remain available poppy seed bagel breakfast positive urine test opiate certainly dilate pupil guess point bring go penny oh okay little musical foreplay terrific oh yeah fix problem have stare board day sheldon go right pretty objective scale delineate variation good ask wuh th th th different question uh sheldon thank mean happy happy see happy think happy care want happy reason happiness person unhappy know second person happy romantically unavailable person know ridiculous care penny think lesley terrific girl attractive like extremely intelligent fix equation believe luck regardless chance real relationship lesley go pass hypothetical future happiness woman want happy woman currently make happy brr smash flash frozen banana extend intimacy want slip radiation lab share decontamination shower sure think discover banana feel yeah glad happen doctor wha internet know true old tuesday hamburger broken hearted oh honest think go work mean generic platitude subtle bid attention listen okay know grow ingredient soup oh come battle win battle lose think acknowledge fairly savage pre adolescent jew hide tree yell kid yarmulkah kid yarmulkah ask come science fiction fantasy costume change okay get flash change agree frodo go thor hey sheldon want talk party terrific um party chance penny context social group need embarrass tonight example tonight need know middle leakey say party perfect opportunity penny member peer group potential close friend want look like dork actually penny rob oh doppler effect socialise meet new people catwoman generic cat know penny friend know talk people ridiculous jump yes need wing man tell people zebra frodo penny ex boyfriend big moon orbit leave know crash party penny want maybe want friend equal ground look year ago virtue size strength kurt entitle choice female partner yes society undergo paradigm shift information age sheldon alpha male go assert dominance face face hobbit uh hobbit mortal halfle inhabitant middle earth elf immortal tall warrior okay understand impulse try physically intimidate mean compete intellectual level drive animalistic puffery say animalistic course animal climb little high evolutionary tree penny okay handle dwarf hobbit hobbit misfire neuron hippocampus prevent conversion short term long term memory homo habilis discover opposable thumb say go confrontation fact doubt spell confrontation yeah fine good good party thank have get little late sure drunk angry kurt go yeah frickin genius guy like human race survive right see see roll shire let try mcflono mcfloonyloo heh heh start like christy let stay oh think whore okay fine play get way play team point cut raj half way play team penny fire fair unpleasant winner know penny good team maybe enter couple halo tournament guess option enigma raj couch bed get new pillow hypo allergenic crazy person choice friendship mean lot sorry suggest let penny stay succumb cannibalism penny promise chew flesh bone sleep stay blanket pillow fyi toothbrush red plexiglass case uv light funny expression sleep tight refer early construction bed feature mattress suspend interlock rope occasionally sleep tight know know look tv room breakfast bed penny welcome stay thing live mother sheldon dictate howard order chinese food wolowitz order entree order dumpling instead substitution reduction fine bring order dumpling extra leftover home wolowitz new girlfriend let invite penny fourth order egg roll idea indian food yeah divide soup wolowitz spending time friend christy right uh wolowitz occupy want ask sheldon sheldon remember role play maybe ask dance girlfriend aah god sake sheldon drive crazy pretty sure anger sheldon think go ask howard choose sex halo right sex nudity orgasms human contact start throw grenade raj straight tank sniper use rocket launcher think hear okay need honorary justice league america membership card actually read popular program india big fan musical love maybe like haroun tanweer hey think find new friend look bright turn nice beautiful girl mom say year oh great key acquire proficiency task repetition look penny love help raj go stuff right drink um raj go stuff right like drink thank drink wonderful example liquid different specific gravity interact cylindrical container thank amazing wait minute plan let meet like marry go stay drunk rest life drink obnoxious pretty sure lalita know reason sheldon get beat hell doctor mrs koothrappali fairness entirely raj fault leave date friend raj get hold happen lalita go wonder go tell parent have grandchild believe get okay online hang hang realize um howard enable public access wireless webcam wave hello run red corvette sheldon letter trash institute experimental physic want present paper property super solid topical conference bowes einstein condensate okay drill bedrock question throw forget party honor get know up drop nobel prize shut howard sheldon okay let way oh come reason lead author go alphabetically excuse design experiment prove hypothesis entire scientific community suppose word alright care go conference present finding forbid oh admit work talk thing stare try brain explode know like classic sci fi movie scanner know bzz pchew mind say know physics fun guy save stuff want try oh bottled city kandor kandor capital city planet krypton miniaturise brainiac krypton explode rescue superman lot cooler girl look know will look look put scientist compromise mind train synthesize fact come inarguable conclusion mention sheldon batcrap crazy oh careful original series battlestar galactica flight suit costume flight suit uh huh go corduroy suit ah technically yes notice reversible work yeah eighth grade growth spurt okay leave conference know choose okay go ask time work let present paper right look well kid particle physics woodstock expect crowd little nervous joke okay um okay uh farmer chicken will lay egg call physicist help physicist calculation say um solution work spherical chicken vacuum right classic right conclusion datum temperature approach absolute zero moment inertia change solid super solid clearly appear previously unknown state matter thank question skip anecdote science isaac newton possibly arrogant look happy presentation maybe give come screw condescension maybe college like maybe get doctorate instead person smart room offense clearly person torment insecurity ego need constant validation yes dr leonard hofstadter parent need self esteem stranger like bad blow head mind try blow head nutcase vulcan nerve pinch lucky run right problem need help excuse like apologize oh jeez suit look bad liquid metal terminator create future skynet skynet develop mile dyson future longer exist dyson death terminator skynet kinky know hell oh mail letter throw away chicken believe personal growth happen oh congratulation lucky break uh friday attend symposium molecular positronium sheldon worried safety highly doubt away suppose hurt feeling say terrific wait hear sing social protocol friend proud suck ooaw easy violent sociopath tell lie tell lie oh get bad feeling tell lie replace different lie un unravelable okay drug intervention cousing go long beach go rehab tell lie know suppose remember expect lie go symposium pasadena actuality pretend drug intervention long beach oh hey penny wow look ready showcase look great go long beach sheldon drug addict cousin leopold wait go long beach let sheldon murderer mate make sense talk fine buy leo get solution oh god sheldon cousin leo leo hey um tell showcase night people detox pretty ugly let privacy gee yeah funny thing work long go stay reset board yeah right nebraska family sheldon relax symptom sure contagious penny excuse sheldon bit germophobe better start spray lysol hell lime jello sheldon sick sheldon think overreact mix pancake batter time label apartment include label maker second say urine cup huh guess owe betty crocker company letter apology kidding alright rest drink plenty fluid drink want soup work sheldon yes train dog operate centrifuge need dog operate centrifuge blind scientist howard leonard code milky green affirmative fever try stop koothrappali need find place lay low eighteen hour movie hour apiece start uh radiation suit sheldon cheesecake factory tell home paranoid establish nest uh yeah happy penny oh god breech radiation unit city jeopardy oh god professor googenfeil melt get to bye feel guilty oh dammit glass okay blind guy help find hi penny wonder sheldon restaurant okay nice okay get to get kind blow chernobyl thing get to bye home screw half hour apey blurriness want eye surgery okay bedroom spare glass bedroom dresser bat signal will footstep set carry hand knee straight alright hit head crawl like wait penny think penny come stand vomit lay new sheldon way improvement old sheldon graduate work impressive advantage kim bad feeling mm hmm come sheldon hardly show come denni rec center get nautilus equipment come denni radiation lab like look obnoxious little mirror like share tale woe eat sheldon feel well let kid know someday come young smart go sheldon okay right design experiment study soft component cosmic radiation sea level need help blow okay sheldon understand go bit career crisis search area feel valuable productive need tell want listen carefully possible like able cope fact year old kid smart accomplished hang talk murder denni kim say will happen interested physics howard racist year old girl trick daughter work day okay socially awkward genius room attractive age appropriate woman flaw plan like year old girl drunk okay leave chance let pick girl figure denni sure want spend couple year homework drink stupor non fat white russian hold head toilet puke tell wish guy like get cornell write essay drive visit weekend act like know think girl talk talk howard talk india okay uncalle kid get girl yeah mission accomplish home night smart know ticket launch tell policewoman frisk rocket pant yeah ruin life like know detail mother human father vulcan conceive spill kid year guy entire physics bowl kneel zod come need person team people sheldon need quote spock die word need let vote favour gentleman great state denial yield question exercise annoying series vote gentleman lose intend threaten quit way army ant favour oh uh okay woman mix crowd problem smell nice actually notice okay let start sheldon let somebody answer maybe little break aa confusing aa mean certain people mean mind hey check get batman cookie jar friend like batman cookie team howard raj team meeting okay let try way uh coffee klatch couple friend thing lead turn team okay let try way annoying want play anymore will smile eat macaroon bat jar exactly laugh guy let remember sheldon friend room mate raj get tv blossom join physics bowl team ask leslie winkle fine take team sack hey leslie leslie question little awkward know give gee cos sure sound like comforting okay like question enter physics bowl need fourth team oh yeah know stay thing stand perpetual motion squad eta meson prevost theory exchange hang sheldon prove single handedly smart important lose win team sorry somebody sit physics bowl trophy know disagree physics bowl trophy leonard smart sheldon bring know thing wait think shatner believe guy auction miniature time machine prop original film bid time machine sophie choice spur moment thing figure thousand want blow miniature time machine come sniper sniper yeah know afford assume sell sized time machine go upstairs yes elevator break year come guy push oh know move upstairs know time machine hey wait set time machine drop work yesterday time travel joke mind let guy ready push yeah far cool thing own second sound fair sheldon selfish pay belong way sit time machine okay set dial march turn okay set dial january future fun light flash dish spin wanna try want get time machine prevent explain knock unconscious right present nice clue yes upset uh thing girl like penny end guy time machine thank point oh know move time machine thing important toy worry baby get pack collectible take comic book store sell money terrific want buy share time machine want personal reason look want buy pay dollar share toy action figure prop replica costume robot darth vader voice changer get rid bidding war sell larry comic book store offer fair price collection forget guy sell go mad sorry raj mind okay want rare mint condition production error star trek generation geordi laforge visor original packaging way open think time rid stuff know life turn time machine little big living room glad agree hire guy help come fella hand physicist concern super collider actually work create black hole swallow earth end life know hey check school pharmacology look volunteer know raj maybe comic book store bulletin board go sheldon office lose maybe lawyer wedding tomorrow stay tonight settle stay hee hee classic yeah use uh polish spear fishing equipment spear fish crossbow hunt spear fish uh penny sheldon twin sister missy missy neighbor penny stare oh huh um maybe like woman tall perfect onion dip onion dip entertain excuse apartment roommate sister penny universe penny sheldon aware sister incredibly attractive woman alright note point koothrappali wolowitz hit sister okay uh oh consider father go responsibility sure missy choose suitable mate exactly owe posterity protect genetic integrity sister future offspring man family respect wish sheldon unreasonable agree sheldon sister hide penny hit time go fight missy let right way honorable way stay bitch yeah ha ha natural selection work hi penny go listen guy mike date go catch way speak missy leave tomorrow wonder like dinner oh alright uh enjoy rest evening um anticipate oh call trestling forget cake know birthday saturday celebrate birthday big deal way raise parent focusse celebrate achievement expel birth canal consider okay mean little think maybe parent change mind surprise party like birthday come home cello lesson see lot strange car park get door hear people whisper smell german chocolate cake favorite uh turn grandfather die oh kind like birthday party get cousin cake howard thai restaurant town know eat peanut come ah peanut boy look halo battle life kid copenhagen immune system sit bubble play halo believe doctor copenhagen boy taste hans christian hand grenade come come oh clever little come come gun shoot hey sorry find parking spot look like swell maybe pick benedryl drug store home excuse friend have allergic reaction peanut healthcare system country afraid lawsuit sure test know get swell actually think try apartment throw surprise party mad actually risk life care alright birthday party hey penny uh birthday learn chinese concerned pass chicken look understand break painful penny boyfriend break know go try talk damsel distress care upset go friend go advantage vulnerability say friend gay friend sorry choice actually easy find okay exactly guy write need know detail sex life think mind okay know bad paint picture affectionate woman open express affection non traditional locale elevator park movie theater curiosity subway transportation system subway sandwich shop violate health code huh okay point absolutely reason embarrassed underreacte break imply confidentiality bedroom case elevator park fast food franchise explain right betrayal oh sure huh maybe gay friend change subject roll dice mad relationship break repair walk fix eat tangerine chicken quick oh know throw gig ipod yeah yeah old quick go go comment nice guy honest big deal think tonight people actually penny excited nauseous sheldon date probably chance penny happen blow tell date oh okay hear schrodinger cat',\n",
              " 'Penny': 'oh okay guess new neighbor penny thank maybe coffee oh invite eat oh nice love guy fun look like stuff leonard like beautiful mind genius guy impressive holy smoke uh guy mind start sit difference want klingon boggle um okay sagittarius probably tell way need know participate oh yeah lot people think water sign okay let oh vegetarian oh fish occasional steak love steak oh yeah waitress cheesecake factory oh anyways write screenplay sensitive girl come lincoln nebraska actress wind waitress cheesecake factory omaha know right okay let um story penny fall love jerk oh god know year live year like long high school believe trust want know pathetic hate lying cheat gut love crazy oh sorry mess gross move stupid shower work totally weird thank guy sweet hey trick get switch tub shower oh hi sorry hello penny work cheesecake factory um okay ask favour kind thing ask guy meet guy work leonard sheldon university wow cool tiger oh think able stop think oh god happen sorry think guy go instead ass thank go try uh terrific clothe purse dinner okay interrupt sound like company know cheesecake factory people order cheesecake bring yeah want minimum wage yeah anyways wonder help oh okay great have furniture deliver tomorrow oh hel hey raj talk huh yeah yeah get tomorrow sign apartment great spare key thank marathon wow superman movie yeah like lois lane fall helicopter superman swoosh catch yes know man fly go wash great hard get stair oh great thank son bitch sick geeky bastard come apartment night sleep key understand creepy apartment sleep kind doctor remove shoe ass hey raj hey listen know hear happen night leonard sheldon upset mean let place clean mean believe weird know come come house night shoot okay shoot wound mean alright sister shoot husband accident drunk say obvious mean have rough time like say break boyfriend freak mean man know life happen jerk mean assume leonard sheldon right exactly think thank listen doll guy seriously grow farm okay rebuild tractor engine like think cheap swedish medium center uh look pretty good store guy actually simple guy hot think clothe okay place look pretty good um hi leonard doug doug neighbor leonard thank get talk mailman uh mean dinner tonight uh thirty great rest guy meet ooh uncle colonoscopy new world physics ah sure thing pick oh uh chocolate key lime move pretty doug oh yeah dunno mean nice funny okay know get break kurt thing doug rebound sex pattern break find cute guy thirty meaningless know usually weekend trust feel good emotionally wow centrifugal force sure want emergency room know throw sign concussion oh fine get window suppose date hi hey run market guy need get can huh maybe good know door close open uh listen need egg oh okay maybe start head mean find enjoyable oh know sheldon go recover fun today want buy thirty year worth tampon sure bad thing shelly freak like oh god good cobbler hi guy ready order alright boss say order leave come uh classic burger ranch house burger barbecue burger kobe burger barbecue burger like big boy big boy howard ask oh wow girl scientist yeah leonard know play cello actually music hey friend cute go oh bad guy cute couple okay sweetie know think explain oh come go college alright look tie doorknob usually mean want disturb know get busy lose tie rack get bryan adam stand oh come know leonard girl right wait leave state roommate have sex know hmm good good leonard okay night gee sheldon ask wrong girl usually tie little bird tell lesley hook night um know psychiatrist hey thing lesley oh oh bad hey worry sure right paintball fun okay um oh hey have party saturday guy come boy girl party bunch friend beer little dancing sure come halloween want okay costume want bye yeah start party seven show know seven probably home parade oh sheldon sorry go parade judge prize come go fun look great mean look thor oh peter pan cute oh hey sheldon suppose oh sure doppler effect alright get shower guy um comfortable course right leonard kurt instant care finish yes break stuff like run week apologetic change go believe idiot believe guy like party know want hear upset drunk want boy smart leonard great guy like will uh hide girl know nebraska christy call like hey california like awesome know nebraska thing know invite stay get today apartment yakkety yakking guy sleep omaha basically guy omaha wash slutti collection underwear see bathroom sink need dial engage cousin sleep brother kind family yeah definitely whore mean absolutely standard time howard ugh believe christy let howard apartment hey guy need fourth play oh cool head blow okay get lock load boy ha ha go head cover sucker ha ha ha wait wait sheldon come forget plasma grenade ha look rain gosh kind sore loser life um howard christy kind hook bedroom look grow farm okay hear have sex howard catch milk machine mind stay tonight uh couch good suppose plan bodily function hell problem people hate sleep wear robe okay christy y loofah yeah mean plan find place live love have little crowded look howard know okay sex long buy thing friend friend friend care bear sweaty oh sweet go dance girlfriend penny dancing night look play guy tomorrow alright sheldon problem alright fella get to good luck hi guy friend get tired dancing come sex tell yah need guinea pig swear god sheldon day go hang talk finally convince restaurant bar tend shift need practice make drink leonard okay leonard tequila sunrise uh grasshopper mean grasshopper okay good come sheldon go okay order cocktail need practice mix drink um rum coke rum fridge swim cuba okay raj alright okay cut anybody need refill talk okay sweetie think grasshopper talking okay calm married meet girl happen um raj honey talk woman talk okay go drink date promise will overdo yeah uh bring restaurant tend bar eye oh maybe couple virgin cuba libre turn kind slutty hey experiment yeah turn stereo laptop oh know universal remote radio shack cheap boy brilliant huh handy um question wait wait ew stop leave go sheldon guy talk oh hey know corduroy suit okay let okay stuff want throw seriously charity will help find shirt sport coat match sweetie pant know maybe way sheldon compromise presentation thing oh wear halloween okay alright move oh wow paisley shirt mean end place agree tie oh sweetie think work clothe eighth grade okay guess corduroy suit oh know weird come joke yup tip waitress week oh yeah zip lock pocket leonard little misunderstanding huh talk leonard morning think feel bad ask difficult fight good friend talk sure guy work okay absolutely talk look know leonard value friend tell little idea way come experiment thing yeah mean try explain understand um gee exact word write spirit lucky hunch better say stain oh sorry hear bring car usually physics thing howard like explain facebook page picture sleep shoulder caption girlfriend let oh oh ou oo ut tonight oh oh oh ou oo ut tonight wanna prowl night owl hey guy hi go guess happen alright remember audition workshop production rent figure girl pick play mimi drop ask replace big deal night showcase invite lot cast people agent know friday guy want come oh bad get rehearsal guy remember symposium imagine feel thank want come wish guy luck symposium know get tell lot friend let friend kind guy stand friend symposium symposium leonard lied right leonard okay look leonard help sheldon family crisis story symposium dr hah yeah want sheldon embarrassed embarrass okay family america relative hole garage huff paint thinner look sheldon cousin leo escape rehab motel long beach family go intervention leonard drive sheldon help good man hi intervention base tell surprised oh okay guess big turn like yeah hey want come place coffee video singe night want well come showcase watch watch leo sweet funny guy go to okay mail oh well north dakota guess joke funny nebraska boy good ugh bad trip get sick weekend oh flu guess okay thank get mail crazy sheldon get sick shh sheldon want soup home soup deliver okay kind soup want chicken tortilla potato leek yeah work guess infect entire station will leave say afraid pass bus harvest organ oh okay need work today like rent car payment sheldon grown man sick study abroad care okay sweetie care need okay ground rule sponge bath definitely enema okay nice cosy okay later oh sheldon believe sorry honey know soft kitty warm kitty little ball fur rat bastard deliberately stick sheldon uh okay sweetie good news leonard home good luck bye mm delicious talk drunk huh oh sweetie damaged confused sheldon stop give milk get bit competition big deal understand exactly friend place know confused wait shoot eye hi help write email key get stick go aa diet coke yoghurt little nail polish wow world like cool guy want ticket good afternoon welcome today physics bowl practice round penny host apparently saturday afternoon little sad gentleman ready know business guy speak woman go hold little oh thank raj vanilla oil okay question topic optic short light pulse produce dr cooper good sweetie okay question quantum mechanical effect encode datum hard disk drive howard okay artificial satellite see glimpse einstein predict frame drag yeah bag come feel nice loose come play get game face ready oh want sound interesting settle smart okay ready okay marsha jan cindy daughter tv family brady bunch okay sammy hagar replace david lee roth lead singer group van halen alright madonna marry ridgemont high alum oh god sean penn outside talk people alright actor hold record name people magazine sexy man alive alright singer sing oops okay tweetie bird teach taw yes teach taw romulan yeah okay neat get work minute run late joke right damn okay roof okay gap nearly foot wide slip skin knee zz zz zz zz second door stairwell building lock fire escape end floor force crawl window lovely armenian family insist stay lunch course lamb try fix son time finally get work give shift away yeah right lose entire day pay thank want try god grow man waste life stupid toy costume comic book oh time machine look like elton john drive everglade pathetic completely pathetic yeah okay neat get work time machine okay okay look yesterday leonard sorry say bit upset look great guy thing love hey leonard leave underwear dryer downstairs little label wow look alike hey sheldon sister pretty cute say cute sheldon ignore sister missy go nail want come uh pretty oh honey medication wear hey guy guy waitress want ask yeah terrific want ask cut hell right come guy come happy birthday happy birthday leonard see saturday free birthday cheesecake okay carrot cake scrape horoscope remember go everybody sheldon go typical psychotic rant blah blah blah typical taurus seriously go saturday shuddup yeah call hate son cake yeah kid birthday party oh god terrible sad thing hear okay let okay deal go throw leonard kick ass surprise party birthday saturday know want howard difference possibility exist leonard birthday party hell freeze anguish okay sweetie understand scar non professional heal go throw leonard birthday party okay deal help throw leonard birthday party help god bedroom unbag valuable mint condition comic book will know draw tiny happy face ink sheldon understand concept blackmail birthday boy nice get sweater uh sheldon present sheldon friend friend present non optional social convention okay let um drive sheldon present howard need rid leonard hour raj bring stuff hall start set stare feel uncomfortable alright know dvd sheldon gift need fun know buy fun sweater get bold geometric print okay point way care people put thought imagination gift know man box look happy oh know go regret trauma buy look get happy guy available yeah look get stall leonard little longer time yell surprise okay need attitude hold little longer okay little longer party point friend easy get hot fat girl self esteem get girl punish father sleep alcoholic tequila shot away let wear like hat thing late leonard birthday party tell security friend carol remind get introduce howard happy birthday anyways hey jerkface forgot ipod oh tell go stupid self center bastard write sex life blog drop dead stupid self center bastard thank tell truth idiot pick giant loser okay pick good guy turn loser get think mike different think sensitive smart mean smart normal non freaky smart know go humiliate write blog entire world read yeah friend work find sister find judge email number prisoner michigan state penitentiary find nope know read everybody ahead oh god feel betrayed embarrassed want crawl hole die sub shop make think overreact overreact maybe mike apologize give man chance explain right time man love stupid way try people feel better help go mike leonard thank thank stupid advice sorry yell fault go mike move say woman leg wrap neck swear god guy like know macho perfect body hair money know like nice honest actually care ask wonder talk leonard raj talk drunk wolowitz know disgusting say know leonard good leonard come home talk apartment okay thing guess aware leonard ask oh nice thing want talk know leonard friend want sit alright pick random like sit time okay um thing know leonard little crush alright yeah know yeah care care point leonard kind guy usually say leonard different good way obviously usual choice work hand thing leonard risk lose good friend mean guess look fling kind guy get relationship know like light year sheldon know talk schrodinger woman sorry point okay say leonard actually hear far schrodinger cat alright cat alive let dinner oh okay guess new neighbor penny thank maybe coffee oh invite eat oh nice love guy fun look like stuff leonard like beautiful mind genius guy impressive holy smoke uh guy mind start sit difference want klingon boggle um okay sagittarius probably tell way need know participate oh yeah lot people think water sign okay let oh vegetarian oh fish occasional steak love steak oh yeah waitress cheesecake factory oh anyways write screenplay sensitive girl come lincoln nebraska actress wind waitress cheesecake factory omaha know right okay let um story penny fall love jerk oh god know year live year like long high school believe trust want know pathetic hate lying cheat gut love crazy oh sorry mess gross move stupid shower work totally weird thank guy sweet hey trick get switch tub shower oh hi sorry hello penny work cheesecake factory um okay ask favour kind thing ask guy meet guy work leonard sheldon university wow cool tiger oh think able stop think oh god happen sorry think guy go instead ass thank go try uh terrific clothe purse dinner okay interrupt sound like company know cheesecake factory people order cheesecake bring yeah want minimum wage yeah anyways wonder help oh okay great have furniture deliver tomorrow oh hel hey raj talk huh yeah yeah get tomorrow sign apartment great spare key thank marathon wow superman movie yeah like lois lane fall helicopter superman swoosh catch yes know man fly go wash great hard get stair oh great thank son bitch sick geeky bastard come apartment night sleep key understand creepy apartment sleep kind doctor remove shoe ass hey raj hey listen know hear happen night leonard sheldon upset mean let place clean mean believe weird know come come house night shoot okay shoot wound mean alright sister shoot husband accident drunk say obvious mean have rough time like say break boyfriend freak mean man know life happen jerk mean assume leonard sheldon right exactly think thank listen doll guy seriously grow farm okay rebuild tractor engine like think cheap swedish medium center uh look pretty good store guy actually simple guy hot think clothe okay place look pretty good um hi leonard doug doug neighbor leonard thank get talk mailman uh mean dinner tonight uh thirty great rest guy meet ooh uncle colonoscopy new world physics ah sure thing pick oh uh chocolate key lime move pretty doug oh yeah dunno mean nice funny okay know get break kurt thing doug rebound sex pattern break find cute guy thirty meaningless know usually weekend trust feel good emotionally wow centrifugal force sure want emergency room know throw sign concussion oh fine get window suppose date hi hey run market guy need get can huh maybe good know door close open uh listen need egg oh okay maybe start head mean find enjoyable oh know sheldon go recover fun today want buy thirty year worth tampon sure bad thing shelly freak like oh god good cobbler hi guy ready order alright boss say order leave come uh classic burger ranch house burger barbecue burger kobe burger barbecue burger like big boy big boy howard ask oh wow girl scientist yeah leonard know play cello actually music hey friend cute go oh bad guy cute couple okay sweetie know think explain oh come go college alright look tie doorknob usually mean want disturb know get busy lose tie rack get bryan adam stand oh come know leonard girl right wait leave state roommate have sex know hmm good good leonard okay night gee sheldon ask wrong girl usually tie little bird tell lesley hook night um know psychiatrist hey thing lesley oh oh bad hey worry sure right paintball fun okay um oh hey have party saturday guy come boy girl party bunch friend beer little dancing sure come halloween want okay costume want bye yeah start party seven show know seven probably home parade oh sheldon sorry go parade judge prize come go fun look great mean look thor oh peter pan cute oh hey sheldon suppose oh sure doppler effect alright get shower guy um comfortable course right leonard kurt instant care finish yes break stuff like run week apologetic change go believe idiot believe guy like party know want hear upset drunk want boy smart leonard great guy like will uh hide girl know nebraska christy call like hey california like awesome know nebraska thing know invite stay get today apartment yakkety yakking guy sleep omaha basically guy omaha wash slutti collection underwear see bathroom sink need dial engage cousin sleep brother kind family yeah definitely whore mean absolutely standard time howard ugh believe christy let howard apartment hey guy need fourth play oh cool head blow okay get lock load boy ha ha go head cover sucker ha ha ha wait wait sheldon come forget plasma grenade ha look rain gosh kind sore loser life um howard christy kind hook bedroom look grow farm okay hear have sex howard catch milk machine mind stay tonight uh couch good suppose plan bodily function hell problem people hate sleep wear robe okay christy y loofah yeah mean plan find place live love have little crowded look howard know okay sex long buy thing friend friend friend care bear sweaty oh sweet go dance girlfriend penny dancing night look play guy tomorrow alright sheldon problem alright fella get to good luck hi guy friend get tired dancing come sex tell yah need guinea pig swear god sheldon day go hang talk finally convince restaurant bar tend shift need practice make drink leonard okay leonard tequila sunrise uh grasshopper mean grasshopper okay good come sheldon go okay order cocktail need practice mix drink um rum coke rum fridge swim cuba okay raj alright okay cut anybody need refill talk okay sweetie think grasshopper talking okay calm married meet girl happen um raj honey talk woman talk okay go drink date promise will overdo yeah uh bring restaurant tend bar eye oh maybe couple virgin cuba libre turn kind slutty hey experiment yeah turn stereo laptop oh know universal remote radio shack cheap boy brilliant huh handy um question wait wait ew stop leave go sheldon guy talk oh hey know corduroy suit okay let okay stuff want throw seriously charity will help find shirt sport coat match sweetie pant know maybe way sheldon compromise presentation thing oh wear halloween okay alright move oh wow paisley shirt mean end place agree tie oh sweetie think work clothe eighth grade okay guess corduroy suit oh know weird come joke yup tip waitress week oh yeah zip lock pocket leonard little misunderstanding huh talk leonard morning think feel bad ask difficult fight good friend talk sure guy work okay absolutely talk look know leonard value friend tell little idea way come experiment thing yeah mean try explain understand um gee exact word write spirit lucky hunch better say stain oh sorry hear bring car usually physics thing howard like explain facebook page picture sleep shoulder caption girlfriend let oh oh ou oo ut tonight oh oh oh ou oo ut tonight wanna prowl night owl hey guy hi go guess happen alright remember audition workshop production rent figure girl pick play mimi drop ask replace big deal night showcase invite lot cast people agent know friday guy want come oh bad get rehearsal guy remember symposium imagine feel thank want come wish guy luck symposium know get tell lot friend let friend kind guy stand friend symposium symposium leonard lied right leonard okay look leonard help sheldon family crisis story symposium dr hah yeah want sheldon embarrassed embarrass okay family america relative hole garage huff paint thinner look sheldon cousin leo escape rehab motel long beach family go intervention leonard drive sheldon help good man hi intervention base tell surprised oh okay guess big turn like yeah hey want come place coffee video singe night want well come showcase watch watch leo sweet funny guy go to okay mail oh well north dakota guess joke funny nebraska boy good ugh bad trip get sick weekend oh flu guess okay thank get mail crazy sheldon get sick shh sheldon want soup home soup deliver okay kind soup want chicken tortilla potato leek yeah work guess infect entire station will leave say afraid pass bus harvest organ oh okay need work today like rent car payment sheldon grown man sick study abroad care okay sweetie care need okay ground rule sponge bath definitely enema okay nice cosy okay later oh sheldon believe sorry honey know soft kitty warm kitty little ball fur rat bastard deliberately stick sheldon uh okay sweetie good news leonard home good luck bye mm delicious talk drunk huh oh sweetie damaged confused sheldon stop give milk get bit competition big deal understand exactly friend place know confused wait shoot eye hi help write email key get stick go aa diet coke yoghurt little nail polish wow world like cool guy want ticket good afternoon welcome today physics bowl practice round penny host apparently saturday afternoon little sad gentleman ready know business guy speak woman go hold little oh thank raj vanilla oil okay question topic optic short light pulse produce dr cooper good sweetie okay question quantum mechanical effect encode datum hard disk drive howard okay artificial satellite see glimpse einstein predict frame drag yeah bag come feel nice loose come play get game face ready oh want sound interesting settle smart okay ready okay marsha jan cindy daughter tv family brady bunch okay sammy hagar replace david lee roth lead singer group van halen alright madonna marry ridgemont high alum oh god sean penn outside talk people alright actor hold record name people magazine sexy man alive alright singer sing oops okay tweetie bird teach taw yes teach taw romulan yeah okay neat get work minute run late joke right damn okay roof okay gap nearly foot wide slip skin knee zz zz zz zz second door stairwell building lock fire escape end floor force crawl window lovely armenian family insist stay lunch course lamb try fix son time finally get work give shift away yeah right lose entire day pay thank want try god grow man waste life stupid toy costume comic book oh time machine look like elton john drive everglade pathetic completely pathetic yeah okay neat get work time machine okay okay look yesterday leonard sorry say bit upset look great guy thing love hey leonard leave underwear dryer downstairs little label wow look alike hey sheldon sister pretty cute say cute sheldon ignore sister missy go nail want come uh pretty oh honey medication wear hey guy guy waitress want ask yeah terrific want ask cut hell right come guy come happy birthday happy birthday leonard see saturday free birthday cheesecake okay carrot cake scrape horoscope remember go everybody sheldon go typical psychotic rant blah blah blah typical taurus seriously go saturday shuddup yeah call hate son cake yeah kid birthday party oh god terrible sad thing hear okay let okay deal go throw leonard kick ass surprise party birthday saturday know want howard difference possibility exist leonard birthday party hell freeze anguish okay sweetie understand scar non professional heal go throw leonard birthday party okay deal help throw leonard birthday party help god bedroom unbag valuable mint condition comic book will know draw tiny happy face ink sheldon understand concept blackmail birthday boy nice get sweater uh sheldon present sheldon friend friend present non optional social convention okay let um drive sheldon present howard need rid leonard hour raj bring stuff hall start set stare feel uncomfortable alright know dvd sheldon gift need fun know buy fun sweater get bold geometric print okay point way care people put thought imagination gift know man box look happy oh know go regret trauma buy look get happy guy available yeah look get stall leonard little longer time yell surprise okay need attitude hold little longer okay little longer party point friend easy get hot fat girl self esteem get girl punish father sleep alcoholic tequila shot away let wear like hat thing late leonard birthday party tell security friend carol remind get introduce howard happy birthday anyways hey jerkface forgot ipod oh tell go stupid self center bastard write sex life blog drop dead stupid self center bastard thank tell truth idiot pick giant loser okay pick good guy turn loser get think mike different think sensitive smart mean smart normal non freaky smart know go humiliate write blog entire world read yeah friend work find sister find judge email number prisoner michigan state penitentiary find nope know read everybody ahead oh god feel betrayed embarrassed want crawl hole die sub shop make think overreact overreact maybe mike apologize give man chance explain right time man love stupid way try people feel better help go mike leonard thank thank stupid advice sorry yell fault go mike move say woman leg wrap neck swear god guy like know macho perfect body hair money know like nice honest actually care ask wonder talk leonard raj talk drunk wolowitz know disgusting say know leonard good leonard come home talk apartment okay thing guess aware leonard ask oh nice thing want talk know leonard friend want sit alright pick random like sit time okay um thing know leonard little crush alright yeah know yeah care care point leonard kind guy usually say leonard different good way obviously usual choice work hand thing leonard risk lose good friend mean guess look fling kind guy get relationship know like light year sheldon know talk schrodinger woman sorry point okay say leonard actually hear far schrodinger cat alright cat alive let dinner oh okay guess new neighbor penny thank maybe coffee oh invite eat oh nice love guy fun look like stuff leonard like beautiful mind genius guy impressive holy smoke uh guy mind start sit difference want klingon boggle um okay sagittarius probably tell way need know participate oh yeah lot people think water sign okay let oh vegetarian oh fish occasional steak love steak oh yeah waitress cheesecake factory oh anyways write screenplay sensitive girl come lincoln nebraska actress wind waitress cheesecake factory omaha know right okay let um story penny fall love jerk oh god know year live year like long high school believe trust want know pathetic hate lying cheat gut love crazy oh sorry mess gross move stupid shower work totally weird thank guy sweet hey trick get switch tub shower oh hi sorry hello penny work cheesecake factory um okay ask favour kind thing ask guy meet guy work leonard sheldon university wow cool tiger oh think able stop think oh god happen sorry think guy go instead ass thank go try uh terrific clothe purse dinner okay interrupt sound like company know cheesecake factory people order cheesecake bring yeah want minimum wage yeah anyways wonder help oh okay great have furniture deliver tomorrow oh hel hey raj talk huh yeah yeah get tomorrow sign apartment great spare key thank marathon wow superman movie yeah like lois lane fall helicopter superman swoosh catch yes know man fly go wash great hard get stair oh great thank son bitch sick geeky bastard come apartment night sleep key understand creepy apartment sleep kind doctor remove shoe ass hey raj hey listen know hear happen night leonard sheldon upset mean let place clean mean believe weird know come come house night shoot okay shoot wound mean alright sister shoot husband accident drunk say obvious mean have rough time like say break boyfriend freak mean man know life happen jerk mean assume leonard sheldon right exactly think thank listen doll guy seriously grow farm okay rebuild tractor engine like think cheap swedish medium center uh look pretty good store guy actually simple guy hot think clothe okay place look pretty good um hi leonard doug doug neighbor leonard thank get talk mailman uh mean dinner tonight uh thirty great rest guy meet ooh uncle colonoscopy new world physics ah sure thing pick oh uh chocolate key lime move pretty doug oh yeah dunno mean nice funny okay know get break kurt thing doug rebound sex pattern break find cute guy thirty meaningless know usually weekend trust feel good emotionally wow centrifugal force sure want emergency room know throw sign concussion oh fine get window suppose date hi hey run market guy need get can huh maybe good know door close open uh listen need egg oh okay maybe start head mean find enjoyable oh know sheldon go recover fun today want buy thirty year worth tampon sure bad thing shelly freak like oh god good cobbler hi guy ready order alright boss say order leave come uh classic burger ranch house burger barbecue burger kobe burger barbecue burger like big boy big boy howard ask oh wow girl scientist yeah leonard know play cello actually music hey friend cute go oh bad guy cute couple okay sweetie know think explain oh come go college alright look tie doorknob usually mean want disturb know get busy lose tie rack get bryan adam stand oh come know leonard girl right wait leave state roommate have sex know hmm good good leonard okay night gee sheldon ask wrong girl usually tie little bird tell lesley hook night um know psychiatrist hey thing lesley oh oh bad hey worry sure right paintball fun okay um oh hey have party saturday guy come boy girl party bunch friend beer little dancing sure come halloween want okay costume want bye yeah start party seven show know seven probably home parade oh sheldon sorry go parade judge prize come go fun look great mean look thor oh peter pan cute oh hey sheldon suppose oh sure doppler effect alright get shower guy um comfortable course right leonard kurt instant care finish yes break stuff like run week apologetic change go believe idiot believe guy like party know want hear upset drunk want boy smart leonard great guy like will uh hide girl know nebraska christy call like hey california like awesome know nebraska thing know invite stay get today apartment yakkety yakking guy sleep omaha basically guy omaha wash slutti collection underwear see bathroom sink need dial engage cousin sleep brother kind family yeah definitely whore mean absolutely standard time howard ugh believe christy let howard apartment hey guy need fourth play oh cool head blow okay get lock load boy ha ha go head cover sucker ha ha ha wait wait sheldon come forget plasma grenade ha look rain gosh kind sore loser life um howard christy kind hook bedroom look grow farm okay hear have sex howard catch milk machine mind stay tonight uh couch good suppose plan bodily function hell problem people hate sleep wear robe okay christy y loofah yeah mean plan find place live love have little crowded look howard know okay sex long buy thing friend friend friend care bear sweaty oh sweet go dance girlfriend penny dancing night look play guy tomorrow alright sheldon problem alright fella get to good luck hi guy friend get tired dancing come sex tell yah need guinea pig swear god sheldon day go hang talk finally convince restaurant bar tend shift need practice make drink leonard okay leonard tequila sunrise uh grasshopper mean grasshopper okay good come sheldon go okay order cocktail need practice mix drink um rum coke rum fridge swim cuba okay raj alright okay cut anybody need refill talk okay sweetie think grasshopper talking okay calm married meet girl happen um raj honey talk woman talk okay go drink date promise will overdo yeah uh bring restaurant tend bar eye oh maybe couple virgin cuba libre turn kind slutty hey experiment yeah turn stereo laptop oh know universal remote radio shack cheap boy brilliant huh handy um question wait wait ew stop leave go sheldon guy talk oh hey know corduroy suit okay let okay stuff want throw seriously charity will help find shirt sport coat match sweetie pant know maybe way sheldon compromise presentation thing oh wear halloween okay alright move oh wow paisley shirt mean end place agree tie oh sweetie think work clothe eighth grade okay guess corduroy suit oh know weird come joke yup tip waitress week oh yeah zip lock pocket leonard little misunderstanding huh talk leonard morning think feel bad ask difficult fight good friend talk sure guy work okay absolutely talk look know leonard value friend tell little idea way come experiment thing yeah mean try explain understand um gee exact word write spirit lucky hunch better say stain oh sorry hear bring car usually physics thing howard like explain facebook page picture sleep shoulder caption girlfriend let oh oh ou oo ut tonight oh oh oh ou oo ut tonight wanna prowl night owl hey guy hi go guess happen alright remember audition workshop production rent figure girl pick play mimi drop ask replace big deal night showcase invite lot cast people agent know friday guy want come oh bad get rehearsal guy remember symposium imagine feel thank want come wish guy luck symposium know get tell lot friend let friend kind guy stand friend symposium symposium leonard lied right leonard okay look leonard help sheldon family crisis story symposium dr hah yeah want sheldon embarrassed embarrass okay family america relative hole garage huff paint thinner look sheldon cousin leo escape rehab motel long beach family go intervention leonard drive sheldon help good man hi intervention base tell surprised oh okay guess big turn like yeah hey want come place coffee video singe night want well come showcase watch watch leo sweet funny guy go to okay mail oh well north dakota guess joke funny nebraska boy good ugh bad trip get sick weekend oh flu guess okay thank get mail crazy sheldon get sick shh sheldon want soup home soup deliver okay kind soup want chicken tortilla potato leek yeah work guess infect entire station will leave say afraid pass bus harvest organ oh okay need work today like rent car payment sheldon grown man sick study abroad care okay sweetie care need okay ground rule sponge bath definitely enema okay nice cosy okay later oh sheldon believe sorry honey know soft kitty warm kitty little ball fur rat bastard deliberately stick sheldon uh okay sweetie good news leonard home good luck bye mm delicious talk drunk huh oh sweetie damaged confused sheldon stop give milk get bit competition big deal understand exactly friend place know confused wait shoot eye hi help write email key get stick go aa diet coke yoghurt little nail polish wow world like cool guy want ticket good afternoon welcome today physics bowl practice round penny host apparently saturday afternoon little sad gentleman ready know business guy speak woman go hold little oh thank raj vanilla oil okay question topic optic short light pulse produce dr cooper good sweetie okay question quantum mechanical effect encode datum hard disk drive howard okay artificial satellite see glimpse einstein predict frame drag yeah bag come feel nice loose come play get game face ready oh want sound interesting settle smart okay ready okay marsha jan cindy daughter tv family brady bunch okay sammy hagar replace david lee roth lead singer group van halen alright madonna marry ridgemont high alum oh god sean penn outside talk people alright actor hold record name people magazine sexy man alive alright singer sing oops okay tweetie bird teach taw yes teach taw romulan yeah okay neat get work minute run late joke right damn okay roof okay gap nearly foot wide slip skin knee zz zz zz zz second door stairwell building lock fire escape end floor force crawl window lovely armenian family insist stay lunch course lamb try fix son time finally get work give shift away yeah right lose entire day pay thank want try god grow man waste life stupid toy costume comic book oh time machine look like elton john drive everglade pathetic completely pathetic yeah okay neat get work time machine okay okay look yesterday leonard sorry say bit upset look great guy thing love hey leonard leave underwear dryer downstairs little label wow look alike hey sheldon sister pretty cute say cute sheldon ignore sister missy go nail want come uh pretty oh honey medication wear hey guy guy waitress want ask yeah terrific want ask cut hell right come guy come happy birthday happy birthday leonard see saturday free birthday cheesecake okay carrot cake scrape horoscope remember go everybody sheldon go typical psychotic rant blah blah blah typical taurus seriously go saturday shuddup yeah call hate son cake yeah kid birthday party oh god terrible sad thing hear okay let okay deal go throw leonard kick ass surprise party birthday saturday know want howard difference possibility exist leonard birthday party hell freeze anguish okay sweetie understand scar non professional heal go throw leonard birthday party okay deal help throw leonard birthday party help god bedroom unbag valuable mint condition comic book will know draw tiny happy face ink sheldon understand concept blackmail birthday boy nice get sweater uh sheldon present sheldon friend friend present non optional social convention okay let um drive sheldon present howard need rid leonard hour raj bring stuff hall start set stare feel uncomfortable alright know dvd sheldon gift need fun know buy fun sweater get bold geometric print okay point way care people put thought imagination gift know man box look happy oh know go regret trauma buy look get happy guy available yeah look get stall leonard little longer time yell surprise okay need attitude hold little longer okay little longer party point friend easy get hot fat girl self esteem get girl punish father sleep alcoholic tequila shot away let wear like hat thing late leonard birthday party tell security friend carol remind get introduce howard happy birthday anyways hey jerkface forgot ipod oh tell go stupid self center bastard write sex life blog drop dead stupid self center bastard thank tell truth idiot pick giant loser okay pick good guy turn loser get think mike different think sensitive smart mean smart normal non freaky smart know go humiliate write blog entire world read yeah friend work find sister find judge email number prisoner michigan state penitentiary find nope know read everybody ahead oh god feel betrayed embarrassed want crawl hole die sub shop make think overreact overreact maybe mike apologize give man chance explain right time man love stupid way try people feel better help go mike leonard thank thank stupid advice sorry yell fault go mike move say woman leg wrap neck swear god guy like know macho perfect body hair money know like nice honest actually care ask wonder talk leonard raj talk drunk wolowitz know disgusting say know leonard good leonard come home talk apartment okay thing guess aware leonard ask oh nice thing want talk know leonard friend want sit alright pick random like sit time okay um thing know leonard little crush alright yeah know yeah care care point leonard kind guy usually say leonard different good way obviously usual choice work hand thing leonard risk lose good friend mean guess look fling kind guy get relationship know like light year sheldon know talk schrodinger woman sorry point okay say leonard actually hear far schrodinger cat alright cat alive let dinner',\n",
              " 'Raj': 'fantastic unbelievable smooth chopstick pretty girl leave ooh stand close oh smell good vanilla chatty maybe parent right maybe well indian girl cultural background wife sing child lullaby mother sing ask question probably nod oh oh turn pelvi hello sorry late hallway chat penny actually chatter chattee upset probably sister shoot somebody hug blow gate control shift b oh god goblin get leonard tonight spice meat goblin blood ooh get sell sword azeroth ebay bind right sheldon robot power oh god look buffet love america course indian food find bagel mumbai save life schmear robert lee charge line shiva ganesh excuse ganesh remover obstacle shiva destroyer smoke clear abraham lincoln speak hindi drink mint julep reflect tip little bird tell apparently magnificent beast okay suck paintball way fast man alive oh walk right night look like person go fast hey sorry late hammer get stick door bus indian norse god raj indian god racism mean look wolowitz english dressed like peter pan sheldon sound light obviously doppler effect see peter pan dress exactly like cathy rigby little big basically look man mm odin beard good chex mix penny wear bad catwoman costume see include halle berry oh confidence difficulty speak woman woman time effeminate man oh impressive little racist split oh sure cut foreigner half billion come cut third decision child starve india indian starving right happen fall apart think whore omaha rule hell get needler ammo present live new delhi dr mrs koothrappali okay life friend good goodbye little fat girl kick samosas untouchable papa suppose spring wedding want meddle meddle tell culture sorry mommy papa respect excuse hello parent try marry total stranger go find new friend oh dear rightly truly screw get feeler meantime listen believe pushy will hear end parent know talk woman make sound like simpson character great married will able talk spend rest life total silence life penny day carefree bachelor married drive minivan peewee cricket match suburban new delhi penny plan dream go indira gandhi particle astro physics penis course little boy father want gynaecologist like gynaecologist barely look woman eye know go let parent control future longer time showdown somebody computer webcam tell parent ride elephant aisle lalita gupta listen talk woman okay need sure lalita meet grasshopper sweet green miracle overdo happiness freedom warm glow inside promise go hunky donkey believe sit little lalita gupta little lalita kind fun little lalita little lalita little lalita try lose weight difficult fat remember course forget fat dental student hmm aware dentist extremely high suicide rate high air traffic controller far dentist air traffic controller pure number win dentist nuts stop hit lady feel extent wrath lady parent say intent purpose percent hook oh screw princess punchali princess punchali maybe eye ball papa right papa listen ruin ahead tell parent will grandchild sperm count stop talk testicle sheldon tell alcoholic time papa swear wait hall want jar want brain android body foot tall rip suppose android penis circumcise rabbi discuss manufacturer hoo hoo hoo thing miss insult yo mamma somebody get thing cell phone youtube oh bad want long beach sound fun shotgun like point vote orang utan shout  half hour apey goodness leave gorilla rip crap charlton heston apartment deal sheldon stranger carve cornea laser beam living room appear picture break know watch work minute start design simple piece software replace happen boy longer threat sheldon send north korea know sleep possible misunderstood oh yes official email send insurance file indicate daughter age need social catalyst talk know india simple minute dad goat laptop alright way arrange girl hall denni pathetically moon month end start dude unbelievable forget mission little yutz girl maybe smart smart offputting know kind feel bad interested scene depict spock conception come star trek everybody private part alien lady tell captain kirk hey thing nose okay order physics bowl business need truly kick ass team suggestion bengal tiger maybe incinerate bengal tiger magnify glass psychological warfare reply kind wait look laugh like yes smart strong competitor smart strong reasonable chance defeat hee hee hee hee hee hee hee know apparently smart girl play tv blossom get phd neuroscience girl wonder year sleep discard like night chutney yeah sack dude sheldon suck casimir effect holy crap  boy sophie time machine movie rough congratulation proud owner miniature time machine time share time machine sheldon listing actually miniature cocktain shrimp feel finger hurry finger work get job middle minute howard step outside throw oh yeah guy live like jacuzzi balcony jacuzzi balcony wait tell get time machine balcony stuff speedos jacuzzi bob get point want balcony bi monthly basis time machine space end pasadena mrs bell deaf go hear knock ooh far future bring food dollar half owner balcony dude know time machine lose half value minute drive lot throw original mattel millenium falcon real light speed sound effect importantly darth vader voice changer oh dibs golden age flash bad call dibs look dibs wikipedia larry larry dibs match plus thousand rupee business leave okay leonard box let talk psh bunch crybaby gut glory man test new medication social anxiety panic attack agoraphobia obsessive compulsive disorder look test subject hey guess accept test subject new miracle drug overcome pathological shyness yes hopeful hello missy mention effect missy meet man exotic subcontinent india hog cylinder scooter basket hear kama sutra indian sex book word wonder wonder write book love missy enjoy pajama indian invent welcome dude hey look foreskin shiva destroyer woman happy medication stop smile excuse think miss big opportunity everybody know genetic diversity produce strong offspring little mocha family latte think focusse entirely drug hide need privacy grandmother apparently sick oh believe wash hair start dude thank apprec apprec appree oh oh keebler elf get keebler elf right okay stalemate dude everybody leave hour ago surprise okay leonard birthday party know dude kick ass drunk uh oh look girl take shirt oh sweet krishna shake rupee maker sell ebay slightly sure tell screw get penny old boyfriend enslave warlock stay till roll incredible manage screw screw fantastic unbelievable smooth chopstick pretty girl leave ooh stand close oh smell good vanilla chatty maybe parent right maybe well indian girl cultural background wife sing child lullaby mother sing ask question probably nod oh oh turn pelvi hello sorry late hallway chat penny actually chatter chattee upset probably sister shoot somebody hug blow gate control shift b oh god goblin get leonard tonight spice meat goblin blood ooh get sell sword azeroth ebay bind right sheldon robot power oh god look buffet love america course indian food find bagel mumbai save life schmear robert lee charge line shiva ganesh excuse ganesh remover obstacle shiva destroyer smoke clear abraham lincoln speak hindi drink mint julep reflect tip little bird tell apparently magnificent beast okay suck paintball way fast man alive oh walk right night look like person go fast hey sorry late hammer get stick door bus indian norse god raj indian god racism mean look wolowitz english dressed like peter pan sheldon sound light obviously doppler effect see peter pan dress exactly like cathy rigby little big basically look man mm odin beard good chex mix penny wear bad catwoman costume see include halle berry oh confidence difficulty speak woman woman time effeminate man oh impressive little racist split oh sure cut foreigner half billion come cut third decision child starve india indian starving right happen fall apart think whore omaha rule hell get needler ammo present live new delhi dr mrs koothrappali okay life friend good goodbye little fat girl kick samosas untouchable papa suppose spring wedding want meddle meddle tell culture sorry mommy papa respect excuse hello parent try marry total stranger go find new friend oh dear rightly truly screw get feeler meantime listen believe pushy will hear end parent know talk woman make sound like simpson character great married will able talk spend rest life total silence life penny day carefree bachelor married drive minivan peewee cricket match suburban new delhi penny plan dream go indira gandhi particle astro physics penis course little boy father want gynaecologist like gynaecologist barely look woman eye know go let parent control future longer time showdown somebody computer webcam tell parent ride elephant aisle lalita gupta listen talk woman okay need sure lalita meet grasshopper sweet green miracle overdo happiness freedom warm glow inside promise go hunky donkey believe sit little lalita gupta little lalita kind fun little lalita little lalita little lalita try lose weight difficult fat remember course forget fat dental student hmm aware dentist extremely high suicide rate high air traffic controller far dentist air traffic controller pure number win dentist nuts stop hit lady feel extent wrath lady parent say intent purpose percent hook oh screw princess punchali princess punchali maybe eye ball papa right papa listen ruin ahead tell parent will grandchild sperm count stop talk testicle sheldon tell alcoholic time papa swear wait hall want jar want brain android body foot tall rip suppose android penis circumcise rabbi discuss manufacturer hoo hoo hoo thing miss insult yo mamma somebody get thing cell phone youtube oh bad want long beach sound fun shotgun like point vote orang utan shout  half hour apey goodness leave gorilla rip crap charlton heston apartment deal sheldon stranger carve cornea laser beam living room appear picture break know watch work minute start design simple piece software replace happen boy longer threat sheldon send north korea know sleep possible misunderstood oh yes official email send insurance file indicate daughter age need social catalyst talk know india simple minute dad goat laptop alright way arrange girl hall denni pathetically moon month end start dude unbelievable forget mission little yutz girl maybe smart smart offputting know kind feel bad interested scene depict spock conception come star trek everybody private part alien lady tell captain kirk hey thing nose okay order physics bowl business need truly kick ass team suggestion bengal tiger maybe incinerate bengal tiger magnify glass psychological warfare reply kind wait look laugh like yes smart strong competitor smart strong reasonable chance defeat hee hee hee hee hee hee hee know apparently smart girl play tv blossom get phd neuroscience girl wonder year sleep discard like night chutney yeah sack dude sheldon suck casimir effect holy crap  boy sophie time machine movie rough congratulation proud owner miniature time machine time share time machine sheldon listing actually miniature cocktain shrimp feel finger hurry finger work get job middle minute howard step outside throw oh yeah guy live like jacuzzi balcony jacuzzi balcony wait tell get time machine balcony stuff speedos jacuzzi bob get point want balcony bi monthly basis time machine space end pasadena mrs bell deaf go hear knock ooh far future bring food dollar half owner balcony dude know time machine lose half value minute drive lot throw original mattel millenium falcon real light speed sound effect importantly darth vader voice changer oh dibs golden age flash bad call dibs look dibs wikipedia larry larry dibs match plus thousand rupee business leave okay leonard box let talk psh bunch crybaby gut glory man test new medication social anxiety panic attack agoraphobia obsessive compulsive disorder look test subject hey guess accept test subject new miracle drug overcome pathological shyness yes hopeful hello missy mention effect missy meet man exotic subcontinent india hog cylinder scooter basket hear kama sutra indian sex book word wonder wonder write book love missy enjoy pajama indian invent welcome dude hey look foreskin shiva destroyer woman happy medication stop smile excuse think miss big opportunity everybody know genetic diversity produce strong offspring little mocha family latte think focusse entirely drug hide need privacy grandmother apparently sick oh believe wash hair start dude thank apprec apprec appree oh oh keebler elf get keebler elf right okay stalemate dude everybody leave hour ago surprise okay leonard birthday party know dude kick ass drunk uh oh look girl take shirt oh sweet krishna shake rupee maker sell ebay slightly sure tell screw get penny old boyfriend enslave warlock stay till roll incredible manage screw screw fantastic unbelievable smooth chopstick pretty girl leave ooh stand close oh smell good vanilla chatty maybe parent right maybe well indian girl cultural background wife sing child lullaby mother sing ask question probably nod oh oh turn pelvi hello sorry late hallway chat penny actually chatter chattee upset probably sister shoot somebody hug blow gate control shift b oh god goblin get leonard tonight spice meat goblin blood ooh get sell sword azeroth ebay bind right sheldon robot power oh god look buffet love america course indian food find bagel mumbai save life schmear robert lee charge line shiva ganesh excuse ganesh remover obstacle shiva destroyer smoke clear abraham lincoln speak hindi drink mint julep reflect tip little bird tell apparently magnificent beast okay suck paintball way fast man alive oh walk right night look like person go fast hey sorry late hammer get stick door bus indian norse god raj indian god racism mean look wolowitz english dressed like peter pan sheldon sound light obviously doppler effect see peter pan dress exactly like cathy rigby little big basically look man mm odin beard good chex mix penny wear bad catwoman costume see include halle berry oh confidence difficulty speak woman woman time effeminate man oh impressive little racist split oh sure cut foreigner half billion come cut third decision child starve india indian starving right happen fall apart think whore omaha rule hell get needler ammo present live new delhi dr mrs koothrappali okay life friend good goodbye little fat girl kick samosas untouchable papa suppose spring wedding want meddle meddle tell culture sorry mommy papa respect excuse hello parent try marry total stranger go find new friend oh dear rightly truly screw get feeler meantime listen believe pushy will hear end parent know talk woman make sound like simpson character great married will able talk spend rest life total silence life penny day carefree bachelor married drive minivan peewee cricket match suburban new delhi penny plan dream go indira gandhi particle astro physics penis course little boy father want gynaecologist like gynaecologist barely look woman eye know go let parent control future longer time showdown somebody computer webcam tell parent ride elephant aisle lalita gupta listen talk woman okay need sure lalita meet grasshopper sweet green miracle overdo happiness freedom warm glow inside promise go hunky donkey believe sit little lalita gupta little lalita kind fun little lalita little lalita little lalita try lose weight difficult fat remember course forget fat dental student hmm aware dentist extremely high suicide rate high air traffic controller far dentist air traffic controller pure number win dentist nuts stop hit lady feel extent wrath lady parent say intent purpose percent hook oh screw princess punchali princess punchali maybe eye ball papa right papa listen ruin ahead tell parent will grandchild sperm count stop talk testicle sheldon tell alcoholic time papa swear wait hall want jar want brain android body foot tall rip suppose android penis circumcise rabbi discuss manufacturer hoo hoo hoo thing miss insult yo mamma somebody get thing cell phone youtube oh bad want long beach sound fun shotgun like point vote orang utan shout  half hour apey goodness leave gorilla rip crap charlton heston apartment deal sheldon stranger carve cornea laser beam living room appear picture break know watch work minute start design simple piece software replace happen boy longer threat sheldon send north korea know sleep possible misunderstood oh yes official email send insurance file indicate daughter age need social catalyst talk know india simple minute dad goat laptop alright way arrange girl hall denni pathetically moon month end start dude unbelievable forget mission little yutz girl maybe smart smart offputting know kind feel bad interested scene depict spock conception come star trek everybody private part alien lady tell captain kirk hey thing nose okay order physics bowl business need truly kick ass team suggestion bengal tiger maybe incinerate bengal tiger magnify glass psychological warfare reply kind wait look laugh like yes smart strong competitor smart strong reasonable chance defeat hee hee hee hee hee hee hee know apparently smart girl play tv blossom get phd neuroscience girl wonder year sleep discard like night chutney yeah sack dude sheldon suck casimir effect holy crap  boy sophie time machine movie rough congratulation proud owner miniature time machine time share time machine sheldon listing actually miniature cocktain shrimp feel finger hurry finger work get job middle minute howard step outside throw oh yeah guy live like jacuzzi balcony jacuzzi balcony wait tell get time machine balcony stuff speedos jacuzzi bob get point want balcony bi monthly basis time machine space end pasadena mrs bell deaf go hear knock ooh far future bring food dollar half owner balcony dude know time machine lose half value minute drive lot throw original mattel millenium falcon real light speed sound effect importantly darth vader voice changer oh dibs golden age flash bad call dibs look dibs wikipedia larry larry dibs match plus thousand rupee business leave okay leonard box let talk psh bunch crybaby gut glory man test new medication social anxiety panic attack agoraphobia obsessive compulsive disorder look test subject hey guess accept test subject new miracle drug overcome pathological shyness yes hopeful hello missy mention effect missy meet man exotic subcontinent india hog cylinder scooter basket hear kama sutra indian sex book word wonder wonder write book love missy enjoy pajama indian invent welcome dude hey look foreskin shiva destroyer woman happy medication stop smile excuse think miss big opportunity everybody know genetic diversity produce strong offspring little mocha family latte think focusse entirely drug hide need privacy grandmother apparently sick oh believe wash hair start dude thank apprec apprec appree oh oh keebler elf get keebler elf right okay stalemate dude everybody leave hour ago surprise okay leonard birthday party know dude kick ass drunk uh oh look girl take shirt oh sweet krishna shake rupee maker sell ebay slightly sure tell screw get penny old boyfriend enslave warlock stay till roll incredible manage screw screw',\n",
              " 'Sheldon': 'photon direct plane slit slit observe slit unobserved observe leave plane hit target go slit point think good idea tee shirt think place leonard think commit genetic fraud guarantee sperm go generate high iq offspring think sister basic dna mix hostesse fuddrucker know yearn fast download poor woman go pin hope sperm wind toddler know use integral differential solve area curve protocol leave let try walk mad sperm bank want hear interesting thing stair height single step little millimetre people trip true series experiment father break clavicle result work laser evidently pound transvestite skin condition yes go start season battlestar galactica commentary invite louis slash louise wide circle friend myspace beauty chat chat offline end leonard expert believe context luncheon invitation want skip reference bowel movement today try masturbate money actually work yeah quantum mechanic little string theory doodle edge joke spoof bourne oppenheimer approximation holy smoke mean derivative restatement kind stuff find scribble wall man room mit sure oh come see differential sit break hearted invent point um penny sit sit difference winter seat close radiator remain warm close cause perspiration summer directly path cross breeze create open window face television angle direct discourage conversation far wide create parallax distortion think point true koothrapali wolowitz come time tuesday night play klingon boggle morning resent say company antisocial implication yes tell participate mass cultural delusion sun apparent position relative arbitrarily define constellation time birth effect personality interesting leonard process corn lactose intolerant take year high school bad interesting development time woman clothe apartment point take time woman clothe want rip eye exactly try accomplish woman go sex oh good will disappoint yes specie think possibility help hinder discover luke skywalker tear shampoo leonard lady technically coitus interruptus think examine chain causality event beautiful woman stand naked shower event drive half way town retrieve television set aforementioned woman ex boyfriend query plane existence semi rational link event ah yes proximal cause journey know exist contradistinction high level distal cause think penis oh right yes stay watch wolowitz try hit penny russian arabic farsi tv break joyce kim defect north korea scene leonard carry tv leonard tv building deny access building ergo privilege watch mind work think combine iq good thinking muscle intercom tell iq mom buy pant go okay pantsing will get pant think like go die certainly go win nobel prize valid hypothesis happen thank mention imaginary thai food indian lunch curry base cuisine gastronomically redundant go spell girl know odd world far population car go veritable mack daddy bee season epinephrine need chopstick thai food thailand fork half nineteenth century interestingly actually fork mouth use food spoon go mouth swell howard personally pathology talk woman realize scene rife scientific inaccuracy oh let assume lois lane fall accelerate initial rate foot second second superman swoop save reach arm steel miss lane travel approximately mile hour hit immediately slice equal piece space sir space foot ground frankly love let hit pavement merciful death listen establish superman flight feat strength extension ability leap tall building ability derive earth yellow sun uh combination moon solar reflection energy storage capacity kryptonian skin cell challenge accept lock dolly lifting belt measurable upper body strength archimede proud yes involve green lantern power ring formula corner ah gravity thou art heartless bitch understand effort way increase odd have sexual congress woman yeah man sex watch finger watch finger oh god finger hurt great caesar ghost look place little messy mandelbrot set complex number little messy chaos excuse explain organizational system tray flatware couch valid infer couch evidence suggest coffee table have tiny garage sale excuse think find helpful time straighten home swirl vortex entropy immaculate mean open man closet leave right evening gown cocktail dress police uniform help run cable webcam penny want know live like sshh penny sleeping choice sleep know outside bedroom living room outside living room hallway immediately adjacent hallway give reasonable explanation ridiculous peer want speak low register evolution woman sensitive high pitch noise sleep rouse cry baby want avoid wake speak low register ridiculous leave time lean time clean sleep splendidly grant long deeply sarcasm grant method somewhat unorthodox think end result measurable enhancement penny quality life think cross line sarcasm sign want cereal feel good today go choose low fiber end shelf hello honey puff leave suggest organizational schematic bedroom closet goodbye honey puff hello big bran organize actually dirty se snore probably sinus infection sleep apnoea want otolaryngologist throat doctor depend depth proctologist general surgeon oh penny penny clarify discussion leave objection solely presence apartment sleep object imposition new organizational paradigm little non responsive sarcasm wooh boy place morning master phd truly sorry happen night responsibility hope will color opinion leonard wonderful guy hear gentle thorough lover imaginary girlfriend break consider great place look stereo run infra red repeater photocell emitter easy peasy hang penny fan water involve go ground crap thing right entire thing big heat sink good lord lock load get sword azeroth sheldon swordmaster goodbye peasant rogue knight elf people read character description wait wait wait somebody click buy wooh sweaty anybody want log second life swimming build virtual pool forget mail take accidentally purpose excuse talk penny thought tell hopeless infatuation devolve pointless jealousy retrieve black box twisted smoulder wreckage fantasy date analyze datum crash geek mountain dietician cafeteria limp lazy eye think shot notice lesley winkle recently start shave leg give winter come assume signal sexual availability depend learn robot able handle uh let ask learn robot bind asimov law robotic internet half hour oh see look go week moping tedious emo song call come pet store look cat know compile mix cd double hope scratch post leonard think satisfy need relationship genetically alter cat oh come leonard obviously penny okay look think chance have sexual relationship penny hubble telescope discover center black hole little man flashlight search circuit breaker feel obligate point reject ask point point buy cat oh goody get cat specific dark crescent shape pattern arm conceal nicely time date perfect give hour minute dense molecular cloud aramis dissipate rugby team oh possibility alcohol poor judgment lead nice romantic evening course possibility date kick unpleasant month pass awkwardly hall break move zip code sex start oh okay calm alright alright sit yes sit close eye try increase alpha wave activity bio feedback technique relaxation brain wave manipulation read paper journal american neuroscience little sparsely sourced think basic science valid probably get assume venereal tell routine colonoscopy bounce think want cancel expect score liquor poor judgment think time travel burner occur perfect time machine past eliminate need invent place yeah take pressure time travel leonard congratulation order know go enjoy party department party dr finkleday corner talk spelunk minute pleased meet dr gablehouser fortunate university choose hire despite fact original research year instead write series popular book reduce great concept science series anecdote dumbe accommodate duration average bowel movement mahalo know consonant hawaiian language plausible explanation work robotic amazing leap forward actual real scientist believe fire defence preface say respect breakfast experiment finally time test hypothesis separation water molecule egg protein impact vis vis taste want job spend half year stare greaseboard equation spend year work thesis college fifth grade day decade go savour fix egg fix egg use new egg oh circumstance people unfamiliar law large number coincidence need egg dozen suffice yes evenly distribute brown white free range large extra large jumbo take sabbatical will kow tow mediocre mind theoretical physicist can yeah door connect relay motion sensor involve door closing cause change air pressure act second door look leave space car let math car weigh let lb add oh sorry insult body mass tie self worth interesting give total weight let lb fine travel forward good lord mile hour let assume brake new calliper align time come stop occupy space buick impossibility nature quickly resolve death mutilation oh look build new course great look real world ordinary people live ordinary colourless workaday life thank thank ordinary person hey want hear interesting thing tomato uh yes know dynamic bacterial growth know pick refrigerated food way supermarket fun oh thing tomato think enjoy shelve vegetable technically fruit value take multivitamin human body absorb buy ingredient expensive urine want manganese fun maybe tomorrow big warehouse store sure lot advantage buy bulk example notice purchase tampon month supply time think product spoil go need thirty year thirty thirty hey mother menopause oh penny natural human process talk statistically significant saving assume tampon cycle day cycle fairly regular okay warehouse store golf right think time month mark calendar future reference experiment oh dead end scramble egg good go read article japanese scientist insert dna luminous jellyfish animal think hey fish nightlight billion dollar idea shh beginning idea bulk mail order feminine hygiene company oh glow dark tampon leonard go rich work luminous fish think hey loom mom sarape poncho sarape open side poncho close poncho reason mother go market penny buckle day go crabby yes child grown man capable live life fit certainly need tell mother room allow idea dna look like silicon base life form go apologize true ass kicking stupid death ray work um know week ago encounter get wrong foot call idiot want wrong point sure involve human experience elude dr gablehouser go new daddy alright move infantry division augment battalion orc lord ring flank tennessee volunteer north win battle gettysburg eat know good statistically unlikely like hamburger usually hamburger assumption like hamburger big boy burger big boy excuse world include big boy settle like big boy fine barbecue burger waitress yell big boy disturbing aberration ask embarrassing failure oh sorry suppose secret assume mean constitute couple consider cute alternate somewhat likely interpretation manufacture oh look leonard lesley mr mrs goldfarb adorable talk man western hemisphere capable follow train thought say follow care need opinion matter semiotic semiotic study sign symbol branch philosophy relate linguistic say leonard girl awkward oh yes usually plan courtship advance notice time able book cruise arctic solar eclipse date happen coincide leonard lesley winkle gangster know protocol stay leave wait greet refreshing beverage hi leonard sheldon living room want know see tie message receive welcome carry good lesley big boy touch board oh god board leonard leonard equation tamper equation course sure look beta function quantum chromodynamic sign change insane mind hey look fix problem have tell touch board come house touch board inconsiderate adjective inconsiderate stare mull boy wind awfully tight man sexual intercourse realize share nobel prize booty intelligent get lucky believe lucky know think misjudge restaurant will limb think look new tuesday hamburger way ahead think move big boy thursday drop soup plantation yeah confuse soup plantation grow soup terrific happy know plan come tuesday night foreseeable future speak permanently reserve table know hamburger surpass big boy single decker hamburger big boy double decker satisfying meat bun condiment ratio course listen blah blah hopeless penny delusion blah blah blah know annihilate incompetence inability people follow chain command want talk fact wolowitz shoot give clear concise order sure consider fragge troop fun clear space calendar enquiry dance halloween party yes costume random genre specific comic book anime tv film manga greek god roman god norse god want costume meeting care anybody get go doppler effect demonstrate neeooww exactly mean embarrass embarrassing father work lewis leakey great anthropologist bed wetting time costume parade start yeah judge prize good costume know frightening authentic accurate visual representation scientific principle party go suck yes apparent change frequency wave cause relative motion source wave observer confused costume parade telepathically kind sloppy costuming result lack rule competition like jane goodall observe ape initially see interaction confusing unstructured pattern emerge language newcomer approach exist group greeting waste meet approve chorus dude afraid embarrass alright go use flight metaphor suited guy faa analyze wreckage hint neeooww close neeooww neeooww doppler effect tell people seven dwarf yes doppler effect suppose disrupt local gravity field oh snap guess leave hypothesis maybe want friend want yes close male partner animal partner large primordial eggplant pretty tickle fancy true text back face face go wait sit go stand coffee table give reaction costume party scathing indictment american education system child leave tall immortal flash understand trouble let remind moral support absolute physical confrontation useless hobbit get happy halloween consolation think homo habilus line place tea people upset cultural convention bring hot beverage want talk maybe avenger summon sure fine hammer play mock flawed technology halo night suppose start yes decide lose minute come game time bathroom time pizza break oh fresh hell know apologize early outburst need halo regale delightfully folksy tale whore omaha oh good grief believe people pay horoscope note play halo play play team uh wheel great idea relativity great idea notion sucky complex battle simulation steep learning curve myriad weapon vehicle strategy master mention extremely intricate story yes partner hamstring lack experience mention fact sh okay good sportsmanship shoot somebody respawne need chance come raj raj get corner cover okay know cheat attractive skilled video game  laugh wait need tech support thing certain ethic game penny estab call carpal tunnel syndrome frankly deserve house guest frankly afford rent ask leave earthquake supply day man kit earthquake trap food tomorrow afternoon think happen engage logical fallacy extend argument ridiculous proportion criticize result appreciate okay obviously ignore let morning schedule use bathroom plan ablution bodily function accordingly suggest liquid p.m. head go end culturally universal bed temporary bed orient headboard away door serve ancient imperative protect oneself marauder yes use toothbrush jump window come funeral good night saturday live apartment awaken pour bowl cereal add quarter cup milk sit end couch turn bbc america watch doctor saturday live apartment awaken pour bowl cereal invalid woman celebrate mother day okay cereal lose molecular integrity bowl shredded wheat paste beloved child book read oh terrific run cute little settle christy stay howard penny apartment watch minute doctor point like doctor bother imagine kosher corn husker sorry wolowitz let walk standard steam dumple appetizer general tso chicken beef broccoli shrimp lobster sauce vegetable lo main problem entire order predicate dumpling entree divide people fine want eliminate get extra dumpling longer dumpling cut open good small open faced sandwich put need ahead collective good come punishable death fill dumpling need eliminate entree divide tell wolowitz see penny eat chinese food use fork double dip egg roll exactly win ton halo night yes penny appreciate fourth member halo team think need tell honor halo night dance wednesday dance night tonight halo night like talk wall yes portray completely irrational okay assume dance chinese restaurant assure cut dumpling third child play compare man attempt dance woman anger sir basic mathematic man restore semblance balance universe go ask choose sex halo far know sex upgrade include high def graphic enhance weapon system shoot cloaking cloaking dead man life hit pause damn online description completely misleading say slot plus removable would rational person mean room card tell removable would take slot nightmare wallet own say person time right batman signature parent probably consider meddling arranged marriage longer norm indian parent continue great average involvement child life confused speak cultural aspiration child enter medical profession love suggest romantic love basis marriage exist nineteenth century arranged marriage norm serve society understandable universality story transcend ethnicity need special edition dr sheldon cooper yeah need cancel membership planetarium yeah sorry room wallet yeah understand museum natural history frankly dinosaur miss bye bye okay know texte like stop okay lab animal supply company reseda try research go human application suggest white mouse instead brain chemistry far close certain obvious exception suicide example diet coke fine virgin cuba libre yes diet cuba libre traditionally come tall glass lime wedge bartender suppose people skill want come virgin diet cuba libre tall glass lime wedge princess punchali princess punchali monkey princess child story little boy get sick time mother read indian princess befriend monkey mock monkey different reason relate strongly woman look exactly like picture princess punchali book beloved fictional character come life forgive highness monkey nature climb mean gaze comb hair live embodiment beautiful princess punchali resemblance remarkable practically smell lotus blossom weave ebony hair shower twice day wash hand say god fashion eye star rose ashamed bloom presence ruby lip exactly kind spirit princess punchali lead monkey freedom luckily behead know low sperm count point ask drunk boring bore word eat lecture link gum disease heart attack know come home dentist look look get goosebump turn stereo send signal world internet sezchuan province china computer turn light find remote control car want slack know future disembody brain jar go look hour waste mention power saturday possibility trash spontaneously form letter occam razor suggest throw know read throw interest stand rose room pasadena marriott group judgmental stranger recognize true genius stand give speech leonard wrong way day win nobel prize day begin research drag co efficient tassle fly carpet nourishment expel waste inhale oxygen die optional lead author let think go alphabetically spare humiliation deal fact idea fine point throw bone welcome need proving suppose forbid take credit work throw bone welcome uh late copy applied particle physics quarterly penny save awkwardness know perfectly comfortable climb stair silence little misunder galileo pope little misunderstanding oh think like wonder experience physiological manifestation sort unconscious emotional turmoil poop morning certainly preferable plan powerful laxative excuse little idea course say little idea fun present lucky hunch try impress penny libido truth zero tell time pander undignified bite goodbye penny ooh day pkshh doctor sheldon cooper lead author particular paper thank sir completely skip walk park see child merry round start think moment inertia gas like helium temperature approach absolute zero oh apple fall newton head anecdote true gravity apparent apple continue underestimate good man explain repeatedly unlike need validation less mind offence know screw oh admit spherical chicken joke hilarious straight downhill admit egotist settle aneurysm hit see hit oh head people row splash zone offer ride home understand unhappy beg come come please apology yes sorry try blow head uncalle forget suit look arm wave like flamingo ritalin okay riddle assume good terminator originally evil terminator create skynet reprogramme future john connor skynet artificial computer intelligence bother create petite hot year old killer robot artificial intelligence teen fetish know cat sing hate guess scientist reach conclusion base observation experimentation say occur employ rhetorical device render response moot conclusion base observation lie penny casually rapid breathing increase perspiration lack physiological response lie characteristic violent sociopath imagine go kill long time ago mind clearly wake middle rem cycle state talk uncomfortable have include lie penny tell truth relevant factor suppose agree suggest effect singing appropriate vocation avocation disagree recommend cat scan look tumour press cognitive processing center brain play chess earlier terrific wait play goodnight analyze lie believe danger penny see ruse simple log click upcoming event scroll seminar download pdf schedule look seminar molecular positronium bippidy boppidy boo pant metaphorically fire sir trouser ignite today course watch link atomic clock boulder colorado accurate tenth second say occur question rhetorical remember leonard tell come performance attend symposium molecular positronium lie feel uncomfortable hungry tired sorry strong suit go lie eventually tell lie protect hunger indigestion sorry good penny believe friday night go participate cousin leopold drug intervention yea people leo answer lee remember important detail leonard success failure deceitful enterprise turn detail think lee lie laughably transparent exquisitely convoluted sleep weave un unravelable web yes google leopold houston find facebook page online blog depict descent drug use desperate hopeful listing ah long beach drive course cousin leo intervention focus leonard leave house friday night return wee hour emotionally wring work convince leo rehab yes relapse penny invite hear sing noble purpose spare social embarrassment have drug addle cousin assume embarrassing yes good tell penny embarrassed know find lie agree operate original lie force uh penny way perform night showcase production rent unable attend go symposium molecular positronium give dr emile farminfarmian break leg nice community queen mary dock large ocean liner world hotel restaurant host surprisingly grip murder mystery dinner leonard get nauseous sit iffy worry research addiction biochemical behavioral aspect think problem current version lie sadly substance abuse lifelong struggle realize leo describe agree rehab leo middle child read bio middle child quintessential middle child broken home boot psychologically speak attention get rebel point self destruction emotionally valuable help rehab fine hesitate point remind current predicament initial totally inadequate deceit try clean mess talk morning excuse go quintessential middle child addiction root unmet need attention information base solid research stick character profile write sorry leonard toby loobenfeld research assistant particle physics lab minore theatre mit leo go rehab completely plausible talk leave motel come home go middle child generic predisposition inadequate serotonin production subtextually course fun morning penny unfortunately able convince rehab convince leave motel come hello leo penny friend neighbor forget genetic predisposition addiction study double blind study control group parent right decision homeless drug addict leonard go boy lot learn lie checkmate obviously suited dimensional chess dimensional candyland speed humble suck different level datum hand draw conclusion absolute certainty joke funny kind sick need guess need know symptom appear friday morning afternoon think woman blow nose oh influenza contagious symptom appear die thousand year ago tool cave painting homo habilus figure kill guy runny nose thank consideration leave make petrie dish grow throat culture need growth medium polish apricot yoghurt swab throat leonard go ahead thing need find grow throat idea pathogen typhoid penny introduce environment have nebraska fairly certain cornhuske antibody lie comatose hospital rely inferior mind cure jello culture accompanying note fighting chance need measure fluid intake output sure kidney shut measure cup urine right oh dear god leonard leonard sick leonard leonard sick leonard leonard leonard leonard comforter fall sinus hurt bend leonard ow predict sick fever track exponentially produce sputum alarming rate shift clear milky green drink gas solid ionise plasma want soup soup need soup sick thank carrier people doom doom want soup penny iq imagine way soup home think think clearly febrile delirium set bring soup understand spoon mother split pea little frankfurter slice home crouton little frankfurter slice home crouton surprise moss green forest green thank bring home spend summer heidelberg institute germany visit professor local cuisine little sausage base result internal blitzkrieg low intestine play czechoslovakia mom fly texas help dad house slip cinderblock tornado season aluminum house housekeeper faculty residence speak english finally manage convince sick say du eine base happen assume mean like enema mom sponge bath wait rub chest vaporub make hand smell funny  counter clockwise chest hair mat sing soft kitty mom sing sick teach soft kitty warm kitty little ball fur happy kitty sleepy kitty purr purr purr little ball fur rub penny penny hungry leonard hungry want grill cheese think penny come care congested kitchen turkey baster label mucus sink yellow tupperware bowl problem teleportation assume device invent identify quantum state matter individual location transmit pattern distant location reassembly actually transport individual destroy location recreate personally use transporter original sheldon disintegrate order create new sheldon bad start graduate school fourteen excuse research mean dead end count hell mean dead end sense disturbance force wrong alright office oh alright desk book door close goodbye keen observation goodbye think consider think consider yes fact young person win year old denni kim year old correct work today go wolfgang amadeus mozart know guy oh god smart waste food texas cow go dry feed shoot eye yes assume dead hundred year asterisk cyborg course excel yes rational person entire life work invalidate post pubescent asian wunderkind cease fruitless effort donate body scientific research wait die decide right career arrival denni kim render research pointless find focus decide go collaborate exactly know chatter time pay attention oh sure schematic laser array hmm happen use argon laser instead helium neon pretty sure scientific normally work hunch guess stuff concerned share credit go engineering huh engineering noble semi skilled laborer execute vision think dream hello oompah loompah science well thing make today work uh huh shelf notice titanium consideration carbon nanotube light cheap half twice tensile strength note mother say love bubbula cogent argument titanium nanotube huh coincidence causal link miss oh good look decide drop work join lick cold fusion decade year top away hmm come yeah think appreciate exciting remarkable prospect nobel prize physics disappear thank decide refocus effort use people skill win nobel peace prize look go solve middle east crisis build exact replica jerusalem middle mexican desert know like baseball movie build come jewish people nice spread course oracle tell little neo matrix ah la la la hava nagila come settle win prize understand objection professor goldfarb senoran desert perfectly good promise land nuevo cherusalem say pharoah mose hey howard jew wail wall exactly like jerusalem close taco stand cheap prescription drug able wail okay definitely young till cyborg rise worry get lady gentleman honored daughter mr kim virtue youth naivety fall prey inexplicable need human contact let step assure research uninterrupted social relationship continue baffle repulse thank screw weak oh vulcan mating pon farr extremely private matter count want use intelligence tawdry competition ask picasso play pictionary ask noah webster play boggle ask jacque cousteau play fish reason play bridge hold chuppah enter olympic bobsle competition dammit team traditionally name fierce creature intimidate one opponent poor choice gram gram animal exceed relative fighting strength army ant point order vote team name unanimous man force emblazon chest bengal tiger common sense dictate army ant yield course answer adosecond course answer giant magneto resistance answer call teamwork logic answer anthropology question mammal course gravity probe manner war roman polite salt ground carthage sure grow objective competition correct answer know oh phd good idea need wrist brace button push aggravate old nintendo injury leonard excellent want look design perfect uniform team color base star trek original series wear support red wear command gold army ant physics bowl team call anodise aluminum oh neat occasion okay know come team meet team ergo team meet sorry winner physics bowl team fun point inform intend form team destroy molecular bond bind matter reduce result particulate chaos tear actually need team easily defeat single handedly rule require introduce floor janitor lady lunchroom spanish good son butcher team rat recruit ss sink ship yes polymerise tree sap non organic adhesive verbal projectile launch direction reflect return original trajectory adhere formal protest velcro wrist brace catch shirt course answer technetium time seventh erg calorie lamda equal pi r squared n sigma particle hang hang second answer know physics delightful little story arrangement sit answer question hey look maybe democracy beloved russia physics bowl team rule iron fist ow want different question formal protest informal protest decline provide understand question trophy meaningless forfeit win alright immature absolutely brady bunch william shatner get patrick stewart formal protest romulan sandwich unmitigated disaster ask turkey roast beef lettuce swiss wholewheat turkey roast beef swiss lettuce wholewheat right ingredient wrong order proper sandwich cheese adjacent bread create moisture barrier lettuce drag thing car wash know basic culinary science second leave auction wonder bid classic piece sci fi movie memorabilia need ask understand bid understand bid venn diagram individual locate intersection set longer want time machine need mean ask think work matter fast basic physic simple solution roof hop building small gap look subject vertigo use stairwell oh joke come vertigo worth think humorous know worried think work room exact time machine carry actor rod taylor victorian england post apocalyptic future society splinter faction sub terranean morlock survive feast flesh gentle surface dwelling eloy gentleman know say turn think agree practicality dictate remain alright think go need ground rule addition expect shoe time machine eating time machine propose add pant wear time time machine hold bi monthly ambiguous term mean month twice month wait minute want point time bell lab go crowded know oh solution future obtain cloaking device remember correctly captain kirk steal cloaking device romulan stardate january pre federation reckon time machine time machine move time bad useless swamp turn set day yesterday prevent buy past available present travel stop buy ergo classic rookie time travel mistake paradox travel time knock unconscious conversation irritate motivate knock unconscious will change past upset number thing late hour demeanour low energy plus irritability oh usually pick thing good oh wait want talk bother wow fire tonight disagree inability successfully woo penny long predate acquisition time machine failure clearly stand addition premise flawed original film rod taylor get yvette mimeaux time machine future marty mcfly get opportunity hook extremely attractive young mother course movie expect come example involve real life time machine absurd necessary need money sell blood seman spidey sense tell penny time machine stay right dibs apply bidding war number match exchange rate care long pick shall pass hypocrite little miss grown up play toy apartment right find beanie baby accumulator care bear little pony japanese feline frolic short hello hello kitty work work say mad work oh morlock flesh eat morlock e e e e e e elp rid time machine yeah problem big oh morlock eat eat aargh leonard late expect twin sister think funny frankly able exactly measure sense humor humormometer paper mail mom send spy genius genius tell mom currently weigh pound have regular bowel movement enjoy wedding goodbye friend imaginary colleague issue invitation mother shelly need place fire ceramic semi conductor substrate home integrated circuit necessary insistence go room assume second grade curriculum render quizzical fraternal twin come separate egg alike sibling ignore sister ignore excuse interject order pizza online okay pepperoni guess worry go order cheeseless okay lactose intolerance embarrassed hmm certainly symmetry low body fat western culture deem desirable noteworth point history heavy woman standard beauty girth suggest affluence fascinating say noteworthy oh okay know want criticise rhetorical style lot conversation begin thought say take unnecessary detour understand thesis understand yes share uterus month pretty go separate way consider share dna possibility remote rest loin potential individual remarkable right want missy fallopian tube alright juvenile squabble stop stop go settle right good sister personal prefer future niece nephew flatulent time eat eskimo pie leonard aware high genetic stake face fact suitable mate sister principle point practical matter need remind take experimental pharmaceutical simply enable speak opposite sex religion fact tiny tiny man live mother eat cheese fart sleep sister suddenly want talk usually want truthfully give thought point carry dna great potential let explain superior genetic mutation improvement exist mediocre stock reside potential tall smarter prone freckling sheldon exactly say sole decider mate attract suitor likelihood conception reduce frequent coitus dramatically increase odd fertiliziation think like cuckoo bird know superior creature egg place nest ordinary bird course newly hatch cuckoo eat food leave ordinary sibling starve death luckily metaphor end alternate proposal donate egg place cryogenic storage find appropriate sperm donor egg fertilize implant way everybody win weep humanity interested know refocus research bosonic string theory heteronic string theory okay pleasant see business testicle tell people rocket scientist theoretical physicist god tell toll taker golden gate bridge rocket scientist humiliating stop stalemate beat tetris get upper body strength keebler elf eat cheesecake lactose intolerant cream cheese frosting record psychotic rant concise summation research bertram forer prove conclusively meticulously design experiment astrology pseudo scientific hokum actually base sound theory mother publish paper obviously effective leonard grow experimental physicist deny christma little well talk overlapping area interest aware know care chit chat alright promising endeavour hardly think leonard clear want party think birthday party terrible idea envy leonard grow anguish year year endure wear conical hat force crowded sweaty hell bouncy castle mention blindfold spin grotesque tailless donkey child mock disorientation point extremely uncomfortable dancing loud music form alcohol induced frivolity addition think leonard want mark mint comic book longer mint course oh yeah idea let throw leonard kick ass birthday party secret knock secret knock point secret knock establish non verbal signal verify identity co conspirator possibly unverifie luckily nuclear reactor bring entire institution gift giving make sense let spend dollar laborious activity imagine need know need simplify thing dollar directly dollar birthday die leave old dollar rich ask worth accept premise reject conclusion question go leonard present party drive thing available walk distance thai restaurant gas station suppose wrap order mee krob couple lottery scratcher yes dvd burner leonard need dvd burner mean like sweater geometry make fun okay dvd burner buy fun like oh wireless router additional ethernet port need get connect switch penny go buy leonard gift go right refuse let experience childhood trauma twelfth birthday want titanium centrifuge know separate radioactive isotope instead titanium centrifuge parent buy wow hard get motorise dirt bike year old boy want motorise dirt bike want need point point peer network range extender depend bus penny poor man need hold right computer white okay stock special order yes apparently good luck way year old hack computer system yeah secure password wo de zhe shi sheldon wo de ming zi shi sheldon assume number language gesture phrase suppose know teacher obligation separate personal idiosyncrasy subject matter mai du lui tsa apology leonard good teacher believe szechuan palace pass orange chicken tangerine chicken intend confront surprising penny emotional response originate primitive portion brain know amygdala speech center recently develop neocortex easily overpower give scientific credence notion render speechless maybe want talk aware social convention require intervene twelfth century code chivalry exactly current knight apply howard go need mandarin lesson obviously point people like tangerine chicken get tangerine chicken actually think rendition far compelling previously feel sympathy leonard character find whiny annoying love tangerine chicken citrus peel gei wo kan ni jud di zi pei citrus peel gei wo kan ni jud di zi pei second pair underwear necessarily surprised lack familiarity leonard day discover loofah hide suppose man ashamed have loofah prefer excess epithelial cell slough naturally condemn seek accelerate process recently idea despite lactose intolerance tolerate small amount non fat ice cream produce noxious gas maintain right concentration weaponize ach look glass actually come apartment dance bring mind happy hippos fantasia oh wish simple spend time choose place sit number option familiar cushion density air flow pattern dispersion sunlight informed choice crazy ahead talk figure little crush suppose way menelaus little crush helen troy menelaus brother agamemnon leonard kind guy usually go open rotate couch clockwise thirty degree work koothrappali get free ipod oh glare light year unit distance time draft people hear word year think duration foot pound problem unit work weight okay think seat let consider schrodinger cat mrs grossinger cat mexican hairless annoy little animal yip yip yip yip sorry divert erwin schrodinger attempt explain copenhagen interpretation quantum physics propose experiment cat place box seal vial poison break open random time know poison release box open cat think alive dead course psychic thing psychic like schrodinger cat potential relationship leonard right think good bad open box find let start erwin schrodinger plan run marathon choose stuff mash potato starch fill redundancy mistake involve penny okay narrow people interested ah meal choice appropriate starch absorb fluid reduce vomit available violent expulsion common grammatical mistake say nauseous mean nauseate accept premise accept highly improbable assumption penny woman world logically conclude result blow end lonely bitter old man progeny image number evil lighthouse keeper scooby doo cartoon come mind alright response bring conversation speedy conclusion schrodinger cat sound surprised mm hou zi shui zai li du mucus mucus tangerine bicycle library mucus oxen bed oxen oy vey photon direct plane slit slit observe slit unobserved observe leave plane hit target go slit point think good idea tee shirt think place leonard think commit genetic fraud guarantee sperm go generate high iq offspring think sister basic dna mix hostesse fuddrucker know yearn fast download poor woman go pin hope sperm wind toddler know use integral differential solve area curve protocol leave let try walk mad sperm bank want hear interesting thing stair height single step little millimetre people trip true series experiment father break clavicle result work laser evidently pound transvestite skin condition yes go start season battlestar galactica commentary invite louis slash louise wide circle friend myspace beauty chat chat offline end leonard expert believe context luncheon invitation want skip reference bowel movement today try masturbate money actually work yeah quantum mechanic little string theory doodle edge joke spoof bourne oppenheimer approximation holy smoke mean derivative restatement kind stuff find scribble wall man room mit sure oh come see differential sit break hearted invent point um penny sit sit difference winter seat close radiator remain warm close cause perspiration summer directly path cross breeze create open window face television angle direct discourage conversation far wide create parallax distortion think point true koothrapali wolowitz come time tuesday night play klingon boggle morning resent say company antisocial implication yes tell participate mass cultural delusion sun apparent position relative arbitrarily define constellation time birth effect personality interesting leonard process corn lactose intolerant take year high school bad interesting development time woman clothe apartment point take time woman clothe want rip eye exactly try accomplish woman go sex oh good will disappoint yes specie think possibility help hinder discover luke skywalker tear shampoo leonard lady technically coitus interruptus think examine chain causality event beautiful woman stand naked shower event drive half way town retrieve television set aforementioned woman ex boyfriend query plane existence semi rational link event ah yes proximal cause journey know exist contradistinction high level distal cause think penis oh right yes stay watch wolowitz try hit penny russian arabic farsi tv break joyce kim defect north korea scene leonard carry tv leonard tv building deny access building ergo privilege watch mind work think combine iq good thinking muscle intercom tell iq mom buy pant go okay pantsing will get pant think like go die certainly go win nobel prize valid hypothesis happen thank mention imaginary thai food indian lunch curry base cuisine gastronomically redundant go spell girl know odd world far population car go veritable mack daddy bee season epinephrine need chopstick thai food thailand fork half nineteenth century interestingly actually fork mouth use food spoon go mouth swell howard personally pathology talk woman realize scene rife scientific inaccuracy oh let assume lois lane fall accelerate initial rate foot second second superman swoop save reach arm steel miss lane travel approximately mile hour hit immediately slice equal piece space sir space foot ground frankly love let hit pavement merciful death listen establish superman flight feat strength extension ability leap tall building ability derive earth yellow sun uh combination moon solar reflection energy storage capacity kryptonian skin cell challenge accept lock dolly lifting belt measurable upper body strength archimede proud yes involve green lantern power ring formula corner ah gravity thou art heartless bitch understand effort way increase odd have sexual congress woman yeah man sex watch finger watch finger oh god finger hurt great caesar ghost look place little messy mandelbrot set complex number little messy chaos excuse explain organizational system tray flatware couch valid infer couch evidence suggest coffee table have tiny garage sale excuse think find helpful time straighten home swirl vortex entropy immaculate mean open man closet leave right evening gown cocktail dress police uniform help run cable webcam penny want know live like sshh penny sleeping choice sleep know outside bedroom living room outside living room hallway immediately adjacent hallway give reasonable explanation ridiculous peer want speak low register evolution woman sensitive high pitch noise sleep rouse cry baby want avoid wake speak low register ridiculous leave time lean time clean sleep splendidly grant long deeply sarcasm grant method somewhat unorthodox think end result measurable enhancement penny quality life think cross line sarcasm sign want cereal feel good today go choose low fiber end shelf hello honey puff leave suggest organizational schematic bedroom closet goodbye honey puff hello big bran organize actually dirty se snore probably sinus infection sleep apnoea want otolaryngologist throat doctor depend depth proctologist general surgeon oh penny penny clarify discussion leave objection solely presence apartment sleep object imposition new organizational paradigm little non responsive sarcasm wooh boy place morning master phd truly sorry happen night responsibility hope will color opinion leonard wonderful guy hear gentle thorough lover imaginary girlfriend break consider great place look stereo run infra red repeater photocell emitter easy peasy hang penny fan water involve go ground crap thing right entire thing big heat sink good lord lock load get sword azeroth sheldon swordmaster goodbye peasant rogue knight elf people read character description wait wait wait somebody click buy wooh sweaty anybody want log second life swimming build virtual pool forget mail take accidentally purpose excuse talk penny thought tell hopeless infatuation devolve pointless jealousy retrieve black box twisted smoulder wreckage fantasy date analyze datum crash geek mountain dietician cafeteria limp lazy eye think shot notice lesley winkle recently start shave leg give winter come assume signal sexual availability depend learn robot able handle uh let ask learn robot bind asimov law robotic internet half hour oh see look go week moping tedious emo song call come pet store look cat know compile mix cd double hope scratch post leonard think satisfy need relationship genetically alter cat oh come leonard obviously penny okay look think chance have sexual relationship penny hubble telescope discover center black hole little man flashlight search circuit breaker feel obligate point reject ask point point buy cat oh goody get cat specific dark crescent shape pattern arm conceal nicely time date perfect give hour minute dense molecular cloud aramis dissipate rugby team oh possibility alcohol poor judgment lead nice romantic evening course possibility date kick unpleasant month pass awkwardly hall break move zip code sex start oh okay calm alright alright sit yes sit close eye try increase alpha wave activity bio feedback technique relaxation brain wave manipulation read paper journal american neuroscience little sparsely sourced think basic science valid probably get assume venereal tell routine colonoscopy bounce think want cancel expect score liquor poor judgment think time travel burner occur perfect time machine past eliminate need invent place yeah take pressure time travel leonard congratulation order know go enjoy party department party dr finkleday corner talk spelunk minute pleased meet dr gablehouser fortunate university choose hire despite fact original research year instead write series popular book reduce great concept science series anecdote dumbe accommodate duration average bowel movement mahalo know consonant hawaiian language plausible explanation work robotic amazing leap forward actual real scientist believe fire defence preface say respect breakfast experiment finally time test hypothesis separation water molecule egg protein impact vis vis taste want job spend half year stare greaseboard equation spend year work thesis college fifth grade day decade go savour fix egg fix egg use new egg oh circumstance people unfamiliar law large number coincidence need egg dozen suffice yes evenly distribute brown white free range large extra large jumbo take sabbatical will kow tow mediocre mind theoretical physicist can yeah door connect relay motion sensor involve door closing cause change air pressure act second door look leave space car let math car weigh let lb add oh sorry insult body mass tie self worth interesting give total weight let lb fine travel forward good lord mile hour let assume brake new calliper align time come stop occupy space buick impossibility nature quickly resolve death mutilation oh look build new course great look real world ordinary people live ordinary colourless workaday life thank thank ordinary person hey want hear interesting thing tomato uh yes know dynamic bacterial growth know pick refrigerated food way supermarket fun oh thing tomato think enjoy shelve vegetable technically fruit value take multivitamin human body absorb buy ingredient expensive urine want manganese fun maybe tomorrow big warehouse store sure lot advantage buy bulk example notice purchase tampon month supply time think product spoil go need thirty year thirty thirty hey mother menopause oh penny natural human process talk statistically significant saving assume tampon cycle day cycle fairly regular okay warehouse store golf right think time month mark calendar future reference experiment oh dead end scramble egg good go read article japanese scientist insert dna luminous jellyfish animal think hey fish nightlight billion dollar idea shh beginning idea bulk mail order feminine hygiene company oh glow dark tampon leonard go rich work luminous fish think hey loom mom sarape poncho sarape open side poncho close poncho reason mother go market penny buckle day go crabby yes child grown man capable live life fit certainly need tell mother room allow idea dna look like silicon base life form go apologize true ass kicking stupid death ray work um know week ago encounter get wrong foot call idiot want wrong point sure involve human experience elude dr gablehouser go new daddy alright move infantry division augment battalion orc lord ring flank tennessee volunteer north win battle gettysburg eat know good statistically unlikely like hamburger usually hamburger assumption like hamburger big boy burger big boy excuse world include big boy settle like big boy fine barbecue burger waitress yell big boy disturbing aberration ask embarrassing failure oh sorry suppose secret assume mean constitute couple consider cute alternate somewhat likely interpretation manufacture oh look leonard lesley mr mrs goldfarb adorable talk man western hemisphere capable follow train thought say follow care need opinion matter semiotic semiotic study sign symbol branch philosophy relate linguistic say leonard girl awkward oh yes usually plan courtship advance notice time able book cruise arctic solar eclipse date happen coincide leonard lesley winkle gangster know protocol stay leave wait greet refreshing beverage hi leonard sheldon living room want know see tie message receive welcome carry good lesley big boy touch board oh god board leonard leonard equation tamper equation course sure look beta function quantum chromodynamic sign change insane mind hey look fix problem have tell touch board come house touch board inconsiderate adjective inconsiderate stare mull boy wind awfully tight man sexual intercourse realize share nobel prize booty intelligent get lucky believe lucky know think misjudge restaurant will limb think look new tuesday hamburger way ahead think move big boy thursday drop soup plantation yeah confuse soup plantation grow soup terrific happy know plan come tuesday night foreseeable future speak permanently reserve table know hamburger surpass big boy single decker hamburger big boy double decker satisfying meat bun condiment ratio course listen blah blah hopeless penny delusion blah blah blah know annihilate incompetence inability people follow chain command want talk fact wolowitz shoot give clear concise order sure consider fragge troop fun clear space calendar enquiry dance halloween party yes costume random genre specific comic book anime tv film manga greek god roman god norse god want costume meeting care anybody get go doppler effect demonstrate neeooww exactly mean embarrass embarrassing father work lewis leakey great anthropologist bed wetting time costume parade start yeah judge prize good costume know frightening authentic accurate visual representation scientific principle party go suck yes apparent change frequency wave cause relative motion source wave observer confused costume parade telepathically kind sloppy costuming result lack rule competition like jane goodall observe ape initially see interaction confusing unstructured pattern emerge language newcomer approach exist group greeting waste meet approve chorus dude afraid embarrass alright go use flight metaphor suited guy faa analyze wreckage hint neeooww close neeooww neeooww doppler effect tell people seven dwarf yes doppler effect suppose disrupt local gravity field oh snap guess leave hypothesis maybe want friend want yes close male partner animal partner large primordial eggplant pretty tickle fancy true text back face face go wait sit go stand coffee table give reaction costume party scathing indictment american education system child leave tall immortal flash understand trouble let remind moral support absolute physical confrontation useless hobbit get happy halloween consolation think homo habilus line place tea people upset cultural convention bring hot beverage want talk maybe avenger summon sure fine hammer play mock flawed technology halo night suppose start yes decide lose minute come game time bathroom time pizza break oh fresh hell know apologize early outburst need halo regale delightfully folksy tale whore omaha oh good grief believe people pay horoscope note play halo play play team uh wheel great idea relativity great idea notion sucky complex battle simulation steep learning curve myriad weapon vehicle strategy master mention extremely intricate story yes partner hamstring lack experience mention fact sh okay good sportsmanship shoot somebody respawne need chance come raj raj get corner cover okay know cheat attractive skilled video game  laugh wait need tech support thing certain ethic game penny estab call carpal tunnel syndrome frankly deserve house guest frankly afford rent ask leave earthquake supply day man kit earthquake trap food tomorrow afternoon think happen engage logical fallacy extend argument ridiculous proportion criticize result appreciate okay obviously ignore let morning schedule use bathroom plan ablution bodily function accordingly suggest liquid p.m. head go end culturally universal bed temporary bed orient headboard away door serve ancient imperative protect oneself marauder yes use toothbrush jump window come funeral good night saturday live apartment awaken pour bowl cereal add quarter cup milk sit end couch turn bbc america watch doctor saturday live apartment awaken pour bowl cereal invalid woman celebrate mother day okay cereal lose molecular integrity bowl shredded wheat paste beloved child book read oh terrific run cute little settle christy stay howard penny apartment watch minute doctor point like doctor bother imagine kosher corn husker sorry wolowitz let walk standard steam dumple appetizer general tso chicken beef broccoli shrimp lobster sauce vegetable lo main problem entire order predicate dumpling entree divide people fine want eliminate get extra dumpling longer dumpling cut open good small open faced sandwich put need ahead collective good come punishable death fill dumpling need eliminate entree divide tell wolowitz see penny eat chinese food use fork double dip egg roll exactly win ton halo night yes penny appreciate fourth member halo team think need tell honor halo night dance wednesday dance night tonight halo night like talk wall yes portray completely irrational okay assume dance chinese restaurant assure cut dumpling third child play compare man attempt dance woman anger sir basic mathematic man restore semblance balance universe go ask choose sex halo far know sex upgrade include high def graphic enhance weapon system shoot cloaking cloaking dead man life hit pause damn online description completely misleading say slot plus removable would rational person mean room card tell removable would take slot nightmare wallet own say person time right batman signature parent probably consider meddling arranged marriage longer norm indian parent continue great average involvement child life confused speak cultural aspiration child enter medical profession love suggest romantic love basis marriage exist nineteenth century arranged marriage norm serve society understandable universality story transcend ethnicity need special edition dr sheldon cooper yeah need cancel membership planetarium yeah sorry room wallet yeah understand museum natural history frankly dinosaur miss bye bye okay know texte like stop okay lab animal supply company reseda try research go human application suggest white mouse instead brain chemistry far close certain obvious exception suicide example diet coke fine virgin cuba libre yes diet cuba libre traditionally come tall glass lime wedge bartender suppose people skill want come virgin diet cuba libre tall glass lime wedge princess punchali princess punchali monkey princess child story little boy get sick time mother read indian princess befriend monkey mock monkey different reason relate strongly woman look exactly like picture princess punchali book beloved fictional character come life forgive highness monkey nature climb mean gaze comb hair live embodiment beautiful princess punchali resemblance remarkable practically smell lotus blossom weave ebony hair shower twice day wash hand say god fashion eye star rose ashamed bloom presence ruby lip exactly kind spirit princess punchali lead monkey freedom luckily behead know low sperm count point ask drunk boring bore word eat lecture link gum disease heart attack know come home dentist look look get goosebump turn stereo send signal world internet sezchuan province china computer turn light find remote control car want slack know future disembody brain jar go look hour waste mention power saturday possibility trash spontaneously form letter occam razor suggest throw know read throw interest stand rose room pasadena marriott group judgmental stranger recognize true genius stand give speech leonard wrong way day win nobel prize day begin research drag co efficient tassle fly carpet nourishment expel waste inhale oxygen die optional lead author let think go alphabetically spare humiliation deal fact idea fine point throw bone welcome need proving suppose forbid take credit work throw bone welcome uh late copy applied particle physics quarterly penny save awkwardness know perfectly comfortable climb stair silence little misunder galileo pope little misunderstanding oh think like wonder experience physiological manifestation sort unconscious emotional turmoil poop morning certainly preferable plan powerful laxative excuse little idea course say little idea fun present lucky hunch try impress penny libido truth zero tell time pander undignified bite goodbye penny ooh day pkshh doctor sheldon cooper lead author particular paper thank sir completely skip walk park see child merry round start think moment inertia gas like helium temperature approach absolute zero oh apple fall newton head anecdote true gravity apparent apple continue underestimate good man explain repeatedly unlike need validation less mind offence know screw oh admit spherical chicken joke hilarious straight downhill admit egotist settle aneurysm hit see hit oh head people row splash zone offer ride home understand unhappy beg come come please apology yes sorry try blow head uncalle forget suit look arm wave like flamingo ritalin okay riddle assume good terminator originally evil terminator create skynet reprogramme future john connor skynet artificial computer intelligence bother create petite hot year old killer robot artificial intelligence teen fetish know cat sing hate guess scientist reach conclusion base observation experimentation say occur employ rhetorical device render response moot conclusion base observation lie penny casually rapid breathing increase perspiration lack physiological response lie characteristic violent sociopath imagine go kill long time ago mind clearly wake middle rem cycle state talk uncomfortable have include lie penny tell truth relevant factor suppose agree suggest effect singing appropriate vocation avocation disagree recommend cat scan look tumour press cognitive processing center brain play chess earlier terrific wait play goodnight analyze lie believe danger penny see ruse simple log click upcoming event scroll seminar download pdf schedule look seminar molecular positronium bippidy boppidy boo pant metaphorically fire sir trouser ignite today course watch link atomic clock boulder colorado accurate tenth second say occur question rhetorical remember leonard tell come performance attend symposium molecular positronium lie feel uncomfortable hungry tired sorry strong suit go lie eventually tell lie protect hunger indigestion sorry good penny believe friday night go participate cousin leopold drug intervention yea people leo answer lee remember important detail leonard success failure deceitful enterprise turn detail think lee lie laughably transparent exquisitely convoluted sleep weave un unravelable web yes google leopold houston find facebook page online blog depict descent drug use desperate hopeful listing ah long beach drive course cousin leo intervention focus leonard leave house friday night return wee hour emotionally wring work convince leo rehab yes relapse penny invite hear sing noble purpose spare social embarrassment have drug addle cousin assume embarrassing yes good tell penny embarrassed know find lie agree operate original lie force uh penny way perform night showcase production rent unable attend go symposium molecular positronium give dr emile farminfarmian break leg nice community queen mary dock large ocean liner world hotel restaurant host surprisingly grip murder mystery dinner leonard get nauseous sit iffy worry research addiction biochemical behavioral aspect think problem current version lie sadly substance abuse lifelong struggle realize leo describe agree rehab leo middle child read bio middle child quintessential middle child broken home boot psychologically speak attention get rebel point self destruction emotionally valuable help rehab fine hesitate point remind current predicament initial totally inadequate deceit try clean mess talk morning excuse go quintessential middle child addiction root unmet need attention information base solid research stick character profile write sorry leonard toby loobenfeld research assistant particle physics lab minore theatre mit leo go rehab completely plausible talk leave motel come home go middle child generic predisposition inadequate serotonin production subtextually course fun morning penny unfortunately able convince rehab convince leave motel come hello leo penny friend neighbor forget genetic predisposition addiction study double blind study control group parent right decision homeless drug addict leonard go boy lot learn lie checkmate obviously suited dimensional chess dimensional candyland speed humble suck different level datum hand draw conclusion absolute certainty joke funny kind sick need guess need know symptom appear friday morning afternoon think woman blow nose oh influenza contagious symptom appear die thousand year ago tool cave painting homo habilus figure kill guy runny nose thank consideration leave make petrie dish grow throat culture need growth medium polish apricot yoghurt swab throat leonard go ahead thing need find grow throat idea pathogen typhoid penny introduce environment have nebraska fairly certain cornhuske antibody lie comatose hospital rely inferior mind cure jello culture accompanying note fighting chance need measure fluid intake output sure kidney shut measure cup urine right oh dear god leonard leonard sick leonard leonard sick leonard leonard leonard leonard comforter fall sinus hurt bend leonard ow predict sick fever track exponentially produce sputum alarming rate shift clear milky green drink gas solid ionise plasma want soup soup need soup sick thank carrier people doom doom want soup penny iq imagine way soup home think think clearly febrile delirium set bring soup understand spoon mother split pea little frankfurter slice home crouton little frankfurter slice home crouton surprise moss green forest green thank bring home spend summer heidelberg institute germany visit professor local cuisine little sausage base result internal blitzkrieg low intestine play czechoslovakia mom fly texas help dad house slip cinderblock tornado season aluminum house housekeeper faculty residence speak english finally manage convince sick say du eine base happen assume mean like enema mom sponge bath wait rub chest vaporub make hand smell funny  counter clockwise chest hair mat sing soft kitty mom sing sick teach soft kitty warm kitty little ball fur happy kitty sleepy kitty purr purr purr little ball fur rub penny penny hungry leonard hungry want grill cheese think penny come care congested kitchen turkey baster label mucus sink yellow tupperware bowl problem teleportation assume device invent identify quantum state matter individual location transmit pattern distant location reassembly actually transport individual destroy location recreate personally use transporter original sheldon disintegrate order create new sheldon bad start graduate school fourteen excuse research mean dead end count hell mean dead end sense disturbance force wrong alright office oh alright desk book door close goodbye keen observation goodbye think consider think consider yes fact young person win year old denni kim year old correct work today go wolfgang amadeus mozart know guy oh god smart waste food texas cow go dry feed shoot eye yes assume dead hundred year asterisk cyborg course excel yes rational person entire life work invalidate post pubescent asian wunderkind cease fruitless effort donate body scientific research wait die decide right career arrival denni kim render research pointless find focus decide go collaborate exactly know chatter time pay attention oh sure schematic laser array hmm happen use argon laser instead helium neon pretty sure scientific normally work hunch guess stuff concerned share credit go engineering huh engineering noble semi skilled laborer execute vision think dream hello oompah loompah science well thing make today work uh huh shelf notice titanium consideration carbon nanotube light cheap half twice tensile strength note mother say love bubbula cogent argument titanium nanotube huh coincidence causal link miss oh good look decide drop work join lick cold fusion decade year top away hmm come yeah think appreciate exciting remarkable prospect nobel prize physics disappear thank decide refocus effort use people skill win nobel peace prize look go solve middle east crisis build exact replica jerusalem middle mexican desert know like baseball movie build come jewish people nice spread course oracle tell little neo matrix ah la la la hava nagila come settle win prize understand objection professor goldfarb senoran desert perfectly good promise land nuevo cherusalem say pharoah mose hey howard jew wail wall exactly like jerusalem close taco stand cheap prescription drug able wail okay definitely young till cyborg rise worry get lady gentleman honored daughter mr kim virtue youth naivety fall prey inexplicable need human contact let step assure research uninterrupted social relationship continue baffle repulse thank screw weak oh vulcan mating pon farr extremely private matter count want use intelligence tawdry competition ask picasso play pictionary ask noah webster play boggle ask jacque cousteau play fish reason play bridge hold chuppah enter olympic bobsle competition dammit team traditionally name fierce creature intimidate one opponent poor choice gram gram animal exceed relative fighting strength army ant point order vote team name unanimous man force emblazon chest bengal tiger common sense dictate army ant yield course answer adosecond course answer giant magneto resistance answer call teamwork logic answer anthropology question mammal course gravity probe manner war roman polite salt ground carthage sure grow objective competition correct answer know oh phd good idea need wrist brace button push aggravate old nintendo injury leonard excellent want look design perfect uniform team color base star trek original series wear support red wear command gold army ant physics bowl team call anodise aluminum oh neat occasion okay know come team meet team ergo team meet sorry winner physics bowl team fun point inform intend form team destroy molecular bond bind matter reduce result particulate chaos tear actually need team easily defeat single handedly rule require introduce floor janitor lady lunchroom spanish good son butcher team rat recruit ss sink ship yes polymerise tree sap non organic adhesive verbal projectile launch direction reflect return original trajectory adhere formal protest velcro wrist brace catch shirt course answer technetium time seventh erg calorie lamda equal pi r squared n sigma particle hang hang second answer know physics delightful little story arrangement sit answer question hey look maybe democracy beloved russia physics bowl team rule iron fist ow want different question formal protest informal protest decline provide understand question trophy meaningless forfeit win alright immature absolutely brady bunch william shatner get patrick stewart formal protest romulan sandwich unmitigated disaster ask turkey roast beef lettuce swiss wholewheat turkey roast beef swiss lettuce wholewheat right ingredient wrong order proper sandwich cheese adjacent bread create moisture barrier lettuce drag thing car wash know basic culinary science second leave auction wonder bid classic piece sci fi movie memorabilia need ask understand bid understand bid venn diagram individual locate intersection set longer want time machine need mean ask think work matter fast basic physic simple solution roof hop building small gap look subject vertigo use stairwell oh joke come vertigo worth think humorous know worried think work room exact time machine carry actor rod taylor victorian england post apocalyptic future society splinter faction sub terranean morlock survive feast flesh gentle surface dwelling eloy gentleman know say turn think agree practicality dictate remain alright think go need ground rule addition expect shoe time machine eating time machine propose add pant wear time time machine hold bi monthly ambiguous term mean month twice month wait minute want point time bell lab go crowded know oh solution future obtain cloaking device remember correctly captain kirk steal cloaking device romulan stardate january pre federation reckon time machine time machine move time bad useless swamp turn set day yesterday prevent buy past available present travel stop buy ergo classic rookie time travel mistake paradox travel time knock unconscious conversation irritate motivate knock unconscious will change past upset number thing late hour demeanour low energy plus irritability oh usually pick thing good oh wait want talk bother wow fire tonight disagree inability successfully woo penny long predate acquisition time machine failure clearly stand addition premise flawed original film rod taylor get yvette mimeaux time machine future marty mcfly get opportunity hook extremely attractive young mother course movie expect come example involve real life time machine absurd necessary need money sell blood seman spidey sense tell penny time machine stay right dibs apply bidding war number match exchange rate care long pick shall pass hypocrite little miss grown up play toy apartment right find beanie baby accumulator care bear little pony japanese feline frolic short hello hello kitty work work say mad work oh morlock flesh eat morlock e e e e e e elp rid time machine yeah problem big oh morlock eat eat aargh leonard late expect twin sister think funny frankly able exactly measure sense humor humormometer paper mail mom send spy genius genius tell mom currently weigh pound have regular bowel movement enjoy wedding goodbye friend imaginary colleague issue invitation mother shelly need place fire ceramic semi conductor substrate home integrated circuit necessary insistence go room assume second grade curriculum render quizzical fraternal twin come separate egg alike sibling ignore sister ignore excuse interject order pizza online okay pepperoni guess worry go order cheeseless okay lactose intolerance embarrassed hmm certainly symmetry low body fat western culture deem desirable noteworth point history heavy woman standard beauty girth suggest affluence fascinating say noteworthy oh okay know want criticise rhetorical style lot conversation begin thought say take unnecessary detour understand thesis understand yes share uterus month pretty go separate way consider share dna possibility remote rest loin potential individual remarkable right want missy fallopian tube alright juvenile squabble stop stop go settle right good sister personal prefer future niece nephew flatulent time eat eskimo pie leonard aware high genetic stake face fact suitable mate sister principle point practical matter need remind take experimental pharmaceutical simply enable speak opposite sex religion fact tiny tiny man live mother eat cheese fart sleep sister suddenly want talk usually want truthfully give thought point carry dna great potential let explain superior genetic mutation improvement exist mediocre stock reside potential tall smarter prone freckling sheldon exactly say sole decider mate attract suitor likelihood conception reduce frequent coitus dramatically increase odd fertiliziation think like cuckoo bird know superior creature egg place nest ordinary bird course newly hatch cuckoo eat food leave ordinary sibling starve death luckily metaphor end alternate proposal donate egg place cryogenic storage find appropriate sperm donor egg fertilize implant way everybody win weep humanity interested know refocus research bosonic string theory heteronic string theory okay pleasant see business testicle tell people rocket scientist theoretical physicist god tell toll taker golden gate bridge rocket scientist humiliating stop stalemate beat tetris get upper body strength keebler elf eat cheesecake lactose intolerant cream cheese frosting record psychotic rant concise summation research bertram forer prove conclusively meticulously design experiment astrology pseudo scientific hokum actually base sound theory mother publish paper obviously effective leonard grow experimental physicist deny christma little well talk overlapping area interest aware know care chit chat alright promising endeavour hardly think leonard clear want party think birthday party terrible idea envy leonard grow anguish year year endure wear conical hat force crowded sweaty hell bouncy castle mention blindfold spin grotesque tailless donkey child mock disorientation point extremely uncomfortable dancing loud music form alcohol induced frivolity addition think leonard want mark mint comic book longer mint course oh yeah idea let throw leonard kick ass birthday party secret knock secret knock point secret knock establish non verbal signal verify identity co conspirator possibly unverifie luckily nuclear reactor bring entire institution gift giving make sense let spend dollar laborious activity imagine need know need simplify thing dollar directly dollar birthday die leave old dollar rich ask worth accept premise reject conclusion question go leonard present party drive thing available walk distance thai restaurant gas station suppose wrap order mee krob couple lottery scratcher yes dvd burner leonard need dvd burner mean like sweater geometry make fun okay dvd burner buy fun like oh wireless router additional ethernet port need get connect switch penny go buy leonard gift go right refuse let experience childhood trauma twelfth birthday want titanium centrifuge know separate radioactive isotope instead titanium centrifuge parent buy wow hard get motorise dirt bike year old boy want motorise dirt bike want need point point peer network range extender depend bus penny poor man need hold right computer white okay stock special order yes apparently good luck way year old hack computer system yeah secure password wo de zhe shi sheldon wo de ming zi shi sheldon assume number language gesture phrase suppose know teacher obligation separate personal idiosyncrasy subject matter mai du lui tsa apology leonard good teacher believe szechuan palace pass orange chicken tangerine chicken intend confront surprising penny emotional response originate primitive portion brain know amygdala speech center recently develop neocortex easily overpower give scientific credence notion render speechless maybe want talk aware social convention require intervene twelfth century code chivalry exactly current knight apply howard go need mandarin lesson obviously point people like tangerine chicken get tangerine chicken actually think rendition far compelling previously feel sympathy leonard character find whiny annoying love tangerine chicken citrus peel gei wo kan ni jud di zi pei citrus peel gei wo kan ni jud di zi pei second pair underwear necessarily surprised lack familiarity leonard day discover loofah hide suppose man ashamed have loofah prefer excess epithelial cell slough naturally condemn seek accelerate process recently idea despite lactose intolerance tolerate small amount non fat ice cream produce noxious gas maintain right concentration weaponize ach look glass actually come apartment dance bring mind happy hippos fantasia oh wish simple spend time choose place sit number option familiar cushion density air flow pattern dispersion sunlight informed choice crazy ahead talk figure little crush suppose way menelaus little crush helen troy menelaus brother agamemnon leonard kind guy usually go open rotate couch clockwise thirty degree work koothrappali get free ipod oh glare light year unit distance time draft people hear word year think duration foot pound problem unit work weight okay think seat let consider schrodinger cat mrs grossinger cat mexican hairless annoy little animal yip yip yip yip sorry divert erwin schrodinger attempt explain copenhagen interpretation quantum physics propose experiment cat place box seal vial poison break open random time know poison release box open cat think alive dead course psychic thing psychic like schrodinger cat potential relationship leonard right think good bad open box find let start erwin schrodinger plan run marathon choose stuff mash potato starch fill redundancy mistake involve penny okay narrow people interested ah meal choice appropriate starch absorb fluid reduce vomit available violent expulsion common grammatical mistake say nauseous mean nauseate accept premise accept highly improbable assumption penny woman world logically conclude result blow end lonely bitter old man progeny image number evil lighthouse keeper scooby doo cartoon come mind alright response bring conversation speedy conclusion schrodinger cat sound surprised mm hou zi shui zai li du mucus mucus tangerine bicycle library mucus oxen bed oxen oy vey photon direct plane slit slit observe slit unobserved observe leave plane hit target go slit point think good idea tee shirt think place leonard think commit genetic fraud guarantee sperm go generate high iq offspring think sister basic dna mix hostesse fuddrucker know yearn fast download poor woman go pin hope sperm wind toddler know use integral differential solve area curve protocol leave let try walk mad sperm bank want hear interesting thing stair height single step little millimetre people trip true series experiment father break clavicle result work laser evidently pound transvestite skin condition yes go start season battlestar galactica commentary invite louis slash louise wide circle friend myspace beauty chat chat offline end leonard expert believe context luncheon invitation want skip reference bowel movement today try masturbate money actually work yeah quantum mechanic little string theory doodle edge joke spoof bourne oppenheimer approximation holy smoke mean derivative restatement kind stuff find scribble wall man room mit sure oh come see differential sit break hearted invent point um penny sit sit difference winter seat close radiator remain warm close cause perspiration summer directly path cross breeze create open window face television angle direct discourage conversation far wide create parallax distortion think point true koothrapali wolowitz come time tuesday night play klingon boggle morning resent say company antisocial implication yes tell participate mass cultural delusion sun apparent position relative arbitrarily define constellation time birth effect personality interesting leonard process corn lactose intolerant take year high school bad interesting development time woman clothe apartment point take time woman clothe want rip eye exactly try accomplish woman go sex oh good will disappoint yes specie think possibility help hinder discover luke skywalker tear shampoo leonard lady technically coitus interruptus think examine chain causality event beautiful woman stand naked shower event drive half way town retrieve television set aforementioned woman ex boyfriend query plane existence semi rational link event ah yes proximal cause journey know exist contradistinction high level distal cause think penis oh right yes stay watch wolowitz try hit penny russian arabic farsi tv break joyce kim defect north korea scene leonard carry tv leonard tv building deny access building ergo privilege watch mind work think combine iq good thinking muscle intercom tell iq mom buy pant go okay pantsing will get pant think like go die certainly go win nobel prize valid hypothesis happen thank mention imaginary thai food indian lunch curry base cuisine gastronomically redundant go spell girl know odd world far population car go veritable mack daddy bee season epinephrine need chopstick thai food thailand fork half nineteenth century interestingly actually fork mouth use food spoon go mouth swell howard personally pathology talk woman realize scene rife scientific inaccuracy oh let assume lois lane fall accelerate initial rate foot second second superman swoop save reach arm steel miss lane travel approximately mile hour hit immediately slice equal piece space sir space foot ground frankly love let hit pavement merciful death listen establish superman flight feat strength extension ability leap tall building ability derive earth yellow sun uh combination moon solar reflection energy storage capacity kryptonian skin cell challenge accept lock dolly lifting belt measurable upper body strength archimede proud yes involve green lantern power ring formula corner ah gravity thou art heartless bitch understand effort way increase odd have sexual congress woman yeah man sex watch finger watch finger oh god finger hurt great caesar ghost look place little messy mandelbrot set complex number little messy chaos excuse explain organizational system tray flatware couch valid infer couch evidence suggest coffee table have tiny garage sale excuse think find helpful time straighten home swirl vortex entropy immaculate mean open man closet leave right evening gown cocktail dress police uniform help run cable webcam penny want know live like sshh penny sleeping choice sleep know outside bedroom living room outside living room hallway immediately adjacent hallway give reasonable explanation ridiculous peer want speak low register evolution woman sensitive high pitch noise sleep rouse cry baby want avoid wake speak low register ridiculous leave time lean time clean sleep splendidly grant long deeply sarcasm grant method somewhat unorthodox think end result measurable enhancement penny quality life think cross line sarcasm sign want cereal feel good today go choose low fiber end shelf hello honey puff leave suggest organizational schematic bedroom closet goodbye honey puff hello big bran organize actually dirty se snore probably sinus infection sleep apnoea want otolaryngologist throat doctor depend depth proctologist general surgeon oh penny penny clarify discussion leave objection solely presence apartment sleep object imposition new organizational paradigm little non responsive sarcasm wooh boy place morning master phd truly sorry happen night responsibility hope will color opinion leonard wonderful guy hear gentle thorough lover imaginary girlfriend break consider great place look stereo run infra red repeater photocell emitter easy peasy hang penny fan water involve go ground crap thing right entire thing big heat sink good lord lock load get sword azeroth sheldon swordmaster goodbye peasant rogue knight elf people read character description wait wait wait somebody click buy wooh sweaty anybody want log second life swimming build virtual pool forget mail take accidentally purpose excuse talk penny thought tell hopeless infatuation devolve pointless jealousy retrieve black box twisted smoulder wreckage fantasy date analyze datum crash geek mountain dietician cafeteria limp lazy eye think shot notice lesley winkle recently start shave leg give winter come assume signal sexual availability depend learn robot able handle uh let ask learn robot bind asimov law robotic internet half hour oh see look go week moping tedious emo song call come pet store look cat know compile mix cd double hope scratch post leonard think satisfy need relationship genetically alter cat oh come leonard obviously penny okay look think chance have sexual relationship penny hubble telescope discover center black hole little man flashlight search circuit breaker feel obligate point reject ask point point buy cat oh goody get cat specific dark crescent shape pattern arm conceal nicely time date perfect give hour minute dense molecular cloud aramis dissipate rugby team oh possibility alcohol poor judgment lead nice romantic evening course possibility date kick unpleasant month pass awkwardly hall break move zip code sex start oh okay calm alright alright sit yes sit close eye try increase alpha wave activity bio feedback technique relaxation brain wave manipulation read paper journal american neuroscience little sparsely sourced think basic science valid probably get assume venereal tell routine colonoscopy bounce think want cancel expect score liquor poor judgment think time travel burner occur perfect time machine past eliminate need invent place yeah take pressure time travel leonard congratulation order know go enjoy party department party dr finkleday corner talk spelunk minute pleased meet dr gablehouser fortunate university choose hire despite fact original research year instead write series popular book reduce great concept science series anecdote dumbe accommodate duration average bowel movement mahalo know consonant hawaiian language plausible explanation work robotic amazing leap forward actual real scientist believe fire defence preface say respect breakfast experiment finally time test hypothesis separation water molecule egg protein impact vis vis taste want job spend half year stare greaseboard equation spend year work thesis college fifth grade day decade go savour fix egg fix egg use new egg oh circumstance people unfamiliar law large number coincidence need egg dozen suffice yes evenly distribute brown white free range large extra large jumbo take sabbatical will kow tow mediocre mind theoretical physicist can yeah door connect relay motion sensor involve door closing cause change air pressure act second door look leave space car let math car weigh let lb add oh sorry insult body mass tie self worth interesting give total weight let lb fine travel forward good lord mile hour let assume brake new calliper align time come stop occupy space buick impossibility nature quickly resolve death mutilation oh look build new course great look real world ordinary people live ordinary colourless workaday life thank thank ordinary person hey want hear interesting thing tomato uh yes know dynamic bacterial growth know pick refrigerated food way supermarket fun oh thing tomato think enjoy shelve vegetable technically fruit value take multivitamin human body absorb buy ingredient expensive urine want manganese fun maybe tomorrow big warehouse store sure lot advantage buy bulk example notice purchase tampon month supply time think product spoil go need thirty year thirty thirty hey mother menopause oh penny natural human process talk statistically significant saving assume tampon cycle day cycle fairly regular okay warehouse store golf right think time month mark calendar future reference experiment oh dead end scramble egg good go read article japanese scientist insert dna luminous jellyfish animal think hey fish nightlight billion dollar idea shh beginning idea bulk mail order feminine hygiene company oh glow dark tampon leonard go rich work luminous fish think hey loom mom sarape poncho sarape open side poncho close poncho reason mother go market penny buckle day go crabby yes child grown man capable live life fit certainly need tell mother room allow idea dna look like silicon base life form go apologize true ass kicking stupid death ray work um know week ago encounter get wrong foot call idiot want wrong point sure involve human experience elude dr gablehouser go new daddy alright move infantry division augment battalion orc lord ring flank tennessee volunteer north win battle gettysburg eat know good statistically unlikely like hamburger usually hamburger assumption like hamburger big boy burger big boy excuse world include big boy settle like big boy fine barbecue burger waitress yell big boy disturbing aberration ask embarrassing failure oh sorry suppose secret assume mean constitute couple consider cute alternate somewhat likely interpretation manufacture oh look leonard lesley mr mrs goldfarb adorable talk man western hemisphere capable follow train thought say follow care need opinion matter semiotic semiotic study sign symbol branch philosophy relate linguistic say leonard girl awkward oh yes usually plan courtship advance notice time able book cruise arctic solar eclipse date happen coincide leonard lesley winkle gangster know protocol stay leave wait greet refreshing beverage hi leonard sheldon living room want know see tie message receive welcome carry good lesley big boy touch board oh god board leonard leonard equation tamper equation course sure look beta function quantum chromodynamic sign change insane mind hey look fix problem have tell touch board come house touch board inconsiderate adjective inconsiderate stare mull boy wind awfully tight man sexual intercourse realize share nobel prize booty intelligent get lucky believe lucky know think misjudge restaurant will limb think look new tuesday hamburger way ahead think move big boy thursday drop soup plantation yeah confuse soup plantation grow soup terrific happy know plan come tuesday night foreseeable future speak permanently reserve table know hamburger surpass big boy single decker hamburger big boy double decker satisfying meat bun condiment ratio course listen blah blah hopeless penny delusion blah blah blah know annihilate incompetence inability people follow chain command want talk fact wolowitz shoot give clear concise order sure consider fragge troop fun clear space calendar enquiry dance halloween party yes costume random genre specific comic book anime tv film manga greek god roman god norse god want costume meeting care anybody get go doppler effect demonstrate neeooww exactly mean embarrass embarrassing father work lewis leakey great anthropologist bed wetting time costume parade start yeah judge prize good costume know frightening authentic accurate visual representation scientific principle party go suck yes apparent change frequency wave cause relative motion source wave observer confused costume parade telepathically kind sloppy costuming result lack rule competition like jane goodall observe ape initially see interaction confusing unstructured pattern emerge language newcomer approach exist group greeting waste meet approve chorus dude afraid embarrass alright go use flight metaphor suited guy faa analyze wreckage hint neeooww close neeooww neeooww doppler effect tell people seven dwarf yes doppler effect suppose disrupt local gravity field oh snap guess leave hypothesis maybe want friend want yes close male partner animal partner large primordial eggplant pretty tickle fancy true text back face face go wait sit go stand coffee table give reaction costume party scathing indictment american education system child leave tall immortal flash understand trouble let remind moral support absolute physical confrontation useless hobbit get happy halloween consolation think homo habilus line place tea people upset cultural convention bring hot beverage want talk maybe avenger summon sure fine hammer play mock flawed technology halo night suppose start yes decide lose minute come game time bathroom time pizza break oh fresh hell know apologize early outburst need halo regale delightfully folksy tale whore omaha oh good grief believe people pay horoscope note play halo play play team uh wheel great idea relativity great idea notion sucky complex battle simulation steep learning curve myriad weapon vehicle strategy master mention extremely intricate story yes partner hamstring lack experience mention fact sh okay good sportsmanship shoot somebody respawne need chance come raj raj get corner cover okay know cheat attractive skilled video game  laugh wait need tech support thing certain ethic game penny estab call carpal tunnel syndrome frankly deserve house guest frankly afford rent ask leave earthquake supply day man kit earthquake trap food tomorrow afternoon think happen engage logical fallacy extend argument ridiculous proportion criticize result appreciate okay obviously ignore let morning schedule use bathroom plan ablution bodily function accordingly suggest liquid p.m. head go end culturally universal bed temporary bed orient headboard away door serve ancient imperative protect oneself marauder yes use toothbrush jump window come funeral good night saturday live apartment awaken pour bowl cereal add quarter cup milk sit end couch turn bbc america watch doctor saturday live apartment awaken pour bowl cereal invalid woman celebrate mother day okay cereal lose molecular integrity bowl shredded wheat paste beloved child book read oh terrific run cute little settle christy stay howard penny apartment watch minute doctor point like doctor bother imagine kosher corn husker sorry wolowitz let walk standard steam dumple appetizer general tso chicken beef broccoli shrimp lobster sauce vegetable lo main problem entire order predicate dumpling entree divide people fine want eliminate get extra dumpling longer dumpling cut open good small open faced sandwich put need ahead collective good come punishable death fill dumpling need eliminate entree divide tell wolowitz see penny eat chinese food use fork double dip egg roll exactly win ton halo night yes penny appreciate fourth member halo team think need tell honor halo night dance wednesday dance night tonight halo night like talk wall yes portray completely irrational okay assume dance chinese restaurant assure cut dumpling third child play compare man attempt dance woman anger sir basic mathematic man restore semblance balance universe go ask choose sex halo far know sex upgrade include high def graphic enhance weapon system shoot cloaking cloaking dead man life hit pause damn online description completely misleading say slot plus removable would rational person mean room card tell removable would take slot nightmare wallet own say person time right batman signature parent probably consider meddling arranged marriage longer norm indian parent continue great average involvement child life confused speak cultural aspiration child enter medical profession love suggest romantic love basis marriage exist nineteenth century arranged marriage norm serve society understandable universality story transcend ethnicity need special edition dr sheldon cooper yeah need cancel membership planetarium yeah sorry room wallet yeah understand museum natural history frankly dinosaur miss bye bye okay know texte like stop okay lab animal supply company reseda try research go human application suggest white mouse instead brain chemistry far close certain obvious exception suicide example diet coke fine virgin cuba libre yes diet cuba libre traditionally come tall glass lime wedge bartender suppose people skill want come virgin diet cuba libre tall glass lime wedge princess punchali princess punchali monkey princess child story little boy get sick time mother read indian princess befriend monkey mock monkey different reason relate strongly woman look exactly like picture princess punchali book beloved fictional character come life forgive highness monkey nature climb mean gaze comb hair live embodiment beautiful princess punchali resemblance remarkable practically smell lotus blossom weave ebony hair shower twice day wash hand say god fashion eye star rose ashamed bloom presence ruby lip exactly kind spirit princess punchali lead monkey freedom luckily behead know low sperm count point ask drunk boring bore word eat lecture link gum disease heart attack know come home dentist look look get goosebump turn stereo send signal world internet sezchuan province china computer turn light find remote control car want slack know future disembody brain jar go look hour waste mention power saturday possibility trash spontaneously form letter occam razor suggest throw know read throw interest stand rose room pasadena marriott group judgmental stranger recognize true genius stand give speech leonard wrong way day win nobel prize day begin research drag co efficient tassle fly carpet nourishment expel waste inhale oxygen die optional lead author let think go alphabetically spare humiliation deal fact idea fine point throw bone welcome need proving suppose forbid take credit work throw bone welcome uh late copy applied particle physics quarterly penny save awkwardness know perfectly comfortable climb stair silence little misunder galileo pope little misunderstanding oh think like wonder experience physiological manifestation sort unconscious emotional turmoil poop morning certainly preferable plan powerful laxative excuse little idea course say little idea fun present lucky hunch try impress penny libido truth zero tell time pander undignified bite goodbye penny ooh day pkshh doctor sheldon cooper lead author particular paper thank sir completely skip walk park see child merry round start think moment inertia gas like helium temperature approach absolute zero oh apple fall newton head anecdote true gravity apparent apple continue underestimate good man explain repeatedly unlike need validation less mind offence know screw oh admit spherical chicken joke hilarious straight downhill admit egotist settle aneurysm hit see hit oh head people row splash zone offer ride home understand unhappy beg come come please apology yes sorry try blow head uncalle forget suit look arm wave like flamingo ritalin okay riddle assume good terminator originally evil terminator create skynet reprogramme future john connor skynet artificial computer intelligence bother create petite hot year old killer robot artificial intelligence teen fetish know cat sing hate guess scientist reach conclusion base observation experimentation say occur employ rhetorical device render response moot conclusion base observation lie penny casually rapid breathing increase perspiration lack physiological response lie characteristic violent sociopath imagine go kill long time ago mind clearly wake middle rem cycle state talk uncomfortable have include lie penny tell truth relevant factor suppose agree suggest effect singing appropriate vocation avocation disagree recommend cat scan look tumour press cognitive processing center brain play chess earlier terrific wait play goodnight analyze lie believe danger penny see ruse simple log click upcoming event scroll seminar download pdf schedule look seminar molecular positronium bippidy boppidy boo pant metaphorically fire sir trouser ignite today course watch link atomic clock boulder colorado accurate tenth second say occur question rhetorical remember leonard tell come performance attend symposium molecular positronium lie feel uncomfortable hungry tired sorry strong suit go lie eventually tell lie protect hunger indigestion sorry good penny believe friday night go participate cousin leopold drug intervention yea people leo answer lee remember important detail leonard success failure deceitful enterprise turn detail think lee lie laughably transparent exquisitely convoluted sleep weave un unravelable web yes google leopold houston find facebook page online blog depict descent drug use desperate hopeful listing ah long beach drive course cousin leo intervention focus leonard leave house friday night return wee hour emotionally wring work convince leo rehab yes relapse penny invite hear sing noble purpose spare social embarrassment have drug addle cousin assume embarrassing yes good tell penny embarrassed know find lie agree operate original lie force uh penny way perform night showcase production rent unable attend go symposium molecular positronium give dr emile farminfarmian break leg nice community queen mary dock large ocean liner world hotel restaurant host surprisingly grip murder mystery dinner leonard get nauseous sit iffy worry research addiction biochemical behavioral aspect think problem current version lie sadly substance abuse lifelong struggle realize leo describe agree rehab leo middle child read bio middle child quintessential middle child broken home boot psychologically speak attention get rebel point self destruction emotionally valuable help rehab fine hesitate point remind current predicament initial totally inadequate deceit try clean mess talk morning excuse go quintessential middle child addiction root unmet need attention information base solid research stick character profile write sorry leonard toby loobenfeld research assistant particle physics lab minore theatre mit leo go rehab completely plausible talk leave motel come home go middle child generic predisposition inadequate serotonin production subtextually course fun morning penny unfortunately able convince rehab convince leave motel come hello leo penny friend neighbor forget genetic predisposition addiction study double blind study control group parent right decision homeless drug addict leonard go boy lot learn lie checkmate obviously suited dimensional chess dimensional candyland speed humble suck different level datum hand draw conclusion absolute certainty joke funny kind sick need guess need know symptom appear friday morning afternoon think woman blow nose oh influenza contagious symptom appear die thousand year ago tool cave painting homo habilus figure kill guy runny nose thank consideration leave make petrie dish grow throat culture need growth medium polish apricot yoghurt swab throat leonard go ahead thing need find grow throat idea pathogen typhoid penny introduce environment have nebraska fairly certain cornhuske antibody lie comatose hospital rely inferior mind cure jello culture accompanying note fighting chance need measure fluid intake output sure kidney shut measure cup urine right oh dear god leonard leonard sick leonard leonard sick leonard leonard leonard leonard comforter fall sinus hurt bend leonard ow predict sick fever track exponentially produce sputum alarming rate shift clear milky green drink gas solid ionise plasma want soup soup need soup sick thank carrier people doom doom want soup penny iq imagine way soup home think think clearly febrile delirium set bring soup understand spoon mother split pea little frankfurter slice home crouton little frankfurter slice home crouton surprise moss green forest green thank bring home spend summer heidelberg institute germany visit professor local cuisine little sausage base result internal blitzkrieg low intestine play czechoslovakia mom fly texas help dad house slip cinderblock tornado season aluminum house housekeeper faculty residence speak english finally manage convince sick say du eine base happen assume mean like enema mom sponge bath wait rub chest vaporub make hand smell funny  counter clockwise chest hair mat sing soft kitty mom sing sick teach soft kitty warm kitty little ball fur happy kitty sleepy kitty purr purr purr little ball fur rub penny penny hungry leonard hungry want grill cheese think penny come care congested kitchen turkey baster label mucus sink yellow tupperware bowl problem teleportation assume device invent identify quantum state matter individual location transmit pattern distant location reassembly actually transport individual destroy location recreate personally use transporter original sheldon disintegrate order create new sheldon bad start graduate school fourteen excuse research mean dead end count hell mean dead end sense disturbance force wrong alright office oh alright desk book door close goodbye keen observation goodbye think consider think consider yes fact young person win year old denni kim year old correct work today go wolfgang amadeus mozart know guy oh god smart waste food texas cow go dry feed shoot eye yes assume dead hundred year asterisk cyborg course excel yes rational person entire life work invalidate post pubescent asian wunderkind cease fruitless effort donate body scientific research wait die decide right career arrival denni kim render research pointless find focus decide go collaborate exactly know chatter time pay attention oh sure schematic laser array hmm happen use argon laser instead helium neon pretty sure scientific normally work hunch guess stuff concerned share credit go engineering huh engineering noble semi skilled laborer execute vision think dream hello oompah loompah science well thing make today work uh huh shelf notice titanium consideration carbon nanotube light cheap half twice tensile strength note mother say love bubbula cogent argument titanium nanotube huh coincidence causal link miss oh good look decide drop work join lick cold fusion decade year top away hmm come yeah think appreciate exciting remarkable prospect nobel prize physics disappear thank decide refocus effort use people skill win nobel peace prize look go solve middle east crisis build exact replica jerusalem middle mexican desert know like baseball movie build come jewish people nice spread course oracle tell little neo matrix ah la la la hava nagila come settle win prize understand objection professor goldfarb senoran desert perfectly good promise land nuevo cherusalem say pharoah mose hey howard jew wail wall exactly like jerusalem close taco stand cheap prescription drug able wail okay definitely young till cyborg rise worry get lady gentleman honored daughter mr kim virtue youth naivety fall prey inexplicable need human contact let step assure research uninterrupted social relationship continue baffle repulse thank screw weak oh vulcan mating pon farr extremely private matter count want use intelligence tawdry competition ask picasso play pictionary ask noah webster play boggle ask jacque cousteau play fish reason play bridge hold chuppah enter olympic bobsle competition dammit team traditionally name fierce creature intimidate one opponent poor choice gram gram animal exceed relative fighting strength army ant point order vote team name unanimous man force emblazon chest bengal tiger common sense dictate army ant yield course answer adosecond course answer giant magneto resistance answer call teamwork logic answer anthropology question mammal course gravity probe manner war roman polite salt ground carthage sure grow objective competition correct answer know oh phd good idea need wrist brace button push aggravate old nintendo injury leonard excellent want look design perfect uniform team color base star trek original series wear support red wear command gold army ant physics bowl team call anodise aluminum oh neat occasion okay know come team meet team ergo team meet sorry winner physics bowl team fun point inform intend form team destroy molecular bond bind matter reduce result particulate chaos tear actually need team easily defeat single handedly rule require introduce floor janitor lady lunchroom spanish good son butcher team rat recruit ss sink ship yes polymerise tree sap non organic adhesive verbal projectile launch direction reflect return original trajectory adhere formal protest velcro wrist brace catch shirt course answer technetium time seventh erg calorie lamda equal pi r squared n sigma particle hang hang second answer know physics delightful little story arrangement sit answer question hey look maybe democracy beloved russia physics bowl team rule iron fist ow want different question formal protest informal protest decline provide understand question trophy meaningless forfeit win alright immature absolutely brady bunch william shatner get patrick stewart formal protest romulan sandwich unmitigated disaster ask turkey roast beef lettuce swiss wholewheat turkey roast beef swiss lettuce wholewheat right ingredient wrong order proper sandwich cheese adjacent bread create moisture barrier lettuce drag thing car wash know basic culinary science second leave auction wonder bid classic piece sci fi movie memorabilia need ask understand bid understand bid venn diagram individual locate intersection set longer want time machine need mean ask think work matter fast basic physic simple solution roof hop building small gap look subject vertigo use stairwell oh joke come vertigo worth think humorous know worried think work room exact time machine carry actor rod taylor victorian england post apocalyptic future society splinter faction sub terranean morlock survive feast flesh gentle surface dwelling eloy gentleman know say turn think agree practicality dictate remain alright think go need ground rule addition expect shoe time machine eating time machine propose add pant wear time time machine hold bi monthly ambiguous term mean month twice month wait minute want point time bell lab go crowded know oh solution future obtain cloaking device remember correctly captain kirk steal cloaking device romulan stardate january pre federation reckon time machine time machine move time bad useless swamp turn set day yesterday prevent buy past available present travel stop buy ergo classic rookie time travel mistake paradox travel time knock unconscious conversation irritate motivate knock unconscious will change past upset number thing late hour demeanour low energy plus irritability oh usually pick thing good oh wait want talk bother wow fire tonight disagree inability successfully woo penny long predate acquisition time machine failure clearly stand addition premise flawed original film rod taylor get yvette mimeaux time machine future marty mcfly get opportunity hook extremely attractive young mother course movie expect come example involve real life time machine absurd necessary need money sell blood seman spidey sense tell penny time machine stay right dibs apply bidding war number match exchange rate care long pick shall pass hypocrite little miss grown up play toy apartment right find beanie baby accumulator care bear little pony japanese feline frolic short hello hello kitty work work say mad work oh morlock flesh eat morlock e e e e e e elp rid time machine yeah problem big oh morlock eat eat aargh leonard late expect twin sister think funny frankly able exactly measure sense humor humormometer paper mail mom send spy genius genius tell mom currently weigh pound have regular bowel movement enjoy wedding goodbye friend imaginary colleague issue invitation mother shelly need place fire ceramic semi conductor substrate home integrated circuit necessary insistence go room assume second grade curriculum render quizzical fraternal twin come separate egg alike sibling ignore sister ignore excuse interject order pizza online okay pepperoni guess worry go order cheeseless okay lactose intolerance embarrassed hmm certainly symmetry low body fat western culture deem desirable noteworth point history heavy woman standard beauty girth suggest affluence fascinating say noteworthy oh okay know want criticise rhetorical style lot conversation begin thought say take unnecessary detour understand thesis understand yes share uterus month pretty go separate way consider share dna possibility remote rest loin potential individual remarkable right want missy fallopian tube alright juvenile squabble stop stop go settle right good sister personal prefer future niece nephew flatulent time eat eskimo pie leonard aware high genetic stake face fact suitable mate sister principle point practical matter need remind take experimental pharmaceutical simply enable speak opposite sex religion fact tiny tiny man live mother eat cheese fart sleep sister suddenly want talk usually want truthfully give thought point carry dna great potential let explain superior genetic mutation improvement exist mediocre stock reside potential tall smarter prone freckling sheldon exactly say sole decider mate attract suitor likelihood conception reduce frequent coitus dramatically increase odd fertiliziation think like cuckoo bird know superior creature egg place nest ordinary bird course newly hatch cuckoo eat food leave ordinary sibling starve death luckily metaphor end alternate proposal donate egg place cryogenic storage find appropriate sperm donor egg fertilize implant way everybody win weep humanity interested know refocus research bosonic string theory heteronic string theory okay pleasant see business testicle tell people rocket scientist theoretical physicist god tell toll taker golden gate bridge rocket scientist humiliating stop stalemate beat tetris get upper body strength keebler elf eat cheesecake lactose intolerant cream cheese frosting record psychotic rant concise summation research bertram forer prove conclusively meticulously design experiment astrology pseudo scientific hokum actually base sound theory mother publish paper obviously effective leonard grow experimental physicist deny christma little well talk overlapping area interest aware know care chit chat alright promising endeavour hardly think leonard clear want party think birthday party terrible idea envy leonard grow anguish year year endure wear conical hat force crowded sweaty hell bouncy castle mention blindfold spin grotesque tailless donkey child mock disorientation point extremely uncomfortable dancing loud music form alcohol induced frivolity addition think leonard want mark mint comic book longer mint course oh yeah idea let throw leonard kick ass birthday party secret knock secret knock point secret knock establish non verbal signal verify identity co conspirator possibly unverifie luckily nuclear reactor bring entire institution gift giving make sense let spend dollar laborious activity imagine need know need simplify thing dollar directly dollar birthday die leave old dollar rich ask worth accept premise reject conclusion question go leonard present party drive thing available walk distance thai restaurant gas station suppose wrap order mee krob couple lottery scratcher yes dvd burner leonard need dvd burner mean like sweater geometry make fun okay dvd burner buy fun like oh wireless router additional ethernet port need get connect switch penny go buy leonard gift go right refuse let experience childhood trauma twelfth birthday want titanium centrifuge know separate radioactive isotope instead titanium centrifuge parent buy wow hard get motorise dirt bike year old boy want motorise dirt bike want need point point peer network range extender depend bus penny poor man need hold right computer white okay stock special order yes apparently good luck way year old hack computer system yeah secure password wo de zhe shi sheldon wo de ming zi shi sheldon assume number language gesture phrase suppose know teacher obligation separate personal idiosyncrasy subject matter mai du lui tsa apology leonard good teacher believe szechuan palace pass orange chicken tangerine chicken intend confront surprising penny emotional response originate primitive portion brain know amygdala speech center recently develop neocortex easily overpower give scientific credence notion render speechless maybe want talk aware social convention require intervene twelfth century code chivalry exactly current knight apply howard go need mandarin lesson obviously point people like tangerine chicken get tangerine chicken actually think rendition far compelling previously feel sympathy leonard character find whiny annoying love tangerine chicken citrus peel gei wo kan ni jud di zi pei citrus peel gei wo kan ni jud di zi pei second pair underwear necessarily surprised lack familiarity leonard day discover loofah hide suppose man ashamed have loofah prefer excess epithelial cell slough naturally condemn seek accelerate process recently idea despite lactose intolerance tolerate small amount non fat ice cream produce noxious gas maintain right concentration weaponize ach look glass actually come apartment dance bring mind happy hippos fantasia oh wish simple spend time choose place sit number option familiar cushion density air flow pattern dispersion sunlight informed choice crazy ahead talk figure little crush suppose way menelaus little crush helen troy menelaus brother agamemnon leonard kind guy usually go open rotate couch clockwise thirty degree work koothrappali get free ipod oh glare light year unit distance time draft people hear word year think duration foot pound problem unit work weight okay think seat let consider schrodinger cat mrs grossinger cat mexican hairless annoy little animal yip yip yip yip sorry divert erwin schrodinger attempt explain copenhagen interpretation quantum physics propose experiment cat place box seal vial poison break open random time know poison release box open cat think alive dead course psychic thing psychic like schrodinger cat potential relationship leonard right think good bad open box find let start erwin schrodinger plan run marathon choose stuff mash potato starch fill redundancy mistake involve penny okay narrow people interested ah meal choice appropriate starch absorb fluid reduce vomit available violent expulsion common grammatical mistake say nauseous mean nauseate accept premise accept highly improbable assumption penny woman world logically conclude result blow end lonely bitter old man progeny image number evil lighthouse keeper scooby doo cartoon come mind alright response bring conversation speedy conclusion schrodinger cat sound surprised mm hou zi shui zai li du mucus mucus tangerine bicycle library mucus oxen bed oxen oy vey'}"
            ]
          },
          "metadata": {
            "tags": []
          },
          "execution_count": 164
        }
      ]
    },
    {
      "cell_type": "code",
      "metadata": {
        "id": "Yzfvsj2GzGbU",
        "colab_type": "code",
        "colab": {}
      },
      "source": [
        "from collections import Counter\n",
        "import re"
      ],
      "execution_count": 0,
      "outputs": []
    },
    {
      "cell_type": "code",
      "metadata": {
        "id": "aM98IY-bzGXv",
        "colab_type": "code",
        "outputId": "bd6aba14-6b94-4081-8fa4-caa4a4e1cb95",
        "colab": {
          "base_uri": "https://localhost:8080/",
          "height": 122
        }
      },
      "source": [
        "for key, value in heroes.items():\n",
        "  cnt = Counter(x for x in re.findall(r'[a-z\\']{2,}', value))\n",
        "  print(key, cnt.most_common(10))"
      ],
      "execution_count": 0,
      "outputs": [
        {
          "output_type": "stream",
          "text": [
            "Howard [('sheldon', 69), ('get', 66), ('like', 51), ('know', 48), ('look', 48), ('oh', 45), ('go', 45), ('think', 42), ('right', 39), ('time', 39)]\n",
            "Leonard [('know', 177), ('sheldon', 174), ('go', 174), ('penny', 165), ('oh', 162), ('okay', 153), ('like', 132), ('think', 102), ('come', 99), ('get', 99)]\n",
            "Penny [('okay', 213), ('oh', 198), ('know', 159), ('guy', 129), ('leonard', 126), ('get', 102), ('sheldon', 96), ('go', 93), ('yeah', 90), ('want', 84)]\n",
            "Raj [('oh', 60), ('get', 36), ('little', 36), ('look', 30), ('time', 30), ('know', 30), ('like', 27), ('girl', 24), ('tell', 24), ('parent', 21)]\n",
            "Sheldon [('go', 174), ('think', 174), ('know', 156), ('leonard', 153), ('oh', 150), ('time', 138), ('want', 126), ('penny', 126), ('need', 120), ('yes', 96)]\n"
          ],
          "name": "stdout"
        }
      ]
    }
  ]
}